{
 "cells": [
  {
   "cell_type": "markdown",
   "metadata": {},
   "source": [
    "# Effect of Text-Audio Pre-Training\n",
    "\n",
    "CLAP consists of an audio encoder and a text encoder. The audio encoder is a [CNN14](https://github.com/qiuqiangkong/audioset_tagging_cnn) encoder, pre-trained on the [AudioSet](https://research.google.com/audioset/) classification task.\n",
    "The text encoder is [HuggingFace's BERT-base-uncased](https://huggingface.co/google-bert/bert-base-uncased), pre-trained on [BookCorpus](https://yknzhu.wixsite.com/mbweb) and the [English Wikipedia](https://en.wikipedia.org/wiki/English_Wikipedia).\n",
    "\n",
    "These encoders, along with some projection matrices are trained to output a 1024-dimensional embedding, where in matching inputs to the text and audio encoders result in embeddings that are close together in the embedding space. This is done using the contrastive learning framework.\n",
    "\n",
    "In this notebook, we investigate the effect of the text-audio / language-audio pre-training on both encoders, using the instances and classes from the [ESC-50](https://github.com/karolpiczak/ESC-50) dataset."
   ]
  },
  {
   "cell_type": "markdown",
   "metadata": {},
   "source": [
    "## Index\n",
    "- [Initialization](#initialization)\n",
    "- [Text Encoder](#text-encoder)\n",
    "- [Audio Encoder](#audio-encoder)"
   ]
  },
  {
   "cell_type": "markdown",
   "metadata": {},
   "source": [
    "## Initialization"
   ]
  },
  {
   "cell_type": "markdown",
   "metadata": {},
   "source": [
    "This section contains necessary setup for the experiment. It can usually be collapsed and the experiment can still be understood without poring over these details.\n",
    "\n",
    "- [Imports and hyperparameters](#imports-and-hyperparameters)\n",
    "- [Seeding randomness](#seeding-randomness)\n",
    "- [Loading the model and dataset](#loading-the-model-and-dataset)"
   ]
  },
  {
   "cell_type": "markdown",
   "metadata": {},
   "source": [
    "### Imports and hyperparameters"
   ]
  },
  {
   "cell_type": "code",
   "execution_count": 1,
   "metadata": {},
   "outputs": [],
   "source": [
    "from CLAPWrapper import CLAPWrapper\n",
    "from esc50_dataset import ESC50\n",
    "from transformers import BertTokenizer, BertModel\n",
    "import torch\n",
    "import torch.nn as nn\n",
    "import torch.nn.functional as F\n",
    "from einops import rearrange, reduce, repeat\n",
    "from tqdm.notebook import tqdm\n",
    "from icecream import ic\n",
    "import pandas as pd\n",
    "import numpy as np\n",
    "from scipy.cluster.hierarchy import linkage, fcluster, dendrogram\n",
    "import matplotlib.pyplot as plt\n",
    "import plotly.express as px\n",
    "import seaborn as sns"
   ]
  },
  {
   "cell_type": "code",
   "execution_count": 2,
   "metadata": {},
   "outputs": [],
   "source": [
    "DEVICE = torch.device(\"cuda\" if torch.cuda.is_available() else \"cpu\")\n",
    "NUM_CLASSES = 50"
   ]
  },
  {
   "cell_type": "markdown",
   "metadata": {},
   "source": [
    "### Seeding randomness\n",
    "This is to seed any and all randomness that might be present in the model.  \\\n",
    "This **should** only be the dropout layers in between the projection matrices, and a random sample\n",
    "of the audio to be taken if the model's input audio duration, does **not** match with\n",
    "the dataset's input audio duration.\n",
    "\n",
    "The dropout layers should be deactivated after turning the model to evaluation mode, and\n",
    "CLAP 's expected audio duration does match with ESC-50's audio duration (5 seconds), so this shouldn't matter,\n",
    "but better to be safe than sorry.\n"
   ]
  },
  {
   "cell_type": "code",
   "execution_count": 3,
   "metadata": {},
   "outputs": [],
   "source": [
    "def seed_everything(seed: int):\n",
    "    import random, os\n",
    "    import numpy as np\n",
    "    import torch\n",
    "    \n",
    "    random.seed(seed)\n",
    "    os.environ['PYTHONHASHSEED'] = str(seed)\n",
    "    np.random.seed(seed)\n",
    "    torch.manual_seed(seed)\n",
    "    torch.cuda.manual_seed(seed)\n",
    "    torch.backends.cudnn.deterministic = True\n",
    "    torch.backends.cudnn.benchmark = True"
   ]
  },
  {
   "cell_type": "code",
   "execution_count": 4,
   "metadata": {},
   "outputs": [],
   "source": [
    "seed_everything(42)"
   ]
  },
  {
   "cell_type": "markdown",
   "metadata": {},
   "source": [
    "### Loading the model and dataset"
   ]
  },
  {
   "cell_type": "markdown",
   "metadata": {},
   "source": [
    "\n",
    "#### Loading weights\n",
    "Microsoft has made the pre-trained weights for CLAP available for download on request [here](https://zenodo.org/record/7312125#.Y22vecvMIQ9)."
   ]
  },
  {
   "cell_type": "code",
   "execution_count": 5,
   "metadata": {},
   "outputs": [],
   "source": [
    "weights_path = \"/scratch/pratyaksh.g/clap/CLAP_weights_2022_microsoft.pth\"\n",
    "clap_model = CLAPWrapper(weights_path, use_cuda=True if DEVICE == \"cuda\" else False)"
   ]
  },
  {
   "cell_type": "code",
   "execution_count": 6,
   "metadata": {},
   "outputs": [
    {
     "data": {
      "text/plain": [
       "CLAP(\n",
       "  (audio_encoder): AudioEncoder(\n",
       "    (base): Cnn14(\n",
       "      (spectrogram_extractor): Spectrogram(\n",
       "        (stft): STFT(\n",
       "          (conv_real): Conv1d(1, 513, kernel_size=(1024,), stride=(320,), bias=False)\n",
       "          (conv_imag): Conv1d(1, 513, kernel_size=(1024,), stride=(320,), bias=False)\n",
       "        )\n",
       "      )\n",
       "      (logmel_extractor): LogmelFilterBank()\n",
       "      (bn0): BatchNorm2d(64, eps=1e-05, momentum=0.1, affine=True, track_running_stats=True)\n",
       "      (conv_block1): ConvBlock(\n",
       "        (conv1): Conv2d(1, 64, kernel_size=(3, 3), stride=(1, 1), padding=(1, 1), bias=False)\n",
       "        (conv2): Conv2d(64, 64, kernel_size=(3, 3), stride=(1, 1), padding=(1, 1), bias=False)\n",
       "        (bn1): BatchNorm2d(64, eps=1e-05, momentum=0.1, affine=True, track_running_stats=True)\n",
       "        (bn2): BatchNorm2d(64, eps=1e-05, momentum=0.1, affine=True, track_running_stats=True)\n",
       "      )\n",
       "      (conv_block2): ConvBlock(\n",
       "        (conv1): Conv2d(64, 128, kernel_size=(3, 3), stride=(1, 1), padding=(1, 1), bias=False)\n",
       "        (conv2): Conv2d(128, 128, kernel_size=(3, 3), stride=(1, 1), padding=(1, 1), bias=False)\n",
       "        (bn1): BatchNorm2d(128, eps=1e-05, momentum=0.1, affine=True, track_running_stats=True)\n",
       "        (bn2): BatchNorm2d(128, eps=1e-05, momentum=0.1, affine=True, track_running_stats=True)\n",
       "      )\n",
       "      (conv_block3): ConvBlock(\n",
       "        (conv1): Conv2d(128, 256, kernel_size=(3, 3), stride=(1, 1), padding=(1, 1), bias=False)\n",
       "        (conv2): Conv2d(256, 256, kernel_size=(3, 3), stride=(1, 1), padding=(1, 1), bias=False)\n",
       "        (bn1): BatchNorm2d(256, eps=1e-05, momentum=0.1, affine=True, track_running_stats=True)\n",
       "        (bn2): BatchNorm2d(256, eps=1e-05, momentum=0.1, affine=True, track_running_stats=True)\n",
       "      )\n",
       "      (conv_block4): ConvBlock(\n",
       "        (conv1): Conv2d(256, 512, kernel_size=(3, 3), stride=(1, 1), padding=(1, 1), bias=False)\n",
       "        (conv2): Conv2d(512, 512, kernel_size=(3, 3), stride=(1, 1), padding=(1, 1), bias=False)\n",
       "        (bn1): BatchNorm2d(512, eps=1e-05, momentum=0.1, affine=True, track_running_stats=True)\n",
       "        (bn2): BatchNorm2d(512, eps=1e-05, momentum=0.1, affine=True, track_running_stats=True)\n",
       "      )\n",
       "      (conv_block5): ConvBlock(\n",
       "        (conv1): Conv2d(512, 1024, kernel_size=(3, 3), stride=(1, 1), padding=(1, 1), bias=False)\n",
       "        (conv2): Conv2d(1024, 1024, kernel_size=(3, 3), stride=(1, 1), padding=(1, 1), bias=False)\n",
       "        (bn1): BatchNorm2d(1024, eps=1e-05, momentum=0.1, affine=True, track_running_stats=True)\n",
       "        (bn2): BatchNorm2d(1024, eps=1e-05, momentum=0.1, affine=True, track_running_stats=True)\n",
       "      )\n",
       "      (conv_block6): ConvBlock(\n",
       "        (conv1): Conv2d(1024, 2048, kernel_size=(3, 3), stride=(1, 1), padding=(1, 1), bias=False)\n",
       "        (conv2): Conv2d(2048, 2048, kernel_size=(3, 3), stride=(1, 1), padding=(1, 1), bias=False)\n",
       "        (bn1): BatchNorm2d(2048, eps=1e-05, momentum=0.1, affine=True, track_running_stats=True)\n",
       "        (bn2): BatchNorm2d(2048, eps=1e-05, momentum=0.1, affine=True, track_running_stats=True)\n",
       "      )\n",
       "      (fc1): Linear(in_features=2048, out_features=2048, bias=True)\n",
       "      (fc_audioset): Linear(in_features=2048, out_features=527, bias=True)\n",
       "    )\n",
       "    (projection): Projection(\n",
       "      (linear1): Linear(in_features=2048, out_features=1024, bias=False)\n",
       "      (linear2): Linear(in_features=1024, out_features=1024, bias=False)\n",
       "      (layer_norm): LayerNorm((1024,), eps=1e-05, elementwise_affine=True)\n",
       "      (drop): Dropout(p=0.5, inplace=False)\n",
       "    )\n",
       "  )\n",
       "  (caption_encoder): TextEncoder(\n",
       "    (base): BertModel(\n",
       "      (embeddings): BertEmbeddings(\n",
       "        (word_embeddings): Embedding(30522, 768, padding_idx=0)\n",
       "        (position_embeddings): Embedding(512, 768)\n",
       "        (token_type_embeddings): Embedding(2, 768)\n",
       "        (LayerNorm): LayerNorm((768,), eps=1e-12, elementwise_affine=True)\n",
       "        (dropout): Dropout(p=0.1, inplace=False)\n",
       "      )\n",
       "      (encoder): BertEncoder(\n",
       "        (layer): ModuleList(\n",
       "          (0): BertLayer(\n",
       "            (attention): BertAttention(\n",
       "              (self): BertSelfAttention(\n",
       "                (query): Linear(in_features=768, out_features=768, bias=True)\n",
       "                (key): Linear(in_features=768, out_features=768, bias=True)\n",
       "                (value): Linear(in_features=768, out_features=768, bias=True)\n",
       "                (dropout): Dropout(p=0.1, inplace=False)\n",
       "              )\n",
       "              (output): BertSelfOutput(\n",
       "                (dense): Linear(in_features=768, out_features=768, bias=True)\n",
       "                (LayerNorm): LayerNorm((768,), eps=1e-12, elementwise_affine=True)\n",
       "                (dropout): Dropout(p=0.1, inplace=False)\n",
       "              )\n",
       "            )\n",
       "            (intermediate): BertIntermediate(\n",
       "              (dense): Linear(in_features=768, out_features=3072, bias=True)\n",
       "            )\n",
       "            (output): BertOutput(\n",
       "              (dense): Linear(in_features=3072, out_features=768, bias=True)\n",
       "              (LayerNorm): LayerNorm((768,), eps=1e-12, elementwise_affine=True)\n",
       "              (dropout): Dropout(p=0.1, inplace=False)\n",
       "            )\n",
       "          )\n",
       "          (1): BertLayer(\n",
       "            (attention): BertAttention(\n",
       "              (self): BertSelfAttention(\n",
       "                (query): Linear(in_features=768, out_features=768, bias=True)\n",
       "                (key): Linear(in_features=768, out_features=768, bias=True)\n",
       "                (value): Linear(in_features=768, out_features=768, bias=True)\n",
       "                (dropout): Dropout(p=0.1, inplace=False)\n",
       "              )\n",
       "              (output): BertSelfOutput(\n",
       "                (dense): Linear(in_features=768, out_features=768, bias=True)\n",
       "                (LayerNorm): LayerNorm((768,), eps=1e-12, elementwise_affine=True)\n",
       "                (dropout): Dropout(p=0.1, inplace=False)\n",
       "              )\n",
       "            )\n",
       "            (intermediate): BertIntermediate(\n",
       "              (dense): Linear(in_features=768, out_features=3072, bias=True)\n",
       "            )\n",
       "            (output): BertOutput(\n",
       "              (dense): Linear(in_features=3072, out_features=768, bias=True)\n",
       "              (LayerNorm): LayerNorm((768,), eps=1e-12, elementwise_affine=True)\n",
       "              (dropout): Dropout(p=0.1, inplace=False)\n",
       "            )\n",
       "          )\n",
       "          (2): BertLayer(\n",
       "            (attention): BertAttention(\n",
       "              (self): BertSelfAttention(\n",
       "                (query): Linear(in_features=768, out_features=768, bias=True)\n",
       "                (key): Linear(in_features=768, out_features=768, bias=True)\n",
       "                (value): Linear(in_features=768, out_features=768, bias=True)\n",
       "                (dropout): Dropout(p=0.1, inplace=False)\n",
       "              )\n",
       "              (output): BertSelfOutput(\n",
       "                (dense): Linear(in_features=768, out_features=768, bias=True)\n",
       "                (LayerNorm): LayerNorm((768,), eps=1e-12, elementwise_affine=True)\n",
       "                (dropout): Dropout(p=0.1, inplace=False)\n",
       "              )\n",
       "            )\n",
       "            (intermediate): BertIntermediate(\n",
       "              (dense): Linear(in_features=768, out_features=3072, bias=True)\n",
       "            )\n",
       "            (output): BertOutput(\n",
       "              (dense): Linear(in_features=3072, out_features=768, bias=True)\n",
       "              (LayerNorm): LayerNorm((768,), eps=1e-12, elementwise_affine=True)\n",
       "              (dropout): Dropout(p=0.1, inplace=False)\n",
       "            )\n",
       "          )\n",
       "          (3): BertLayer(\n",
       "            (attention): BertAttention(\n",
       "              (self): BertSelfAttention(\n",
       "                (query): Linear(in_features=768, out_features=768, bias=True)\n",
       "                (key): Linear(in_features=768, out_features=768, bias=True)\n",
       "                (value): Linear(in_features=768, out_features=768, bias=True)\n",
       "                (dropout): Dropout(p=0.1, inplace=False)\n",
       "              )\n",
       "              (output): BertSelfOutput(\n",
       "                (dense): Linear(in_features=768, out_features=768, bias=True)\n",
       "                (LayerNorm): LayerNorm((768,), eps=1e-12, elementwise_affine=True)\n",
       "                (dropout): Dropout(p=0.1, inplace=False)\n",
       "              )\n",
       "            )\n",
       "            (intermediate): BertIntermediate(\n",
       "              (dense): Linear(in_features=768, out_features=3072, bias=True)\n",
       "            )\n",
       "            (output): BertOutput(\n",
       "              (dense): Linear(in_features=3072, out_features=768, bias=True)\n",
       "              (LayerNorm): LayerNorm((768,), eps=1e-12, elementwise_affine=True)\n",
       "              (dropout): Dropout(p=0.1, inplace=False)\n",
       "            )\n",
       "          )\n",
       "          (4): BertLayer(\n",
       "            (attention): BertAttention(\n",
       "              (self): BertSelfAttention(\n",
       "                (query): Linear(in_features=768, out_features=768, bias=True)\n",
       "                (key): Linear(in_features=768, out_features=768, bias=True)\n",
       "                (value): Linear(in_features=768, out_features=768, bias=True)\n",
       "                (dropout): Dropout(p=0.1, inplace=False)\n",
       "              )\n",
       "              (output): BertSelfOutput(\n",
       "                (dense): Linear(in_features=768, out_features=768, bias=True)\n",
       "                (LayerNorm): LayerNorm((768,), eps=1e-12, elementwise_affine=True)\n",
       "                (dropout): Dropout(p=0.1, inplace=False)\n",
       "              )\n",
       "            )\n",
       "            (intermediate): BertIntermediate(\n",
       "              (dense): Linear(in_features=768, out_features=3072, bias=True)\n",
       "            )\n",
       "            (output): BertOutput(\n",
       "              (dense): Linear(in_features=3072, out_features=768, bias=True)\n",
       "              (LayerNorm): LayerNorm((768,), eps=1e-12, elementwise_affine=True)\n",
       "              (dropout): Dropout(p=0.1, inplace=False)\n",
       "            )\n",
       "          )\n",
       "          (5): BertLayer(\n",
       "            (attention): BertAttention(\n",
       "              (self): BertSelfAttention(\n",
       "                (query): Linear(in_features=768, out_features=768, bias=True)\n",
       "                (key): Linear(in_features=768, out_features=768, bias=True)\n",
       "                (value): Linear(in_features=768, out_features=768, bias=True)\n",
       "                (dropout): Dropout(p=0.1, inplace=False)\n",
       "              )\n",
       "              (output): BertSelfOutput(\n",
       "                (dense): Linear(in_features=768, out_features=768, bias=True)\n",
       "                (LayerNorm): LayerNorm((768,), eps=1e-12, elementwise_affine=True)\n",
       "                (dropout): Dropout(p=0.1, inplace=False)\n",
       "              )\n",
       "            )\n",
       "            (intermediate): BertIntermediate(\n",
       "              (dense): Linear(in_features=768, out_features=3072, bias=True)\n",
       "            )\n",
       "            (output): BertOutput(\n",
       "              (dense): Linear(in_features=3072, out_features=768, bias=True)\n",
       "              (LayerNorm): LayerNorm((768,), eps=1e-12, elementwise_affine=True)\n",
       "              (dropout): Dropout(p=0.1, inplace=False)\n",
       "            )\n",
       "          )\n",
       "          (6): BertLayer(\n",
       "            (attention): BertAttention(\n",
       "              (self): BertSelfAttention(\n",
       "                (query): Linear(in_features=768, out_features=768, bias=True)\n",
       "                (key): Linear(in_features=768, out_features=768, bias=True)\n",
       "                (value): Linear(in_features=768, out_features=768, bias=True)\n",
       "                (dropout): Dropout(p=0.1, inplace=False)\n",
       "              )\n",
       "              (output): BertSelfOutput(\n",
       "                (dense): Linear(in_features=768, out_features=768, bias=True)\n",
       "                (LayerNorm): LayerNorm((768,), eps=1e-12, elementwise_affine=True)\n",
       "                (dropout): Dropout(p=0.1, inplace=False)\n",
       "              )\n",
       "            )\n",
       "            (intermediate): BertIntermediate(\n",
       "              (dense): Linear(in_features=768, out_features=3072, bias=True)\n",
       "            )\n",
       "            (output): BertOutput(\n",
       "              (dense): Linear(in_features=3072, out_features=768, bias=True)\n",
       "              (LayerNorm): LayerNorm((768,), eps=1e-12, elementwise_affine=True)\n",
       "              (dropout): Dropout(p=0.1, inplace=False)\n",
       "            )\n",
       "          )\n",
       "          (7): BertLayer(\n",
       "            (attention): BertAttention(\n",
       "              (self): BertSelfAttention(\n",
       "                (query): Linear(in_features=768, out_features=768, bias=True)\n",
       "                (key): Linear(in_features=768, out_features=768, bias=True)\n",
       "                (value): Linear(in_features=768, out_features=768, bias=True)\n",
       "                (dropout): Dropout(p=0.1, inplace=False)\n",
       "              )\n",
       "              (output): BertSelfOutput(\n",
       "                (dense): Linear(in_features=768, out_features=768, bias=True)\n",
       "                (LayerNorm): LayerNorm((768,), eps=1e-12, elementwise_affine=True)\n",
       "                (dropout): Dropout(p=0.1, inplace=False)\n",
       "              )\n",
       "            )\n",
       "            (intermediate): BertIntermediate(\n",
       "              (dense): Linear(in_features=768, out_features=3072, bias=True)\n",
       "            )\n",
       "            (output): BertOutput(\n",
       "              (dense): Linear(in_features=3072, out_features=768, bias=True)\n",
       "              (LayerNorm): LayerNorm((768,), eps=1e-12, elementwise_affine=True)\n",
       "              (dropout): Dropout(p=0.1, inplace=False)\n",
       "            )\n",
       "          )\n",
       "          (8): BertLayer(\n",
       "            (attention): BertAttention(\n",
       "              (self): BertSelfAttention(\n",
       "                (query): Linear(in_features=768, out_features=768, bias=True)\n",
       "                (key): Linear(in_features=768, out_features=768, bias=True)\n",
       "                (value): Linear(in_features=768, out_features=768, bias=True)\n",
       "                (dropout): Dropout(p=0.1, inplace=False)\n",
       "              )\n",
       "              (output): BertSelfOutput(\n",
       "                (dense): Linear(in_features=768, out_features=768, bias=True)\n",
       "                (LayerNorm): LayerNorm((768,), eps=1e-12, elementwise_affine=True)\n",
       "                (dropout): Dropout(p=0.1, inplace=False)\n",
       "              )\n",
       "            )\n",
       "            (intermediate): BertIntermediate(\n",
       "              (dense): Linear(in_features=768, out_features=3072, bias=True)\n",
       "            )\n",
       "            (output): BertOutput(\n",
       "              (dense): Linear(in_features=3072, out_features=768, bias=True)\n",
       "              (LayerNorm): LayerNorm((768,), eps=1e-12, elementwise_affine=True)\n",
       "              (dropout): Dropout(p=0.1, inplace=False)\n",
       "            )\n",
       "          )\n",
       "          (9): BertLayer(\n",
       "            (attention): BertAttention(\n",
       "              (self): BertSelfAttention(\n",
       "                (query): Linear(in_features=768, out_features=768, bias=True)\n",
       "                (key): Linear(in_features=768, out_features=768, bias=True)\n",
       "                (value): Linear(in_features=768, out_features=768, bias=True)\n",
       "                (dropout): Dropout(p=0.1, inplace=False)\n",
       "              )\n",
       "              (output): BertSelfOutput(\n",
       "                (dense): Linear(in_features=768, out_features=768, bias=True)\n",
       "                (LayerNorm): LayerNorm((768,), eps=1e-12, elementwise_affine=True)\n",
       "                (dropout): Dropout(p=0.1, inplace=False)\n",
       "              )\n",
       "            )\n",
       "            (intermediate): BertIntermediate(\n",
       "              (dense): Linear(in_features=768, out_features=3072, bias=True)\n",
       "            )\n",
       "            (output): BertOutput(\n",
       "              (dense): Linear(in_features=3072, out_features=768, bias=True)\n",
       "              (LayerNorm): LayerNorm((768,), eps=1e-12, elementwise_affine=True)\n",
       "              (dropout): Dropout(p=0.1, inplace=False)\n",
       "            )\n",
       "          )\n",
       "          (10): BertLayer(\n",
       "            (attention): BertAttention(\n",
       "              (self): BertSelfAttention(\n",
       "                (query): Linear(in_features=768, out_features=768, bias=True)\n",
       "                (key): Linear(in_features=768, out_features=768, bias=True)\n",
       "                (value): Linear(in_features=768, out_features=768, bias=True)\n",
       "                (dropout): Dropout(p=0.1, inplace=False)\n",
       "              )\n",
       "              (output): BertSelfOutput(\n",
       "                (dense): Linear(in_features=768, out_features=768, bias=True)\n",
       "                (LayerNorm): LayerNorm((768,), eps=1e-12, elementwise_affine=True)\n",
       "                (dropout): Dropout(p=0.1, inplace=False)\n",
       "              )\n",
       "            )\n",
       "            (intermediate): BertIntermediate(\n",
       "              (dense): Linear(in_features=768, out_features=3072, bias=True)\n",
       "            )\n",
       "            (output): BertOutput(\n",
       "              (dense): Linear(in_features=3072, out_features=768, bias=True)\n",
       "              (LayerNorm): LayerNorm((768,), eps=1e-12, elementwise_affine=True)\n",
       "              (dropout): Dropout(p=0.1, inplace=False)\n",
       "            )\n",
       "          )\n",
       "          (11): BertLayer(\n",
       "            (attention): BertAttention(\n",
       "              (self): BertSelfAttention(\n",
       "                (query): Linear(in_features=768, out_features=768, bias=True)\n",
       "                (key): Linear(in_features=768, out_features=768, bias=True)\n",
       "                (value): Linear(in_features=768, out_features=768, bias=True)\n",
       "                (dropout): Dropout(p=0.1, inplace=False)\n",
       "              )\n",
       "              (output): BertSelfOutput(\n",
       "                (dense): Linear(in_features=768, out_features=768, bias=True)\n",
       "                (LayerNorm): LayerNorm((768,), eps=1e-12, elementwise_affine=True)\n",
       "                (dropout): Dropout(p=0.1, inplace=False)\n",
       "              )\n",
       "            )\n",
       "            (intermediate): BertIntermediate(\n",
       "              (dense): Linear(in_features=768, out_features=3072, bias=True)\n",
       "            )\n",
       "            (output): BertOutput(\n",
       "              (dense): Linear(in_features=3072, out_features=768, bias=True)\n",
       "              (LayerNorm): LayerNorm((768,), eps=1e-12, elementwise_affine=True)\n",
       "              (dropout): Dropout(p=0.1, inplace=False)\n",
       "            )\n",
       "          )\n",
       "        )\n",
       "      )\n",
       "      (pooler): BertPooler(\n",
       "        (dense): Linear(in_features=768, out_features=768, bias=True)\n",
       "        (activation): Tanh()\n",
       "      )\n",
       "    )\n",
       "    (projection): Projection(\n",
       "      (linear1): Linear(in_features=768, out_features=1024, bias=False)\n",
       "      (linear2): Linear(in_features=1024, out_features=1024, bias=False)\n",
       "      (layer_norm): LayerNorm((1024,), eps=1e-05, elementwise_affine=True)\n",
       "      (drop): Dropout(p=0.5, inplace=False)\n",
       "    )\n",
       "  )\n",
       ")"
      ]
     },
     "execution_count": 6,
     "metadata": {},
     "output_type": "execute_result"
    }
   ],
   "source": [
    "clap_model.clap.eval()"
   ]
  },
  {
   "cell_type": "markdown",
   "metadata": {},
   "source": [
    "#### Loading dataset\n",
    "We use the [ESC-50 dataset](https://github.com/karolpiczak/ESC-50), which consists of 2000 recordings across 50 classes of environmental sounds, each 5 seconds long."
   ]
  },
  {
   "cell_type": "code",
   "execution_count": 7,
   "metadata": {},
   "outputs": [
    {
     "name": "stdout",
     "output_type": "stream",
     "text": [
      "Using downloaded and verified file: /scratch/pratyaksh.g/esc50/ESC-50-master.zip\n"
     ]
    },
    {
     "name": "stderr",
     "output_type": "stream",
     "text": [
      "2000it [00:00, 12056.81it/s]"
     ]
    },
    {
     "name": "stdout",
     "output_type": "stream",
     "text": [
      "Loading audio files\n"
     ]
    },
    {
     "name": "stderr",
     "output_type": "stream",
     "text": [
      "\n"
     ]
    }
   ],
   "source": [
    "dataset = ESC50(root=\"/scratch/pratyaksh.g/esc50/\", download=False)"
   ]
  },
  {
   "cell_type": "markdown",
   "metadata": {},
   "source": [
    "### Utility functions"
   ]
  },
  {
   "cell_type": "code",
   "execution_count": 15,
   "metadata": {},
   "outputs": [],
   "source": [
    "def heatmap(x, y, xlabel='', ylabel='', title='', order=None):\n",
    "    # Function to calculate cosine similarity between two vectors\n",
    "    def cosine_similarity(vec1, vec2):\n",
    "        dot_product = np.dot(vec1, vec2)\n",
    "        norm_vec1 = np.linalg.norm(vec1)\n",
    "        norm_vec2 = np.linalg.norm(vec2)\n",
    "        return dot_product / (norm_vec1 * norm_vec2)\n",
    "\n",
    "    # labels = dataset.classes\n",
    "    labels = temporal_relations\n",
    "    size = len(labels)\n",
    "\n",
    "    # Calculate pairwise similarities between vectors in both groups\n",
    "    similarity_matrix = np.zeros((size, size))  # Initialize a matrix to store the similarities\n",
    "\n",
    "    # Reorder x, y and dataset.classes by order\n",
    "    if order:\n",
    "        x = x[order]\n",
    "        y = y[order]\n",
    "        labels = [dataset.classes[x] for x in order]\n",
    "\n",
    "    for i in range(size):\n",
    "        for j in range(size):\n",
    "            similarity_matrix[i, j] = cosine_similarity(y[i], x[j])\n",
    "\n",
    "    fig = px.imshow(\n",
    "        similarity_matrix, x=labels, y=labels, title=title,\n",
    "        labels={'x': xlabel, 'y': ylabel, 'color': 'Cosine Similarity'},\n",
    "    )\n",
    "\n",
    "    fig.update_layout(width=1000, height=1000)\n",
    "\n",
    "    fig.show()"
   ]
  },
  {
   "cell_type": "code",
   "execution_count": 9,
   "metadata": {},
   "outputs": [],
   "source": [
    "def get_dendrogram_order(enc, pretrain=True):\n",
    "    if enc == 'text':\n",
    "        embeddings = pretrain_embedded_text if pretrain else no_pretrain_embedded_text\n",
    "        embeddings = embeddings.detach().cpu().numpy()\n",
    "    elif enc == 'audio':\n",
    "        embeddings = pretrain_embedded_audios if pretrain else no_pretrain_embedded_audios\n",
    "    else:\n",
    "        raise ValueError('Invalid encoder')\n",
    "\n",
    "    R = dendrogram(linkage(embeddings, method='ward', metric='euclidean'), labels=dataset.classes, no_plot=True)\n",
    "\n",
    "    return R['leaves']"
   ]
  },
  {
   "cell_type": "markdown",
   "metadata": {},
   "source": [
    "## Text Encoder"
   ]
  },
  {
   "cell_type": "markdown",
   "metadata": {},
   "source": [
    "First, we set up the templates for the text prompts, which are of the form `'this is a sound of <class-name>'`.\n",
    "We only care about the `CLS` tokens from the text encoder."
   ]
  },
  {
   "cell_type": "code",
   "execution_count": 10,
   "metadata": {},
   "outputs": [
    {
     "name": "stderr",
     "output_type": "stream",
     "text": [
      "Truncation was not explicitly activated but `max_length` is provided a specific value, please use `truncation=True` to explicitly truncate examples to max length. Defaulting to 'longest_first' truncation strategy. If you encode pairs of sequences (GLUE-style) with the tokenizer you can select this strategy more precisely by providing a specific strategy to `truncation`.\n",
      "/home2/pratyaksh.g/miniconda3/envs/ms-clap/lib/python3.8/site-packages/transformers/tokenization_utils_base.py:2073: FutureWarning: The `pad_to_max_length` argument is deprecated and will be removed in a future version, use `padding=True` or `padding='longest'` to pad to the longest sequence in the batch, or use `padding='max_length'` to pad to a max length. In this case, you can give a specific length with `max_length` (e.g. `max_length=45`) or leave max_length to None to pad to the maximal input size of the model (e.g. 512 for Bert).\n",
      "  warnings.warn(\n"
     ]
    }
   ],
   "source": [
    "prompt = 'this is a sound of '\n",
    "text = [prompt + class_name for class_name in dataset.classes]\n",
    "preprocessed_text = clap_model.preprocess_text(text)\n",
    "\n",
    "for key, val in preprocessed_text.items():\n",
    "    preprocessed_text[key] = val.to(DEVICE)"
   ]
  },
  {
   "cell_type": "code",
   "execution_count": 20,
   "metadata": {},
   "outputs": [
    {
     "name": "stderr",
     "output_type": "stream",
     "text": [
      "/home2/pratyaksh.g/miniconda3/envs/ms-clap/lib/python3.8/site-packages/transformers/tokenization_utils_base.py:2073: FutureWarning:\n",
      "\n",
      "The `pad_to_max_length` argument is deprecated and will be removed in a future version, use `padding=True` or `padding='longest'` to pad to the longest sequence in the batch, or use `padding='max_length'` to pad to a max length. In this case, you can give a specific length with `max_length` (e.g. `max_length=45`) or leave max_length to None to pad to the maximal input size of the model (e.g. 512 for Bert).\n",
      "\n"
     ]
    }
   ],
   "source": [
    "prompt_before = 'a clock ticking '\n",
    "prompt_after = ' a siren blaring'\n",
    "temporal_relations = ['followed by', 'then', 'after', 'before']\n",
    "text = [prompt_before + relation + prompt_after for relation in temporal_relations]\n",
    "preprocessed_text = clap_model.preprocess_text(text)\n",
    "\n",
    "for key, val in preprocessed_text.items():\n",
    "    preprocessed_text[key] = val.to(DEVICE)"
   ]
  },
  {
   "cell_type": "markdown",
   "metadata": {},
   "source": [
    "### **Without** language-audio pre-training"
   ]
  },
  {
   "cell_type": "code",
   "execution_count": 21,
   "metadata": {},
   "outputs": [],
   "source": [
    "%%capture\n",
    "# Load the bert base uncased model and tokenizer, put them to eval mode on the gpu, and wrap them in a function\n",
    "bert_model = BertModel.from_pretrained('bert-base-uncased').to(DEVICE)\n",
    "bert_tokenizer = BertTokenizer.from_pretrained('bert-base-uncased')\n",
    "bert_model.eval()"
   ]
  },
  {
   "cell_type": "code",
   "execution_count": 22,
   "metadata": {},
   "outputs": [],
   "source": [
    "no_pretrain_embedded_text = bert_model(**preprocessed_text)[0]\n",
    "no_pretrain_embedded_text = no_pretrain_embedded_text[:, 0, :] # CLS token embeddings"
   ]
  },
  {
   "cell_type": "code",
   "execution_count": 23,
   "metadata": {},
   "outputs": [
    {
     "data": {
      "application/vnd.plotly.v1+json": {
       "config": {
        "plotlyServerURL": "https://plot.ly"
       },
       "data": [
        {
         "coloraxis": "coloraxis",
         "hovertemplate": "No Pretrain: %{x}<br>No Pretrain: %{y}<br>Cosine Similarity: %{z}<extra></extra>",
         "name": "0",
         "type": "heatmap",
         "x": [
          "followed by",
          "then",
          "after",
          "before"
         ],
         "xaxis": "x",
         "y": [
          "followed by",
          "then",
          "after",
          "before"
         ],
         "yaxis": "y",
         "z": [
          [
           1,
           0.9900539517402649,
           0.891224205493927,
           0.9623361825942993
          ],
          [
           0.9900539517402649,
           1.0000001192092896,
           0.894281804561615,
           0.965823233127594
          ],
          [
           0.891224205493927,
           0.894281804561615,
           1,
           0.9641544222831726
          ],
          [
           0.9623361825942993,
           0.965823233127594,
           0.9641544222831726,
           1.0000001192092896
          ]
         ]
        }
       ],
       "layout": {
        "coloraxis": {
         "colorbar": {
          "title": {
           "text": "Cosine Similarity"
          }
         },
         "colorscale": [
          [
           0,
           "#0d0887"
          ],
          [
           0.1111111111111111,
           "#46039f"
          ],
          [
           0.2222222222222222,
           "#7201a8"
          ],
          [
           0.3333333333333333,
           "#9c179e"
          ],
          [
           0.4444444444444444,
           "#bd3786"
          ],
          [
           0.5555555555555556,
           "#d8576b"
          ],
          [
           0.6666666666666666,
           "#ed7953"
          ],
          [
           0.7777777777777778,
           "#fb9f3a"
          ],
          [
           0.8888888888888888,
           "#fdca26"
          ],
          [
           1,
           "#f0f921"
          ]
         ]
        },
        "height": 1000,
        "template": {
         "data": {
          "bar": [
           {
            "error_x": {
             "color": "#2a3f5f"
            },
            "error_y": {
             "color": "#2a3f5f"
            },
            "marker": {
             "line": {
              "color": "#E5ECF6",
              "width": 0.5
             },
             "pattern": {
              "fillmode": "overlay",
              "size": 10,
              "solidity": 0.2
             }
            },
            "type": "bar"
           }
          ],
          "barpolar": [
           {
            "marker": {
             "line": {
              "color": "#E5ECF6",
              "width": 0.5
             },
             "pattern": {
              "fillmode": "overlay",
              "size": 10,
              "solidity": 0.2
             }
            },
            "type": "barpolar"
           }
          ],
          "carpet": [
           {
            "aaxis": {
             "endlinecolor": "#2a3f5f",
             "gridcolor": "white",
             "linecolor": "white",
             "minorgridcolor": "white",
             "startlinecolor": "#2a3f5f"
            },
            "baxis": {
             "endlinecolor": "#2a3f5f",
             "gridcolor": "white",
             "linecolor": "white",
             "minorgridcolor": "white",
             "startlinecolor": "#2a3f5f"
            },
            "type": "carpet"
           }
          ],
          "choropleth": [
           {
            "colorbar": {
             "outlinewidth": 0,
             "ticks": ""
            },
            "type": "choropleth"
           }
          ],
          "contour": [
           {
            "colorbar": {
             "outlinewidth": 0,
             "ticks": ""
            },
            "colorscale": [
             [
              0,
              "#0d0887"
             ],
             [
              0.1111111111111111,
              "#46039f"
             ],
             [
              0.2222222222222222,
              "#7201a8"
             ],
             [
              0.3333333333333333,
              "#9c179e"
             ],
             [
              0.4444444444444444,
              "#bd3786"
             ],
             [
              0.5555555555555556,
              "#d8576b"
             ],
             [
              0.6666666666666666,
              "#ed7953"
             ],
             [
              0.7777777777777778,
              "#fb9f3a"
             ],
             [
              0.8888888888888888,
              "#fdca26"
             ],
             [
              1,
              "#f0f921"
             ]
            ],
            "type": "contour"
           }
          ],
          "contourcarpet": [
           {
            "colorbar": {
             "outlinewidth": 0,
             "ticks": ""
            },
            "type": "contourcarpet"
           }
          ],
          "heatmap": [
           {
            "colorbar": {
             "outlinewidth": 0,
             "ticks": ""
            },
            "colorscale": [
             [
              0,
              "#0d0887"
             ],
             [
              0.1111111111111111,
              "#46039f"
             ],
             [
              0.2222222222222222,
              "#7201a8"
             ],
             [
              0.3333333333333333,
              "#9c179e"
             ],
             [
              0.4444444444444444,
              "#bd3786"
             ],
             [
              0.5555555555555556,
              "#d8576b"
             ],
             [
              0.6666666666666666,
              "#ed7953"
             ],
             [
              0.7777777777777778,
              "#fb9f3a"
             ],
             [
              0.8888888888888888,
              "#fdca26"
             ],
             [
              1,
              "#f0f921"
             ]
            ],
            "type": "heatmap"
           }
          ],
          "heatmapgl": [
           {
            "colorbar": {
             "outlinewidth": 0,
             "ticks": ""
            },
            "colorscale": [
             [
              0,
              "#0d0887"
             ],
             [
              0.1111111111111111,
              "#46039f"
             ],
             [
              0.2222222222222222,
              "#7201a8"
             ],
             [
              0.3333333333333333,
              "#9c179e"
             ],
             [
              0.4444444444444444,
              "#bd3786"
             ],
             [
              0.5555555555555556,
              "#d8576b"
             ],
             [
              0.6666666666666666,
              "#ed7953"
             ],
             [
              0.7777777777777778,
              "#fb9f3a"
             ],
             [
              0.8888888888888888,
              "#fdca26"
             ],
             [
              1,
              "#f0f921"
             ]
            ],
            "type": "heatmapgl"
           }
          ],
          "histogram": [
           {
            "marker": {
             "pattern": {
              "fillmode": "overlay",
              "size": 10,
              "solidity": 0.2
             }
            },
            "type": "histogram"
           }
          ],
          "histogram2d": [
           {
            "colorbar": {
             "outlinewidth": 0,
             "ticks": ""
            },
            "colorscale": [
             [
              0,
              "#0d0887"
             ],
             [
              0.1111111111111111,
              "#46039f"
             ],
             [
              0.2222222222222222,
              "#7201a8"
             ],
             [
              0.3333333333333333,
              "#9c179e"
             ],
             [
              0.4444444444444444,
              "#bd3786"
             ],
             [
              0.5555555555555556,
              "#d8576b"
             ],
             [
              0.6666666666666666,
              "#ed7953"
             ],
             [
              0.7777777777777778,
              "#fb9f3a"
             ],
             [
              0.8888888888888888,
              "#fdca26"
             ],
             [
              1,
              "#f0f921"
             ]
            ],
            "type": "histogram2d"
           }
          ],
          "histogram2dcontour": [
           {
            "colorbar": {
             "outlinewidth": 0,
             "ticks": ""
            },
            "colorscale": [
             [
              0,
              "#0d0887"
             ],
             [
              0.1111111111111111,
              "#46039f"
             ],
             [
              0.2222222222222222,
              "#7201a8"
             ],
             [
              0.3333333333333333,
              "#9c179e"
             ],
             [
              0.4444444444444444,
              "#bd3786"
             ],
             [
              0.5555555555555556,
              "#d8576b"
             ],
             [
              0.6666666666666666,
              "#ed7953"
             ],
             [
              0.7777777777777778,
              "#fb9f3a"
             ],
             [
              0.8888888888888888,
              "#fdca26"
             ],
             [
              1,
              "#f0f921"
             ]
            ],
            "type": "histogram2dcontour"
           }
          ],
          "mesh3d": [
           {
            "colorbar": {
             "outlinewidth": 0,
             "ticks": ""
            },
            "type": "mesh3d"
           }
          ],
          "parcoords": [
           {
            "line": {
             "colorbar": {
              "outlinewidth": 0,
              "ticks": ""
             }
            },
            "type": "parcoords"
           }
          ],
          "pie": [
           {
            "automargin": true,
            "type": "pie"
           }
          ],
          "scatter": [
           {
            "fillpattern": {
             "fillmode": "overlay",
             "size": 10,
             "solidity": 0.2
            },
            "type": "scatter"
           }
          ],
          "scatter3d": [
           {
            "line": {
             "colorbar": {
              "outlinewidth": 0,
              "ticks": ""
             }
            },
            "marker": {
             "colorbar": {
              "outlinewidth": 0,
              "ticks": ""
             }
            },
            "type": "scatter3d"
           }
          ],
          "scattercarpet": [
           {
            "marker": {
             "colorbar": {
              "outlinewidth": 0,
              "ticks": ""
             }
            },
            "type": "scattercarpet"
           }
          ],
          "scattergeo": [
           {
            "marker": {
             "colorbar": {
              "outlinewidth": 0,
              "ticks": ""
             }
            },
            "type": "scattergeo"
           }
          ],
          "scattergl": [
           {
            "marker": {
             "colorbar": {
              "outlinewidth": 0,
              "ticks": ""
             }
            },
            "type": "scattergl"
           }
          ],
          "scattermapbox": [
           {
            "marker": {
             "colorbar": {
              "outlinewidth": 0,
              "ticks": ""
             }
            },
            "type": "scattermapbox"
           }
          ],
          "scatterpolar": [
           {
            "marker": {
             "colorbar": {
              "outlinewidth": 0,
              "ticks": ""
             }
            },
            "type": "scatterpolar"
           }
          ],
          "scatterpolargl": [
           {
            "marker": {
             "colorbar": {
              "outlinewidth": 0,
              "ticks": ""
             }
            },
            "type": "scatterpolargl"
           }
          ],
          "scatterternary": [
           {
            "marker": {
             "colorbar": {
              "outlinewidth": 0,
              "ticks": ""
             }
            },
            "type": "scatterternary"
           }
          ],
          "surface": [
           {
            "colorbar": {
             "outlinewidth": 0,
             "ticks": ""
            },
            "colorscale": [
             [
              0,
              "#0d0887"
             ],
             [
              0.1111111111111111,
              "#46039f"
             ],
             [
              0.2222222222222222,
              "#7201a8"
             ],
             [
              0.3333333333333333,
              "#9c179e"
             ],
             [
              0.4444444444444444,
              "#bd3786"
             ],
             [
              0.5555555555555556,
              "#d8576b"
             ],
             [
              0.6666666666666666,
              "#ed7953"
             ],
             [
              0.7777777777777778,
              "#fb9f3a"
             ],
             [
              0.8888888888888888,
              "#fdca26"
             ],
             [
              1,
              "#f0f921"
             ]
            ],
            "type": "surface"
           }
          ],
          "table": [
           {
            "cells": {
             "fill": {
              "color": "#EBF0F8"
             },
             "line": {
              "color": "white"
             }
            },
            "header": {
             "fill": {
              "color": "#C8D4E3"
             },
             "line": {
              "color": "white"
             }
            },
            "type": "table"
           }
          ]
         },
         "layout": {
          "annotationdefaults": {
           "arrowcolor": "#2a3f5f",
           "arrowhead": 0,
           "arrowwidth": 1
          },
          "autotypenumbers": "strict",
          "coloraxis": {
           "colorbar": {
            "outlinewidth": 0,
            "ticks": ""
           }
          },
          "colorscale": {
           "diverging": [
            [
             0,
             "#8e0152"
            ],
            [
             0.1,
             "#c51b7d"
            ],
            [
             0.2,
             "#de77ae"
            ],
            [
             0.3,
             "#f1b6da"
            ],
            [
             0.4,
             "#fde0ef"
            ],
            [
             0.5,
             "#f7f7f7"
            ],
            [
             0.6,
             "#e6f5d0"
            ],
            [
             0.7,
             "#b8e186"
            ],
            [
             0.8,
             "#7fbc41"
            ],
            [
             0.9,
             "#4d9221"
            ],
            [
             1,
             "#276419"
            ]
           ],
           "sequential": [
            [
             0,
             "#0d0887"
            ],
            [
             0.1111111111111111,
             "#46039f"
            ],
            [
             0.2222222222222222,
             "#7201a8"
            ],
            [
             0.3333333333333333,
             "#9c179e"
            ],
            [
             0.4444444444444444,
             "#bd3786"
            ],
            [
             0.5555555555555556,
             "#d8576b"
            ],
            [
             0.6666666666666666,
             "#ed7953"
            ],
            [
             0.7777777777777778,
             "#fb9f3a"
            ],
            [
             0.8888888888888888,
             "#fdca26"
            ],
            [
             1,
             "#f0f921"
            ]
           ],
           "sequentialminus": [
            [
             0,
             "#0d0887"
            ],
            [
             0.1111111111111111,
             "#46039f"
            ],
            [
             0.2222222222222222,
             "#7201a8"
            ],
            [
             0.3333333333333333,
             "#9c179e"
            ],
            [
             0.4444444444444444,
             "#bd3786"
            ],
            [
             0.5555555555555556,
             "#d8576b"
            ],
            [
             0.6666666666666666,
             "#ed7953"
            ],
            [
             0.7777777777777778,
             "#fb9f3a"
            ],
            [
             0.8888888888888888,
             "#fdca26"
            ],
            [
             1,
             "#f0f921"
            ]
           ]
          },
          "colorway": [
           "#636efa",
           "#EF553B",
           "#00cc96",
           "#ab63fa",
           "#FFA15A",
           "#19d3f3",
           "#FF6692",
           "#B6E880",
           "#FF97FF",
           "#FECB52"
          ],
          "font": {
           "color": "#2a3f5f"
          },
          "geo": {
           "bgcolor": "white",
           "lakecolor": "white",
           "landcolor": "#E5ECF6",
           "showlakes": true,
           "showland": true,
           "subunitcolor": "white"
          },
          "hoverlabel": {
           "align": "left"
          },
          "hovermode": "closest",
          "mapbox": {
           "style": "light"
          },
          "paper_bgcolor": "white",
          "plot_bgcolor": "#E5ECF6",
          "polar": {
           "angularaxis": {
            "gridcolor": "white",
            "linecolor": "white",
            "ticks": ""
           },
           "bgcolor": "#E5ECF6",
           "radialaxis": {
            "gridcolor": "white",
            "linecolor": "white",
            "ticks": ""
           }
          },
          "scene": {
           "xaxis": {
            "backgroundcolor": "#E5ECF6",
            "gridcolor": "white",
            "gridwidth": 2,
            "linecolor": "white",
            "showbackground": true,
            "ticks": "",
            "zerolinecolor": "white"
           },
           "yaxis": {
            "backgroundcolor": "#E5ECF6",
            "gridcolor": "white",
            "gridwidth": 2,
            "linecolor": "white",
            "showbackground": true,
            "ticks": "",
            "zerolinecolor": "white"
           },
           "zaxis": {
            "backgroundcolor": "#E5ECF6",
            "gridcolor": "white",
            "gridwidth": 2,
            "linecolor": "white",
            "showbackground": true,
            "ticks": "",
            "zerolinecolor": "white"
           }
          },
          "shapedefaults": {
           "line": {
            "color": "#2a3f5f"
           }
          },
          "ternary": {
           "aaxis": {
            "gridcolor": "white",
            "linecolor": "white",
            "ticks": ""
           },
           "baxis": {
            "gridcolor": "white",
            "linecolor": "white",
            "ticks": ""
           },
           "bgcolor": "#E5ECF6",
           "caxis": {
            "gridcolor": "white",
            "linecolor": "white",
            "ticks": ""
           }
          },
          "title": {
           "x": 0.05
          },
          "xaxis": {
           "automargin": true,
           "gridcolor": "white",
           "linecolor": "white",
           "ticks": "",
           "title": {
            "standoff": 15
           },
           "zerolinecolor": "white",
           "zerolinewidth": 2
          },
          "yaxis": {
           "automargin": true,
           "gridcolor": "white",
           "linecolor": "white",
           "ticks": "",
           "title": {
            "standoff": 15
           },
           "zerolinecolor": "white",
           "zerolinewidth": 2
          }
         }
        },
        "title": {
         "text": "Text Embedding Cosine Self Similarity (No Pretrain)"
        },
        "width": 1000,
        "xaxis": {
         "anchor": "y",
         "constrain": "domain",
         "domain": [
          0,
          1
         ],
         "scaleanchor": "y",
         "title": {
          "text": "No Pretrain"
         }
        },
        "yaxis": {
         "anchor": "x",
         "autorange": "reversed",
         "constrain": "domain",
         "domain": [
          0,
          1
         ],
         "title": {
          "text": "No Pretrain"
         }
        }
       }
      },
      "text/html": [
       "<div>                            <div id=\"ae925ff6-c4c4-43ca-9629-b8048387e64f\" class=\"plotly-graph-div\" style=\"height:1000px; width:1000px;\"></div>            <script type=\"text/javascript\">                require([\"plotly\"], function(Plotly) {                    window.PLOTLYENV=window.PLOTLYENV || {};                                    if (document.getElementById(\"ae925ff6-c4c4-43ca-9629-b8048387e64f\")) {                    Plotly.newPlot(                        \"ae925ff6-c4c4-43ca-9629-b8048387e64f\",                        [{\"coloraxis\":\"coloraxis\",\"name\":\"0\",\"x\":[\"followed by\",\"then\",\"after\",\"before\"],\"y\":[\"followed by\",\"then\",\"after\",\"before\"],\"z\":[[1.0,0.9900539517402649,0.891224205493927,0.9623361825942993],[0.9900539517402649,1.0000001192092896,0.894281804561615,0.965823233127594],[0.891224205493927,0.894281804561615,1.0,0.9641544222831726],[0.9623361825942993,0.965823233127594,0.9641544222831726,1.0000001192092896]],\"type\":\"heatmap\",\"xaxis\":\"x\",\"yaxis\":\"y\",\"hovertemplate\":\"No Pretrain: %{x}\\u003cbr\\u003eNo Pretrain: %{y}\\u003cbr\\u003eCosine Similarity: %{z}\\u003cextra\\u003e\\u003c\\u002fextra\\u003e\"}],                        {\"template\":{\"data\":{\"histogram2dcontour\":[{\"type\":\"histogram2dcontour\",\"colorbar\":{\"outlinewidth\":0,\"ticks\":\"\"},\"colorscale\":[[0.0,\"#0d0887\"],[0.1111111111111111,\"#46039f\"],[0.2222222222222222,\"#7201a8\"],[0.3333333333333333,\"#9c179e\"],[0.4444444444444444,\"#bd3786\"],[0.5555555555555556,\"#d8576b\"],[0.6666666666666666,\"#ed7953\"],[0.7777777777777778,\"#fb9f3a\"],[0.8888888888888888,\"#fdca26\"],[1.0,\"#f0f921\"]]}],\"choropleth\":[{\"type\":\"choropleth\",\"colorbar\":{\"outlinewidth\":0,\"ticks\":\"\"}}],\"histogram2d\":[{\"type\":\"histogram2d\",\"colorbar\":{\"outlinewidth\":0,\"ticks\":\"\"},\"colorscale\":[[0.0,\"#0d0887\"],[0.1111111111111111,\"#46039f\"],[0.2222222222222222,\"#7201a8\"],[0.3333333333333333,\"#9c179e\"],[0.4444444444444444,\"#bd3786\"],[0.5555555555555556,\"#d8576b\"],[0.6666666666666666,\"#ed7953\"],[0.7777777777777778,\"#fb9f3a\"],[0.8888888888888888,\"#fdca26\"],[1.0,\"#f0f921\"]]}],\"heatmap\":[{\"type\":\"heatmap\",\"colorbar\":{\"outlinewidth\":0,\"ticks\":\"\"},\"colorscale\":[[0.0,\"#0d0887\"],[0.1111111111111111,\"#46039f\"],[0.2222222222222222,\"#7201a8\"],[0.3333333333333333,\"#9c179e\"],[0.4444444444444444,\"#bd3786\"],[0.5555555555555556,\"#d8576b\"],[0.6666666666666666,\"#ed7953\"],[0.7777777777777778,\"#fb9f3a\"],[0.8888888888888888,\"#fdca26\"],[1.0,\"#f0f921\"]]}],\"heatmapgl\":[{\"type\":\"heatmapgl\",\"colorbar\":{\"outlinewidth\":0,\"ticks\":\"\"},\"colorscale\":[[0.0,\"#0d0887\"],[0.1111111111111111,\"#46039f\"],[0.2222222222222222,\"#7201a8\"],[0.3333333333333333,\"#9c179e\"],[0.4444444444444444,\"#bd3786\"],[0.5555555555555556,\"#d8576b\"],[0.6666666666666666,\"#ed7953\"],[0.7777777777777778,\"#fb9f3a\"],[0.8888888888888888,\"#fdca26\"],[1.0,\"#f0f921\"]]}],\"contourcarpet\":[{\"type\":\"contourcarpet\",\"colorbar\":{\"outlinewidth\":0,\"ticks\":\"\"}}],\"contour\":[{\"type\":\"contour\",\"colorbar\":{\"outlinewidth\":0,\"ticks\":\"\"},\"colorscale\":[[0.0,\"#0d0887\"],[0.1111111111111111,\"#46039f\"],[0.2222222222222222,\"#7201a8\"],[0.3333333333333333,\"#9c179e\"],[0.4444444444444444,\"#bd3786\"],[0.5555555555555556,\"#d8576b\"],[0.6666666666666666,\"#ed7953\"],[0.7777777777777778,\"#fb9f3a\"],[0.8888888888888888,\"#fdca26\"],[1.0,\"#f0f921\"]]}],\"surface\":[{\"type\":\"surface\",\"colorbar\":{\"outlinewidth\":0,\"ticks\":\"\"},\"colorscale\":[[0.0,\"#0d0887\"],[0.1111111111111111,\"#46039f\"],[0.2222222222222222,\"#7201a8\"],[0.3333333333333333,\"#9c179e\"],[0.4444444444444444,\"#bd3786\"],[0.5555555555555556,\"#d8576b\"],[0.6666666666666666,\"#ed7953\"],[0.7777777777777778,\"#fb9f3a\"],[0.8888888888888888,\"#fdca26\"],[1.0,\"#f0f921\"]]}],\"mesh3d\":[{\"type\":\"mesh3d\",\"colorbar\":{\"outlinewidth\":0,\"ticks\":\"\"}}],\"scatter\":[{\"fillpattern\":{\"fillmode\":\"overlay\",\"size\":10,\"solidity\":0.2},\"type\":\"scatter\"}],\"parcoords\":[{\"type\":\"parcoords\",\"line\":{\"colorbar\":{\"outlinewidth\":0,\"ticks\":\"\"}}}],\"scatterpolargl\":[{\"type\":\"scatterpolargl\",\"marker\":{\"colorbar\":{\"outlinewidth\":0,\"ticks\":\"\"}}}],\"bar\":[{\"error_x\":{\"color\":\"#2a3f5f\"},\"error_y\":{\"color\":\"#2a3f5f\"},\"marker\":{\"line\":{\"color\":\"#E5ECF6\",\"width\":0.5},\"pattern\":{\"fillmode\":\"overlay\",\"size\":10,\"solidity\":0.2}},\"type\":\"bar\"}],\"scattergeo\":[{\"type\":\"scattergeo\",\"marker\":{\"colorbar\":{\"outlinewidth\":0,\"ticks\":\"\"}}}],\"scatterpolar\":[{\"type\":\"scatterpolar\",\"marker\":{\"colorbar\":{\"outlinewidth\":0,\"ticks\":\"\"}}}],\"histogram\":[{\"marker\":{\"pattern\":{\"fillmode\":\"overlay\",\"size\":10,\"solidity\":0.2}},\"type\":\"histogram\"}],\"scattergl\":[{\"type\":\"scattergl\",\"marker\":{\"colorbar\":{\"outlinewidth\":0,\"ticks\":\"\"}}}],\"scatter3d\":[{\"type\":\"scatter3d\",\"line\":{\"colorbar\":{\"outlinewidth\":0,\"ticks\":\"\"}},\"marker\":{\"colorbar\":{\"outlinewidth\":0,\"ticks\":\"\"}}}],\"scattermapbox\":[{\"type\":\"scattermapbox\",\"marker\":{\"colorbar\":{\"outlinewidth\":0,\"ticks\":\"\"}}}],\"scatterternary\":[{\"type\":\"scatterternary\",\"marker\":{\"colorbar\":{\"outlinewidth\":0,\"ticks\":\"\"}}}],\"scattercarpet\":[{\"type\":\"scattercarpet\",\"marker\":{\"colorbar\":{\"outlinewidth\":0,\"ticks\":\"\"}}}],\"carpet\":[{\"aaxis\":{\"endlinecolor\":\"#2a3f5f\",\"gridcolor\":\"white\",\"linecolor\":\"white\",\"minorgridcolor\":\"white\",\"startlinecolor\":\"#2a3f5f\"},\"baxis\":{\"endlinecolor\":\"#2a3f5f\",\"gridcolor\":\"white\",\"linecolor\":\"white\",\"minorgridcolor\":\"white\",\"startlinecolor\":\"#2a3f5f\"},\"type\":\"carpet\"}],\"table\":[{\"cells\":{\"fill\":{\"color\":\"#EBF0F8\"},\"line\":{\"color\":\"white\"}},\"header\":{\"fill\":{\"color\":\"#C8D4E3\"},\"line\":{\"color\":\"white\"}},\"type\":\"table\"}],\"barpolar\":[{\"marker\":{\"line\":{\"color\":\"#E5ECF6\",\"width\":0.5},\"pattern\":{\"fillmode\":\"overlay\",\"size\":10,\"solidity\":0.2}},\"type\":\"barpolar\"}],\"pie\":[{\"automargin\":true,\"type\":\"pie\"}]},\"layout\":{\"autotypenumbers\":\"strict\",\"colorway\":[\"#636efa\",\"#EF553B\",\"#00cc96\",\"#ab63fa\",\"#FFA15A\",\"#19d3f3\",\"#FF6692\",\"#B6E880\",\"#FF97FF\",\"#FECB52\"],\"font\":{\"color\":\"#2a3f5f\"},\"hovermode\":\"closest\",\"hoverlabel\":{\"align\":\"left\"},\"paper_bgcolor\":\"white\",\"plot_bgcolor\":\"#E5ECF6\",\"polar\":{\"bgcolor\":\"#E5ECF6\",\"angularaxis\":{\"gridcolor\":\"white\",\"linecolor\":\"white\",\"ticks\":\"\"},\"radialaxis\":{\"gridcolor\":\"white\",\"linecolor\":\"white\",\"ticks\":\"\"}},\"ternary\":{\"bgcolor\":\"#E5ECF6\",\"aaxis\":{\"gridcolor\":\"white\",\"linecolor\":\"white\",\"ticks\":\"\"},\"baxis\":{\"gridcolor\":\"white\",\"linecolor\":\"white\",\"ticks\":\"\"},\"caxis\":{\"gridcolor\":\"white\",\"linecolor\":\"white\",\"ticks\":\"\"}},\"coloraxis\":{\"colorbar\":{\"outlinewidth\":0,\"ticks\":\"\"}},\"colorscale\":{\"sequential\":[[0.0,\"#0d0887\"],[0.1111111111111111,\"#46039f\"],[0.2222222222222222,\"#7201a8\"],[0.3333333333333333,\"#9c179e\"],[0.4444444444444444,\"#bd3786\"],[0.5555555555555556,\"#d8576b\"],[0.6666666666666666,\"#ed7953\"],[0.7777777777777778,\"#fb9f3a\"],[0.8888888888888888,\"#fdca26\"],[1.0,\"#f0f921\"]],\"sequentialminus\":[[0.0,\"#0d0887\"],[0.1111111111111111,\"#46039f\"],[0.2222222222222222,\"#7201a8\"],[0.3333333333333333,\"#9c179e\"],[0.4444444444444444,\"#bd3786\"],[0.5555555555555556,\"#d8576b\"],[0.6666666666666666,\"#ed7953\"],[0.7777777777777778,\"#fb9f3a\"],[0.8888888888888888,\"#fdca26\"],[1.0,\"#f0f921\"]],\"diverging\":[[0,\"#8e0152\"],[0.1,\"#c51b7d\"],[0.2,\"#de77ae\"],[0.3,\"#f1b6da\"],[0.4,\"#fde0ef\"],[0.5,\"#f7f7f7\"],[0.6,\"#e6f5d0\"],[0.7,\"#b8e186\"],[0.8,\"#7fbc41\"],[0.9,\"#4d9221\"],[1,\"#276419\"]]},\"xaxis\":{\"gridcolor\":\"white\",\"linecolor\":\"white\",\"ticks\":\"\",\"title\":{\"standoff\":15},\"zerolinecolor\":\"white\",\"automargin\":true,\"zerolinewidth\":2},\"yaxis\":{\"gridcolor\":\"white\",\"linecolor\":\"white\",\"ticks\":\"\",\"title\":{\"standoff\":15},\"zerolinecolor\":\"white\",\"automargin\":true,\"zerolinewidth\":2},\"scene\":{\"xaxis\":{\"backgroundcolor\":\"#E5ECF6\",\"gridcolor\":\"white\",\"linecolor\":\"white\",\"showbackground\":true,\"ticks\":\"\",\"zerolinecolor\":\"white\",\"gridwidth\":2},\"yaxis\":{\"backgroundcolor\":\"#E5ECF6\",\"gridcolor\":\"white\",\"linecolor\":\"white\",\"showbackground\":true,\"ticks\":\"\",\"zerolinecolor\":\"white\",\"gridwidth\":2},\"zaxis\":{\"backgroundcolor\":\"#E5ECF6\",\"gridcolor\":\"white\",\"linecolor\":\"white\",\"showbackground\":true,\"ticks\":\"\",\"zerolinecolor\":\"white\",\"gridwidth\":2}},\"shapedefaults\":{\"line\":{\"color\":\"#2a3f5f\"}},\"annotationdefaults\":{\"arrowcolor\":\"#2a3f5f\",\"arrowhead\":0,\"arrowwidth\":1},\"geo\":{\"bgcolor\":\"white\",\"landcolor\":\"#E5ECF6\",\"subunitcolor\":\"white\",\"showland\":true,\"showlakes\":true,\"lakecolor\":\"white\"},\"title\":{\"x\":0.05},\"mapbox\":{\"style\":\"light\"}}},\"xaxis\":{\"anchor\":\"y\",\"domain\":[0.0,1.0],\"scaleanchor\":\"y\",\"constrain\":\"domain\",\"title\":{\"text\":\"No Pretrain\"}},\"yaxis\":{\"anchor\":\"x\",\"domain\":[0.0,1.0],\"autorange\":\"reversed\",\"constrain\":\"domain\",\"title\":{\"text\":\"No Pretrain\"}},\"coloraxis\":{\"colorbar\":{\"title\":{\"text\":\"Cosine Similarity\"}},\"colorscale\":[[0.0,\"#0d0887\"],[0.1111111111111111,\"#46039f\"],[0.2222222222222222,\"#7201a8\"],[0.3333333333333333,\"#9c179e\"],[0.4444444444444444,\"#bd3786\"],[0.5555555555555556,\"#d8576b\"],[0.6666666666666666,\"#ed7953\"],[0.7777777777777778,\"#fb9f3a\"],[0.8888888888888888,\"#fdca26\"],[1.0,\"#f0f921\"]]},\"title\":{\"text\":\"Text Embedding Cosine Self Similarity (No Pretrain)\"},\"width\":1000,\"height\":1000},                        {\"responsive\": true}                    ).then(function(){\n",
       "                            \n",
       "var gd = document.getElementById('ae925ff6-c4c4-43ca-9629-b8048387e64f');\n",
       "var x = new MutationObserver(function (mutations, observer) {{\n",
       "        var display = window.getComputedStyle(gd).display;\n",
       "        if (!display || display === 'none') {{\n",
       "            console.log([gd, 'removed!']);\n",
       "            Plotly.purge(gd);\n",
       "            observer.disconnect();\n",
       "        }}\n",
       "}});\n",
       "\n",
       "// Listen for the removal of the full notebook cells\n",
       "var notebookContainer = gd.closest('#notebook-container');\n",
       "if (notebookContainer) {{\n",
       "    x.observe(notebookContainer, {childList: true});\n",
       "}}\n",
       "\n",
       "// Listen for the clearing of the current output cell\n",
       "var outputEl = gd.closest('.output');\n",
       "if (outputEl) {{\n",
       "    x.observe(outputEl, {childList: true});\n",
       "}}\n",
       "\n",
       "                        })                };                });            </script>        </div>"
      ]
     },
     "metadata": {},
     "output_type": "display_data"
    }
   ],
   "source": [
    "heatmap(no_pretrain_embedded_text.detach().cpu().numpy(),\n",
    "        no_pretrain_embedded_text.detach().cpu().numpy(),\n",
    "        xlabel='No Pretrain',\n",
    "        ylabel='No Pretrain',\n",
    "        title='Text Embedding Cosine Self Similarity (No Pretrain)',\n",
    "        # order=get_dendrogram_order('text', pretrain=False))\n",
    ")"
   ]
  },
  {
   "cell_type": "code",
   "execution_count": 36,
   "metadata": {},
   "outputs": [],
   "source": [
    "# Select indices for 10 random classes from the dataset\n",
    "indices = np.random.choice(50, 10, replace=False)"
   ]
  },
  {
   "cell_type": "code",
   "execution_count": 37,
   "metadata": {},
   "outputs": [
    {
     "data": {
      "image/png": "[encoded data removed]",
      "text/plain": [
       "<Figure size 3300x3300 with 2 Axes>"
      ]
     },
     "metadata": {},
     "output_type": "display_data"
    }
   ],
   "source": [
    "# Using seaborn, make a heatmap for just these 10 classes\n",
    "# First, get the class names for the selected indices\n",
    "class_names = [dataset.classes[i] for i in indices]\n",
    "\n",
    "# Next, get the embeddings for these classes\n",
    "selected_text_embeddings = no_pretrain_embedded_text[indices]\n",
    "\n",
    "# Then compute the cosine similarities between the embeddings\n",
    "similarity_matrix = torch.zeros((10, 10), device=DEVICE)\n",
    "\n",
    "def cosine_similarity(x, y):\n",
    "    dot_product = torch.dot(x, y)\n",
    "    norm_x = torch.linalg.norm(x)\n",
    "    norm_y = torch.linalg.norm(y)\n",
    "    return dot_product / (norm_x * norm_y)\n",
    "\n",
    "for i in range(10):\n",
    "    for j in range(10):\n",
    "        similarity_matrix[i, j] = cosine_similarity(selected_text_embeddings[i], selected_text_embeddings[j])\n",
    "\n",
    "# Next, put this into a dataframe\n",
    "df = pd.DataFrame(similarity_matrix.detach().cpu().numpy(), index=class_names, columns=class_names)\n",
    "\n",
    "# Finally plot it using sns.heatmap\n",
    "plt.figure(figsize=(10, 10), dpi=330)\n",
    "sns.heatmap(df, annot=False, cmap='viridis', cbar=True, square=True, vmin=0.3, vmax=1)\n",
    "plt.title('Text Embedding Cosine Similarity (No Pretrain)')\n",
    "plt.show()\n"
   ]
  },
  {
   "cell_type": "markdown",
   "metadata": {},
   "source": [
    "### **With** language-audio pre-training"
   ]
  },
  {
   "cell_type": "code",
   "execution_count": 24,
   "metadata": {},
   "outputs": [],
   "source": [
    "%%capture\n",
    "clap_model.clap.caption_encoder.base.to(DEVICE)"
   ]
  },
  {
   "cell_type": "code",
   "execution_count": 25,
   "metadata": {},
   "outputs": [],
   "source": [
    "pretrain_embedded_text = clap_model.clap.caption_encoder.base(**preprocessed_text)[0]\n",
    "pretrain_embedded_text = pretrain_embedded_text[:, 0, :]"
   ]
  },
  {
   "cell_type": "code",
   "execution_count": 26,
   "metadata": {},
   "outputs": [
    {
     "data": {
      "application/vnd.plotly.v1+json": {
       "config": {
        "plotlyServerURL": "https://plot.ly"
       },
       "data": [
        {
         "coloraxis": "coloraxis",
         "hovertemplate": "Pretrain: %{x}<br>Pretrain: %{y}<br>Cosine Similarity: %{z}<extra></extra>",
         "name": "0",
         "type": "heatmap",
         "x": [
          "followed by",
          "then",
          "after",
          "before"
         ],
         "xaxis": "x",
         "y": [
          "followed by",
          "then",
          "after",
          "before"
         ],
         "yaxis": "y",
         "z": [
          [
           1,
           0.9903125762939453,
           0.9890561103820801,
           0.9777784943580627
          ],
          [
           0.9903125762939453,
           1.0000001192092896,
           0.9883857369422913,
           0.9860064387321472
          ],
          [
           0.9890561103820801,
           0.9883857369422913,
           1,
           0.9853187799453735
          ],
          [
           0.9777784943580627,
           0.9860064387321472,
           0.9853187799453735,
           1
          ]
         ]
        }
       ],
       "layout": {
        "coloraxis": {
         "colorbar": {
          "title": {
           "text": "Cosine Similarity"
          }
         },
         "colorscale": [
          [
           0,
           "#0d0887"
          ],
          [
           0.1111111111111111,
           "#46039f"
          ],
          [
           0.2222222222222222,
           "#7201a8"
          ],
          [
           0.3333333333333333,
           "#9c179e"
          ],
          [
           0.4444444444444444,
           "#bd3786"
          ],
          [
           0.5555555555555556,
           "#d8576b"
          ],
          [
           0.6666666666666666,
           "#ed7953"
          ],
          [
           0.7777777777777778,
           "#fb9f3a"
          ],
          [
           0.8888888888888888,
           "#fdca26"
          ],
          [
           1,
           "#f0f921"
          ]
         ]
        },
        "height": 1000,
        "template": {
         "data": {
          "bar": [
           {
            "error_x": {
             "color": "#2a3f5f"
            },
            "error_y": {
             "color": "#2a3f5f"
            },
            "marker": {
             "line": {
              "color": "#E5ECF6",
              "width": 0.5
             },
             "pattern": {
              "fillmode": "overlay",
              "size": 10,
              "solidity": 0.2
             }
            },
            "type": "bar"
           }
          ],
          "barpolar": [
           {
            "marker": {
             "line": {
              "color": "#E5ECF6",
              "width": 0.5
             },
             "pattern": {
              "fillmode": "overlay",
              "size": 10,
              "solidity": 0.2
             }
            },
            "type": "barpolar"
           }
          ],
          "carpet": [
           {
            "aaxis": {
             "endlinecolor": "#2a3f5f",
             "gridcolor": "white",
             "linecolor": "white",
             "minorgridcolor": "white",
             "startlinecolor": "#2a3f5f"
            },
            "baxis": {
             "endlinecolor": "#2a3f5f",
             "gridcolor": "white",
             "linecolor": "white",
             "minorgridcolor": "white",
             "startlinecolor": "#2a3f5f"
            },
            "type": "carpet"
           }
          ],
          "choropleth": [
           {
            "colorbar": {
             "outlinewidth": 0,
             "ticks": ""
            },
            "type": "choropleth"
           }
          ],
          "contour": [
           {
            "colorbar": {
             "outlinewidth": 0,
             "ticks": ""
            },
            "colorscale": [
             [
              0,
              "#0d0887"
             ],
             [
              0.1111111111111111,
              "#46039f"
             ],
             [
              0.2222222222222222,
              "#7201a8"
             ],
             [
              0.3333333333333333,
              "#9c179e"
             ],
             [
              0.4444444444444444,
              "#bd3786"
             ],
             [
              0.5555555555555556,
              "#d8576b"
             ],
             [
              0.6666666666666666,
              "#ed7953"
             ],
             [
              0.7777777777777778,
              "#fb9f3a"
             ],
             [
              0.8888888888888888,
              "#fdca26"
             ],
             [
              1,
              "#f0f921"
             ]
            ],
            "type": "contour"
           }
          ],
          "contourcarpet": [
           {
            "colorbar": {
             "outlinewidth": 0,
             "ticks": ""
            },
            "type": "contourcarpet"
           }
          ],
          "heatmap": [
           {
            "colorbar": {
             "outlinewidth": 0,
             "ticks": ""
            },
            "colorscale": [
             [
              0,
              "#0d0887"
             ],
             [
              0.1111111111111111,
              "#46039f"
             ],
             [
              0.2222222222222222,
              "#7201a8"
             ],
             [
              0.3333333333333333,
              "#9c179e"
             ],
             [
              0.4444444444444444,
              "#bd3786"
             ],
             [
              0.5555555555555556,
              "#d8576b"
             ],
             [
              0.6666666666666666,
              "#ed7953"
             ],
             [
              0.7777777777777778,
              "#fb9f3a"
             ],
             [
              0.8888888888888888,
              "#fdca26"
             ],
             [
              1,
              "#f0f921"
             ]
            ],
            "type": "heatmap"
           }
          ],
          "heatmapgl": [
           {
            "colorbar": {
             "outlinewidth": 0,
             "ticks": ""
            },
            "colorscale": [
             [
              0,
              "#0d0887"
             ],
             [
              0.1111111111111111,
              "#46039f"
             ],
             [
              0.2222222222222222,
              "#7201a8"
             ],
             [
              0.3333333333333333,
              "#9c179e"
             ],
             [
              0.4444444444444444,
              "#bd3786"
             ],
             [
              0.5555555555555556,
              "#d8576b"
             ],
             [
              0.6666666666666666,
              "#ed7953"
             ],
             [
              0.7777777777777778,
              "#fb9f3a"
             ],
             [
              0.8888888888888888,
              "#fdca26"
             ],
             [
              1,
              "#f0f921"
             ]
            ],
            "type": "heatmapgl"
           }
          ],
          "histogram": [
           {
            "marker": {
             "pattern": {
              "fillmode": "overlay",
              "size": 10,
              "solidity": 0.2
             }
            },
            "type": "histogram"
           }
          ],
          "histogram2d": [
           {
            "colorbar": {
             "outlinewidth": 0,
             "ticks": ""
            },
            "colorscale": [
             [
              0,
              "#0d0887"
             ],
             [
              0.1111111111111111,
              "#46039f"
             ],
             [
              0.2222222222222222,
              "#7201a8"
             ],
             [
              0.3333333333333333,
              "#9c179e"
             ],
             [
              0.4444444444444444,
              "#bd3786"
             ],
             [
              0.5555555555555556,
              "#d8576b"
             ],
             [
              0.6666666666666666,
              "#ed7953"
             ],
             [
              0.7777777777777778,
              "#fb9f3a"
             ],
             [
              0.8888888888888888,
              "#fdca26"
             ],
             [
              1,
              "#f0f921"
             ]
            ],
            "type": "histogram2d"
           }
          ],
          "histogram2dcontour": [
           {
            "colorbar": {
             "outlinewidth": 0,
             "ticks": ""
            },
            "colorscale": [
             [
              0,
              "#0d0887"
             ],
             [
              0.1111111111111111,
              "#46039f"
             ],
             [
              0.2222222222222222,
              "#7201a8"
             ],
             [
              0.3333333333333333,
              "#9c179e"
             ],
             [
              0.4444444444444444,
              "#bd3786"
             ],
             [
              0.5555555555555556,
              "#d8576b"
             ],
             [
              0.6666666666666666,
              "#ed7953"
             ],
             [
              0.7777777777777778,
              "#fb9f3a"
             ],
             [
              0.8888888888888888,
              "#fdca26"
             ],
             [
              1,
              "#f0f921"
             ]
            ],
            "type": "histogram2dcontour"
           }
          ],
          "mesh3d": [
           {
            "colorbar": {
             "outlinewidth": 0,
             "ticks": ""
            },
            "type": "mesh3d"
           }
          ],
          "parcoords": [
           {
            "line": {
             "colorbar": {
              "outlinewidth": 0,
              "ticks": ""
             }
            },
            "type": "parcoords"
           }
          ],
          "pie": [
           {
            "automargin": true,
            "type": "pie"
           }
          ],
          "scatter": [
           {
            "fillpattern": {
             "fillmode": "overlay",
             "size": 10,
             "solidity": 0.2
            },
            "type": "scatter"
           }
          ],
          "scatter3d": [
           {
            "line": {
             "colorbar": {
              "outlinewidth": 0,
              "ticks": ""
             }
            },
            "marker": {
             "colorbar": {
              "outlinewidth": 0,
              "ticks": ""
             }
            },
            "type": "scatter3d"
           }
          ],
          "scattercarpet": [
           {
            "marker": {
             "colorbar": {
              "outlinewidth": 0,
              "ticks": ""
             }
            },
            "type": "scattercarpet"
           }
          ],
          "scattergeo": [
           {
            "marker": {
             "colorbar": {
              "outlinewidth": 0,
              "ticks": ""
             }
            },
            "type": "scattergeo"
           }
          ],
          "scattergl": [
           {
            "marker": {
             "colorbar": {
              "outlinewidth": 0,
              "ticks": ""
             }
            },
            "type": "scattergl"
           }
          ],
          "scattermapbox": [
           {
            "marker": {
             "colorbar": {
              "outlinewidth": 0,
              "ticks": ""
             }
            },
            "type": "scattermapbox"
           }
          ],
          "scatterpolar": [
           {
            "marker": {
             "colorbar": {
              "outlinewidth": 0,
              "ticks": ""
             }
            },
            "type": "scatterpolar"
           }
          ],
          "scatterpolargl": [
           {
            "marker": {
             "colorbar": {
              "outlinewidth": 0,
              "ticks": ""
             }
            },
            "type": "scatterpolargl"
           }
          ],
          "scatterternary": [
           {
            "marker": {
             "colorbar": {
              "outlinewidth": 0,
              "ticks": ""
             }
            },
            "type": "scatterternary"
           }
          ],
          "surface": [
           {
            "colorbar": {
             "outlinewidth": 0,
             "ticks": ""
            },
            "colorscale": [
             [
              0,
              "#0d0887"
             ],
             [
              0.1111111111111111,
              "#46039f"
             ],
             [
              0.2222222222222222,
              "#7201a8"
             ],
             [
              0.3333333333333333,
              "#9c179e"
             ],
             [
              0.4444444444444444,
              "#bd3786"
             ],
             [
              0.5555555555555556,
              "#d8576b"
             ],
             [
              0.6666666666666666,
              "#ed7953"
             ],
             [
              0.7777777777777778,
              "#fb9f3a"
             ],
             [
              0.8888888888888888,
              "#fdca26"
             ],
             [
              1,
              "#f0f921"
             ]
            ],
            "type": "surface"
           }
          ],
          "table": [
           {
            "cells": {
             "fill": {
              "color": "#EBF0F8"
             },
             "line": {
              "color": "white"
             }
            },
            "header": {
             "fill": {
              "color": "#C8D4E3"
             },
             "line": {
              "color": "white"
             }
            },
            "type": "table"
           }
          ]
         },
         "layout": {
          "annotationdefaults": {
           "arrowcolor": "#2a3f5f",
           "arrowhead": 0,
           "arrowwidth": 1
          },
          "autotypenumbers": "strict",
          "coloraxis": {
           "colorbar": {
            "outlinewidth": 0,
            "ticks": ""
           }
          },
          "colorscale": {
           "diverging": [
            [
             0,
             "#8e0152"
            ],
            [
             0.1,
             "#c51b7d"
            ],
            [
             0.2,
             "#de77ae"
            ],
            [
             0.3,
             "#f1b6da"
            ],
            [
             0.4,
             "#fde0ef"
            ],
            [
             0.5,
             "#f7f7f7"
            ],
            [
             0.6,
             "#e6f5d0"
            ],
            [
             0.7,
             "#b8e186"
            ],
            [
             0.8,
             "#7fbc41"
            ],
            [
             0.9,
             "#4d9221"
            ],
            [
             1,
             "#276419"
            ]
           ],
           "sequential": [
            [
             0,
             "#0d0887"
            ],
            [
             0.1111111111111111,
             "#46039f"
            ],
            [
             0.2222222222222222,
             "#7201a8"
            ],
            [
             0.3333333333333333,
             "#9c179e"
            ],
            [
             0.4444444444444444,
             "#bd3786"
            ],
            [
             0.5555555555555556,
             "#d8576b"
            ],
            [
             0.6666666666666666,
             "#ed7953"
            ],
            [
             0.7777777777777778,
             "#fb9f3a"
            ],
            [
             0.8888888888888888,
             "#fdca26"
            ],
            [
             1,
             "#f0f921"
            ]
           ],
           "sequentialminus": [
            [
             0,
             "#0d0887"
            ],
            [
             0.1111111111111111,
             "#46039f"
            ],
            [
             0.2222222222222222,
             "#7201a8"
            ],
            [
             0.3333333333333333,
             "#9c179e"
            ],
            [
             0.4444444444444444,
             "#bd3786"
            ],
            [
             0.5555555555555556,
             "#d8576b"
            ],
            [
             0.6666666666666666,
             "#ed7953"
            ],
            [
             0.7777777777777778,
             "#fb9f3a"
            ],
            [
             0.8888888888888888,
             "#fdca26"
            ],
            [
             1,
             "#f0f921"
            ]
           ]
          },
          "colorway": [
           "#636efa",
           "#EF553B",
           "#00cc96",
           "#ab63fa",
           "#FFA15A",
           "#19d3f3",
           "#FF6692",
           "#B6E880",
           "#FF97FF",
           "#FECB52"
          ],
          "font": {
           "color": "#2a3f5f"
          },
          "geo": {
           "bgcolor": "white",
           "lakecolor": "white",
           "landcolor": "#E5ECF6",
           "showlakes": true,
           "showland": true,
           "subunitcolor": "white"
          },
          "hoverlabel": {
           "align": "left"
          },
          "hovermode": "closest",
          "mapbox": {
           "style": "light"
          },
          "paper_bgcolor": "white",
          "plot_bgcolor": "#E5ECF6",
          "polar": {
           "angularaxis": {
            "gridcolor": "white",
            "linecolor": "white",
            "ticks": ""
           },
           "bgcolor": "#E5ECF6",
           "radialaxis": {
            "gridcolor": "white",
            "linecolor": "white",
            "ticks": ""
           }
          },
          "scene": {
           "xaxis": {
            "backgroundcolor": "#E5ECF6",
            "gridcolor": "white",
            "gridwidth": 2,
            "linecolor": "white",
            "showbackground": true,
            "ticks": "",
            "zerolinecolor": "white"
           },
           "yaxis": {
            "backgroundcolor": "#E5ECF6",
            "gridcolor": "white",
            "gridwidth": 2,
            "linecolor": "white",
            "showbackground": true,
            "ticks": "",
            "zerolinecolor": "white"
           },
           "zaxis": {
            "backgroundcolor": "#E5ECF6",
            "gridcolor": "white",
            "gridwidth": 2,
            "linecolor": "white",
            "showbackground": true,
            "ticks": "",
            "zerolinecolor": "white"
           }
          },
          "shapedefaults": {
           "line": {
            "color": "#2a3f5f"
           }
          },
          "ternary": {
           "aaxis": {
            "gridcolor": "white",
            "linecolor": "white",
            "ticks": ""
           },
           "baxis": {
            "gridcolor": "white",
            "linecolor": "white",
            "ticks": ""
           },
           "bgcolor": "#E5ECF6",
           "caxis": {
            "gridcolor": "white",
            "linecolor": "white",
            "ticks": ""
           }
          },
          "title": {
           "x": 0.05
          },
          "xaxis": {
           "automargin": true,
           "gridcolor": "white",
           "linecolor": "white",
           "ticks": "",
           "title": {
            "standoff": 15
           },
           "zerolinecolor": "white",
           "zerolinewidth": 2
          },
          "yaxis": {
           "automargin": true,
           "gridcolor": "white",
           "linecolor": "white",
           "ticks": "",
           "title": {
            "standoff": 15
           },
           "zerolinecolor": "white",
           "zerolinewidth": 2
          }
         }
        },
        "title": {
         "text": "Text Embedding Cosine Self Similarity (Pretrain)"
        },
        "width": 1000,
        "xaxis": {
         "anchor": "y",
         "constrain": "domain",
         "domain": [
          0,
          1
         ],
         "scaleanchor": "y",
         "title": {
          "text": "Pretrain"
         }
        },
        "yaxis": {
         "anchor": "x",
         "autorange": "reversed",
         "constrain": "domain",
         "domain": [
          0,
          1
         ],
         "title": {
          "text": "Pretrain"
         }
        }
       }
      },
      "text/html": [
       "<div>                            <div id=\"8335781c-8bb5-4b25-a8f2-00cba3824302\" class=\"plotly-graph-div\" style=\"height:1000px; width:1000px;\"></div>            <script type=\"text/javascript\">                require([\"plotly\"], function(Plotly) {                    window.PLOTLYENV=window.PLOTLYENV || {};                                    if (document.getElementById(\"8335781c-8bb5-4b25-a8f2-00cba3824302\")) {                    Plotly.newPlot(                        \"8335781c-8bb5-4b25-a8f2-00cba3824302\",                        [{\"coloraxis\":\"coloraxis\",\"name\":\"0\",\"x\":[\"followed by\",\"then\",\"after\",\"before\"],\"y\":[\"followed by\",\"then\",\"after\",\"before\"],\"z\":[[1.0,0.9903125762939453,0.9890561103820801,0.9777784943580627],[0.9903125762939453,1.0000001192092896,0.9883857369422913,0.9860064387321472],[0.9890561103820801,0.9883857369422913,1.0,0.9853187799453735],[0.9777784943580627,0.9860064387321472,0.9853187799453735,1.0]],\"type\":\"heatmap\",\"xaxis\":\"x\",\"yaxis\":\"y\",\"hovertemplate\":\"Pretrain: %{x}\\u003cbr\\u003ePretrain: %{y}\\u003cbr\\u003eCosine Similarity: %{z}\\u003cextra\\u003e\\u003c\\u002fextra\\u003e\"}],                        {\"template\":{\"data\":{\"histogram2dcontour\":[{\"type\":\"histogram2dcontour\",\"colorbar\":{\"outlinewidth\":0,\"ticks\":\"\"},\"colorscale\":[[0.0,\"#0d0887\"],[0.1111111111111111,\"#46039f\"],[0.2222222222222222,\"#7201a8\"],[0.3333333333333333,\"#9c179e\"],[0.4444444444444444,\"#bd3786\"],[0.5555555555555556,\"#d8576b\"],[0.6666666666666666,\"#ed7953\"],[0.7777777777777778,\"#fb9f3a\"],[0.8888888888888888,\"#fdca26\"],[1.0,\"#f0f921\"]]}],\"choropleth\":[{\"type\":\"choropleth\",\"colorbar\":{\"outlinewidth\":0,\"ticks\":\"\"}}],\"histogram2d\":[{\"type\":\"histogram2d\",\"colorbar\":{\"outlinewidth\":0,\"ticks\":\"\"},\"colorscale\":[[0.0,\"#0d0887\"],[0.1111111111111111,\"#46039f\"],[0.2222222222222222,\"#7201a8\"],[0.3333333333333333,\"#9c179e\"],[0.4444444444444444,\"#bd3786\"],[0.5555555555555556,\"#d8576b\"],[0.6666666666666666,\"#ed7953\"],[0.7777777777777778,\"#fb9f3a\"],[0.8888888888888888,\"#fdca26\"],[1.0,\"#f0f921\"]]}],\"heatmap\":[{\"type\":\"heatmap\",\"colorbar\":{\"outlinewidth\":0,\"ticks\":\"\"},\"colorscale\":[[0.0,\"#0d0887\"],[0.1111111111111111,\"#46039f\"],[0.2222222222222222,\"#7201a8\"],[0.3333333333333333,\"#9c179e\"],[0.4444444444444444,\"#bd3786\"],[0.5555555555555556,\"#d8576b\"],[0.6666666666666666,\"#ed7953\"],[0.7777777777777778,\"#fb9f3a\"],[0.8888888888888888,\"#fdca26\"],[1.0,\"#f0f921\"]]}],\"heatmapgl\":[{\"type\":\"heatmapgl\",\"colorbar\":{\"outlinewidth\":0,\"ticks\":\"\"},\"colorscale\":[[0.0,\"#0d0887\"],[0.1111111111111111,\"#46039f\"],[0.2222222222222222,\"#7201a8\"],[0.3333333333333333,\"#9c179e\"],[0.4444444444444444,\"#bd3786\"],[0.5555555555555556,\"#d8576b\"],[0.6666666666666666,\"#ed7953\"],[0.7777777777777778,\"#fb9f3a\"],[0.8888888888888888,\"#fdca26\"],[1.0,\"#f0f921\"]]}],\"contourcarpet\":[{\"type\":\"contourcarpet\",\"colorbar\":{\"outlinewidth\":0,\"ticks\":\"\"}}],\"contour\":[{\"type\":\"contour\",\"colorbar\":{\"outlinewidth\":0,\"ticks\":\"\"},\"colorscale\":[[0.0,\"#0d0887\"],[0.1111111111111111,\"#46039f\"],[0.2222222222222222,\"#7201a8\"],[0.3333333333333333,\"#9c179e\"],[0.4444444444444444,\"#bd3786\"],[0.5555555555555556,\"#d8576b\"],[0.6666666666666666,\"#ed7953\"],[0.7777777777777778,\"#fb9f3a\"],[0.8888888888888888,\"#fdca26\"],[1.0,\"#f0f921\"]]}],\"surface\":[{\"type\":\"surface\",\"colorbar\":{\"outlinewidth\":0,\"ticks\":\"\"},\"colorscale\":[[0.0,\"#0d0887\"],[0.1111111111111111,\"#46039f\"],[0.2222222222222222,\"#7201a8\"],[0.3333333333333333,\"#9c179e\"],[0.4444444444444444,\"#bd3786\"],[0.5555555555555556,\"#d8576b\"],[0.6666666666666666,\"#ed7953\"],[0.7777777777777778,\"#fb9f3a\"],[0.8888888888888888,\"#fdca26\"],[1.0,\"#f0f921\"]]}],\"mesh3d\":[{\"type\":\"mesh3d\",\"colorbar\":{\"outlinewidth\":0,\"ticks\":\"\"}}],\"scatter\":[{\"fillpattern\":{\"fillmode\":\"overlay\",\"size\":10,\"solidity\":0.2},\"type\":\"scatter\"}],\"parcoords\":[{\"type\":\"parcoords\",\"line\":{\"colorbar\":{\"outlinewidth\":0,\"ticks\":\"\"}}}],\"scatterpolargl\":[{\"type\":\"scatterpolargl\",\"marker\":{\"colorbar\":{\"outlinewidth\":0,\"ticks\":\"\"}}}],\"bar\":[{\"error_x\":{\"color\":\"#2a3f5f\"},\"error_y\":{\"color\":\"#2a3f5f\"},\"marker\":{\"line\":{\"color\":\"#E5ECF6\",\"width\":0.5},\"pattern\":{\"fillmode\":\"overlay\",\"size\":10,\"solidity\":0.2}},\"type\":\"bar\"}],\"scattergeo\":[{\"type\":\"scattergeo\",\"marker\":{\"colorbar\":{\"outlinewidth\":0,\"ticks\":\"\"}}}],\"scatterpolar\":[{\"type\":\"scatterpolar\",\"marker\":{\"colorbar\":{\"outlinewidth\":0,\"ticks\":\"\"}}}],\"histogram\":[{\"marker\":{\"pattern\":{\"fillmode\":\"overlay\",\"size\":10,\"solidity\":0.2}},\"type\":\"histogram\"}],\"scattergl\":[{\"type\":\"scattergl\",\"marker\":{\"colorbar\":{\"outlinewidth\":0,\"ticks\":\"\"}}}],\"scatter3d\":[{\"type\":\"scatter3d\",\"line\":{\"colorbar\":{\"outlinewidth\":0,\"ticks\":\"\"}},\"marker\":{\"colorbar\":{\"outlinewidth\":0,\"ticks\":\"\"}}}],\"scattermapbox\":[{\"type\":\"scattermapbox\",\"marker\":{\"colorbar\":{\"outlinewidth\":0,\"ticks\":\"\"}}}],\"scatterternary\":[{\"type\":\"scatterternary\",\"marker\":{\"colorbar\":{\"outlinewidth\":0,\"ticks\":\"\"}}}],\"scattercarpet\":[{\"type\":\"scattercarpet\",\"marker\":{\"colorbar\":{\"outlinewidth\":0,\"ticks\":\"\"}}}],\"carpet\":[{\"aaxis\":{\"endlinecolor\":\"#2a3f5f\",\"gridcolor\":\"white\",\"linecolor\":\"white\",\"minorgridcolor\":\"white\",\"startlinecolor\":\"#2a3f5f\"},\"baxis\":{\"endlinecolor\":\"#2a3f5f\",\"gridcolor\":\"white\",\"linecolor\":\"white\",\"minorgridcolor\":\"white\",\"startlinecolor\":\"#2a3f5f\"},\"type\":\"carpet\"}],\"table\":[{\"cells\":{\"fill\":{\"color\":\"#EBF0F8\"},\"line\":{\"color\":\"white\"}},\"header\":{\"fill\":{\"color\":\"#C8D4E3\"},\"line\":{\"color\":\"white\"}},\"type\":\"table\"}],\"barpolar\":[{\"marker\":{\"line\":{\"color\":\"#E5ECF6\",\"width\":0.5},\"pattern\":{\"fillmode\":\"overlay\",\"size\":10,\"solidity\":0.2}},\"type\":\"barpolar\"}],\"pie\":[{\"automargin\":true,\"type\":\"pie\"}]},\"layout\":{\"autotypenumbers\":\"strict\",\"colorway\":[\"#636efa\",\"#EF553B\",\"#00cc96\",\"#ab63fa\",\"#FFA15A\",\"#19d3f3\",\"#FF6692\",\"#B6E880\",\"#FF97FF\",\"#FECB52\"],\"font\":{\"color\":\"#2a3f5f\"},\"hovermode\":\"closest\",\"hoverlabel\":{\"align\":\"left\"},\"paper_bgcolor\":\"white\",\"plot_bgcolor\":\"#E5ECF6\",\"polar\":{\"bgcolor\":\"#E5ECF6\",\"angularaxis\":{\"gridcolor\":\"white\",\"linecolor\":\"white\",\"ticks\":\"\"},\"radialaxis\":{\"gridcolor\":\"white\",\"linecolor\":\"white\",\"ticks\":\"\"}},\"ternary\":{\"bgcolor\":\"#E5ECF6\",\"aaxis\":{\"gridcolor\":\"white\",\"linecolor\":\"white\",\"ticks\":\"\"},\"baxis\":{\"gridcolor\":\"white\",\"linecolor\":\"white\",\"ticks\":\"\"},\"caxis\":{\"gridcolor\":\"white\",\"linecolor\":\"white\",\"ticks\":\"\"}},\"coloraxis\":{\"colorbar\":{\"outlinewidth\":0,\"ticks\":\"\"}},\"colorscale\":{\"sequential\":[[0.0,\"#0d0887\"],[0.1111111111111111,\"#46039f\"],[0.2222222222222222,\"#7201a8\"],[0.3333333333333333,\"#9c179e\"],[0.4444444444444444,\"#bd3786\"],[0.5555555555555556,\"#d8576b\"],[0.6666666666666666,\"#ed7953\"],[0.7777777777777778,\"#fb9f3a\"],[0.8888888888888888,\"#fdca26\"],[1.0,\"#f0f921\"]],\"sequentialminus\":[[0.0,\"#0d0887\"],[0.1111111111111111,\"#46039f\"],[0.2222222222222222,\"#7201a8\"],[0.3333333333333333,\"#9c179e\"],[0.4444444444444444,\"#bd3786\"],[0.5555555555555556,\"#d8576b\"],[0.6666666666666666,\"#ed7953\"],[0.7777777777777778,\"#fb9f3a\"],[0.8888888888888888,\"#fdca26\"],[1.0,\"#f0f921\"]],\"diverging\":[[0,\"#8e0152\"],[0.1,\"#c51b7d\"],[0.2,\"#de77ae\"],[0.3,\"#f1b6da\"],[0.4,\"#fde0ef\"],[0.5,\"#f7f7f7\"],[0.6,\"#e6f5d0\"],[0.7,\"#b8e186\"],[0.8,\"#7fbc41\"],[0.9,\"#4d9221\"],[1,\"#276419\"]]},\"xaxis\":{\"gridcolor\":\"white\",\"linecolor\":\"white\",\"ticks\":\"\",\"title\":{\"standoff\":15},\"zerolinecolor\":\"white\",\"automargin\":true,\"zerolinewidth\":2},\"yaxis\":{\"gridcolor\":\"white\",\"linecolor\":\"white\",\"ticks\":\"\",\"title\":{\"standoff\":15},\"zerolinecolor\":\"white\",\"automargin\":true,\"zerolinewidth\":2},\"scene\":{\"xaxis\":{\"backgroundcolor\":\"#E5ECF6\",\"gridcolor\":\"white\",\"linecolor\":\"white\",\"showbackground\":true,\"ticks\":\"\",\"zerolinecolor\":\"white\",\"gridwidth\":2},\"yaxis\":{\"backgroundcolor\":\"#E5ECF6\",\"gridcolor\":\"white\",\"linecolor\":\"white\",\"showbackground\":true,\"ticks\":\"\",\"zerolinecolor\":\"white\",\"gridwidth\":2},\"zaxis\":{\"backgroundcolor\":\"#E5ECF6\",\"gridcolor\":\"white\",\"linecolor\":\"white\",\"showbackground\":true,\"ticks\":\"\",\"zerolinecolor\":\"white\",\"gridwidth\":2}},\"shapedefaults\":{\"line\":{\"color\":\"#2a3f5f\"}},\"annotationdefaults\":{\"arrowcolor\":\"#2a3f5f\",\"arrowhead\":0,\"arrowwidth\":1},\"geo\":{\"bgcolor\":\"white\",\"landcolor\":\"#E5ECF6\",\"subunitcolor\":\"white\",\"showland\":true,\"showlakes\":true,\"lakecolor\":\"white\"},\"title\":{\"x\":0.05},\"mapbox\":{\"style\":\"light\"}}},\"xaxis\":{\"anchor\":\"y\",\"domain\":[0.0,1.0],\"scaleanchor\":\"y\",\"constrain\":\"domain\",\"title\":{\"text\":\"Pretrain\"}},\"yaxis\":{\"anchor\":\"x\",\"domain\":[0.0,1.0],\"autorange\":\"reversed\",\"constrain\":\"domain\",\"title\":{\"text\":\"Pretrain\"}},\"coloraxis\":{\"colorbar\":{\"title\":{\"text\":\"Cosine Similarity\"}},\"colorscale\":[[0.0,\"#0d0887\"],[0.1111111111111111,\"#46039f\"],[0.2222222222222222,\"#7201a8\"],[0.3333333333333333,\"#9c179e\"],[0.4444444444444444,\"#bd3786\"],[0.5555555555555556,\"#d8576b\"],[0.6666666666666666,\"#ed7953\"],[0.7777777777777778,\"#fb9f3a\"],[0.8888888888888888,\"#fdca26\"],[1.0,\"#f0f921\"]]},\"title\":{\"text\":\"Text Embedding Cosine Self Similarity (Pretrain)\"},\"width\":1000,\"height\":1000},                        {\"responsive\": true}                    ).then(function(){\n",
       "                            \n",
       "var gd = document.getElementById('8335781c-8bb5-4b25-a8f2-00cba3824302');\n",
       "var x = new MutationObserver(function (mutations, observer) {{\n",
       "        var display = window.getComputedStyle(gd).display;\n",
       "        if (!display || display === 'none') {{\n",
       "            console.log([gd, 'removed!']);\n",
       "            Plotly.purge(gd);\n",
       "            observer.disconnect();\n",
       "        }}\n",
       "}});\n",
       "\n",
       "// Listen for the removal of the full notebook cells\n",
       "var notebookContainer = gd.closest('#notebook-container');\n",
       "if (notebookContainer) {{\n",
       "    x.observe(notebookContainer, {childList: true});\n",
       "}}\n",
       "\n",
       "// Listen for the clearing of the current output cell\n",
       "var outputEl = gd.closest('.output');\n",
       "if (outputEl) {{\n",
       "    x.observe(outputEl, {childList: true});\n",
       "}}\n",
       "\n",
       "                        })                };                });            </script>        </div>"
      ]
     },
     "metadata": {},
     "output_type": "display_data"
    }
   ],
   "source": [
    "heatmap(pretrain_embedded_text.detach().cpu().numpy(),\n",
    "        pretrain_embedded_text.detach().cpu().numpy(),\n",
    "        xlabel='Pretrain',\n",
    "        ylabel='Pretrain',\n",
    "        title='Text Embedding Cosine Self Similarity (Pretrain)',\n",
    "        # order=get_dendrogram_order('text', pretrain=False))\n",
    ")"
   ]
  },
  {
   "cell_type": "code",
   "execution_count": 38,
   "metadata": {},
   "outputs": [
    {
     "data": {
      "image/png": "[encoded data removed]",
      "text/plain": [
       "<Figure size 3300x3300 with 2 Axes>"
      ]
     },
     "metadata": {},
     "output_type": "display_data"
    }
   ],
   "source": [
    "# Using seaborn, make a heatmap for just these 10 classes\n",
    "# First, get the class names for the selected indices\n",
    "class_names = [dataset.classes[i] for i in indices]\n",
    "\n",
    "# Next, get the embeddings for these classes\n",
    "selected_text_embeddings = pretrain_embedded_text[indices]\n",
    "\n",
    "# Then compute the cosine similarities between the embeddings\n",
    "similarity_matrix = torch.zeros((10, 10), device=DEVICE)\n",
    "\n",
    "def cosine_similarity(x, y):\n",
    "    dot_product = torch.dot(x, y)\n",
    "    norm_x = torch.linalg.norm(x)\n",
    "    norm_y = torch.linalg.norm(y)\n",
    "    return dot_product / (norm_x * norm_y)\n",
    "\n",
    "for i in range(10):\n",
    "    for j in range(10):\n",
    "        similarity_matrix[i, j] = cosine_similarity(selected_text_embeddings[i], selected_text_embeddings[j])\n",
    "\n",
    "# Next, put this into a dataframe\n",
    "df = pd.DataFrame(similarity_matrix.detach().cpu().numpy(), index=class_names, columns=class_names)\n",
    "\n",
    "# Finally plot it using sns.heatmap\n",
    "plt.figure(figsize=(10, 10), dpi=330)\n",
    "sns.heatmap(df, annot=False, cmap='viridis', cbar=True, square=True)\n",
    "plt.title('Text Embedding Cosine Similarity (Pretrain)')\n",
    "plt.show()\n"
   ]
  },
  {
   "cell_type": "markdown",
   "metadata": {},
   "source": [
    "## Audio Encoder"
   ]
  },
  {
   "cell_type": "markdown",
   "metadata": {},
   "source": [
    "### **Without** language-audio pre-training\n",
    "The CNN14 embeddings for the ESC-50 dataset are pre-computed and directly loaded in. This makes things simpler within this\n",
    "notebook because they require a separate environment to compute.\n",
    "> TODO: Add more info."
   ]
  },
  {
   "cell_type": "code",
   "execution_count": 25,
   "metadata": {},
   "outputs": [],
   "source": [
    "embeddings = pd.read_csv('/scratch/pratyaksh.g/esc50-cnn14-embeddings-44.1k.csv', index_col=0)\n",
    "embeddings['embedding'] = embeddings['embedding'].apply(lambda x: x.split('[')[1].split(']')[0].split())\n",
    "embeddings['embedding'] = embeddings['embedding'].apply(lambda x: [float(y) for y in x])"
   ]
  },
  {
   "cell_type": "code",
   "execution_count": 26,
   "metadata": {},
   "outputs": [],
   "source": [
    "classwise_embeddings = []\n",
    "\n",
    "# Take the average audio embedding for each class\n",
    "for class_idx in range(NUM_CLASSES):\n",
    "    class_embeddings = embeddings[embeddings['class_idx'] == class_idx]['embedding'].to_list()\n",
    "    class_embeddings = np.array(class_embeddings)\n",
    "    class_embeddings = class_embeddings.mean(axis=0)\n",
    "    classwise_embeddings.append(class_embeddings)\n",
    "\n",
    "no_pretrain_embedded_audios = np.array(classwise_embeddings)"
   ]
  },
  {
   "cell_type": "code",
   "execution_count": 29,
   "metadata": {},
   "outputs": [
    {
     "data": {
      "application/vnd.plotly.v1+json": {
       "config": {
        "plotlyServerURL": "https://plot.ly"
       },
       "data": [
        {
         "coloraxis": "coloraxis",
         "hovertemplate": "No Pretrain: %{x}<br>No Pretrain: %{y}<br>Cosine Similarity: %{z}<extra></extra>",
         "name": "0",
         "type": "heatmap",
         "x": [
          "church bells",
          "sea waves",
          "rain",
          "thunderstorm",
          "chainsaw",
          "helicopter",
          "airplane",
          "wind",
          "washing machine",
          "vacuum cleaner",
          "engine",
          "car horn",
          "train",
          "rooster",
          "hen",
          "crow",
          "frog",
          "insects",
          "crickets",
          "chirping birds",
          "cat",
          "pig",
          "cow",
          "sheep",
          "brushing teeth",
          "hand saw",
          "breathing",
          "snoring",
          "glass breaking",
          "sneezing",
          "coughing",
          "toilet flush",
          "pouring water",
          "water drops",
          "drinking sipping",
          "clock alarm",
          "siren",
          "keyboard typing",
          "fireworks",
          "clapping",
          "crackling fire",
          "footsteps",
          "dog",
          "crying baby",
          "door wood knock",
          "clock tick",
          "mouse click",
          "can opening",
          "laughing",
          "door wood creaks"
         ],
         "xaxis": "x",
         "y": [
          "church bells",
          "sea waves",
          "rain",
          "thunderstorm",
          "chainsaw",
          "helicopter",
          "airplane",
          "wind",
          "washing machine",
          "vacuum cleaner",
          "engine",
          "car horn",
          "train",
          "rooster",
          "hen",
          "crow",
          "frog",
          "insects",
          "crickets",
          "chirping birds",
          "cat",
          "pig",
          "cow",
          "sheep",
          "brushing teeth",
          "hand saw",
          "breathing",
          "snoring",
          "glass breaking",
          "sneezing",
          "coughing",
          "toilet flush",
          "pouring water",
          "water drops",
          "drinking sipping",
          "clock alarm",
          "siren",
          "keyboard typing",
          "fireworks",
          "clapping",
          "crackling fire",
          "footsteps",
          "dog",
          "crying baby",
          "door wood knock",
          "clock tick",
          "mouse click",
          "can opening",
          "laughing",
          "door wood creaks"
         ],
         "yaxis": "y",
         "z": [
          [
           0.9999999999999999,
           0.48272000404728865,
           0.5196783493256217,
           0.4997792540965307,
           0.4719393849958248,
           0.5355434647955473,
           0.5382433002634277,
           0.5659819720891232,
           0.5765185320018319,
           0.5343170789941667,
           0.5098952334485536,
           0.5732710862374286,
           0.5087690114349048,
           0.4526129819322701,
           0.5225211188382463,
           0.4862332133646654,
           0.46200030513953144,
           0.5076008188334232,
           0.541959620536704,
           0.5256671683850632,
           0.4036209033622697,
           0.4260078751804696,
           0.4624023564259074,
           0.47638781393442486,
           0.4556410348245594,
           0.46324216767628734,
           0.4759979602490423,
           0.48206537319474546,
           0.4392168522398552,
           0.45667709840723303,
           0.45882691957202176,
           0.48990750744068967,
           0.4601140991519395,
           0.5110385439726483,
           0.5187438587042267,
           0.4982971578713589,
           0.5420979048968093,
           0.4578959616591478,
           0.48077840761826157,
           0.5432543437908949,
           0.5312207919353821,
           0.5326931393902388,
           0.5217110593602328,
           0.464978011945013,
           0.47394283692771666,
           0.5694405529302534,
           0.535667925923358,
           0.5428423522526904,
           0.5437609826991403,
           0.5338634858920228
          ],
          [
           0.48272000404728865,
           1,
           0.781104112265459,
           0.6652804236571929,
           0.5909739067305727,
           0.7290348245972258,
           0.7400470318135832,
           0.8046601739815585,
           0.7448403598071839,
           0.7249225761036878,
           0.6774888568455876,
           0.6548049205612912,
           0.6707464585128482,
           0.4964724563993074,
           0.6020396016157291,
           0.5603197471707113,
           0.5531370536609381,
           0.6232998700350276,
           0.6484352715439436,
           0.6474111567339297,
           0.4857556222143225,
           0.5294328606019455,
           0.5412919670787847,
           0.5799618659207978,
           0.5515204480445531,
           0.5702379363232102,
           0.5914317805503339,
           0.6056246816077011,
           0.5406756541868972,
           0.5252940254004228,
           0.5322019397084418,
           0.635251797494975,
           0.622154899747955,
           0.639741623970756,
           0.6666877495036262,
           0.5578694786780319,
           0.5957402269303721,
           0.5226107131909038,
           0.5978600677584501,
           0.638985132015738,
           0.6978295205514681,
           0.650773367492862,
           0.6100147866496407,
           0.5810363697520384,
           0.5378708002269755,
           0.5712409643303471,
           0.6141590376790897,
           0.5954858999567473,
           0.6547124521203207,
           0.619269979102572
          ],
          [
           0.5196783493256217,
           0.781104112265459,
           0.9999999999999999,
           0.8014930676976249,
           0.6354082941320417,
           0.7432214470350355,
           0.7389343152556065,
           0.8082136273853124,
           0.8298382294390455,
           0.7822138899985687,
           0.7476695467264844,
           0.6955859031876834,
           0.702143723110248,
           0.5532644514235898,
           0.6509623011508466,
           0.6086382178722722,
           0.606467512854318,
           0.6763580414550882,
           0.7098577044252773,
           0.7096192445645486,
           0.5268850375028624,
           0.5610171236551017,
           0.5426141640704955,
           0.6092586078440807,
           0.5773041746101208,
           0.6112730788813185,
           0.5947268871465217,
           0.6076591103374527,
           0.584011144266691,
           0.5524617477712417,
           0.5802420669757414,
           0.6708303799577049,
           0.6593013164182749,
           0.6711661981954469,
           0.6779410340648974,
           0.6104462438589701,
           0.6304682235396527,
           0.6328739512612555,
           0.6778535925350849,
           0.739430836212952,
           0.8320920783081281,
           0.7174599936748202,
           0.6422398544139708,
           0.6113029655373058,
           0.5986736518193683,
           0.6544758002864512,
           0.6921475375019802,
           0.6578865431965275,
           0.6940829650274858,
           0.6669047872618973
          ],
          [
           0.4997792540965307,
           0.6652804236571929,
           0.8014930676976249,
           1,
           0.5547183475166138,
           0.6954558689530471,
           0.7331584226814332,
           0.7841866207360578,
           0.7460029033314352,
           0.645382365521438,
           0.6385660320158156,
           0.6267025622486296,
           0.6739556165733572,
           0.5171790602293929,
           0.6098737419479138,
           0.5863898757509526,
           0.5406835387835918,
           0.6218109263807803,
           0.6477000803918611,
           0.6506525620415265,
           0.4913652547706402,
           0.5306399048050854,
           0.5259937183168073,
           0.5572194713394306,
           0.5130566246284187,
           0.5356630599280521,
           0.6134028947781058,
           0.6219455752678501,
           0.5408796229320669,
           0.5640444764389125,
           0.5535801477748201,
           0.5836094128473164,
           0.5579513411495803,
           0.615919940807618,
           0.6450612871441919,
           0.538083674362333,
           0.5495372120058101,
           0.5261034850850042,
           0.7245443944894879,
           0.6554918541667023,
           0.7398081352975642,
           0.683412869693446,
           0.6142456129349464,
           0.5600456851984964,
           0.5962147123411531,
           0.5912641967283098,
           0.628838340539614,
           0.6122667967910572,
           0.648218491843042,
           0.6315144729802005
          ],
          [
           0.4719393849958248,
           0.5909739067305727,
           0.6354082941320417,
           0.5547183475166138,
           1.0000000000000002,
           0.7543724972856924,
           0.7161263199906519,
           0.6928684606708665,
           0.7667294831854838,
           0.7836584389446217,
           0.8301937277013421,
           0.6673256966688247,
           0.6263113487219236,
           0.5282260029748036,
           0.5827595390737138,
           0.5509297561398586,
           0.5478733965956767,
           0.6709240364447183,
           0.6215154645479896,
           0.6177699322663585,
           0.47708748041429305,
           0.5549583104964897,
           0.5577698471967872,
           0.5738747585326379,
           0.5815027605056894,
           0.6606965120547477,
           0.5467202861653103,
           0.6585544376587797,
           0.6032386253196282,
           0.5339172186792219,
           0.5523354911609877,
           0.6122213163967674,
           0.6012378898036119,
           0.5908836951087557,
           0.6417594719821513,
           0.6135456061342837,
           0.6376197678531832,
           0.5585477016338982,
           0.589196277528788,
           0.6313523616854633,
           0.700210716895484,
           0.6287168010454625,
           0.5960242203479931,
           0.5987791759300557,
           0.5777919843183746,
           0.5792798206381112,
           0.660411291061772,
           0.6483326191639044,
           0.6489989781432434,
           0.7097231987658666
          ],
          [
           0.5355434647955473,
           0.7290348245972258,
           0.7432214470350355,
           0.6954558689530471,
           0.7543724972856924,
           1,
           0.9575612185339961,
           0.9147945710606952,
           0.9182295547711508,
           0.8473009374298662,
           0.8838107764094904,
           0.7693797727140802,
           0.788816589899234,
           0.5480886855759479,
           0.6430612360506258,
           0.6544977971240798,
           0.6562464561167526,
           0.7110991968075102,
           0.772039763296691,
           0.7417504213588069,
           0.548320782896547,
           0.6084920218994515,
           0.5930281620005845,
           0.656562614772353,
           0.5971507395269956,
           0.6205479197846898,
           0.6389407689800153,
           0.6942772576883188,
           0.597543415755891,
           0.5815751092654937,
           0.5959734162283876,
           0.6495128149690347,
           0.6236282747832675,
           0.6621789129809146,
           0.6997007988312092,
           0.6545827425188445,
           0.7030141320033806,
           0.5969438623457134,
           0.6613583977511728,
           0.6973326340698699,
           0.78267797916872,
           0.6930871200032601,
           0.6682160765886668,
           0.6221886123914577,
           0.6297016418954917,
           0.6536580428417045,
           0.7086587222202491,
           0.6694086329128365,
           0.7176491280139005,
           0.7532233945016968
          ],
          [
           0.5382433002634277,
           0.7400470318135832,
           0.7389343152556065,
           0.7331584226814332,
           0.7161263199906519,
           0.9575612185339961,
           1.0000000000000002,
           0.9320155956799885,
           0.8832955796332652,
           0.8322444806668425,
           0.8080670667417765,
           0.7567399563146004,
           0.7682559093220228,
           0.5354894285639656,
           0.6330270710421018,
           0.6572042509229465,
           0.6312884117773441,
           0.7027644792065763,
           0.7482801929204909,
           0.725409882493686,
           0.5314432699933933,
           0.5906583231292868,
           0.5954520843073834,
           0.6413784903703167,
           0.5738801100676658,
           0.5920381132380044,
           0.6573393819642062,
           0.6786856488426118,
           0.5845051097497411,
           0.5788082882244779,
           0.5838728184199883,
           0.6363314761273327,
           0.6084280150690056,
           0.6535578727196089,
           0.6909930933026898,
           0.6159620481349146,
           0.6824347993208045,
           0.5607881528640715,
           0.6669464832442665,
           0.6913806316289542,
           0.7695435470234592,
           0.697630029305797,
           0.66684159006638,
           0.6104751937045897,
           0.6118670155798027,
           0.6315798416394673,
           0.6839221060952374,
           0.64365309450559,
           0.707747302845437,
           0.7122125960940616
          ],
          [
           0.5659819720891232,
           0.8046601739815585,
           0.8082136273853124,
           0.7841866207360578,
           0.6928684606708665,
           0.9147945710606952,
           0.9320155956799885,
           1,
           0.9237171096051111,
           0.8393545000324263,
           0.8168722389809803,
           0.7918063678885516,
           0.8363224185187939,
           0.5766103220615953,
           0.6711637515024749,
           0.6787391533159612,
           0.6381950599576739,
           0.7332928490523266,
           0.7968637398969214,
           0.7683832220151084,
           0.5625844253944398,
           0.5992817356753838,
           0.6022342939648386,
           0.6519716410246248,
           0.6037906355107843,
           0.6219518718853548,
           0.7009842497368548,
           0.7043474385129996,
           0.6088850517196185,
           0.6137055320325737,
           0.6237987159031033,
           0.6588531235149785,
           0.6341914035284172,
           0.6962059723809377,
           0.7228107038813122,
           0.6508895162153762,
           0.7106113080856999,
           0.6043159766559042,
           0.6801339924288679,
           0.7235248944454579,
           0.8067871874471224,
           0.732863999290399,
           0.6925979258881665,
           0.63961763343169,
           0.6480623891622277,
           0.6885490620846172,
           0.7477946821902298,
           0.6856534652786508,
           0.7542289479404797,
           0.7405112077009588
          ],
          [
           0.5765185320018319,
           0.7448403598071839,
           0.8298382294390455,
           0.7460029033314352,
           0.7667294831854838,
           0.9182295547711508,
           0.8832955796332652,
           0.9237171096051111,
           1.0000000000000002,
           0.9209564766876863,
           0.9095882263269152,
           0.8118252749858273,
           0.8545976975416401,
           0.6104943712346339,
           0.7016410220909972,
           0.6774370038512965,
           0.6731251612251129,
           0.7582082298806972,
           0.799200068320053,
           0.7570299077528823,
           0.5780719829708179,
           0.6365622883964617,
           0.6180096379893879,
           0.666745479484123,
           0.6596436232333853,
           0.7064009829912694,
           0.6792895391998832,
           0.7140006323139114,
           0.6570127352194378,
           0.632948064057817,
           0.6672291555784317,
           0.7220187653562616,
           0.6958404847083959,
           0.73928613307881,
           0.7552841263408051,
           0.7290270816901105,
           0.7403365421677495,
           0.668509334367341,
           0.686754198346302,
           0.7535664753322232,
           0.8395473415123439,
           0.7570846733012241,
           0.7002067241111224,
           0.6762373400351516,
           0.7162331149088262,
           0.7525462820175558,
           0.7940133933428137,
           0.7429908595952289,
           0.790400548580838,
           0.8133981281900241
          ],
          [
           0.5343170789941667,
           0.7249225761036878,
           0.7822138899985687,
           0.645382365521438,
           0.7836584389446217,
           0.8473009374298662,
           0.8322444806668425,
           0.8393545000324263,
           0.9209564766876863,
           0.9999999999999999,
           0.826676985961559,
           0.7435478013515446,
           0.7361896607609613,
           0.5620940535307021,
           0.6423128486353107,
           0.6294224583033131,
           0.6204827805086641,
           0.7232144481784974,
           0.7392026730701393,
           0.7032717575484762,
           0.5347961820336151,
           0.5670784746190899,
           0.5591523756488257,
           0.5969927328325793,
           0.6434440045486497,
           0.737167282504962,
           0.6258508334228052,
           0.6562063887173497,
           0.6070587361052998,
           0.5859329234653996,
           0.6076620653415888,
           0.7026984174494805,
           0.6535311576662893,
           0.671534281680003,
           0.6940985053602868,
           0.6719394885589299,
           0.7066331486902164,
           0.6028592786151433,
           0.6357396049724009,
           0.6978301569289649,
           0.754615113699004,
           0.7003323097424435,
           0.6542474708036162,
           0.6474047145482676,
           0.6402938167257155,
           0.665610735153247,
           0.718707585857996,
           0.6892321233935707,
           0.725941755329167,
           0.7374366611063284
          ],
          [
           0.5098952334485536,
           0.6774888568455876,
           0.7476695467264844,
           0.6385660320158156,
           0.8301937277013421,
           0.8838107764094904,
           0.8080670667417765,
           0.8168722389809803,
           0.9095882263269152,
           0.826676985961559,
           0.9999999999999999,
           0.8007719604866492,
           0.7591146548805672,
           0.5909936848415529,
           0.6631161997375439,
           0.6340323287667058,
           0.6369814337689251,
           0.7191649438273725,
           0.7357085875764655,
           0.7045689770369661,
           0.5476863900007976,
           0.6093530955055848,
           0.5890920970659655,
           0.6309754538890153,
           0.6155148718844071,
           0.6542482891252459,
           0.6192071156418004,
           0.6713375070694337,
           0.6552316068405181,
           0.60937735868988,
           0.6473886805749566,
           0.6590727725209965,
           0.6653046537353251,
           0.6875438657692171,
           0.7091356860222467,
           0.6923035984539914,
           0.7157797353708906,
           0.6437108254384574,
           0.6399029163124201,
           0.7256647228674077,
           0.8026521922527265,
           0.6978709615204318,
           0.6582624349306219,
           0.6325021062050068,
           0.6915051840363274,
           0.6767085340435444,
           0.7511902743323777,
           0.7218052444470506,
           0.7617205865717553,
           0.7707925304839904
          ],
          [
           0.5732710862374286,
           0.6548049205612912,
           0.6955859031876834,
           0.6267025622486296,
           0.6673256966688247,
           0.7693797727140802,
           0.7567399563146004,
           0.7918063678885516,
           0.8118252749858273,
           0.7435478013515446,
           0.8007719604866492,
           0.9999999999999999,
           0.7530642517608861,
           0.6277118592951939,
           0.6895054864271879,
           0.6577660915311252,
           0.6200617751021242,
           0.6749582376316338,
           0.706146487106419,
           0.7007013461776275,
           0.5769410060652482,
           0.5972434068593246,
           0.6210498583159795,
           0.6650199611760771,
           0.569289703651035,
           0.5953277150475179,
           0.6392093852393013,
           0.6312578649766327,
           0.6487702910241762,
           0.6452926323317303,
           0.6748802425265008,
           0.6123964254843233,
           0.6380303148095898,
           0.7056736435178204,
           0.7121174493160575,
           0.7149586596335914,
           0.7624647160342495,
           0.5783779765483849,
           0.6202658615253237,
           0.7241615867317318,
           0.7444936775817423,
           0.7042996846783092,
           0.6840212494405156,
           0.6283352864363234,
           0.691120078884143,
           0.6638414988994987,
           0.7393956348001779,
           0.7379563897577395,
           0.7659263324895756,
           0.7501018927229125
          ],
          [
           0.5087690114349048,
           0.6707464585128482,
           0.702143723110248,
           0.6739556165733572,
           0.6263113487219236,
           0.788816589899234,
           0.7682559093220228,
           0.8363224185187939,
           0.8545976975416401,
           0.7361896607609613,
           0.7591146548805672,
           0.7530642517608861,
           1,
           0.5300149012919997,
           0.6404952931610783,
           0.5742628105363982,
           0.5391067936939254,
           0.6267824445681861,
           0.668945188362468,
           0.6637076792526605,
           0.4891960848563237,
           0.5516097132217685,
           0.5494797099658705,
           0.6145623989347478,
           0.5806988312556972,
           0.5792529218347835,
           0.5837323853993487,
           0.6038346322231064,
           0.55706696345087,
           0.527858109843791,
           0.5572900436810081,
           0.5888899821071183,
           0.5672375098927755,
           0.6007837889980681,
           0.6181849269615989,
           0.5895215634957552,
           0.6525235701286257,
           0.5396013097011712,
           0.6001203234768547,
           0.6596051960841719,
           0.7092548725255311,
           0.660443168521153,
           0.6179389648255108,
           0.5697565192808053,
           0.6189661427083442,
           0.6054470267576817,
           0.6430101668276984,
           0.6005027424386923,
           0.6724459824500638,
           0.6618569161599973
          ],
          [
           0.4526129819322701,
           0.4964724563993074,
           0.5532644514235898,
           0.5171790602293929,
           0.5282260029748036,
           0.5480886855759479,
           0.5354894285639656,
           0.5766103220615953,
           0.6104943712346339,
           0.5620940535307021,
           0.5909936848415529,
           0.6277118592951939,
           0.5300149012919997,
           1,
           0.8745049407610108,
           0.6366273408352835,
           0.6063919252958182,
           0.5751692924585012,
           0.5913432739865587,
           0.657725767673503,
           0.5232747295322866,
           0.553450075020273,
           0.6157635908915741,
           0.6016423700368805,
           0.5153396355876945,
           0.5208393083503507,
           0.5251415852251078,
           0.5551038266388272,
           0.5600751264606176,
           0.5364363417073632,
           0.5873534137147322,
           0.5212637759195118,
           0.5572503039915119,
           0.5955334299395063,
           0.6103745501386467,
           0.6004890743185505,
           0.6038371923071502,
           0.5128707660142544,
           0.5166643702877742,
           0.5780986972687934,
           0.6026320362030942,
           0.5777379981771861,
           0.6109824764285121,
           0.6085289468419299,
           0.561303537945453,
           0.5424255197558888,
           0.6220953989094172,
           0.6190528918594665,
           0.6720658629033279,
           0.6158001505647123
          ],
          [
           0.5225211188382463,
           0.6020396016157291,
           0.6509623011508466,
           0.6098737419479138,
           0.5827595390737138,
           0.6430612360506258,
           0.6330270710421018,
           0.6711637515024749,
           0.7016410220909972,
           0.6423128486353107,
           0.6631161997375439,
           0.6895054864271879,
           0.6404952931610783,
           0.8745049407610108,
           1.0000000000000002,
           0.7061267103065921,
           0.7215037473780588,
           0.6794687022111073,
           0.7051353048420099,
           0.7906699153599982,
           0.5772021859552695,
           0.6637167238746662,
           0.6532411655051822,
           0.7008704022819443,
           0.6160138428649347,
           0.5904237562162348,
           0.5793073328302027,
           0.6383293825671106,
           0.5763350974953559,
           0.5771606839050836,
           0.6160010478693734,
           0.6317396932476136,
           0.6285768915748591,
           0.6524348559496401,
           0.681882978743847,
           0.6490420121544904,
           0.6548549856780141,
           0.5847912338207493,
           0.6073400348266451,
           0.6734107701379562,
           0.7005988817395785,
           0.6777242885035747,
           0.727999371072043,
           0.6780462441648925,
           0.60899503531146,
           0.6345243417687833,
           0.6762653786035833,
           0.6591073578797659,
           0.7797135549405374,
           0.7002196830988419
          ],
          [
           0.4862332133646654,
           0.5603197471707113,
           0.6086382178722722,
           0.5863898757509526,
           0.5509297561398586,
           0.6544977971240798,
           0.6572042509229465,
           0.6787391533159612,
           0.6774370038512965,
           0.6294224583033131,
           0.6340323287667058,
           0.6577660915311252,
           0.5742628105363982,
           0.6366273408352835,
           0.7061267103065921,
           1,
           0.7081664559302977,
           0.6315430347839673,
           0.6949647665366863,
           0.7680232314213444,
           0.6031297364502511,
           0.6117573731233912,
           0.524610882493616,
           0.6149284563190603,
           0.5621364140329536,
           0.5578353538393432,
           0.6823052789648277,
           0.6534217494885002,
           0.591848058321521,
           0.6319099900326612,
           0.6066692371927662,
           0.5753921558548541,
           0.593549568624868,
           0.6478559477970827,
           0.6703992571458025,
           0.6252997406510425,
           0.5653387328369169,
           0.5479165665092118,
           0.6069245665245006,
           0.6413688372918424,
           0.6701663752018464,
           0.6712958752376381,
           0.6675616122027159,
           0.639488395962182,
           0.5952428913794864,
           0.6026634378347501,
           0.6805960117396069,
           0.6958346995570326,
           0.7222838743907714,
           0.691145695889408
          ],
          [
           0.46200030513953144,
           0.5531370536609381,
           0.606467512854318,
           0.5406835387835918,
           0.5478733965956767,
           0.6562464561167526,
           0.6312884117773441,
           0.6381950599576739,
           0.6731251612251129,
           0.6204827805086641,
           0.6369814337689251,
           0.6200617751021242,
           0.5391067936939254,
           0.6063919252958182,
           0.7215037473780588,
           0.7081664559302977,
           1.0000000000000002,
           0.709169895759067,
           0.7889144880006258,
           0.7501802641148905,
           0.5569694871013069,
           0.6402489662091945,
           0.5924193402066456,
           0.6539462111290878,
           0.5681136701493371,
           0.5499552345526293,
           0.5662131408796439,
           0.6228403854564716,
           0.5313057234071388,
           0.5464570782980069,
           0.5640067897436918,
           0.5840659307670009,
           0.5915691551813804,
           0.6396295243385932,
           0.6592003887839911,
           0.6574560969833326,
           0.6353101320701747,
           0.5523769502911812,
           0.5668497175422935,
           0.6118876019405265,
           0.6341782750346684,
           0.6025086527775371,
           0.658930153968371,
           0.6231883735314243,
           0.5432466959044233,
           0.6159442531177753,
           0.6448002442965138,
           0.6260138466247478,
           0.7035686608754183,
           0.7188138230562381
          ],
          [
           0.5076008188334232,
           0.6232998700350276,
           0.6763580414550882,
           0.6218109263807803,
           0.6709240364447183,
           0.7110991968075102,
           0.7027644792065763,
           0.7332928490523266,
           0.7582082298806972,
           0.7232144481784974,
           0.7191649438273725,
           0.6749582376316338,
           0.6267824445681861,
           0.5751692924585012,
           0.6794687022111073,
           0.6315430347839673,
           0.709169895759067,
           0.9999999999999999,
           0.8190665201530901,
           0.7516287222497555,
           0.5412802908144086,
           0.5667941525556486,
           0.621242749387697,
           0.6299413571141611,
           0.6054060210495983,
           0.6286713426613773,
           0.5933593942084506,
           0.6438084005914638,
           0.5903592631140159,
           0.5829273338257045,
           0.5815652209379686,
           0.6084304651100846,
           0.6142662124614954,
           0.655349421593844,
           0.677684581582244,
           0.5898204599410335,
           0.6381515315545849,
           0.5974115054466185,
           0.6447595845417041,
           0.6730508238478242,
           0.7361838943711277,
           0.6965528784427849,
           0.6404592480894509,
           0.6356687866286501,
           0.6257647488185623,
           0.6598126655924837,
           0.7126748224656753,
           0.6833108587710381,
           0.7234873444362503,
           0.7406953588955651
          ],
          [
           0.541959620536704,
           0.6484352715439436,
           0.7098577044252773,
           0.6477000803918611,
           0.6215154645479896,
           0.772039763296691,
           0.7482801929204909,
           0.7968637398969214,
           0.799200068320053,
           0.7392026730701393,
           0.7357085875764655,
           0.706146487106419,
           0.668945188362468,
           0.5913432739865587,
           0.7051353048420099,
           0.6949647665366863,
           0.7889144880006258,
           0.8190665201530901,
           0.9999999999999999,
           0.8829664482526907,
           0.5649997896141848,
           0.6122921321395913,
           0.6029100720667235,
           0.6287952754687864,
           0.6252283366908402,
           0.6183091623972645,
           0.6805907524067064,
           0.7045516685525947,
           0.6006095617371188,
           0.6099451308072342,
           0.6102502426881036,
           0.6069847445046656,
           0.6242373858908445,
           0.7040123158256335,
           0.7051434910823509,
           0.6760434829083511,
           0.6637214012878673,
           0.6228277419435222,
           0.6572482086650708,
           0.6882009243100362,
           0.772480913164081,
           0.7192057553142813,
           0.6801380842770592,
           0.632382610866757,
           0.6307066515862801,
           0.7242955765042528,
           0.7645091130317834,
           0.7031092856826048,
           0.7426420183548695,
           0.7363074983529276
          ],
          [
           0.5256671683850632,
           0.6474111567339297,
           0.7096192445645486,
           0.6506525620415265,
           0.6177699322663585,
           0.7417504213588069,
           0.725409882493686,
           0.7683832220151084,
           0.7570299077528823,
           0.7032717575484762,
           0.7045689770369661,
           0.7007013461776275,
           0.6637076792526605,
           0.657725767673503,
           0.7906699153599982,
           0.7680232314213444,
           0.7501802641148905,
           0.7516287222497555,
           0.8829664482526907,
           1.0000000000000002,
           0.5999749652950087,
           0.6226464524603438,
           0.5945044922209729,
           0.6514186863790179,
           0.608182224521107,
           0.6002499861037761,
           0.6556676379862578,
           0.6884165697631257,
           0.6089214539521043,
           0.6170595870414647,
           0.6008644406557743,
           0.6549376254395424,
           0.6682457885551719,
           0.7189554293842737,
           0.7153241451652356,
           0.6549951002695967,
           0.6563472305194982,
           0.6249744992766841,
           0.6541586645847972,
           0.688957213410598,
           0.7626529046097547,
           0.7199804862077569,
           0.7260252983000544,
           0.650255285957932,
           0.6192720753032541,
           0.6801588571310259,
           0.7382537149189222,
           0.699035434793766,
           0.7557806071364401,
           0.7417931095957621
          ],
          [
           0.4036209033622697,
           0.4857556222143225,
           0.5268850375028624,
           0.4913652547706402,
           0.47708748041429305,
           0.548320782896547,
           0.5314432699933933,
           0.5625844253944398,
           0.5780719829708179,
           0.5347961820336151,
           0.5476863900007976,
           0.5769410060652482,
           0.4891960848563237,
           0.5232747295322866,
           0.5772021859552695,
           0.6031297364502511,
           0.5569694871013069,
           0.5412802908144086,
           0.5649997896141848,
           0.5999749652950087,
           1,
           0.6045800776333908,
           0.4799098504115154,
           0.5795054602317652,
           0.4749051111738048,
           0.45237787208143226,
           0.5399465073692753,
           0.6320195639393053,
           0.5454220648218421,
           0.6120435899979088,
           0.6138570320111341,
           0.5328655195696559,
           0.5559762226976585,
           0.6051059718792148,
           0.6582779648661959,
           0.5314872191972243,
           0.5060577267761268,
           0.5054740153321053,
           0.4987270389922886,
           0.5744472333383508,
           0.5658420821671135,
           0.5914532982271267,
           0.7061848479418896,
           0.6921968319897082,
           0.561876232901095,
           0.5502324844573401,
           0.6295608328776855,
           0.6037293432538136,
           0.6815192799036729,
           0.657492578706374
          ],
          [
           0.4260078751804696,
           0.5294328606019455,
           0.5610171236551017,
           0.5306399048050854,
           0.5549583104964897,
           0.6084920218994515,
           0.5906583231292868,
           0.5992817356753838,
           0.6365622883964617,
           0.5670784746190899,
           0.6093530955055848,
           0.5972434068593246,
           0.5516097132217685,
           0.553450075020273,
           0.6637167238746662,
           0.6117573731233912,
           0.6402489662091945,
           0.5667941525556486,
           0.6122921321395913,
           0.6226464524603438,
           0.6045800776333908,
           1,
           0.6525321215163632,
           0.6896824844033418,
           0.6059858321191679,
           0.5981426466224299,
           0.6139650348052652,
           0.7212732999430408,
           0.5639651080561305,
           0.6104605686225967,
           0.6410496291297386,
           0.622739115736076,
           0.5789792092803169,
           0.6045906745575906,
           0.7124758528741605,
           0.5890364812543396,
           0.5212795506131116,
           0.5032813458350921,
           0.528468883491282,
           0.5966738880593112,
           0.6198377813520001,
           0.636756282413202,
           0.715799436750276,
           0.6247077536928749,
           0.5572649011421362,
           0.568536216431379,
           0.6085299657928573,
           0.5911896441791056,
           0.691568528741959,
           0.6777521899739946
          ],
          [
           0.4624023564259074,
           0.5412919670787847,
           0.5426141640704955,
           0.5259937183168073,
           0.5577698471967872,
           0.5930281620005845,
           0.5954520843073834,
           0.6022342939648386,
           0.6180096379893879,
           0.5591523756488257,
           0.5890920970659655,
           0.6210498583159795,
           0.5494797099658705,
           0.6157635908915741,
           0.6532411655051822,
           0.524610882493616,
           0.5924193402066456,
           0.621242749387697,
           0.6029100720667235,
           0.5945044922209729,
           0.4799098504115154,
           0.6525321215163632,
           0.9999999999999999,
           0.7472062394194138,
           0.47820075403817913,
           0.4826264270532332,
           0.5125939842710279,
           0.5870228585844548,
           0.5138698650834094,
           0.4974313652444504,
           0.5151710443509656,
           0.5064866006939364,
           0.5134199567282464,
           0.5442943061405708,
           0.5895365300072946,
           0.521160830370184,
           0.6036113736108025,
           0.46917490956859503,
           0.490489287187107,
           0.5491906255466936,
           0.5874632491882844,
           0.55905830408974,
           0.5632842110206833,
           0.5575637665180733,
           0.5120317778779641,
           0.5075140605102134,
           0.554404181647214,
           0.547282765262529,
           0.5965681058588626,
           0.6212184596608217
          ],
          [
           0.47638781393442486,
           0.5799618659207978,
           0.6092586078440807,
           0.5572194713394306,
           0.5738747585326379,
           0.656562614772353,
           0.6413784903703167,
           0.6519716410246248,
           0.666745479484123,
           0.5969927328325793,
           0.6309754538890153,
           0.6650199611760771,
           0.6145623989347478,
           0.6016423700368805,
           0.7008704022819443,
           0.6149284563190603,
           0.6539462111290878,
           0.6299413571141611,
           0.6287952754687864,
           0.6514186863790179,
           0.5795054602317652,
           0.6896824844033418,
           0.7472062394194138,
           1.0000000000000002,
           0.554255514704169,
           0.5312666131177715,
           0.554459336664394,
           0.6304267596331229,
           0.5505769757086728,
           0.5511019303836465,
           0.5653060310721989,
           0.583625836624515,
           0.5704477991848248,
           0.5887318280197921,
           0.6435237337941994,
           0.5802154733851315,
           0.6143092387779693,
           0.5314991008800161,
           0.5472616690450129,
           0.6068473328008749,
           0.6553696113697641,
           0.6268909036153815,
           0.6319763063783065,
           0.6510104599381028,
           0.5372106373063702,
           0.5482096592986733,
           0.6001030119718246,
           0.5845244458249405,
           0.6757299585081967,
           0.6844167467135135
          ],
          [
           0.4556410348245594,
           0.5515204480445531,
           0.5773041746101208,
           0.5130566246284187,
           0.5815027605056894,
           0.5971507395269956,
           0.5738801100676658,
           0.6037906355107843,
           0.6596436232333853,
           0.6434440045486497,
           0.6155148718844071,
           0.569289703651035,
           0.5806988312556972,
           0.5153396355876945,
           0.6160138428649347,
           0.5621364140329536,
           0.5681136701493371,
           0.6054060210495983,
           0.6252283366908402,
           0.608182224521107,
           0.4749051111738048,
           0.6059858321191679,
           0.47820075403817913,
           0.554255514704169,
           1.0000000000000002,
           0.8785199582092579,
           0.5874395686880377,
           0.6157051722344192,
           0.5520977101332091,
           0.5407441656766152,
           0.5350272840766687,
           0.6207321698631266,
           0.6112111770612256,
           0.6141542506638156,
           0.6583339978751707,
           0.5793490986828091,
           0.5430500978260878,
           0.5432617272165127,
           0.5399652455533774,
           0.5957322786654022,
           0.629596326512328,
           0.6266191548177984,
           0.6302594596187174,
           0.5956006081247817,
           0.5613845406444155,
           0.5889493369635816,
           0.6362612594903382,
           0.6306480042185186,
           0.6771767144049149,
           0.636021487199092
          ],
          [
           0.46324216767628734,
           0.5702379363232102,
           0.6112730788813185,
           0.5356630599280521,
           0.6606965120547477,
           0.6205479197846898,
           0.5920381132380044,
           0.6219518718853548,
           0.7064009829912694,
           0.737167282504962,
           0.6542482891252459,
           0.5953277150475179,
           0.5792529218347835,
           0.5208393083503507,
           0.5904237562162348,
           0.5578353538393432,
           0.5499552345526293,
           0.6286713426613773,
           0.6183091623972645,
           0.6002499861037761,
           0.45237787208143226,
           0.5981426466224299,
           0.4826264270532332,
           0.5312666131177715,
           0.8785199582092579,
           0.9999999999999999,
           0.5981629481681026,
           0.6104848996824688,
           0.5515538072694186,
           0.5533617419921597,
           0.5510180522327022,
           0.6510901498138051,
           0.5866702827359018,
           0.5902331514528097,
           0.6331002387049672,
           0.5788884221743105,
           0.5471148848543735,
           0.5193319862088133,
           0.5443415097975869,
           0.6013866303848358,
           0.6306936914068173,
           0.6280599735178962,
           0.5959295090705896,
           0.5761334909165524,
           0.5999061802434079,
           0.6006774448658418,
           0.6342578900237928,
           0.6326690171024272,
           0.6563733460111171,
           0.6584894721664966
          ],
          [
           0.4759979602490423,
           0.5914317805503339,
           0.5947268871465217,
           0.6134028947781058,
           0.5467202861653103,
           0.6389407689800153,
           0.6573393819642062,
           0.7009842497368548,
           0.6792895391998832,
           0.6258508334228052,
           0.6192071156418004,
           0.6392093852393013,
           0.5837323853993487,
           0.5251415852251078,
           0.5793073328302027,
           0.6823052789648277,
           0.5662131408796439,
           0.5933593942084506,
           0.6805907524067064,
           0.6556676379862578,
           0.5399465073692753,
           0.6139650348052652,
           0.5125939842710279,
           0.554459336664394,
           0.5874395686880377,
           0.5981629481681026,
           1,
           0.8721170752775125,
           0.6073818356276597,
           0.8081953271566451,
           0.6959875714330841,
           0.595518824556004,
           0.6013911361226472,
           0.6898349230035118,
           0.7541841568141445,
           0.6021822387520043,
           0.5419746149772063,
           0.5630707726110491,
           0.613254386198021,
           0.6658760755973177,
           0.6600800687720348,
           0.7221676784692549,
           0.6542431044659626,
           0.6566264332028776,
           0.6522539977198275,
           0.6326502566266518,
           0.7112338065925782,
           0.6878065086842523,
           0.7840451245844255,
           0.6884250596594629
          ],
          [
           0.48206537319474546,
           0.6056246816077011,
           0.6076591103374527,
           0.6219455752678501,
           0.6585544376587797,
           0.6942772576883188,
           0.6786856488426118,
           0.7043474385129996,
           0.7140006323139114,
           0.6562063887173497,
           0.6713375070694337,
           0.6312578649766327,
           0.6038346322231064,
           0.5551038266388272,
           0.6383293825671106,
           0.6534217494885002,
           0.6228403854564716,
           0.6438084005914638,
           0.7045516685525947,
           0.6884165697631257,
           0.6320195639393053,
           0.7212732999430408,
           0.5870228585844548,
           0.6304267596331229,
           0.6157051722344192,
           0.6104848996824688,
           0.8721170752775125,
           1,
           0.6052519063256385,
           0.7441778990745468,
           0.6889544461862911,
           0.658544817753319,
           0.6393958012709686,
           0.6839595879058176,
           0.7935923745804372,
           0.6557513499796691,
           0.5614671169652111,
           0.595772494060384,
           0.6213880945620365,
           0.6707683661018481,
           0.6770712754624226,
           0.7106621245713369,
           0.7256736380978301,
           0.7323271909051814,
           0.6237890240254906,
           0.6565425408466756,
           0.7269538112151303,
           0.6787316719987734,
           0.7953821473912335,
           0.7614413837678123
          ],
          [
           0.4392168522398552,
           0.5406756541868972,
           0.584011144266691,
           0.5408796229320669,
           0.6032386253196282,
           0.597543415755891,
           0.5845051097497411,
           0.6088850517196185,
           0.6570127352194378,
           0.6070587361052998,
           0.6552316068405181,
           0.6487702910241762,
           0.55706696345087,
           0.5600751264606176,
           0.5763350974953559,
           0.591848058321521,
           0.5313057234071388,
           0.5903592631140159,
           0.6006095617371188,
           0.6089214539521043,
           0.5454220648218421,
           0.5639651080561305,
           0.5138698650834094,
           0.5505769757086728,
           0.5520977101332091,
           0.5515538072694186,
           0.6073818356276597,
           0.6052519063256385,
           1,
           0.686012258275541,
           0.7271172532578928,
           0.5701004256259524,
           0.6625721482309257,
           0.7128025602839216,
           0.7322707490307376,
           0.653581080712025,
           0.527953902067423,
           0.5624272155871457,
           0.6102166105136124,
           0.6561369683704789,
           0.7083864039798136,
           0.7138501707593995,
           0.6226739296164336,
           0.6021795814633197,
           0.6920127919625586,
           0.6060687844905862,
           0.7074021687861628,
           0.7591959752270284,
           0.7055637154492872,
           0.6828845779010028
          ],
          [
           0.45667709840723303,
           0.5252940254004228,
           0.5524617477712417,
           0.5640444764389125,
           0.5339172186792219,
           0.5815751092654937,
           0.5788082882244779,
           0.6137055320325737,
           0.632948064057817,
           0.5859329234653996,
           0.60937735868988,
           0.6452926323317303,
           0.527858109843791,
           0.5364363417073632,
           0.5771606839050836,
           0.6319099900326612,
           0.5464570782980069,
           0.5829273338257045,
           0.6099451308072342,
           0.6170595870414647,
           0.6120435899979088,
           0.6104605686225967,
           0.4974313652444504,
           0.5511019303836465,
           0.5407441656766152,
           0.5533617419921597,
           0.8081953271566451,
           0.7441778990745468,
           0.686012258275541,
           1,
           0.880750707446226,
           0.5935447421382852,
           0.6380764630736074,
           0.7486467204365672,
           0.8026819736477647,
           0.5932888554000967,
           0.5005701139178707,
           0.556709612164908,
           0.5792634176142188,
           0.6417083414720591,
           0.6380675932579738,
           0.7210468153266522,
           0.685994977599129,
           0.6996978732534721,
           0.6712879300655827,
           0.6315693530516175,
           0.7295324708702012,
           0.792116934668684,
           0.8121269833219692,
           0.6886701135927478
          ],
          [
           0.45882691957202176,
           0.5322019397084418,
           0.5802420669757414,
           0.5535801477748201,
           0.5523354911609877,
           0.5959734162283876,
           0.5838728184199883,
           0.6237987159031033,
           0.6672291555784317,
           0.6076620653415888,
           0.6473886805749566,
           0.6748802425265008,
           0.5572900436810081,
           0.5873534137147322,
           0.6160010478693734,
           0.6066692371927662,
           0.5640067897436918,
           0.5815652209379686,
           0.6102502426881036,
           0.6008644406557743,
           0.6138570320111341,
           0.6410496291297386,
           0.5151710443509656,
           0.5653060310721989,
           0.5350272840766687,
           0.5510180522327022,
           0.6959875714330841,
           0.6889544461862911,
           0.7271172532578928,
           0.880750707446226,
           1.0000000000000002,
           0.60218736181497,
           0.6478854931603774,
           0.7542915614154061,
           0.7890727028856624,
           0.6548361845164251,
           0.5437906618329076,
           0.5642928930916054,
           0.5561951930000931,
           0.651210325895555,
           0.6463063302100515,
           0.6756502041517843,
           0.676081411416678,
           0.7203000236655306,
           0.692248095526751,
           0.6474815047289337,
           0.7429722643195827,
           0.7631523184361112,
           0.8220272075356139,
           0.6971431535763994
          ],
          [
           0.48990750744068967,
           0.635251797494975,
           0.6708303799577049,
           0.5836094128473164,
           0.6122213163967674,
           0.6495128149690347,
           0.6363314761273327,
           0.6588531235149785,
           0.7220187653562616,
           0.7026984174494805,
           0.6590727725209965,
           0.6123964254843233,
           0.5888899821071183,
           0.5212637759195118,
           0.6317396932476136,
           0.5753921558548541,
           0.5840659307670009,
           0.6084304651100846,
           0.6069847445046656,
           0.6549376254395424,
           0.5328655195696559,
           0.622739115736076,
           0.5064866006939364,
           0.583625836624515,
           0.6207321698631266,
           0.6510901498138051,
           0.595518824556004,
           0.658544817753319,
           0.5701004256259524,
           0.5935447421382852,
           0.60218736181497,
           1,
           0.850187196765204,
           0.7436536129405715,
           0.7764827418180942,
           0.6140172304616971,
           0.5746086664182077,
           0.5553195477943561,
           0.5839260468757599,
           0.6462369417141705,
           0.6531138012731789,
           0.6494536146135543,
           0.6546836466505878,
           0.6289677743488642,
           0.5739293469904443,
           0.60425457532293,
           0.6562865317646128,
           0.6507573087284146,
           0.7016183634909133,
           0.6761003406104852
          ],
          [
           0.4601140991519395,
           0.622154899747955,
           0.6593013164182749,
           0.5579513411495803,
           0.6012378898036119,
           0.6236282747832675,
           0.6084280150690056,
           0.6341914035284172,
           0.6958404847083959,
           0.6535311576662893,
           0.6653046537353251,
           0.6380303148095898,
           0.5672375098927755,
           0.5572503039915119,
           0.6285768915748591,
           0.593549568624868,
           0.5915691551813804,
           0.6142662124614954,
           0.6242373858908445,
           0.6682457885551719,
           0.5559762226976585,
           0.5789792092803169,
           0.5134199567282464,
           0.5704477991848248,
           0.6112111770612256,
           0.5866702827359018,
           0.6013911361226472,
           0.6393958012709686,
           0.6625721482309257,
           0.6380764630736074,
           0.6478854931603774,
           0.850187196765204,
           0.9999999999999998,
           0.8855446258641038,
           0.8633050358311065,
           0.6790921195385712,
           0.5958942692593584,
           0.6023164929915982,
           0.6079727620492075,
           0.6613710302172411,
           0.6944720043547834,
           0.6910376705360838,
           0.6551656740757045,
           0.6743121981862825,
           0.6577703757240428,
           0.638444507117431,
           0.7191294151668686,
           0.7303758563494871,
           0.7345364433474817,
           0.7040964289448439
          ],
          [
           0.5110385439726483,
           0.639741623970756,
           0.6711661981954469,
           0.615919940807618,
           0.5908836951087557,
           0.6621789129809146,
           0.6535578727196089,
           0.6962059723809377,
           0.73928613307881,
           0.671534281680003,
           0.6875438657692171,
           0.7056736435178204,
           0.6007837889980681,
           0.5955334299395063,
           0.6524348559496401,
           0.6478559477970827,
           0.6396295243385932,
           0.655349421593844,
           0.7040123158256335,
           0.7189554293842737,
           0.6051059718792148,
           0.6045906745575906,
           0.5442943061405708,
           0.5887318280197921,
           0.6141542506638156,
           0.5902331514528097,
           0.6898349230035118,
           0.6839595879058176,
           0.7128025602839216,
           0.7486467204365672,
           0.7542915614154061,
           0.7436536129405715,
           0.8855446258641038,
           1,
           0.9396537643624011,
           0.709992266036437,
           0.6219558570896369,
           0.6606282664228388,
           0.6491639997627531,
           0.7239427767631147,
           0.7548315938961463,
           0.769133710111441,
           0.7107097611962067,
           0.6819160364157516,
           0.7772233884216355,
           0.7607380715094967,
           0.8516181309470752,
           0.8399577192845717,
           0.798963312376958,
           0.7796560293819194
          ],
          [
           0.5187438587042267,
           0.6666877495036262,
           0.6779410340648974,
           0.6450612871441919,
           0.6417594719821513,
           0.6997007988312092,
           0.6909930933026898,
           0.7228107038813122,
           0.7552841263408051,
           0.6940985053602868,
           0.7091356860222467,
           0.7121174493160575,
           0.6181849269615989,
           0.6103745501386467,
           0.681882978743847,
           0.6703992571458025,
           0.6592003887839911,
           0.677684581582244,
           0.7051434910823509,
           0.7153241451652356,
           0.6582779648661959,
           0.7124758528741605,
           0.5895365300072946,
           0.6435237337941994,
           0.6583339978751707,
           0.6331002387049672,
           0.7541841568141445,
           0.7935923745804372,
           0.7322707490307376,
           0.8026819736477647,
           0.7890727028856624,
           0.7764827418180942,
           0.8633050358311065,
           0.9396537643624011,
           1,
           0.6995226236416777,
           0.6152008258565708,
           0.6717776095228237,
           0.6820303852175281,
           0.742377836544179,
           0.7804020396381386,
           0.8165055462146593,
           0.7566308502809793,
           0.7377921710372959,
           0.7579643903037442,
           0.7348822254529532,
           0.8439744036219552,
           0.8250071332743794,
           0.8478853539702216,
           0.8111214999856021
          ],
          [
           0.4982971578713589,
           0.5578694786780319,
           0.6104462438589701,
           0.538083674362333,
           0.6135456061342837,
           0.6545827425188445,
           0.6159620481349146,
           0.6508895162153762,
           0.7290270816901105,
           0.6719394885589299,
           0.6923035984539914,
           0.7149586596335914,
           0.5895215634957552,
           0.6004890743185505,
           0.6490420121544904,
           0.6252997406510425,
           0.6574560969833326,
           0.5898204599410335,
           0.6760434829083511,
           0.6549951002695967,
           0.5314872191972243,
           0.5890364812543396,
           0.521160830370184,
           0.5802154733851315,
           0.5793490986828091,
           0.5788884221743105,
           0.6021822387520043,
           0.6557513499796691,
           0.653581080712025,
           0.5932888554000967,
           0.6548361845164251,
           0.6140172304616971,
           0.6790921195385712,
           0.709992266036437,
           0.6995226236416777,
           1,
           0.6878052826519868,
           0.6080972527677041,
           0.5951728973283101,
           0.6622886920370955,
           0.6813120875231496,
           0.6628212481287608,
           0.6383446468455525,
           0.6624667283639482,
           0.6463248015887904,
           0.7201932667428921,
           0.7358215220519326,
           0.717960966683771,
           0.7406322609710367,
           0.7725674009606528
          ],
          [
           0.5420979048968093,
           0.5957402269303721,
           0.6304682235396527,
           0.5495372120058101,
           0.6376197678531832,
           0.7030141320033806,
           0.6824347993208045,
           0.7106113080856999,
           0.7403365421677495,
           0.7066331486902164,
           0.7157797353708906,
           0.7624647160342495,
           0.6525235701286257,
           0.6038371923071502,
           0.6548549856780141,
           0.5653387328369169,
           0.6353101320701747,
           0.6381515315545849,
           0.6637214012878673,
           0.6563472305194982,
           0.5060577267761268,
           0.5212795506131116,
           0.6036113736108025,
           0.6143092387779693,
           0.5430500978260878,
           0.5471148848543735,
           0.5419746149772063,
           0.5614671169652111,
           0.527953902067423,
           0.5005701139178707,
           0.5437906618329076,
           0.5746086664182077,
           0.5958942692593584,
           0.6219558570896369,
           0.6152008258565708,
           0.6878052826519868,
           1,
           0.528119656039408,
           0.5641246387702096,
           0.6346199357965413,
           0.6538438859210111,
           0.5999271372088669,
           0.6133473564676009,
           0.6036018787373574,
           0.5722142891636534,
           0.5900413160562592,
           0.6258034089429375,
           0.6121920738916677,
           0.6600925734675345,
           0.6962955984426433
          ],
          [
           0.4578959616591478,
           0.5226107131909038,
           0.6328739512612555,
           0.5261034850850042,
           0.5585477016338982,
           0.5969438623457134,
           0.5607881528640715,
           0.6043159766559042,
           0.668509334367341,
           0.6028592786151433,
           0.6437108254384574,
           0.5783779765483849,
           0.5396013097011712,
           0.5128707660142544,
           0.5847912338207493,
           0.5479165665092118,
           0.5523769502911812,
           0.5974115054466185,
           0.6228277419435222,
           0.6249744992766841,
           0.5054740153321053,
           0.5032813458350921,
           0.46917490956859503,
           0.5314991008800161,
           0.5432617272165127,
           0.5193319862088133,
           0.5630707726110491,
           0.595772494060384,
           0.5624272155871457,
           0.556709612164908,
           0.5642928930916054,
           0.5553195477943561,
           0.6023164929915982,
           0.6606282664228388,
           0.6717776095228237,
           0.6080972527677041,
           0.528119656039408,
           0.9999999999999999,
           0.5712524432999542,
           0.6813209636810746,
           0.7288438111865495,
           0.6734024996421992,
           0.5889176483552734,
           0.58245368012763,
           0.6410803216370309,
           0.6943469183176739,
           0.8237730414028095,
           0.6824565227227603,
           0.6843010340888923,
           0.7181927546828241
          ],
          [
           0.48077840761826157,
           0.5978600677584501,
           0.6778535925350849,
           0.7245443944894879,
           0.589196277528788,
           0.6613583977511728,
           0.6669464832442665,
           0.6801339924288679,
           0.686754198346302,
           0.6357396049724009,
           0.6399029163124201,
           0.6202658615253237,
           0.6001203234768547,
           0.5166643702877742,
           0.6073400348266451,
           0.6069245665245006,
           0.5668497175422935,
           0.6447595845417041,
           0.6572482086650708,
           0.6541586645847972,
           0.4987270389922886,
           0.528468883491282,
           0.490489287187107,
           0.5472616690450129,
           0.5399652455533774,
           0.5443415097975869,
           0.613254386198021,
           0.6213880945620365,
           0.6102166105136124,
           0.5792634176142188,
           0.5561951930000931,
           0.5839260468757599,
           0.6079727620492075,
           0.6491639997627531,
           0.6820303852175281,
           0.5951728973283101,
           0.5641246387702096,
           0.5712524432999542,
           1,
           0.7790454389656152,
           0.7797907689401778,
           0.7897379666002887,
           0.6093732505611467,
           0.5955315041334812,
           0.6636907546862519,
           0.610800053603793,
           0.672112706396421,
           0.6897320482207759,
           0.6763140407174635,
           0.6888870587052995
          ],
          [
           0.5432543437908949,
           0.638985132015738,
           0.739430836212952,
           0.6554918541667023,
           0.6313523616854633,
           0.6973326340698699,
           0.6913806316289542,
           0.7235248944454579,
           0.7535664753322232,
           0.6978301569289649,
           0.7256647228674077,
           0.7241615867317318,
           0.6596051960841719,
           0.5780986972687934,
           0.6734107701379562,
           0.6413688372918424,
           0.6118876019405265,
           0.6730508238478242,
           0.6882009243100362,
           0.688957213410598,
           0.5744472333383508,
           0.5966738880593112,
           0.5491906255466936,
           0.6068473328008749,
           0.5957322786654022,
           0.6013866303848358,
           0.6658760755973177,
           0.6707683661018481,
           0.6561369683704789,
           0.6417083414720591,
           0.651210325895555,
           0.6462369417141705,
           0.6613710302172411,
           0.7239427767631147,
           0.742377836544179,
           0.6622886920370955,
           0.6346199357965413,
           0.6813209636810746,
           0.7790454389656152,
           1.0000000000000002,
           0.8023984376528189,
           0.8349990793929759,
           0.7032600348351846,
           0.6601463570262158,
           0.7497823994270514,
           0.69290398584804,
           0.762966199781916,
           0.771012400395842,
           0.8029994610159458,
           0.7426115731357998
          ],
          [
           0.5312207919353821,
           0.6978295205514681,
           0.8320920783081281,
           0.7398081352975642,
           0.700210716895484,
           0.78267797916872,
           0.7695435470234592,
           0.8067871874471224,
           0.8395473415123439,
           0.754615113699004,
           0.8026521922527265,
           0.7444936775817423,
           0.7092548725255311,
           0.6026320362030942,
           0.7005988817395785,
           0.6701663752018464,
           0.6341782750346684,
           0.7361838943711277,
           0.772480913164081,
           0.7626529046097547,
           0.5658420821671135,
           0.6198377813520001,
           0.5874632491882844,
           0.6553696113697641,
           0.629596326512328,
           0.6306936914068173,
           0.6600800687720348,
           0.6770712754624226,
           0.7083864039798136,
           0.6380675932579738,
           0.6463063302100515,
           0.6531138012731789,
           0.6944720043547834,
           0.7548315938961463,
           0.7804020396381386,
           0.6813120875231496,
           0.6538438859210111,
           0.7288438111865495,
           0.7797907689401778,
           0.8023984376528189,
           0.9999999999999999,
           0.8784731766422068,
           0.6876207825916493,
           0.6382205827986797,
           0.7109776573844064,
           0.7474785541713735,
           0.8206029965994865,
           0.7920642420420088,
           0.7682227356943478,
           0.758462769041382
          ],
          [
           0.5326931393902388,
           0.650773367492862,
           0.7174599936748202,
           0.683412869693446,
           0.6287168010454625,
           0.6930871200032601,
           0.697630029305797,
           0.732863999290399,
           0.7570846733012241,
           0.7003323097424435,
           0.6978709615204318,
           0.7042996846783092,
           0.660443168521153,
           0.5777379981771861,
           0.6777242885035747,
           0.6712958752376381,
           0.6025086527775371,
           0.6965528784427849,
           0.7192057553142813,
           0.7199804862077569,
           0.5914532982271267,
           0.636756282413202,
           0.55905830408974,
           0.6268909036153815,
           0.6266191548177984,
           0.6280599735178962,
           0.7221676784692549,
           0.7106621245713369,
           0.7138501707593995,
           0.7210468153266522,
           0.6756502041517843,
           0.6494536146135543,
           0.6910376705360838,
           0.769133710111441,
           0.8165055462146593,
           0.6628212481287608,
           0.5999271372088669,
           0.6734024996421992,
           0.7897379666002887,
           0.8349990793929759,
           0.8784731766422068,
           1.0000000000000002,
           0.725805384418172,
           0.667732250408247,
           0.7941405473302181,
           0.7189438607247045,
           0.7936714062242065,
           0.7853232316714995,
           0.788310358770445,
           0.7695727063955449
          ],
          [
           0.5217110593602328,
           0.6100147866496407,
           0.6422398544139708,
           0.6142456129349464,
           0.5960242203479931,
           0.6682160765886668,
           0.66684159006638,
           0.6925979258881665,
           0.7002067241111224,
           0.6542474708036162,
           0.6582624349306219,
           0.6840212494405156,
           0.6179389648255108,
           0.6109824764285121,
           0.727999371072043,
           0.6675616122027159,
           0.658930153968371,
           0.6404592480894509,
           0.6801380842770592,
           0.7260252983000544,
           0.7061848479418896,
           0.715799436750276,
           0.5632842110206833,
           0.6319763063783065,
           0.6302594596187174,
           0.5959295090705896,
           0.6542431044659626,
           0.7256736380978301,
           0.6226739296164336,
           0.685994977599129,
           0.676081411416678,
           0.6546836466505878,
           0.6551656740757045,
           0.7107097611962067,
           0.7566308502809793,
           0.6383446468455525,
           0.6133473564676009,
           0.5889176483552734,
           0.6093732505611467,
           0.7032600348351846,
           0.6876207825916493,
           0.725805384418172,
           1.0000000000000002,
           0.6909244150408699,
           0.6505918677165421,
           0.6539461510765046,
           0.709400285806178,
           0.7110390068449959,
           0.7845816422096418,
           0.7168926824402899
          ],
          [
           0.464978011945013,
           0.5810363697520384,
           0.6113029655373058,
           0.5600456851984964,
           0.5987791759300557,
           0.6221886123914577,
           0.6104751937045897,
           0.63961763343169,
           0.6762373400351516,
           0.6474047145482676,
           0.6325021062050068,
           0.6283352864363234,
           0.5697565192808053,
           0.6085289468419299,
           0.6780462441648925,
           0.639488395962182,
           0.6231883735314243,
           0.6356687866286501,
           0.632382610866757,
           0.650255285957932,
           0.6921968319897082,
           0.6247077536928749,
           0.5575637665180733,
           0.6510104599381028,
           0.5956006081247817,
           0.5761334909165524,
           0.6566264332028776,
           0.7323271909051814,
           0.6021795814633197,
           0.6996978732534721,
           0.7203000236655306,
           0.6289677743488642,
           0.6743121981862825,
           0.6819160364157516,
           0.7377921710372959,
           0.6624667283639482,
           0.6036018787373574,
           0.58245368012763,
           0.5955315041334812,
           0.6601463570262158,
           0.6382205827986797,
           0.667732250408247,
           0.6909244150408699,
           1.0000000000000002,
           0.6051292973742735,
           0.6093839794735373,
           0.6852079170949917,
           0.6643630801227798,
           0.8485900456988293,
           0.7522701140029964
          ],
          [
           0.47394283692771666,
           0.5378708002269755,
           0.5986736518193683,
           0.5962147123411531,
           0.5777919843183746,
           0.6297016418954917,
           0.6118670155798027,
           0.6480623891622277,
           0.7162331149088262,
           0.6402938167257155,
           0.6915051840363274,
           0.691120078884143,
           0.6189661427083442,
           0.561303537945453,
           0.60899503531146,
           0.5952428913794864,
           0.5432466959044233,
           0.6257647488185623,
           0.6307066515862801,
           0.6192720753032541,
           0.561876232901095,
           0.5572649011421362,
           0.5120317778779641,
           0.5372106373063702,
           0.5613845406444155,
           0.5999061802434079,
           0.6522539977198275,
           0.6237890240254906,
           0.6920127919625586,
           0.6712879300655827,
           0.692248095526751,
           0.5739293469904443,
           0.6577703757240428,
           0.7772233884216355,
           0.7579643903037442,
           0.6463248015887904,
           0.5722142891636534,
           0.6410803216370309,
           0.6636907546862519,
           0.7497823994270514,
           0.7109776573844064,
           0.7941405473302181,
           0.6505918677165421,
           0.6051292973742735,
           0.9999999999999998,
           0.6912986214680988,
           0.783305310504443,
           0.7647240700192453,
           0.7553964174239337,
           0.7813323369445244
          ],
          [
           0.5694405529302534,
           0.5712409643303471,
           0.6544758002864512,
           0.5912641967283098,
           0.5792798206381112,
           0.6536580428417045,
           0.6315798416394673,
           0.6885490620846172,
           0.7525462820175558,
           0.665610735153247,
           0.6767085340435444,
           0.6638414988994987,
           0.6054470267576817,
           0.5424255197558888,
           0.6345243417687833,
           0.6026634378347501,
           0.6159442531177753,
           0.6598126655924837,
           0.7242955765042528,
           0.6801588571310259,
           0.5502324844573401,
           0.568536216431379,
           0.5075140605102134,
           0.5482096592986733,
           0.5889493369635816,
           0.6006774448658418,
           0.6326502566266518,
           0.6565425408466756,
           0.6060687844905862,
           0.6315693530516175,
           0.6474815047289337,
           0.60425457532293,
           0.638444507117431,
           0.7607380715094967,
           0.7348822254529532,
           0.7201932667428921,
           0.5900413160562592,
           0.6943469183176739,
           0.610800053603793,
           0.69290398584804,
           0.7474785541713735,
           0.7189438607247045,
           0.6539461510765046,
           0.6093839794735373,
           0.6912986214680988,
           1,
           0.8707612744411861,
           0.7748146142763421,
           0.7399337753884824,
           0.769813413833802
          ],
          [
           0.535667925923358,
           0.6141590376790897,
           0.6921475375019802,
           0.628838340539614,
           0.660411291061772,
           0.7086587222202491,
           0.6839221060952374,
           0.7477946821902298,
           0.7940133933428137,
           0.718707585857996,
           0.7511902743323777,
           0.7393956348001779,
           0.6430101668276984,
           0.6220953989094172,
           0.6762653786035833,
           0.6805960117396069,
           0.6448002442965138,
           0.7126748224656753,
           0.7645091130317834,
           0.7382537149189222,
           0.6295608328776855,
           0.6085299657928573,
           0.554404181647214,
           0.6001030119718246,
           0.6362612594903382,
           0.6342578900237928,
           0.7112338065925782,
           0.7269538112151303,
           0.7074021687861628,
           0.7295324708702012,
           0.7429722643195827,
           0.6562865317646128,
           0.7191294151668686,
           0.8516181309470752,
           0.8439744036219552,
           0.7358215220519326,
           0.6258034089429375,
           0.8237730414028095,
           0.672112706396421,
           0.762966199781916,
           0.8206029965994865,
           0.7936714062242065,
           0.709400285806178,
           0.6852079170949917,
           0.783305310504443,
           0.8707612744411861,
           1.0000000000000002,
           0.8839332312342129,
           0.8270926219232569,
           0.8481803710029393
          ],
          [
           0.5428423522526904,
           0.5954858999567473,
           0.6578865431965275,
           0.6122667967910572,
           0.6483326191639044,
           0.6694086329128365,
           0.64365309450559,
           0.6856534652786508,
           0.7429908595952289,
           0.6892321233935707,
           0.7218052444470506,
           0.7379563897577395,
           0.6005027424386923,
           0.6190528918594665,
           0.6591073578797659,
           0.6958346995570326,
           0.6260138466247478,
           0.6833108587710381,
           0.7031092856826048,
           0.699035434793766,
           0.6037293432538136,
           0.5911896441791056,
           0.547282765262529,
           0.5845244458249405,
           0.6306480042185186,
           0.6326690171024272,
           0.6878065086842523,
           0.6787316719987734,
           0.7591959752270284,
           0.792116934668684,
           0.7631523184361112,
           0.6507573087284146,
           0.7303758563494871,
           0.8399577192845717,
           0.8250071332743794,
           0.717960966683771,
           0.6121920738916677,
           0.6824565227227603,
           0.6897320482207759,
           0.771012400395842,
           0.7920642420420088,
           0.7853232316714995,
           0.7110390068449959,
           0.6643630801227798,
           0.7647240700192453,
           0.7748146142763421,
           0.8839332312342129,
           1,
           0.8034591395397763,
           0.7943215983677999
          ],
          [
           0.5437609826991403,
           0.6547124521203207,
           0.6940829650274858,
           0.648218491843042,
           0.6489989781432434,
           0.7176491280139005,
           0.707747302845437,
           0.7542289479404797,
           0.790400548580838,
           0.725941755329167,
           0.7617205865717553,
           0.7659263324895756,
           0.6724459824500638,
           0.6720658629033279,
           0.7797135549405374,
           0.7222838743907714,
           0.7035686608754183,
           0.7234873444362503,
           0.7426420183548695,
           0.7557806071364401,
           0.6815192799036729,
           0.691568528741959,
           0.5965681058588626,
           0.6757299585081967,
           0.6771767144049149,
           0.6563733460111171,
           0.7840451245844255,
           0.7953821473912335,
           0.7055637154492872,
           0.8121269833219692,
           0.8220272075356139,
           0.7016183634909133,
           0.7345364433474817,
           0.798963312376958,
           0.8478853539702216,
           0.7406322609710367,
           0.6600925734675345,
           0.6843010340888923,
           0.6763140407174635,
           0.8029994610159458,
           0.7682227356943478,
           0.788310358770445,
           0.7845816422096418,
           0.8485900456988293,
           0.7553964174239337,
           0.7399337753884824,
           0.8270926219232569,
           0.8034591395397763,
           1.0000000000000002,
           0.8129405037782407
          ],
          [
           0.5338634858920228,
           0.619269979102572,
           0.6669047872618973,
           0.6315144729802005,
           0.7097231987658666,
           0.7532233945016968,
           0.7122125960940616,
           0.7405112077009588,
           0.8133981281900241,
           0.7374366611063284,
           0.7707925304839904,
           0.7501018927229125,
           0.6618569161599973,
           0.6158001505647123,
           0.7002196830988419,
           0.691145695889408,
           0.7188138230562381,
           0.7406953588955651,
           0.7363074983529276,
           0.7417931095957621,
           0.657492578706374,
           0.6777521899739946,
           0.6212184596608217,
           0.6844167467135135,
           0.636021487199092,
           0.6584894721664966,
           0.6884250596594629,
           0.7614413837678123,
           0.6828845779010028,
           0.6886701135927478,
           0.6971431535763994,
           0.6761003406104852,
           0.7040964289448439,
           0.7796560293819194,
           0.8111214999856021,
           0.7725674009606528,
           0.6962955984426433,
           0.7181927546828241,
           0.6888870587052995,
           0.7426115731357998,
           0.758462769041382,
           0.7695727063955449,
           0.7168926824402899,
           0.7522701140029964,
           0.7813323369445244,
           0.769813413833802,
           0.8481803710029393,
           0.7943215983677999,
           0.8129405037782407,
           1
          ]
         ]
        }
       ],
       "layout": {
        "coloraxis": {
         "colorbar": {
          "title": {
           "text": "Cosine Similarity"
          }
         },
         "colorscale": [
          [
           0,
           "#0d0887"
          ],
          [
           0.1111111111111111,
           "#46039f"
          ],
          [
           0.2222222222222222,
           "#7201a8"
          ],
          [
           0.3333333333333333,
           "#9c179e"
          ],
          [
           0.4444444444444444,
           "#bd3786"
          ],
          [
           0.5555555555555556,
           "#d8576b"
          ],
          [
           0.6666666666666666,
           "#ed7953"
          ],
          [
           0.7777777777777778,
           "#fb9f3a"
          ],
          [
           0.8888888888888888,
           "#fdca26"
          ],
          [
           1,
           "#f0f921"
          ]
         ]
        },
        "height": 1000,
        "template": {
         "data": {
          "bar": [
           {
            "error_x": {
             "color": "#2a3f5f"
            },
            "error_y": {
             "color": "#2a3f5f"
            },
            "marker": {
             "line": {
              "color": "#E5ECF6",
              "width": 0.5
             },
             "pattern": {
              "fillmode": "overlay",
              "size": 10,
              "solidity": 0.2
             }
            },
            "type": "bar"
           }
          ],
          "barpolar": [
           {
            "marker": {
             "line": {
              "color": "#E5ECF6",
              "width": 0.5
             },
             "pattern": {
              "fillmode": "overlay",
              "size": 10,
              "solidity": 0.2
             }
            },
            "type": "barpolar"
           }
          ],
          "carpet": [
           {
            "aaxis": {
             "endlinecolor": "#2a3f5f",
             "gridcolor": "white",
             "linecolor": "white",
             "minorgridcolor": "white",
             "startlinecolor": "#2a3f5f"
            },
            "baxis": {
             "endlinecolor": "#2a3f5f",
             "gridcolor": "white",
             "linecolor": "white",
             "minorgridcolor": "white",
             "startlinecolor": "#2a3f5f"
            },
            "type": "carpet"
           }
          ],
          "choropleth": [
           {
            "colorbar": {
             "outlinewidth": 0,
             "ticks": ""
            },
            "type": "choropleth"
           }
          ],
          "contour": [
           {
            "colorbar": {
             "outlinewidth": 0,
             "ticks": ""
            },
            "colorscale": [
             [
              0,
              "#0d0887"
             ],
             [
              0.1111111111111111,
              "#46039f"
             ],
             [
              0.2222222222222222,
              "#7201a8"
             ],
             [
              0.3333333333333333,
              "#9c179e"
             ],
             [
              0.4444444444444444,
              "#bd3786"
             ],
             [
              0.5555555555555556,
              "#d8576b"
             ],
             [
              0.6666666666666666,
              "#ed7953"
             ],
             [
              0.7777777777777778,
              "#fb9f3a"
             ],
             [
              0.8888888888888888,
              "#fdca26"
             ],
             [
              1,
              "#f0f921"
             ]
            ],
            "type": "contour"
           }
          ],
          "contourcarpet": [
           {
            "colorbar": {
             "outlinewidth": 0,
             "ticks": ""
            },
            "type": "contourcarpet"
           }
          ],
          "heatmap": [
           {
            "colorbar": {
             "outlinewidth": 0,
             "ticks": ""
            },
            "colorscale": [
             [
              0,
              "#0d0887"
             ],
             [
              0.1111111111111111,
              "#46039f"
             ],
             [
              0.2222222222222222,
              "#7201a8"
             ],
             [
              0.3333333333333333,
              "#9c179e"
             ],
             [
              0.4444444444444444,
              "#bd3786"
             ],
             [
              0.5555555555555556,
              "#d8576b"
             ],
             [
              0.6666666666666666,
              "#ed7953"
             ],
             [
              0.7777777777777778,
              "#fb9f3a"
             ],
             [
              0.8888888888888888,
              "#fdca26"
             ],
             [
              1,
              "#f0f921"
             ]
            ],
            "type": "heatmap"
           }
          ],
          "heatmapgl": [
           {
            "colorbar": {
             "outlinewidth": 0,
             "ticks": ""
            },
            "colorscale": [
             [
              0,
              "#0d0887"
             ],
             [
              0.1111111111111111,
              "#46039f"
             ],
             [
              0.2222222222222222,
              "#7201a8"
             ],
             [
              0.3333333333333333,
              "#9c179e"
             ],
             [
              0.4444444444444444,
              "#bd3786"
             ],
             [
              0.5555555555555556,
              "#d8576b"
             ],
             [
              0.6666666666666666,
              "#ed7953"
             ],
             [
              0.7777777777777778,
              "#fb9f3a"
             ],
             [
              0.8888888888888888,
              "#fdca26"
             ],
             [
              1,
              "#f0f921"
             ]
            ],
            "type": "heatmapgl"
           }
          ],
          "histogram": [
           {
            "marker": {
             "pattern": {
              "fillmode": "overlay",
              "size": 10,
              "solidity": 0.2
             }
            },
            "type": "histogram"
           }
          ],
          "histogram2d": [
           {
            "colorbar": {
             "outlinewidth": 0,
             "ticks": ""
            },
            "colorscale": [
             [
              0,
              "#0d0887"
             ],
             [
              0.1111111111111111,
              "#46039f"
             ],
             [
              0.2222222222222222,
              "#7201a8"
             ],
             [
              0.3333333333333333,
              "#9c179e"
             ],
             [
              0.4444444444444444,
              "#bd3786"
             ],
             [
              0.5555555555555556,
              "#d8576b"
             ],
             [
              0.6666666666666666,
              "#ed7953"
             ],
             [
              0.7777777777777778,
              "#fb9f3a"
             ],
             [
              0.8888888888888888,
              "#fdca26"
             ],
             [
              1,
              "#f0f921"
             ]
            ],
            "type": "histogram2d"
           }
          ],
          "histogram2dcontour": [
           {
            "colorbar": {
             "outlinewidth": 0,
             "ticks": ""
            },
            "colorscale": [
             [
              0,
              "#0d0887"
             ],
             [
              0.1111111111111111,
              "#46039f"
             ],
             [
              0.2222222222222222,
              "#7201a8"
             ],
             [
              0.3333333333333333,
              "#9c179e"
             ],
             [
              0.4444444444444444,
              "#bd3786"
             ],
             [
              0.5555555555555556,
              "#d8576b"
             ],
             [
              0.6666666666666666,
              "#ed7953"
             ],
             [
              0.7777777777777778,
              "#fb9f3a"
             ],
             [
              0.8888888888888888,
              "#fdca26"
             ],
             [
              1,
              "#f0f921"
             ]
            ],
            "type": "histogram2dcontour"
           }
          ],
          "mesh3d": [
           {
            "colorbar": {
             "outlinewidth": 0,
             "ticks": ""
            },
            "type": "mesh3d"
           }
          ],
          "parcoords": [
           {
            "line": {
             "colorbar": {
              "outlinewidth": 0,
              "ticks": ""
             }
            },
            "type": "parcoords"
           }
          ],
          "pie": [
           {
            "automargin": true,
            "type": "pie"
           }
          ],
          "scatter": [
           {
            "fillpattern": {
             "fillmode": "overlay",
             "size": 10,
             "solidity": 0.2
            },
            "type": "scatter"
           }
          ],
          "scatter3d": [
           {
            "line": {
             "colorbar": {
              "outlinewidth": 0,
              "ticks": ""
             }
            },
            "marker": {
             "colorbar": {
              "outlinewidth": 0,
              "ticks": ""
             }
            },
            "type": "scatter3d"
           }
          ],
          "scattercarpet": [
           {
            "marker": {
             "colorbar": {
              "outlinewidth": 0,
              "ticks": ""
             }
            },
            "type": "scattercarpet"
           }
          ],
          "scattergeo": [
           {
            "marker": {
             "colorbar": {
              "outlinewidth": 0,
              "ticks": ""
             }
            },
            "type": "scattergeo"
           }
          ],
          "scattergl": [
           {
            "marker": {
             "colorbar": {
              "outlinewidth": 0,
              "ticks": ""
             }
            },
            "type": "scattergl"
           }
          ],
          "scattermapbox": [
           {
            "marker": {
             "colorbar": {
              "outlinewidth": 0,
              "ticks": ""
             }
            },
            "type": "scattermapbox"
           }
          ],
          "scatterpolar": [
           {
            "marker": {
             "colorbar": {
              "outlinewidth": 0,
              "ticks": ""
             }
            },
            "type": "scatterpolar"
           }
          ],
          "scatterpolargl": [
           {
            "marker": {
             "colorbar": {
              "outlinewidth": 0,
              "ticks": ""
             }
            },
            "type": "scatterpolargl"
           }
          ],
          "scatterternary": [
           {
            "marker": {
             "colorbar": {
              "outlinewidth": 0,
              "ticks": ""
             }
            },
            "type": "scatterternary"
           }
          ],
          "surface": [
           {
            "colorbar": {
             "outlinewidth": 0,
             "ticks": ""
            },
            "colorscale": [
             [
              0,
              "#0d0887"
             ],
             [
              0.1111111111111111,
              "#46039f"
             ],
             [
              0.2222222222222222,
              "#7201a8"
             ],
             [
              0.3333333333333333,
              "#9c179e"
             ],
             [
              0.4444444444444444,
              "#bd3786"
             ],
             [
              0.5555555555555556,
              "#d8576b"
             ],
             [
              0.6666666666666666,
              "#ed7953"
             ],
             [
              0.7777777777777778,
              "#fb9f3a"
             ],
             [
              0.8888888888888888,
              "#fdca26"
             ],
             [
              1,
              "#f0f921"
             ]
            ],
            "type": "surface"
           }
          ],
          "table": [
           {
            "cells": {
             "fill": {
              "color": "#EBF0F8"
             },
             "line": {
              "color": "white"
             }
            },
            "header": {
             "fill": {
              "color": "#C8D4E3"
             },
             "line": {
              "color": "white"
             }
            },
            "type": "table"
           }
          ]
         },
         "layout": {
          "annotationdefaults": {
           "arrowcolor": "#2a3f5f",
           "arrowhead": 0,
           "arrowwidth": 1
          },
          "autotypenumbers": "strict",
          "coloraxis": {
           "colorbar": {
            "outlinewidth": 0,
            "ticks": ""
           }
          },
          "colorscale": {
           "diverging": [
            [
             0,
             "#8e0152"
            ],
            [
             0.1,
             "#c51b7d"
            ],
            [
             0.2,
             "#de77ae"
            ],
            [
             0.3,
             "#f1b6da"
            ],
            [
             0.4,
             "#fde0ef"
            ],
            [
             0.5,
             "#f7f7f7"
            ],
            [
             0.6,
             "#e6f5d0"
            ],
            [
             0.7,
             "#b8e186"
            ],
            [
             0.8,
             "#7fbc41"
            ],
            [
             0.9,
             "#4d9221"
            ],
            [
             1,
             "#276419"
            ]
           ],
           "sequential": [
            [
             0,
             "#0d0887"
            ],
            [
             0.1111111111111111,
             "#46039f"
            ],
            [
             0.2222222222222222,
             "#7201a8"
            ],
            [
             0.3333333333333333,
             "#9c179e"
            ],
            [
             0.4444444444444444,
             "#bd3786"
            ],
            [
             0.5555555555555556,
             "#d8576b"
            ],
            [
             0.6666666666666666,
             "#ed7953"
            ],
            [
             0.7777777777777778,
             "#fb9f3a"
            ],
            [
             0.8888888888888888,
             "#fdca26"
            ],
            [
             1,
             "#f0f921"
            ]
           ],
           "sequentialminus": [
            [
             0,
             "#0d0887"
            ],
            [
             0.1111111111111111,
             "#46039f"
            ],
            [
             0.2222222222222222,
             "#7201a8"
            ],
            [
             0.3333333333333333,
             "#9c179e"
            ],
            [
             0.4444444444444444,
             "#bd3786"
            ],
            [
             0.5555555555555556,
             "#d8576b"
            ],
            [
             0.6666666666666666,
             "#ed7953"
            ],
            [
             0.7777777777777778,
             "#fb9f3a"
            ],
            [
             0.8888888888888888,
             "#fdca26"
            ],
            [
             1,
             "#f0f921"
            ]
           ]
          },
          "colorway": [
           "#636efa",
           "#EF553B",
           "#00cc96",
           "#ab63fa",
           "#FFA15A",
           "#19d3f3",
           "#FF6692",
           "#B6E880",
           "#FF97FF",
           "#FECB52"
          ],
          "font": {
           "color": "#2a3f5f"
          },
          "geo": {
           "bgcolor": "white",
           "lakecolor": "white",
           "landcolor": "#E5ECF6",
           "showlakes": true,
           "showland": true,
           "subunitcolor": "white"
          },
          "hoverlabel": {
           "align": "left"
          },
          "hovermode": "closest",
          "mapbox": {
           "style": "light"
          },
          "paper_bgcolor": "white",
          "plot_bgcolor": "#E5ECF6",
          "polar": {
           "angularaxis": {
            "gridcolor": "white",
            "linecolor": "white",
            "ticks": ""
           },
           "bgcolor": "#E5ECF6",
           "radialaxis": {
            "gridcolor": "white",
            "linecolor": "white",
            "ticks": ""
           }
          },
          "scene": {
           "xaxis": {
            "backgroundcolor": "#E5ECF6",
            "gridcolor": "white",
            "gridwidth": 2,
            "linecolor": "white",
            "showbackground": true,
            "ticks": "",
            "zerolinecolor": "white"
           },
           "yaxis": {
            "backgroundcolor": "#E5ECF6",
            "gridcolor": "white",
            "gridwidth": 2,
            "linecolor": "white",
            "showbackground": true,
            "ticks": "",
            "zerolinecolor": "white"
           },
           "zaxis": {
            "backgroundcolor": "#E5ECF6",
            "gridcolor": "white",
            "gridwidth": 2,
            "linecolor": "white",
            "showbackground": true,
            "ticks": "",
            "zerolinecolor": "white"
           }
          },
          "shapedefaults": {
           "line": {
            "color": "#2a3f5f"
           }
          },
          "ternary": {
           "aaxis": {
            "gridcolor": "white",
            "linecolor": "white",
            "ticks": ""
           },
           "baxis": {
            "gridcolor": "white",
            "linecolor": "white",
            "ticks": ""
           },
           "bgcolor": "#E5ECF6",
           "caxis": {
            "gridcolor": "white",
            "linecolor": "white",
            "ticks": ""
           }
          },
          "title": {
           "x": 0.05
          },
          "xaxis": {
           "automargin": true,
           "gridcolor": "white",
           "linecolor": "white",
           "ticks": "",
           "title": {
            "standoff": 15
           },
           "zerolinecolor": "white",
           "zerolinewidth": 2
          },
          "yaxis": {
           "automargin": true,
           "gridcolor": "white",
           "linecolor": "white",
           "ticks": "",
           "title": {
            "standoff": 15
           },
           "zerolinecolor": "white",
           "zerolinewidth": 2
          }
         }
        },
        "title": {
         "text": "Audio Embedding Cosine Self Similarity (No Pretrain)"
        },
        "width": 1000,
        "xaxis": {
         "anchor": "y",
         "constrain": "domain",
         "domain": [
          0,
          1
         ],
         "scaleanchor": "y",
         "title": {
          "text": "No Pretrain"
         }
        },
        "yaxis": {
         "anchor": "x",
         "autorange": "reversed",
         "constrain": "domain",
         "domain": [
          0,
          1
         ],
         "title": {
          "text": "No Pretrain"
         }
        }
       }
      },
      "text/html": [
       "<div>                            <div id=\"103103e8-99aa-484c-bdb4-697f11378544\" class=\"plotly-graph-div\" style=\"height:1000px; width:1000px;\"></div>            <script type=\"text/javascript\">                require([\"plotly\"], function(Plotly) {                    window.PLOTLYENV=window.PLOTLYENV || {};                                    if (document.getElementById(\"103103e8-99aa-484c-bdb4-697f11378544\")) {                    Plotly.newPlot(                        \"103103e8-99aa-484c-bdb4-697f11378544\",                        [{\"coloraxis\":\"coloraxis\",\"name\":\"0\",\"x\":[\"church bells\",\"sea waves\",\"rain\",\"thunderstorm\",\"chainsaw\",\"helicopter\",\"airplane\",\"wind\",\"washing machine\",\"vacuum cleaner\",\"engine\",\"car horn\",\"train\",\"rooster\",\"hen\",\"crow\",\"frog\",\"insects\",\"crickets\",\"chirping birds\",\"cat\",\"pig\",\"cow\",\"sheep\",\"brushing teeth\",\"hand saw\",\"breathing\",\"snoring\",\"glass breaking\",\"sneezing\",\"coughing\",\"toilet flush\",\"pouring water\",\"water drops\",\"drinking sipping\",\"clock alarm\",\"siren\",\"keyboard typing\",\"fireworks\",\"clapping\",\"crackling fire\",\"footsteps\",\"dog\",\"crying baby\",\"door wood knock\",\"clock tick\",\"mouse click\",\"can opening\",\"laughing\",\"door wood creaks\"],\"y\":[\"church bells\",\"sea waves\",\"rain\",\"thunderstorm\",\"chainsaw\",\"helicopter\",\"airplane\",\"wind\",\"washing machine\",\"vacuum cleaner\",\"engine\",\"car horn\",\"train\",\"rooster\",\"hen\",\"crow\",\"frog\",\"insects\",\"crickets\",\"chirping birds\",\"cat\",\"pig\",\"cow\",\"sheep\",\"brushing teeth\",\"hand saw\",\"breathing\",\"snoring\",\"glass breaking\",\"sneezing\",\"coughing\",\"toilet flush\",\"pouring water\",\"water drops\",\"drinking sipping\",\"clock alarm\",\"siren\",\"keyboard typing\",\"fireworks\",\"clapping\",\"crackling fire\",\"footsteps\",\"dog\",\"crying baby\",\"door wood knock\",\"clock tick\",\"mouse click\",\"can opening\",\"laughing\",\"door wood creaks\"],\"z\":[[0.9999999999999999,0.48272000404728865,0.5196783493256217,0.4997792540965307,0.4719393849958248,0.5355434647955473,0.5382433002634277,0.5659819720891232,0.5765185320018319,0.5343170789941667,0.5098952334485536,0.5732710862374286,0.5087690114349048,0.4526129819322701,0.5225211188382463,0.4862332133646654,0.46200030513953144,0.5076008188334232,0.541959620536704,0.5256671683850632,0.4036209033622697,0.4260078751804696,0.4624023564259074,0.47638781393442486,0.4556410348245594,0.46324216767628734,0.4759979602490423,0.48206537319474546,0.4392168522398552,0.45667709840723303,0.45882691957202176,0.48990750744068967,0.4601140991519395,0.5110385439726483,0.5187438587042267,0.4982971578713589,0.5420979048968093,0.4578959616591478,0.48077840761826157,0.5432543437908949,0.5312207919353821,0.5326931393902388,0.5217110593602328,0.464978011945013,0.47394283692771666,0.5694405529302534,0.535667925923358,0.5428423522526904,0.5437609826991403,0.5338634858920228],[0.48272000404728865,1.0,0.781104112265459,0.6652804236571929,0.5909739067305727,0.7290348245972258,0.7400470318135832,0.8046601739815585,0.7448403598071839,0.7249225761036878,0.6774888568455876,0.6548049205612912,0.6707464585128482,0.4964724563993074,0.6020396016157291,0.5603197471707113,0.5531370536609381,0.6232998700350276,0.6484352715439436,0.6474111567339297,0.4857556222143225,0.5294328606019455,0.5412919670787847,0.5799618659207978,0.5515204480445531,0.5702379363232102,0.5914317805503339,0.6056246816077011,0.5406756541868972,0.5252940254004228,0.5322019397084418,0.635251797494975,0.622154899747955,0.639741623970756,0.6666877495036262,0.5578694786780319,0.5957402269303721,0.5226107131909038,0.5978600677584501,0.638985132015738,0.6978295205514681,0.650773367492862,0.6100147866496407,0.5810363697520384,0.5378708002269755,0.5712409643303471,0.6141590376790897,0.5954858999567473,0.6547124521203207,0.619269979102572],[0.5196783493256217,0.781104112265459,0.9999999999999999,0.8014930676976249,0.6354082941320417,0.7432214470350355,0.7389343152556065,0.8082136273853124,0.8298382294390455,0.7822138899985687,0.7476695467264844,0.6955859031876834,0.702143723110248,0.5532644514235898,0.6509623011508466,0.6086382178722722,0.606467512854318,0.6763580414550882,0.7098577044252773,0.7096192445645486,0.5268850375028624,0.5610171236551017,0.5426141640704955,0.6092586078440807,0.5773041746101208,0.6112730788813185,0.5947268871465217,0.6076591103374527,0.584011144266691,0.5524617477712417,0.5802420669757414,0.6708303799577049,0.6593013164182749,0.6711661981954469,0.6779410340648974,0.6104462438589701,0.6304682235396527,0.6328739512612555,0.6778535925350849,0.739430836212952,0.8320920783081281,0.7174599936748202,0.6422398544139708,0.6113029655373058,0.5986736518193683,0.6544758002864512,0.6921475375019802,0.6578865431965275,0.6940829650274858,0.6669047872618973],[0.4997792540965307,0.6652804236571929,0.8014930676976249,1.0,0.5547183475166138,0.6954558689530471,0.7331584226814332,0.7841866207360578,0.7460029033314352,0.645382365521438,0.6385660320158156,0.6267025622486296,0.6739556165733572,0.5171790602293929,0.6098737419479138,0.5863898757509526,0.5406835387835918,0.6218109263807803,0.6477000803918611,0.6506525620415265,0.4913652547706402,0.5306399048050854,0.5259937183168073,0.5572194713394306,0.5130566246284187,0.5356630599280521,0.6134028947781058,0.6219455752678501,0.5408796229320669,0.5640444764389125,0.5535801477748201,0.5836094128473164,0.5579513411495803,0.615919940807618,0.6450612871441919,0.538083674362333,0.5495372120058101,0.5261034850850042,0.7245443944894879,0.6554918541667023,0.7398081352975642,0.683412869693446,0.6142456129349464,0.5600456851984964,0.5962147123411531,0.5912641967283098,0.628838340539614,0.6122667967910572,0.648218491843042,0.6315144729802005],[0.4719393849958248,0.5909739067305727,0.6354082941320417,0.5547183475166138,1.0000000000000002,0.7543724972856924,0.7161263199906519,0.6928684606708665,0.7667294831854838,0.7836584389446217,0.8301937277013421,0.6673256966688247,0.6263113487219236,0.5282260029748036,0.5827595390737138,0.5509297561398586,0.5478733965956767,0.6709240364447183,0.6215154645479896,0.6177699322663585,0.47708748041429305,0.5549583104964897,0.5577698471967872,0.5738747585326379,0.5815027605056894,0.6606965120547477,0.5467202861653103,0.6585544376587797,0.6032386253196282,0.5339172186792219,0.5523354911609877,0.6122213163967674,0.6012378898036119,0.5908836951087557,0.6417594719821513,0.6135456061342837,0.6376197678531832,0.5585477016338982,0.589196277528788,0.6313523616854633,0.700210716895484,0.6287168010454625,0.5960242203479931,0.5987791759300557,0.5777919843183746,0.5792798206381112,0.660411291061772,0.6483326191639044,0.6489989781432434,0.7097231987658666],[0.5355434647955473,0.7290348245972258,0.7432214470350355,0.6954558689530471,0.7543724972856924,1.0,0.9575612185339961,0.9147945710606952,0.9182295547711508,0.8473009374298662,0.8838107764094904,0.7693797727140802,0.788816589899234,0.5480886855759479,0.6430612360506258,0.6544977971240798,0.6562464561167526,0.7110991968075102,0.772039763296691,0.7417504213588069,0.548320782896547,0.6084920218994515,0.5930281620005845,0.656562614772353,0.5971507395269956,0.6205479197846898,0.6389407689800153,0.6942772576883188,0.597543415755891,0.5815751092654937,0.5959734162283876,0.6495128149690347,0.6236282747832675,0.6621789129809146,0.6997007988312092,0.6545827425188445,0.7030141320033806,0.5969438623457134,0.6613583977511728,0.6973326340698699,0.78267797916872,0.6930871200032601,0.6682160765886668,0.6221886123914577,0.6297016418954917,0.6536580428417045,0.7086587222202491,0.6694086329128365,0.7176491280139005,0.7532233945016968],[0.5382433002634277,0.7400470318135832,0.7389343152556065,0.7331584226814332,0.7161263199906519,0.9575612185339961,1.0000000000000002,0.9320155956799885,0.8832955796332652,0.8322444806668425,0.8080670667417765,0.7567399563146004,0.7682559093220228,0.5354894285639656,0.6330270710421018,0.6572042509229465,0.6312884117773441,0.7027644792065763,0.7482801929204909,0.725409882493686,0.5314432699933933,0.5906583231292868,0.5954520843073834,0.6413784903703167,0.5738801100676658,0.5920381132380044,0.6573393819642062,0.6786856488426118,0.5845051097497411,0.5788082882244779,0.5838728184199883,0.6363314761273327,0.6084280150690056,0.6535578727196089,0.6909930933026898,0.6159620481349146,0.6824347993208045,0.5607881528640715,0.6669464832442665,0.6913806316289542,0.7695435470234592,0.697630029305797,0.66684159006638,0.6104751937045897,0.6118670155798027,0.6315798416394673,0.6839221060952374,0.64365309450559,0.707747302845437,0.7122125960940616],[0.5659819720891232,0.8046601739815585,0.8082136273853124,0.7841866207360578,0.6928684606708665,0.9147945710606952,0.9320155956799885,1.0,0.9237171096051111,0.8393545000324263,0.8168722389809803,0.7918063678885516,0.8363224185187939,0.5766103220615953,0.6711637515024749,0.6787391533159612,0.6381950599576739,0.7332928490523266,0.7968637398969214,0.7683832220151084,0.5625844253944398,0.5992817356753838,0.6022342939648386,0.6519716410246248,0.6037906355107843,0.6219518718853548,0.7009842497368548,0.7043474385129996,0.6088850517196185,0.6137055320325737,0.6237987159031033,0.6588531235149785,0.6341914035284172,0.6962059723809377,0.7228107038813122,0.6508895162153762,0.7106113080856999,0.6043159766559042,0.6801339924288679,0.7235248944454579,0.8067871874471224,0.732863999290399,0.6925979258881665,0.63961763343169,0.6480623891622277,0.6885490620846172,0.7477946821902298,0.6856534652786508,0.7542289479404797,0.7405112077009588],[0.5765185320018319,0.7448403598071839,0.8298382294390455,0.7460029033314352,0.7667294831854838,0.9182295547711508,0.8832955796332652,0.9237171096051111,1.0000000000000002,0.9209564766876863,0.9095882263269152,0.8118252749858273,0.8545976975416401,0.6104943712346339,0.7016410220909972,0.6774370038512965,0.6731251612251129,0.7582082298806972,0.799200068320053,0.7570299077528823,0.5780719829708179,0.6365622883964617,0.6180096379893879,0.666745479484123,0.6596436232333853,0.7064009829912694,0.6792895391998832,0.7140006323139114,0.6570127352194378,0.632948064057817,0.6672291555784317,0.7220187653562616,0.6958404847083959,0.73928613307881,0.7552841263408051,0.7290270816901105,0.7403365421677495,0.668509334367341,0.686754198346302,0.7535664753322232,0.8395473415123439,0.7570846733012241,0.7002067241111224,0.6762373400351516,0.7162331149088262,0.7525462820175558,0.7940133933428137,0.7429908595952289,0.790400548580838,0.8133981281900241],[0.5343170789941667,0.7249225761036878,0.7822138899985687,0.645382365521438,0.7836584389446217,0.8473009374298662,0.8322444806668425,0.8393545000324263,0.9209564766876863,0.9999999999999999,0.826676985961559,0.7435478013515446,0.7361896607609613,0.5620940535307021,0.6423128486353107,0.6294224583033131,0.6204827805086641,0.7232144481784974,0.7392026730701393,0.7032717575484762,0.5347961820336151,0.5670784746190899,0.5591523756488257,0.5969927328325793,0.6434440045486497,0.737167282504962,0.6258508334228052,0.6562063887173497,0.6070587361052998,0.5859329234653996,0.6076620653415888,0.7026984174494805,0.6535311576662893,0.671534281680003,0.6940985053602868,0.6719394885589299,0.7066331486902164,0.6028592786151433,0.6357396049724009,0.6978301569289649,0.754615113699004,0.7003323097424435,0.6542474708036162,0.6474047145482676,0.6402938167257155,0.665610735153247,0.718707585857996,0.6892321233935707,0.725941755329167,0.7374366611063284],[0.5098952334485536,0.6774888568455876,0.7476695467264844,0.6385660320158156,0.8301937277013421,0.8838107764094904,0.8080670667417765,0.8168722389809803,0.9095882263269152,0.826676985961559,0.9999999999999999,0.8007719604866492,0.7591146548805672,0.5909936848415529,0.6631161997375439,0.6340323287667058,0.6369814337689251,0.7191649438273725,0.7357085875764655,0.7045689770369661,0.5476863900007976,0.6093530955055848,0.5890920970659655,0.6309754538890153,0.6155148718844071,0.6542482891252459,0.6192071156418004,0.6713375070694337,0.6552316068405181,0.60937735868988,0.6473886805749566,0.6590727725209965,0.6653046537353251,0.6875438657692171,0.7091356860222467,0.6923035984539914,0.7157797353708906,0.6437108254384574,0.6399029163124201,0.7256647228674077,0.8026521922527265,0.6978709615204318,0.6582624349306219,0.6325021062050068,0.6915051840363274,0.6767085340435444,0.7511902743323777,0.7218052444470506,0.7617205865717553,0.7707925304839904],[0.5732710862374286,0.6548049205612912,0.6955859031876834,0.6267025622486296,0.6673256966688247,0.7693797727140802,0.7567399563146004,0.7918063678885516,0.8118252749858273,0.7435478013515446,0.8007719604866492,0.9999999999999999,0.7530642517608861,0.6277118592951939,0.6895054864271879,0.6577660915311252,0.6200617751021242,0.6749582376316338,0.706146487106419,0.7007013461776275,0.5769410060652482,0.5972434068593246,0.6210498583159795,0.6650199611760771,0.569289703651035,0.5953277150475179,0.6392093852393013,0.6312578649766327,0.6487702910241762,0.6452926323317303,0.6748802425265008,0.6123964254843233,0.6380303148095898,0.7056736435178204,0.7121174493160575,0.7149586596335914,0.7624647160342495,0.5783779765483849,0.6202658615253237,0.7241615867317318,0.7444936775817423,0.7042996846783092,0.6840212494405156,0.6283352864363234,0.691120078884143,0.6638414988994987,0.7393956348001779,0.7379563897577395,0.7659263324895756,0.7501018927229125],[0.5087690114349048,0.6707464585128482,0.702143723110248,0.6739556165733572,0.6263113487219236,0.788816589899234,0.7682559093220228,0.8363224185187939,0.8545976975416401,0.7361896607609613,0.7591146548805672,0.7530642517608861,1.0,0.5300149012919997,0.6404952931610783,0.5742628105363982,0.5391067936939254,0.6267824445681861,0.668945188362468,0.6637076792526605,0.4891960848563237,0.5516097132217685,0.5494797099658705,0.6145623989347478,0.5806988312556972,0.5792529218347835,0.5837323853993487,0.6038346322231064,0.55706696345087,0.527858109843791,0.5572900436810081,0.5888899821071183,0.5672375098927755,0.6007837889980681,0.6181849269615989,0.5895215634957552,0.6525235701286257,0.5396013097011712,0.6001203234768547,0.6596051960841719,0.7092548725255311,0.660443168521153,0.6179389648255108,0.5697565192808053,0.6189661427083442,0.6054470267576817,0.6430101668276984,0.6005027424386923,0.6724459824500638,0.6618569161599973],[0.4526129819322701,0.4964724563993074,0.5532644514235898,0.5171790602293929,0.5282260029748036,0.5480886855759479,0.5354894285639656,0.5766103220615953,0.6104943712346339,0.5620940535307021,0.5909936848415529,0.6277118592951939,0.5300149012919997,1.0,0.8745049407610108,0.6366273408352835,0.6063919252958182,0.5751692924585012,0.5913432739865587,0.657725767673503,0.5232747295322866,0.553450075020273,0.6157635908915741,0.6016423700368805,0.5153396355876945,0.5208393083503507,0.5251415852251078,0.5551038266388272,0.5600751264606176,0.5364363417073632,0.5873534137147322,0.5212637759195118,0.5572503039915119,0.5955334299395063,0.6103745501386467,0.6004890743185505,0.6038371923071502,0.5128707660142544,0.5166643702877742,0.5780986972687934,0.6026320362030942,0.5777379981771861,0.6109824764285121,0.6085289468419299,0.561303537945453,0.5424255197558888,0.6220953989094172,0.6190528918594665,0.6720658629033279,0.6158001505647123],[0.5225211188382463,0.6020396016157291,0.6509623011508466,0.6098737419479138,0.5827595390737138,0.6430612360506258,0.6330270710421018,0.6711637515024749,0.7016410220909972,0.6423128486353107,0.6631161997375439,0.6895054864271879,0.6404952931610783,0.8745049407610108,1.0000000000000002,0.7061267103065921,0.7215037473780588,0.6794687022111073,0.7051353048420099,0.7906699153599982,0.5772021859552695,0.6637167238746662,0.6532411655051822,0.7008704022819443,0.6160138428649347,0.5904237562162348,0.5793073328302027,0.6383293825671106,0.5763350974953559,0.5771606839050836,0.6160010478693734,0.6317396932476136,0.6285768915748591,0.6524348559496401,0.681882978743847,0.6490420121544904,0.6548549856780141,0.5847912338207493,0.6073400348266451,0.6734107701379562,0.7005988817395785,0.6777242885035747,0.727999371072043,0.6780462441648925,0.60899503531146,0.6345243417687833,0.6762653786035833,0.6591073578797659,0.7797135549405374,0.7002196830988419],[0.4862332133646654,0.5603197471707113,0.6086382178722722,0.5863898757509526,0.5509297561398586,0.6544977971240798,0.6572042509229465,0.6787391533159612,0.6774370038512965,0.6294224583033131,0.6340323287667058,0.6577660915311252,0.5742628105363982,0.6366273408352835,0.7061267103065921,1.0,0.7081664559302977,0.6315430347839673,0.6949647665366863,0.7680232314213444,0.6031297364502511,0.6117573731233912,0.524610882493616,0.6149284563190603,0.5621364140329536,0.5578353538393432,0.6823052789648277,0.6534217494885002,0.591848058321521,0.6319099900326612,0.6066692371927662,0.5753921558548541,0.593549568624868,0.6478559477970827,0.6703992571458025,0.6252997406510425,0.5653387328369169,0.5479165665092118,0.6069245665245006,0.6413688372918424,0.6701663752018464,0.6712958752376381,0.6675616122027159,0.639488395962182,0.5952428913794864,0.6026634378347501,0.6805960117396069,0.6958346995570326,0.7222838743907714,0.691145695889408],[0.46200030513953144,0.5531370536609381,0.606467512854318,0.5406835387835918,0.5478733965956767,0.6562464561167526,0.6312884117773441,0.6381950599576739,0.6731251612251129,0.6204827805086641,0.6369814337689251,0.6200617751021242,0.5391067936939254,0.6063919252958182,0.7215037473780588,0.7081664559302977,1.0000000000000002,0.709169895759067,0.7889144880006258,0.7501802641148905,0.5569694871013069,0.6402489662091945,0.5924193402066456,0.6539462111290878,0.5681136701493371,0.5499552345526293,0.5662131408796439,0.6228403854564716,0.5313057234071388,0.5464570782980069,0.5640067897436918,0.5840659307670009,0.5915691551813804,0.6396295243385932,0.6592003887839911,0.6574560969833326,0.6353101320701747,0.5523769502911812,0.5668497175422935,0.6118876019405265,0.6341782750346684,0.6025086527775371,0.658930153968371,0.6231883735314243,0.5432466959044233,0.6159442531177753,0.6448002442965138,0.6260138466247478,0.7035686608754183,0.7188138230562381],[0.5076008188334232,0.6232998700350276,0.6763580414550882,0.6218109263807803,0.6709240364447183,0.7110991968075102,0.7027644792065763,0.7332928490523266,0.7582082298806972,0.7232144481784974,0.7191649438273725,0.6749582376316338,0.6267824445681861,0.5751692924585012,0.6794687022111073,0.6315430347839673,0.709169895759067,0.9999999999999999,0.8190665201530901,0.7516287222497555,0.5412802908144086,0.5667941525556486,0.621242749387697,0.6299413571141611,0.6054060210495983,0.6286713426613773,0.5933593942084506,0.6438084005914638,0.5903592631140159,0.5829273338257045,0.5815652209379686,0.6084304651100846,0.6142662124614954,0.655349421593844,0.677684581582244,0.5898204599410335,0.6381515315545849,0.5974115054466185,0.6447595845417041,0.6730508238478242,0.7361838943711277,0.6965528784427849,0.6404592480894509,0.6356687866286501,0.6257647488185623,0.6598126655924837,0.7126748224656753,0.6833108587710381,0.7234873444362503,0.7406953588955651],[0.541959620536704,0.6484352715439436,0.7098577044252773,0.6477000803918611,0.6215154645479896,0.772039763296691,0.7482801929204909,0.7968637398969214,0.799200068320053,0.7392026730701393,0.7357085875764655,0.706146487106419,0.668945188362468,0.5913432739865587,0.7051353048420099,0.6949647665366863,0.7889144880006258,0.8190665201530901,0.9999999999999999,0.8829664482526907,0.5649997896141848,0.6122921321395913,0.6029100720667235,0.6287952754687864,0.6252283366908402,0.6183091623972645,0.6805907524067064,0.7045516685525947,0.6006095617371188,0.6099451308072342,0.6102502426881036,0.6069847445046656,0.6242373858908445,0.7040123158256335,0.7051434910823509,0.6760434829083511,0.6637214012878673,0.6228277419435222,0.6572482086650708,0.6882009243100362,0.772480913164081,0.7192057553142813,0.6801380842770592,0.632382610866757,0.6307066515862801,0.7242955765042528,0.7645091130317834,0.7031092856826048,0.7426420183548695,0.7363074983529276],[0.5256671683850632,0.6474111567339297,0.7096192445645486,0.6506525620415265,0.6177699322663585,0.7417504213588069,0.725409882493686,0.7683832220151084,0.7570299077528823,0.7032717575484762,0.7045689770369661,0.7007013461776275,0.6637076792526605,0.657725767673503,0.7906699153599982,0.7680232314213444,0.7501802641148905,0.7516287222497555,0.8829664482526907,1.0000000000000002,0.5999749652950087,0.6226464524603438,0.5945044922209729,0.6514186863790179,0.608182224521107,0.6002499861037761,0.6556676379862578,0.6884165697631257,0.6089214539521043,0.6170595870414647,0.6008644406557743,0.6549376254395424,0.6682457885551719,0.7189554293842737,0.7153241451652356,0.6549951002695967,0.6563472305194982,0.6249744992766841,0.6541586645847972,0.688957213410598,0.7626529046097547,0.7199804862077569,0.7260252983000544,0.650255285957932,0.6192720753032541,0.6801588571310259,0.7382537149189222,0.699035434793766,0.7557806071364401,0.7417931095957621],[0.4036209033622697,0.4857556222143225,0.5268850375028624,0.4913652547706402,0.47708748041429305,0.548320782896547,0.5314432699933933,0.5625844253944398,0.5780719829708179,0.5347961820336151,0.5476863900007976,0.5769410060652482,0.4891960848563237,0.5232747295322866,0.5772021859552695,0.6031297364502511,0.5569694871013069,0.5412802908144086,0.5649997896141848,0.5999749652950087,1.0,0.6045800776333908,0.4799098504115154,0.5795054602317652,0.4749051111738048,0.45237787208143226,0.5399465073692753,0.6320195639393053,0.5454220648218421,0.6120435899979088,0.6138570320111341,0.5328655195696559,0.5559762226976585,0.6051059718792148,0.6582779648661959,0.5314872191972243,0.5060577267761268,0.5054740153321053,0.4987270389922886,0.5744472333383508,0.5658420821671135,0.5914532982271267,0.7061848479418896,0.6921968319897082,0.561876232901095,0.5502324844573401,0.6295608328776855,0.6037293432538136,0.6815192799036729,0.657492578706374],[0.4260078751804696,0.5294328606019455,0.5610171236551017,0.5306399048050854,0.5549583104964897,0.6084920218994515,0.5906583231292868,0.5992817356753838,0.6365622883964617,0.5670784746190899,0.6093530955055848,0.5972434068593246,0.5516097132217685,0.553450075020273,0.6637167238746662,0.6117573731233912,0.6402489662091945,0.5667941525556486,0.6122921321395913,0.6226464524603438,0.6045800776333908,1.0,0.6525321215163632,0.6896824844033418,0.6059858321191679,0.5981426466224299,0.6139650348052652,0.7212732999430408,0.5639651080561305,0.6104605686225967,0.6410496291297386,0.622739115736076,0.5789792092803169,0.6045906745575906,0.7124758528741605,0.5890364812543396,0.5212795506131116,0.5032813458350921,0.528468883491282,0.5966738880593112,0.6198377813520001,0.636756282413202,0.715799436750276,0.6247077536928749,0.5572649011421362,0.568536216431379,0.6085299657928573,0.5911896441791056,0.691568528741959,0.6777521899739946],[0.4624023564259074,0.5412919670787847,0.5426141640704955,0.5259937183168073,0.5577698471967872,0.5930281620005845,0.5954520843073834,0.6022342939648386,0.6180096379893879,0.5591523756488257,0.5890920970659655,0.6210498583159795,0.5494797099658705,0.6157635908915741,0.6532411655051822,0.524610882493616,0.5924193402066456,0.621242749387697,0.6029100720667235,0.5945044922209729,0.4799098504115154,0.6525321215163632,0.9999999999999999,0.7472062394194138,0.47820075403817913,0.4826264270532332,0.5125939842710279,0.5870228585844548,0.5138698650834094,0.4974313652444504,0.5151710443509656,0.5064866006939364,0.5134199567282464,0.5442943061405708,0.5895365300072946,0.521160830370184,0.6036113736108025,0.46917490956859503,0.490489287187107,0.5491906255466936,0.5874632491882844,0.55905830408974,0.5632842110206833,0.5575637665180733,0.5120317778779641,0.5075140605102134,0.554404181647214,0.547282765262529,0.5965681058588626,0.6212184596608217],[0.47638781393442486,0.5799618659207978,0.6092586078440807,0.5572194713394306,0.5738747585326379,0.656562614772353,0.6413784903703167,0.6519716410246248,0.666745479484123,0.5969927328325793,0.6309754538890153,0.6650199611760771,0.6145623989347478,0.6016423700368805,0.7008704022819443,0.6149284563190603,0.6539462111290878,0.6299413571141611,0.6287952754687864,0.6514186863790179,0.5795054602317652,0.6896824844033418,0.7472062394194138,1.0000000000000002,0.554255514704169,0.5312666131177715,0.554459336664394,0.6304267596331229,0.5505769757086728,0.5511019303836465,0.5653060310721989,0.583625836624515,0.5704477991848248,0.5887318280197921,0.6435237337941994,0.5802154733851315,0.6143092387779693,0.5314991008800161,0.5472616690450129,0.6068473328008749,0.6553696113697641,0.6268909036153815,0.6319763063783065,0.6510104599381028,0.5372106373063702,0.5482096592986733,0.6001030119718246,0.5845244458249405,0.6757299585081967,0.6844167467135135],[0.4556410348245594,0.5515204480445531,0.5773041746101208,0.5130566246284187,0.5815027605056894,0.5971507395269956,0.5738801100676658,0.6037906355107843,0.6596436232333853,0.6434440045486497,0.6155148718844071,0.569289703651035,0.5806988312556972,0.5153396355876945,0.6160138428649347,0.5621364140329536,0.5681136701493371,0.6054060210495983,0.6252283366908402,0.608182224521107,0.4749051111738048,0.6059858321191679,0.47820075403817913,0.554255514704169,1.0000000000000002,0.8785199582092579,0.5874395686880377,0.6157051722344192,0.5520977101332091,0.5407441656766152,0.5350272840766687,0.6207321698631266,0.6112111770612256,0.6141542506638156,0.6583339978751707,0.5793490986828091,0.5430500978260878,0.5432617272165127,0.5399652455533774,0.5957322786654022,0.629596326512328,0.6266191548177984,0.6302594596187174,0.5956006081247817,0.5613845406444155,0.5889493369635816,0.6362612594903382,0.6306480042185186,0.6771767144049149,0.636021487199092],[0.46324216767628734,0.5702379363232102,0.6112730788813185,0.5356630599280521,0.6606965120547477,0.6205479197846898,0.5920381132380044,0.6219518718853548,0.7064009829912694,0.737167282504962,0.6542482891252459,0.5953277150475179,0.5792529218347835,0.5208393083503507,0.5904237562162348,0.5578353538393432,0.5499552345526293,0.6286713426613773,0.6183091623972645,0.6002499861037761,0.45237787208143226,0.5981426466224299,0.4826264270532332,0.5312666131177715,0.8785199582092579,0.9999999999999999,0.5981629481681026,0.6104848996824688,0.5515538072694186,0.5533617419921597,0.5510180522327022,0.6510901498138051,0.5866702827359018,0.5902331514528097,0.6331002387049672,0.5788884221743105,0.5471148848543735,0.5193319862088133,0.5443415097975869,0.6013866303848358,0.6306936914068173,0.6280599735178962,0.5959295090705896,0.5761334909165524,0.5999061802434079,0.6006774448658418,0.6342578900237928,0.6326690171024272,0.6563733460111171,0.6584894721664966],[0.4759979602490423,0.5914317805503339,0.5947268871465217,0.6134028947781058,0.5467202861653103,0.6389407689800153,0.6573393819642062,0.7009842497368548,0.6792895391998832,0.6258508334228052,0.6192071156418004,0.6392093852393013,0.5837323853993487,0.5251415852251078,0.5793073328302027,0.6823052789648277,0.5662131408796439,0.5933593942084506,0.6805907524067064,0.6556676379862578,0.5399465073692753,0.6139650348052652,0.5125939842710279,0.554459336664394,0.5874395686880377,0.5981629481681026,1.0,0.8721170752775125,0.6073818356276597,0.8081953271566451,0.6959875714330841,0.595518824556004,0.6013911361226472,0.6898349230035118,0.7541841568141445,0.6021822387520043,0.5419746149772063,0.5630707726110491,0.613254386198021,0.6658760755973177,0.6600800687720348,0.7221676784692549,0.6542431044659626,0.6566264332028776,0.6522539977198275,0.6326502566266518,0.7112338065925782,0.6878065086842523,0.7840451245844255,0.6884250596594629],[0.48206537319474546,0.6056246816077011,0.6076591103374527,0.6219455752678501,0.6585544376587797,0.6942772576883188,0.6786856488426118,0.7043474385129996,0.7140006323139114,0.6562063887173497,0.6713375070694337,0.6312578649766327,0.6038346322231064,0.5551038266388272,0.6383293825671106,0.6534217494885002,0.6228403854564716,0.6438084005914638,0.7045516685525947,0.6884165697631257,0.6320195639393053,0.7212732999430408,0.5870228585844548,0.6304267596331229,0.6157051722344192,0.6104848996824688,0.8721170752775125,1.0,0.6052519063256385,0.7441778990745468,0.6889544461862911,0.658544817753319,0.6393958012709686,0.6839595879058176,0.7935923745804372,0.6557513499796691,0.5614671169652111,0.595772494060384,0.6213880945620365,0.6707683661018481,0.6770712754624226,0.7106621245713369,0.7256736380978301,0.7323271909051814,0.6237890240254906,0.6565425408466756,0.7269538112151303,0.6787316719987734,0.7953821473912335,0.7614413837678123],[0.4392168522398552,0.5406756541868972,0.584011144266691,0.5408796229320669,0.6032386253196282,0.597543415755891,0.5845051097497411,0.6088850517196185,0.6570127352194378,0.6070587361052998,0.6552316068405181,0.6487702910241762,0.55706696345087,0.5600751264606176,0.5763350974953559,0.591848058321521,0.5313057234071388,0.5903592631140159,0.6006095617371188,0.6089214539521043,0.5454220648218421,0.5639651080561305,0.5138698650834094,0.5505769757086728,0.5520977101332091,0.5515538072694186,0.6073818356276597,0.6052519063256385,1.0,0.686012258275541,0.7271172532578928,0.5701004256259524,0.6625721482309257,0.7128025602839216,0.7322707490307376,0.653581080712025,0.527953902067423,0.5624272155871457,0.6102166105136124,0.6561369683704789,0.7083864039798136,0.7138501707593995,0.6226739296164336,0.6021795814633197,0.6920127919625586,0.6060687844905862,0.7074021687861628,0.7591959752270284,0.7055637154492872,0.6828845779010028],[0.45667709840723303,0.5252940254004228,0.5524617477712417,0.5640444764389125,0.5339172186792219,0.5815751092654937,0.5788082882244779,0.6137055320325737,0.632948064057817,0.5859329234653996,0.60937735868988,0.6452926323317303,0.527858109843791,0.5364363417073632,0.5771606839050836,0.6319099900326612,0.5464570782980069,0.5829273338257045,0.6099451308072342,0.6170595870414647,0.6120435899979088,0.6104605686225967,0.4974313652444504,0.5511019303836465,0.5407441656766152,0.5533617419921597,0.8081953271566451,0.7441778990745468,0.686012258275541,1.0,0.880750707446226,0.5935447421382852,0.6380764630736074,0.7486467204365672,0.8026819736477647,0.5932888554000967,0.5005701139178707,0.556709612164908,0.5792634176142188,0.6417083414720591,0.6380675932579738,0.7210468153266522,0.685994977599129,0.6996978732534721,0.6712879300655827,0.6315693530516175,0.7295324708702012,0.792116934668684,0.8121269833219692,0.6886701135927478],[0.45882691957202176,0.5322019397084418,0.5802420669757414,0.5535801477748201,0.5523354911609877,0.5959734162283876,0.5838728184199883,0.6237987159031033,0.6672291555784317,0.6076620653415888,0.6473886805749566,0.6748802425265008,0.5572900436810081,0.5873534137147322,0.6160010478693734,0.6066692371927662,0.5640067897436918,0.5815652209379686,0.6102502426881036,0.6008644406557743,0.6138570320111341,0.6410496291297386,0.5151710443509656,0.5653060310721989,0.5350272840766687,0.5510180522327022,0.6959875714330841,0.6889544461862911,0.7271172532578928,0.880750707446226,1.0000000000000002,0.60218736181497,0.6478854931603774,0.7542915614154061,0.7890727028856624,0.6548361845164251,0.5437906618329076,0.5642928930916054,0.5561951930000931,0.651210325895555,0.6463063302100515,0.6756502041517843,0.676081411416678,0.7203000236655306,0.692248095526751,0.6474815047289337,0.7429722643195827,0.7631523184361112,0.8220272075356139,0.6971431535763994],[0.48990750744068967,0.635251797494975,0.6708303799577049,0.5836094128473164,0.6122213163967674,0.6495128149690347,0.6363314761273327,0.6588531235149785,0.7220187653562616,0.7026984174494805,0.6590727725209965,0.6123964254843233,0.5888899821071183,0.5212637759195118,0.6317396932476136,0.5753921558548541,0.5840659307670009,0.6084304651100846,0.6069847445046656,0.6549376254395424,0.5328655195696559,0.622739115736076,0.5064866006939364,0.583625836624515,0.6207321698631266,0.6510901498138051,0.595518824556004,0.658544817753319,0.5701004256259524,0.5935447421382852,0.60218736181497,1.0,0.850187196765204,0.7436536129405715,0.7764827418180942,0.6140172304616971,0.5746086664182077,0.5553195477943561,0.5839260468757599,0.6462369417141705,0.6531138012731789,0.6494536146135543,0.6546836466505878,0.6289677743488642,0.5739293469904443,0.60425457532293,0.6562865317646128,0.6507573087284146,0.7016183634909133,0.6761003406104852],[0.4601140991519395,0.622154899747955,0.6593013164182749,0.5579513411495803,0.6012378898036119,0.6236282747832675,0.6084280150690056,0.6341914035284172,0.6958404847083959,0.6535311576662893,0.6653046537353251,0.6380303148095898,0.5672375098927755,0.5572503039915119,0.6285768915748591,0.593549568624868,0.5915691551813804,0.6142662124614954,0.6242373858908445,0.6682457885551719,0.5559762226976585,0.5789792092803169,0.5134199567282464,0.5704477991848248,0.6112111770612256,0.5866702827359018,0.6013911361226472,0.6393958012709686,0.6625721482309257,0.6380764630736074,0.6478854931603774,0.850187196765204,0.9999999999999998,0.8855446258641038,0.8633050358311065,0.6790921195385712,0.5958942692593584,0.6023164929915982,0.6079727620492075,0.6613710302172411,0.6944720043547834,0.6910376705360838,0.6551656740757045,0.6743121981862825,0.6577703757240428,0.638444507117431,0.7191294151668686,0.7303758563494871,0.7345364433474817,0.7040964289448439],[0.5110385439726483,0.639741623970756,0.6711661981954469,0.615919940807618,0.5908836951087557,0.6621789129809146,0.6535578727196089,0.6962059723809377,0.73928613307881,0.671534281680003,0.6875438657692171,0.7056736435178204,0.6007837889980681,0.5955334299395063,0.6524348559496401,0.6478559477970827,0.6396295243385932,0.655349421593844,0.7040123158256335,0.7189554293842737,0.6051059718792148,0.6045906745575906,0.5442943061405708,0.5887318280197921,0.6141542506638156,0.5902331514528097,0.6898349230035118,0.6839595879058176,0.7128025602839216,0.7486467204365672,0.7542915614154061,0.7436536129405715,0.8855446258641038,1.0,0.9396537643624011,0.709992266036437,0.6219558570896369,0.6606282664228388,0.6491639997627531,0.7239427767631147,0.7548315938961463,0.769133710111441,0.7107097611962067,0.6819160364157516,0.7772233884216355,0.7607380715094967,0.8516181309470752,0.8399577192845717,0.798963312376958,0.7796560293819194],[0.5187438587042267,0.6666877495036262,0.6779410340648974,0.6450612871441919,0.6417594719821513,0.6997007988312092,0.6909930933026898,0.7228107038813122,0.7552841263408051,0.6940985053602868,0.7091356860222467,0.7121174493160575,0.6181849269615989,0.6103745501386467,0.681882978743847,0.6703992571458025,0.6592003887839911,0.677684581582244,0.7051434910823509,0.7153241451652356,0.6582779648661959,0.7124758528741605,0.5895365300072946,0.6435237337941994,0.6583339978751707,0.6331002387049672,0.7541841568141445,0.7935923745804372,0.7322707490307376,0.8026819736477647,0.7890727028856624,0.7764827418180942,0.8633050358311065,0.9396537643624011,1.0,0.6995226236416777,0.6152008258565708,0.6717776095228237,0.6820303852175281,0.742377836544179,0.7804020396381386,0.8165055462146593,0.7566308502809793,0.7377921710372959,0.7579643903037442,0.7348822254529532,0.8439744036219552,0.8250071332743794,0.8478853539702216,0.8111214999856021],[0.4982971578713589,0.5578694786780319,0.6104462438589701,0.538083674362333,0.6135456061342837,0.6545827425188445,0.6159620481349146,0.6508895162153762,0.7290270816901105,0.6719394885589299,0.6923035984539914,0.7149586596335914,0.5895215634957552,0.6004890743185505,0.6490420121544904,0.6252997406510425,0.6574560969833326,0.5898204599410335,0.6760434829083511,0.6549951002695967,0.5314872191972243,0.5890364812543396,0.521160830370184,0.5802154733851315,0.5793490986828091,0.5788884221743105,0.6021822387520043,0.6557513499796691,0.653581080712025,0.5932888554000967,0.6548361845164251,0.6140172304616971,0.6790921195385712,0.709992266036437,0.6995226236416777,1.0,0.6878052826519868,0.6080972527677041,0.5951728973283101,0.6622886920370955,0.6813120875231496,0.6628212481287608,0.6383446468455525,0.6624667283639482,0.6463248015887904,0.7201932667428921,0.7358215220519326,0.717960966683771,0.7406322609710367,0.7725674009606528],[0.5420979048968093,0.5957402269303721,0.6304682235396527,0.5495372120058101,0.6376197678531832,0.7030141320033806,0.6824347993208045,0.7106113080856999,0.7403365421677495,0.7066331486902164,0.7157797353708906,0.7624647160342495,0.6525235701286257,0.6038371923071502,0.6548549856780141,0.5653387328369169,0.6353101320701747,0.6381515315545849,0.6637214012878673,0.6563472305194982,0.5060577267761268,0.5212795506131116,0.6036113736108025,0.6143092387779693,0.5430500978260878,0.5471148848543735,0.5419746149772063,0.5614671169652111,0.527953902067423,0.5005701139178707,0.5437906618329076,0.5746086664182077,0.5958942692593584,0.6219558570896369,0.6152008258565708,0.6878052826519868,1.0,0.528119656039408,0.5641246387702096,0.6346199357965413,0.6538438859210111,0.5999271372088669,0.6133473564676009,0.6036018787373574,0.5722142891636534,0.5900413160562592,0.6258034089429375,0.6121920738916677,0.6600925734675345,0.6962955984426433],[0.4578959616591478,0.5226107131909038,0.6328739512612555,0.5261034850850042,0.5585477016338982,0.5969438623457134,0.5607881528640715,0.6043159766559042,0.668509334367341,0.6028592786151433,0.6437108254384574,0.5783779765483849,0.5396013097011712,0.5128707660142544,0.5847912338207493,0.5479165665092118,0.5523769502911812,0.5974115054466185,0.6228277419435222,0.6249744992766841,0.5054740153321053,0.5032813458350921,0.46917490956859503,0.5314991008800161,0.5432617272165127,0.5193319862088133,0.5630707726110491,0.595772494060384,0.5624272155871457,0.556709612164908,0.5642928930916054,0.5553195477943561,0.6023164929915982,0.6606282664228388,0.6717776095228237,0.6080972527677041,0.528119656039408,0.9999999999999999,0.5712524432999542,0.6813209636810746,0.7288438111865495,0.6734024996421992,0.5889176483552734,0.58245368012763,0.6410803216370309,0.6943469183176739,0.8237730414028095,0.6824565227227603,0.6843010340888923,0.7181927546828241],[0.48077840761826157,0.5978600677584501,0.6778535925350849,0.7245443944894879,0.589196277528788,0.6613583977511728,0.6669464832442665,0.6801339924288679,0.686754198346302,0.6357396049724009,0.6399029163124201,0.6202658615253237,0.6001203234768547,0.5166643702877742,0.6073400348266451,0.6069245665245006,0.5668497175422935,0.6447595845417041,0.6572482086650708,0.6541586645847972,0.4987270389922886,0.528468883491282,0.490489287187107,0.5472616690450129,0.5399652455533774,0.5443415097975869,0.613254386198021,0.6213880945620365,0.6102166105136124,0.5792634176142188,0.5561951930000931,0.5839260468757599,0.6079727620492075,0.6491639997627531,0.6820303852175281,0.5951728973283101,0.5641246387702096,0.5712524432999542,1.0,0.7790454389656152,0.7797907689401778,0.7897379666002887,0.6093732505611467,0.5955315041334812,0.6636907546862519,0.610800053603793,0.672112706396421,0.6897320482207759,0.6763140407174635,0.6888870587052995],[0.5432543437908949,0.638985132015738,0.739430836212952,0.6554918541667023,0.6313523616854633,0.6973326340698699,0.6913806316289542,0.7235248944454579,0.7535664753322232,0.6978301569289649,0.7256647228674077,0.7241615867317318,0.6596051960841719,0.5780986972687934,0.6734107701379562,0.6413688372918424,0.6118876019405265,0.6730508238478242,0.6882009243100362,0.688957213410598,0.5744472333383508,0.5966738880593112,0.5491906255466936,0.6068473328008749,0.5957322786654022,0.6013866303848358,0.6658760755973177,0.6707683661018481,0.6561369683704789,0.6417083414720591,0.651210325895555,0.6462369417141705,0.6613710302172411,0.7239427767631147,0.742377836544179,0.6622886920370955,0.6346199357965413,0.6813209636810746,0.7790454389656152,1.0000000000000002,0.8023984376528189,0.8349990793929759,0.7032600348351846,0.6601463570262158,0.7497823994270514,0.69290398584804,0.762966199781916,0.771012400395842,0.8029994610159458,0.7426115731357998],[0.5312207919353821,0.6978295205514681,0.8320920783081281,0.7398081352975642,0.700210716895484,0.78267797916872,0.7695435470234592,0.8067871874471224,0.8395473415123439,0.754615113699004,0.8026521922527265,0.7444936775817423,0.7092548725255311,0.6026320362030942,0.7005988817395785,0.6701663752018464,0.6341782750346684,0.7361838943711277,0.772480913164081,0.7626529046097547,0.5658420821671135,0.6198377813520001,0.5874632491882844,0.6553696113697641,0.629596326512328,0.6306936914068173,0.6600800687720348,0.6770712754624226,0.7083864039798136,0.6380675932579738,0.6463063302100515,0.6531138012731789,0.6944720043547834,0.7548315938961463,0.7804020396381386,0.6813120875231496,0.6538438859210111,0.7288438111865495,0.7797907689401778,0.8023984376528189,0.9999999999999999,0.8784731766422068,0.6876207825916493,0.6382205827986797,0.7109776573844064,0.7474785541713735,0.8206029965994865,0.7920642420420088,0.7682227356943478,0.758462769041382],[0.5326931393902388,0.650773367492862,0.7174599936748202,0.683412869693446,0.6287168010454625,0.6930871200032601,0.697630029305797,0.732863999290399,0.7570846733012241,0.7003323097424435,0.6978709615204318,0.7042996846783092,0.660443168521153,0.5777379981771861,0.6777242885035747,0.6712958752376381,0.6025086527775371,0.6965528784427849,0.7192057553142813,0.7199804862077569,0.5914532982271267,0.636756282413202,0.55905830408974,0.6268909036153815,0.6266191548177984,0.6280599735178962,0.7221676784692549,0.7106621245713369,0.7138501707593995,0.7210468153266522,0.6756502041517843,0.6494536146135543,0.6910376705360838,0.769133710111441,0.8165055462146593,0.6628212481287608,0.5999271372088669,0.6734024996421992,0.7897379666002887,0.8349990793929759,0.8784731766422068,1.0000000000000002,0.725805384418172,0.667732250408247,0.7941405473302181,0.7189438607247045,0.7936714062242065,0.7853232316714995,0.788310358770445,0.7695727063955449],[0.5217110593602328,0.6100147866496407,0.6422398544139708,0.6142456129349464,0.5960242203479931,0.6682160765886668,0.66684159006638,0.6925979258881665,0.7002067241111224,0.6542474708036162,0.6582624349306219,0.6840212494405156,0.6179389648255108,0.6109824764285121,0.727999371072043,0.6675616122027159,0.658930153968371,0.6404592480894509,0.6801380842770592,0.7260252983000544,0.7061848479418896,0.715799436750276,0.5632842110206833,0.6319763063783065,0.6302594596187174,0.5959295090705896,0.6542431044659626,0.7256736380978301,0.6226739296164336,0.685994977599129,0.676081411416678,0.6546836466505878,0.6551656740757045,0.7107097611962067,0.7566308502809793,0.6383446468455525,0.6133473564676009,0.5889176483552734,0.6093732505611467,0.7032600348351846,0.6876207825916493,0.725805384418172,1.0000000000000002,0.6909244150408699,0.6505918677165421,0.6539461510765046,0.709400285806178,0.7110390068449959,0.7845816422096418,0.7168926824402899],[0.464978011945013,0.5810363697520384,0.6113029655373058,0.5600456851984964,0.5987791759300557,0.6221886123914577,0.6104751937045897,0.63961763343169,0.6762373400351516,0.6474047145482676,0.6325021062050068,0.6283352864363234,0.5697565192808053,0.6085289468419299,0.6780462441648925,0.639488395962182,0.6231883735314243,0.6356687866286501,0.632382610866757,0.650255285957932,0.6921968319897082,0.6247077536928749,0.5575637665180733,0.6510104599381028,0.5956006081247817,0.5761334909165524,0.6566264332028776,0.7323271909051814,0.6021795814633197,0.6996978732534721,0.7203000236655306,0.6289677743488642,0.6743121981862825,0.6819160364157516,0.7377921710372959,0.6624667283639482,0.6036018787373574,0.58245368012763,0.5955315041334812,0.6601463570262158,0.6382205827986797,0.667732250408247,0.6909244150408699,1.0000000000000002,0.6051292973742735,0.6093839794735373,0.6852079170949917,0.6643630801227798,0.8485900456988293,0.7522701140029964],[0.47394283692771666,0.5378708002269755,0.5986736518193683,0.5962147123411531,0.5777919843183746,0.6297016418954917,0.6118670155798027,0.6480623891622277,0.7162331149088262,0.6402938167257155,0.6915051840363274,0.691120078884143,0.6189661427083442,0.561303537945453,0.60899503531146,0.5952428913794864,0.5432466959044233,0.6257647488185623,0.6307066515862801,0.6192720753032541,0.561876232901095,0.5572649011421362,0.5120317778779641,0.5372106373063702,0.5613845406444155,0.5999061802434079,0.6522539977198275,0.6237890240254906,0.6920127919625586,0.6712879300655827,0.692248095526751,0.5739293469904443,0.6577703757240428,0.7772233884216355,0.7579643903037442,0.6463248015887904,0.5722142891636534,0.6410803216370309,0.6636907546862519,0.7497823994270514,0.7109776573844064,0.7941405473302181,0.6505918677165421,0.6051292973742735,0.9999999999999998,0.6912986214680988,0.783305310504443,0.7647240700192453,0.7553964174239337,0.7813323369445244],[0.5694405529302534,0.5712409643303471,0.6544758002864512,0.5912641967283098,0.5792798206381112,0.6536580428417045,0.6315798416394673,0.6885490620846172,0.7525462820175558,0.665610735153247,0.6767085340435444,0.6638414988994987,0.6054470267576817,0.5424255197558888,0.6345243417687833,0.6026634378347501,0.6159442531177753,0.6598126655924837,0.7242955765042528,0.6801588571310259,0.5502324844573401,0.568536216431379,0.5075140605102134,0.5482096592986733,0.5889493369635816,0.6006774448658418,0.6326502566266518,0.6565425408466756,0.6060687844905862,0.6315693530516175,0.6474815047289337,0.60425457532293,0.638444507117431,0.7607380715094967,0.7348822254529532,0.7201932667428921,0.5900413160562592,0.6943469183176739,0.610800053603793,0.69290398584804,0.7474785541713735,0.7189438607247045,0.6539461510765046,0.6093839794735373,0.6912986214680988,1.0,0.8707612744411861,0.7748146142763421,0.7399337753884824,0.769813413833802],[0.535667925923358,0.6141590376790897,0.6921475375019802,0.628838340539614,0.660411291061772,0.7086587222202491,0.6839221060952374,0.7477946821902298,0.7940133933428137,0.718707585857996,0.7511902743323777,0.7393956348001779,0.6430101668276984,0.6220953989094172,0.6762653786035833,0.6805960117396069,0.6448002442965138,0.7126748224656753,0.7645091130317834,0.7382537149189222,0.6295608328776855,0.6085299657928573,0.554404181647214,0.6001030119718246,0.6362612594903382,0.6342578900237928,0.7112338065925782,0.7269538112151303,0.7074021687861628,0.7295324708702012,0.7429722643195827,0.6562865317646128,0.7191294151668686,0.8516181309470752,0.8439744036219552,0.7358215220519326,0.6258034089429375,0.8237730414028095,0.672112706396421,0.762966199781916,0.8206029965994865,0.7936714062242065,0.709400285806178,0.6852079170949917,0.783305310504443,0.8707612744411861,1.0000000000000002,0.8839332312342129,0.8270926219232569,0.8481803710029393],[0.5428423522526904,0.5954858999567473,0.6578865431965275,0.6122667967910572,0.6483326191639044,0.6694086329128365,0.64365309450559,0.6856534652786508,0.7429908595952289,0.6892321233935707,0.7218052444470506,0.7379563897577395,0.6005027424386923,0.6190528918594665,0.6591073578797659,0.6958346995570326,0.6260138466247478,0.6833108587710381,0.7031092856826048,0.699035434793766,0.6037293432538136,0.5911896441791056,0.547282765262529,0.5845244458249405,0.6306480042185186,0.6326690171024272,0.6878065086842523,0.6787316719987734,0.7591959752270284,0.792116934668684,0.7631523184361112,0.6507573087284146,0.7303758563494871,0.8399577192845717,0.8250071332743794,0.717960966683771,0.6121920738916677,0.6824565227227603,0.6897320482207759,0.771012400395842,0.7920642420420088,0.7853232316714995,0.7110390068449959,0.6643630801227798,0.7647240700192453,0.7748146142763421,0.8839332312342129,1.0,0.8034591395397763,0.7943215983677999],[0.5437609826991403,0.6547124521203207,0.6940829650274858,0.648218491843042,0.6489989781432434,0.7176491280139005,0.707747302845437,0.7542289479404797,0.790400548580838,0.725941755329167,0.7617205865717553,0.7659263324895756,0.6724459824500638,0.6720658629033279,0.7797135549405374,0.7222838743907714,0.7035686608754183,0.7234873444362503,0.7426420183548695,0.7557806071364401,0.6815192799036729,0.691568528741959,0.5965681058588626,0.6757299585081967,0.6771767144049149,0.6563733460111171,0.7840451245844255,0.7953821473912335,0.7055637154492872,0.8121269833219692,0.8220272075356139,0.7016183634909133,0.7345364433474817,0.798963312376958,0.8478853539702216,0.7406322609710367,0.6600925734675345,0.6843010340888923,0.6763140407174635,0.8029994610159458,0.7682227356943478,0.788310358770445,0.7845816422096418,0.8485900456988293,0.7553964174239337,0.7399337753884824,0.8270926219232569,0.8034591395397763,1.0000000000000002,0.8129405037782407],[0.5338634858920228,0.619269979102572,0.6669047872618973,0.6315144729802005,0.7097231987658666,0.7532233945016968,0.7122125960940616,0.7405112077009588,0.8133981281900241,0.7374366611063284,0.7707925304839904,0.7501018927229125,0.6618569161599973,0.6158001505647123,0.7002196830988419,0.691145695889408,0.7188138230562381,0.7406953588955651,0.7363074983529276,0.7417931095957621,0.657492578706374,0.6777521899739946,0.6212184596608217,0.6844167467135135,0.636021487199092,0.6584894721664966,0.6884250596594629,0.7614413837678123,0.6828845779010028,0.6886701135927478,0.6971431535763994,0.6761003406104852,0.7040964289448439,0.7796560293819194,0.8111214999856021,0.7725674009606528,0.6962955984426433,0.7181927546828241,0.6888870587052995,0.7426115731357998,0.758462769041382,0.7695727063955449,0.7168926824402899,0.7522701140029964,0.7813323369445244,0.769813413833802,0.8481803710029393,0.7943215983677999,0.8129405037782407,1.0]],\"type\":\"heatmap\",\"xaxis\":\"x\",\"yaxis\":\"y\",\"hovertemplate\":\"No Pretrain: %{x}\\u003cbr\\u003eNo Pretrain: %{y}\\u003cbr\\u003eCosine Similarity: %{z}\\u003cextra\\u003e\\u003c\\u002fextra\\u003e\"}],                        {\"template\":{\"data\":{\"histogram2dcontour\":[{\"type\":\"histogram2dcontour\",\"colorbar\":{\"outlinewidth\":0,\"ticks\":\"\"},\"colorscale\":[[0.0,\"#0d0887\"],[0.1111111111111111,\"#46039f\"],[0.2222222222222222,\"#7201a8\"],[0.3333333333333333,\"#9c179e\"],[0.4444444444444444,\"#bd3786\"],[0.5555555555555556,\"#d8576b\"],[0.6666666666666666,\"#ed7953\"],[0.7777777777777778,\"#fb9f3a\"],[0.8888888888888888,\"#fdca26\"],[1.0,\"#f0f921\"]]}],\"choropleth\":[{\"type\":\"choropleth\",\"colorbar\":{\"outlinewidth\":0,\"ticks\":\"\"}}],\"histogram2d\":[{\"type\":\"histogram2d\",\"colorbar\":{\"outlinewidth\":0,\"ticks\":\"\"},\"colorscale\":[[0.0,\"#0d0887\"],[0.1111111111111111,\"#46039f\"],[0.2222222222222222,\"#7201a8\"],[0.3333333333333333,\"#9c179e\"],[0.4444444444444444,\"#bd3786\"],[0.5555555555555556,\"#d8576b\"],[0.6666666666666666,\"#ed7953\"],[0.7777777777777778,\"#fb9f3a\"],[0.8888888888888888,\"#fdca26\"],[1.0,\"#f0f921\"]]}],\"heatmap\":[{\"type\":\"heatmap\",\"colorbar\":{\"outlinewidth\":0,\"ticks\":\"\"},\"colorscale\":[[0.0,\"#0d0887\"],[0.1111111111111111,\"#46039f\"],[0.2222222222222222,\"#7201a8\"],[0.3333333333333333,\"#9c179e\"],[0.4444444444444444,\"#bd3786\"],[0.5555555555555556,\"#d8576b\"],[0.6666666666666666,\"#ed7953\"],[0.7777777777777778,\"#fb9f3a\"],[0.8888888888888888,\"#fdca26\"],[1.0,\"#f0f921\"]]}],\"heatmapgl\":[{\"type\":\"heatmapgl\",\"colorbar\":{\"outlinewidth\":0,\"ticks\":\"\"},\"colorscale\":[[0.0,\"#0d0887\"],[0.1111111111111111,\"#46039f\"],[0.2222222222222222,\"#7201a8\"],[0.3333333333333333,\"#9c179e\"],[0.4444444444444444,\"#bd3786\"],[0.5555555555555556,\"#d8576b\"],[0.6666666666666666,\"#ed7953\"],[0.7777777777777778,\"#fb9f3a\"],[0.8888888888888888,\"#fdca26\"],[1.0,\"#f0f921\"]]}],\"contourcarpet\":[{\"type\":\"contourcarpet\",\"colorbar\":{\"outlinewidth\":0,\"ticks\":\"\"}}],\"contour\":[{\"type\":\"contour\",\"colorbar\":{\"outlinewidth\":0,\"ticks\":\"\"},\"colorscale\":[[0.0,\"#0d0887\"],[0.1111111111111111,\"#46039f\"],[0.2222222222222222,\"#7201a8\"],[0.3333333333333333,\"#9c179e\"],[0.4444444444444444,\"#bd3786\"],[0.5555555555555556,\"#d8576b\"],[0.6666666666666666,\"#ed7953\"],[0.7777777777777778,\"#fb9f3a\"],[0.8888888888888888,\"#fdca26\"],[1.0,\"#f0f921\"]]}],\"surface\":[{\"type\":\"surface\",\"colorbar\":{\"outlinewidth\":0,\"ticks\":\"\"},\"colorscale\":[[0.0,\"#0d0887\"],[0.1111111111111111,\"#46039f\"],[0.2222222222222222,\"#7201a8\"],[0.3333333333333333,\"#9c179e\"],[0.4444444444444444,\"#bd3786\"],[0.5555555555555556,\"#d8576b\"],[0.6666666666666666,\"#ed7953\"],[0.7777777777777778,\"#fb9f3a\"],[0.8888888888888888,\"#fdca26\"],[1.0,\"#f0f921\"]]}],\"mesh3d\":[{\"type\":\"mesh3d\",\"colorbar\":{\"outlinewidth\":0,\"ticks\":\"\"}}],\"scatter\":[{\"fillpattern\":{\"fillmode\":\"overlay\",\"size\":10,\"solidity\":0.2},\"type\":\"scatter\"}],\"parcoords\":[{\"type\":\"parcoords\",\"line\":{\"colorbar\":{\"outlinewidth\":0,\"ticks\":\"\"}}}],\"scatterpolargl\":[{\"type\":\"scatterpolargl\",\"marker\":{\"colorbar\":{\"outlinewidth\":0,\"ticks\":\"\"}}}],\"bar\":[{\"error_x\":{\"color\":\"#2a3f5f\"},\"error_y\":{\"color\":\"#2a3f5f\"},\"marker\":{\"line\":{\"color\":\"#E5ECF6\",\"width\":0.5},\"pattern\":{\"fillmode\":\"overlay\",\"size\":10,\"solidity\":0.2}},\"type\":\"bar\"}],\"scattergeo\":[{\"type\":\"scattergeo\",\"marker\":{\"colorbar\":{\"outlinewidth\":0,\"ticks\":\"\"}}}],\"scatterpolar\":[{\"type\":\"scatterpolar\",\"marker\":{\"colorbar\":{\"outlinewidth\":0,\"ticks\":\"\"}}}],\"histogram\":[{\"marker\":{\"pattern\":{\"fillmode\":\"overlay\",\"size\":10,\"solidity\":0.2}},\"type\":\"histogram\"}],\"scattergl\":[{\"type\":\"scattergl\",\"marker\":{\"colorbar\":{\"outlinewidth\":0,\"ticks\":\"\"}}}],\"scatter3d\":[{\"type\":\"scatter3d\",\"line\":{\"colorbar\":{\"outlinewidth\":0,\"ticks\":\"\"}},\"marker\":{\"colorbar\":{\"outlinewidth\":0,\"ticks\":\"\"}}}],\"scattermapbox\":[{\"type\":\"scattermapbox\",\"marker\":{\"colorbar\":{\"outlinewidth\":0,\"ticks\":\"\"}}}],\"scatterternary\":[{\"type\":\"scatterternary\",\"marker\":{\"colorbar\":{\"outlinewidth\":0,\"ticks\":\"\"}}}],\"scattercarpet\":[{\"type\":\"scattercarpet\",\"marker\":{\"colorbar\":{\"outlinewidth\":0,\"ticks\":\"\"}}}],\"carpet\":[{\"aaxis\":{\"endlinecolor\":\"#2a3f5f\",\"gridcolor\":\"white\",\"linecolor\":\"white\",\"minorgridcolor\":\"white\",\"startlinecolor\":\"#2a3f5f\"},\"baxis\":{\"endlinecolor\":\"#2a3f5f\",\"gridcolor\":\"white\",\"linecolor\":\"white\",\"minorgridcolor\":\"white\",\"startlinecolor\":\"#2a3f5f\"},\"type\":\"carpet\"}],\"table\":[{\"cells\":{\"fill\":{\"color\":\"#EBF0F8\"},\"line\":{\"color\":\"white\"}},\"header\":{\"fill\":{\"color\":\"#C8D4E3\"},\"line\":{\"color\":\"white\"}},\"type\":\"table\"}],\"barpolar\":[{\"marker\":{\"line\":{\"color\":\"#E5ECF6\",\"width\":0.5},\"pattern\":{\"fillmode\":\"overlay\",\"size\":10,\"solidity\":0.2}},\"type\":\"barpolar\"}],\"pie\":[{\"automargin\":true,\"type\":\"pie\"}]},\"layout\":{\"autotypenumbers\":\"strict\",\"colorway\":[\"#636efa\",\"#EF553B\",\"#00cc96\",\"#ab63fa\",\"#FFA15A\",\"#19d3f3\",\"#FF6692\",\"#B6E880\",\"#FF97FF\",\"#FECB52\"],\"font\":{\"color\":\"#2a3f5f\"},\"hovermode\":\"closest\",\"hoverlabel\":{\"align\":\"left\"},\"paper_bgcolor\":\"white\",\"plot_bgcolor\":\"#E5ECF6\",\"polar\":{\"bgcolor\":\"#E5ECF6\",\"angularaxis\":{\"gridcolor\":\"white\",\"linecolor\":\"white\",\"ticks\":\"\"},\"radialaxis\":{\"gridcolor\":\"white\",\"linecolor\":\"white\",\"ticks\":\"\"}},\"ternary\":{\"bgcolor\":\"#E5ECF6\",\"aaxis\":{\"gridcolor\":\"white\",\"linecolor\":\"white\",\"ticks\":\"\"},\"baxis\":{\"gridcolor\":\"white\",\"linecolor\":\"white\",\"ticks\":\"\"},\"caxis\":{\"gridcolor\":\"white\",\"linecolor\":\"white\",\"ticks\":\"\"}},\"coloraxis\":{\"colorbar\":{\"outlinewidth\":0,\"ticks\":\"\"}},\"colorscale\":{\"sequential\":[[0.0,\"#0d0887\"],[0.1111111111111111,\"#46039f\"],[0.2222222222222222,\"#7201a8\"],[0.3333333333333333,\"#9c179e\"],[0.4444444444444444,\"#bd3786\"],[0.5555555555555556,\"#d8576b\"],[0.6666666666666666,\"#ed7953\"],[0.7777777777777778,\"#fb9f3a\"],[0.8888888888888888,\"#fdca26\"],[1.0,\"#f0f921\"]],\"sequentialminus\":[[0.0,\"#0d0887\"],[0.1111111111111111,\"#46039f\"],[0.2222222222222222,\"#7201a8\"],[0.3333333333333333,\"#9c179e\"],[0.4444444444444444,\"#bd3786\"],[0.5555555555555556,\"#d8576b\"],[0.6666666666666666,\"#ed7953\"],[0.7777777777777778,\"#fb9f3a\"],[0.8888888888888888,\"#fdca26\"],[1.0,\"#f0f921\"]],\"diverging\":[[0,\"#8e0152\"],[0.1,\"#c51b7d\"],[0.2,\"#de77ae\"],[0.3,\"#f1b6da\"],[0.4,\"#fde0ef\"],[0.5,\"#f7f7f7\"],[0.6,\"#e6f5d0\"],[0.7,\"#b8e186\"],[0.8,\"#7fbc41\"],[0.9,\"#4d9221\"],[1,\"#276419\"]]},\"xaxis\":{\"gridcolor\":\"white\",\"linecolor\":\"white\",\"ticks\":\"\",\"title\":{\"standoff\":15},\"zerolinecolor\":\"white\",\"automargin\":true,\"zerolinewidth\":2},\"yaxis\":{\"gridcolor\":\"white\",\"linecolor\":\"white\",\"ticks\":\"\",\"title\":{\"standoff\":15},\"zerolinecolor\":\"white\",\"automargin\":true,\"zerolinewidth\":2},\"scene\":{\"xaxis\":{\"backgroundcolor\":\"#E5ECF6\",\"gridcolor\":\"white\",\"linecolor\":\"white\",\"showbackground\":true,\"ticks\":\"\",\"zerolinecolor\":\"white\",\"gridwidth\":2},\"yaxis\":{\"backgroundcolor\":\"#E5ECF6\",\"gridcolor\":\"white\",\"linecolor\":\"white\",\"showbackground\":true,\"ticks\":\"\",\"zerolinecolor\":\"white\",\"gridwidth\":2},\"zaxis\":{\"backgroundcolor\":\"#E5ECF6\",\"gridcolor\":\"white\",\"linecolor\":\"white\",\"showbackground\":true,\"ticks\":\"\",\"zerolinecolor\":\"white\",\"gridwidth\":2}},\"shapedefaults\":{\"line\":{\"color\":\"#2a3f5f\"}},\"annotationdefaults\":{\"arrowcolor\":\"#2a3f5f\",\"arrowhead\":0,\"arrowwidth\":1},\"geo\":{\"bgcolor\":\"white\",\"landcolor\":\"#E5ECF6\",\"subunitcolor\":\"white\",\"showland\":true,\"showlakes\":true,\"lakecolor\":\"white\"},\"title\":{\"x\":0.05},\"mapbox\":{\"style\":\"light\"}}},\"xaxis\":{\"anchor\":\"y\",\"domain\":[0.0,1.0],\"scaleanchor\":\"y\",\"constrain\":\"domain\",\"title\":{\"text\":\"No Pretrain\"}},\"yaxis\":{\"anchor\":\"x\",\"domain\":[0.0,1.0],\"autorange\":\"reversed\",\"constrain\":\"domain\",\"title\":{\"text\":\"No Pretrain\"}},\"coloraxis\":{\"colorbar\":{\"title\":{\"text\":\"Cosine Similarity\"}},\"colorscale\":[[0.0,\"#0d0887\"],[0.1111111111111111,\"#46039f\"],[0.2222222222222222,\"#7201a8\"],[0.3333333333333333,\"#9c179e\"],[0.4444444444444444,\"#bd3786\"],[0.5555555555555556,\"#d8576b\"],[0.6666666666666666,\"#ed7953\"],[0.7777777777777778,\"#fb9f3a\"],[0.8888888888888888,\"#fdca26\"],[1.0,\"#f0f921\"]]},\"title\":{\"text\":\"Audio Embedding Cosine Self Similarity (No Pretrain)\"},\"width\":1000,\"height\":1000},                        {\"responsive\": true}                    ).then(function(){\n",
       "                            \n",
       "var gd = document.getElementById('103103e8-99aa-484c-bdb4-697f11378544');\n",
       "var x = new MutationObserver(function (mutations, observer) {{\n",
       "        var display = window.getComputedStyle(gd).display;\n",
       "        if (!display || display === 'none') {{\n",
       "            console.log([gd, 'removed!']);\n",
       "            Plotly.purge(gd);\n",
       "            observer.disconnect();\n",
       "        }}\n",
       "}});\n",
       "\n",
       "// Listen for the removal of the full notebook cells\n",
       "var notebookContainer = gd.closest('#notebook-container');\n",
       "if (notebookContainer) {{\n",
       "    x.observe(notebookContainer, {childList: true});\n",
       "}}\n",
       "\n",
       "// Listen for the clearing of the current output cell\n",
       "var outputEl = gd.closest('.output');\n",
       "if (outputEl) {{\n",
       "    x.observe(outputEl, {childList: true});\n",
       "}}\n",
       "\n",
       "                        })                };                });            </script>        </div>"
      ]
     },
     "metadata": {},
     "output_type": "display_data"
    }
   ],
   "source": [
    "heatmap(no_pretrain_embedded_audios,\n",
    "        no_pretrain_embedded_audios,\n",
    "        xlabel='No Pretrain',\n",
    "        ylabel='No Pretrain',\n",
    "        title='Audio Embedding Cosine Self Similarity (No Pretrain)',\n",
    "        order=get_dendrogram_order('audio', pretrain=False))"
   ]
  },
  {
   "cell_type": "markdown",
   "metadata": {},
   "source": [
    "### **With** language-audio pre-training "
   ]
  },
  {
   "cell_type": "code",
   "execution_count": 31,
   "metadata": {},
   "outputs": [],
   "source": [
    "%%capture\n",
    "clap_model.clap.audio_encoder.base.to(DEVICE)"
   ]
  },
  {
   "cell_type": "code",
   "execution_count": 32,
   "metadata": {},
   "outputs": [
    {
     "data": {
      "application/json": {
       "ascii": false,
       "bar_format": null,
       "colour": null,
       "elapsed": 0.006613731384277344,
       "initial": 0,
       "n": 0,
       "ncols": null,
       "nrows": null,
       "postfix": null,
       "prefix": "",
       "rate": null,
       "total": 2000,
       "unit": "it",
       "unit_divisor": 1000,
       "unit_scale": false
      },
      "application/vnd.jupyter.widget-view+json": {
       "model_id": "f0b95b40a21446a7a819b8b100b5c455",
       "version_major": 2,
       "version_minor": 0
      },
      "text/plain": [
       "  0%|          | 0/2000 [00:00<?, ?it/s]"
      ]
     },
     "metadata": {},
     "output_type": "display_data"
    }
   ],
   "source": [
    "embeddings = pd.DataFrame(columns=['patch_idx', 'patch_name', 'class_name', 'class_idx', 'embedding'])\n",
    "\n",
    "for patch_idx, patch in enumerate(tqdm(dataset)):\n",
    "    audio_path, class_name, one_hot_target = patch\n",
    "    class_idx = dataset.class_to_idx[class_name]\n",
    "    patch_name = audio_path.split('/')[-1].split('.')[0]\n",
    "\n",
    "    audio = clap_model.preprocess_audio([audio_path], False)\n",
    "    audio = audio.reshape(audio.shape[0], audio.shape[2])\n",
    "    audio_embedding = clap_model.clap.audio_encoder.base(audio.to(DEVICE))\n",
    "    audio_embedding = audio_embedding['embedding'].squeeze().detach().cpu().numpy()\n",
    "\n",
    "    embeddings.loc[len(embeddings)] = [patch_idx, patch_name, class_name, class_idx, audio_embedding]"
   ]
  },
  {
   "cell_type": "code",
   "execution_count": 33,
   "metadata": {},
   "outputs": [],
   "source": [
    "classwise_embeddings = []\n",
    "\n",
    "# Take the average audio embedding for each class\n",
    "for class_idx in range(NUM_CLASSES):\n",
    "    class_embeddings = embeddings[embeddings['class_idx'] == class_idx]['embedding'].to_list()\n",
    "    class_embeddings = np.array(class_embeddings)\n",
    "    class_embeddings = class_embeddings.mean(axis=0)\n",
    "    classwise_embeddings.append(class_embeddings)\n",
    "\n",
    "pretrain_embedded_audios = np.array(classwise_embeddings)"
   ]
  },
  {
   "cell_type": "code",
   "execution_count": 34,
   "metadata": {},
   "outputs": [
    {
     "data": {
      "application/vnd.plotly.v1+json": {
       "config": {
        "plotlyServerURL": "https://plot.ly"
       },
       "data": [
        {
         "coloraxis": "coloraxis",
         "hovertemplate": "Pretrain: %{x}<br>Pretrain: %{y}<br>Cosine Similarity: %{z}<extra></extra>",
         "name": "0",
         "type": "heatmap",
         "x": [
          "toilet flush",
          "pouring water",
          "water drops",
          "drinking sipping",
          "keyboard typing",
          "clock alarm",
          "clock tick",
          "door wood creaks",
          "mouse click",
          "can opening",
          "church bells",
          "chainsaw",
          "train",
          "crickets",
          "chirping birds",
          "rain",
          "crackling fire",
          "sea waves",
          "wind",
          "siren",
          "car horn",
          "helicopter",
          "airplane",
          "engine",
          "washing machine",
          "vacuum cleaner",
          "clapping",
          "door wood knock",
          "footsteps",
          "fireworks",
          "dog",
          "thunderstorm",
          "cat",
          "pig",
          "cow",
          "sheep",
          "crow",
          "rooster",
          "hen",
          "frog",
          "insects",
          "brushing teeth",
          "hand saw",
          "breathing",
          "snoring",
          "crying baby",
          "laughing",
          "glass breaking",
          "sneezing",
          "coughing"
         ],
         "xaxis": "x",
         "y": [
          "toilet flush",
          "pouring water",
          "water drops",
          "drinking sipping",
          "keyboard typing",
          "clock alarm",
          "clock tick",
          "door wood creaks",
          "mouse click",
          "can opening",
          "church bells",
          "chainsaw",
          "train",
          "crickets",
          "chirping birds",
          "rain",
          "crackling fire",
          "sea waves",
          "wind",
          "siren",
          "car horn",
          "helicopter",
          "airplane",
          "engine",
          "washing machine",
          "vacuum cleaner",
          "clapping",
          "door wood knock",
          "footsteps",
          "fireworks",
          "dog",
          "thunderstorm",
          "cat",
          "pig",
          "cow",
          "sheep",
          "crow",
          "rooster",
          "hen",
          "frog",
          "insects",
          "brushing teeth",
          "hand saw",
          "breathing",
          "snoring",
          "crying baby",
          "laughing",
          "glass breaking",
          "sneezing",
          "coughing"
         ],
         "yaxis": "y",
         "z": [
          [
           1.0000001192092896,
           0.5764039754867554,
           0.48227208852767944,
           0.5374447107315063,
           0.1831623613834381,
           0.2416173815727234,
           0.21865177154541016,
           0.3064148426055908,
           0.27373215556144714,
           0.3199552297592163,
           0.17356154322624207,
           0.31157711148262024,
           0.24587459862232208,
           0.17283709347248077,
           0.2364034652709961,
           0.32776519656181335,
           0.2376192957162857,
           0.35281383991241455,
           0.33779746294021606,
           0.2597452998161316,
           0.23402395844459534,
           0.27611446380615234,
           0.26002582907676697,
           0.3139154314994812,
           0.4903443157672882,
           0.4108741581439972,
           0.3200020492076874,
           0.27490267157554626,
           0.2748986482620239,
           0.2127797156572342,
           0.2901918590068817,
           0.2337990403175354,
           0.19372695684432983,
           0.45549553632736206,
           0.3649372160434723,
           0.27457576990127563,
           0.2301027774810791,
           0.26166579127311707,
           0.3204249143600464,
           0.2590887248516083,
           0.1724027544260025,
           0.278633177280426,
           0.36002832651138306,
           0.33426517248153687,
           0.352119505405426,
           0.27430447936058044,
           0.4001489281654358,
           0.31514689326286316,
           0.36821624636650085,
           0.4235968291759491
          ],
          [
           0.5764039754867554,
           1,
           0.7860516905784607,
           0.6977232098579407,
           0.2890896797180176,
           0.39058756828308105,
           0.338640034198761,
           0.33306512236595154,
           0.44310247898101807,
           0.5311356782913208,
           0.1391863077878952,
           0.27439218759536743,
           0.15765409171581268,
           0.27505233883857727,
           0.3219820261001587,
           0.34118297696113586,
           0.38462305068969727,
           0.2963274121284485,
           0.2525205910205841,
           0.272492915391922,
           0.23712149262428284,
           0.2209416627883911,
           0.1821088343858719,
           0.3546965420246124,
           0.398050993680954,
           0.3260175585746765,
           0.3489750921726227,
           0.3579546809196472,
           0.27744153141975403,
           0.19260884821414948,
           0.26586803793907166,
           0.1782187521457672,
           0.2115745097398758,
           0.29463329911231995,
           0.22617052495479584,
           0.18497437238693237,
           0.23123162984848022,
           0.2701471149921417,
           0.3000941276550293,
           0.30062612891197205,
           0.15061669051647186,
           0.35324737429618835,
           0.25110000371932983,
           0.29272225499153137,
           0.32371553778648376,
           0.35495883226394653,
           0.42067813873291016,
           0.3549972474575043,
           0.3539084792137146,
           0.4177313446998596
          ],
          [
           0.48227208852767944,
           0.7860516905784607,
           1,
           0.8024290204048157,
           0.3396419882774353,
           0.40863391757011414,
           0.4595010578632355,
           0.3979071378707886,
           0.5711435079574585,
           0.5783969759941101,
           0.17186595499515533,
           0.20511913299560547,
           0.1886991709470749,
           0.31871581077575684,
           0.3742426037788391,
           0.32923367619514465,
           0.5017266869544983,
           0.3546851873397827,
           0.3568144142627716,
           0.2925228774547577,
           0.2810799777507782,
           0.23572678864002228,
           0.21990425884723663,
           0.32327356934547424,
           0.40422189235687256,
           0.3226849138736725,
           0.345814973115921,
           0.50310879945755,
           0.4407859444618225,
           0.28274017572402954,
           0.3075430691242218,
           0.24925726652145386,
           0.28822875022888184,
           0.29513296484947205,
           0.21145792305469513,
           0.18738554418087006,
           0.3036655783653259,
           0.27531349658966064,
           0.32938867807388306,
           0.35809412598609924,
           0.19863338768482208,
           0.32153642177581787,
           0.2269573211669922,
           0.3463250994682312,
           0.30487164855003357,
           0.3279370367527008,
           0.44622787833213806,
           0.3615356683731079,
           0.44280993938446045,
           0.46696749329566956
          ],
          [
           0.5374447107315063,
           0.6977232098579407,
           0.8024290204048157,
           1.0000001192092896,
           0.3180484175682068,
           0.34844669699668884,
           0.3532036244869232,
           0.49680501222610474,
           0.5219783186912537,
           0.5344688296318054,
           0.1399959772825241,
           0.30512911081314087,
           0.22847406566143036,
           0.29565587639808655,
           0.31595999002456665,
           0.26867035031318665,
           0.4437834322452545,
           0.4079696834087372,
           0.42643171548843384,
           0.25947993993759155,
           0.27112483978271484,
           0.31426021456718445,
           0.29927799105644226,
           0.3207473158836365,
           0.42113375663757324,
           0.3293745517730713,
           0.33413973450660706,
           0.4495028853416443,
           0.528752326965332,
           0.30916666984558105,
           0.3591197431087494,
           0.2701874375343323,
           0.3119570314884186,
           0.5295636653900146,
           0.33999988436698914,
           0.2921469509601593,
           0.31363725662231445,
           0.3089582324028015,
           0.40742456912994385,
           0.383430540561676,
           0.26090744137763977,
           0.4386664032936096,
           0.3196597695350647,
           0.5188694000244141,
           0.5569047331809998,
           0.4091145396232605,
           0.5574337840080261,
           0.400917649269104,
           0.568666398525238,
           0.5630959868431091
          ],
          [
           0.1831623613834381,
           0.2890896797180176,
           0.3396419882774353,
           0.3180484175682068,
           1.0000001192092896,
           0.30452585220336914,
           0.4211026430130005,
           0.38526666164398193,
           0.7478386163711548,
           0.4973190426826477,
           0.11427973955869675,
           0.21795430779457092,
           0.1481446772813797,
           0.2544691264629364,
           0.2473941296339035,
           0.35878196358680725,
           0.5194264650344849,
           0.17262057960033417,
           0.23788043856620789,
           0.1791670024394989,
           0.20867687463760376,
           0.222633495926857,
           0.1605454832315445,
           0.3741486072540283,
           0.3510116934776306,
           0.24674923717975616,
           0.37109389901161194,
           0.36117056012153625,
           0.28965622186660767,
           0.22445723414421082,
           0.19406534731388092,
           0.18044476211071014,
           0.17796140909194946,
           0.17882691323757172,
           0.14068002998828888,
           0.13913029432296753,
           0.20008575916290283,
           0.18234883248806,
           0.2577899396419525,
           0.2139299064874649,
           0.1929827630519867,
           0.2499442845582962,
           0.1733843982219696,
           0.22959305346012115,
           0.22571595013141632,
           0.22437383234500885,
           0.3177855610847473,
           0.19170482456684113,
           0.1999996304512024,
           0.2194371372461319
          ],
          [
           0.2416173815727234,
           0.39058756828308105,
           0.40863391757011414,
           0.34844669699668884,
           0.30452585220336914,
           1,
           0.5091145634651184,
           0.5039450526237488,
           0.496629923582077,
           0.4850611388683319,
           0.2128707468509674,
           0.2706104815006256,
           0.19570474326610565,
           0.33772072196006775,
           0.2918950617313385,
           0.23865577578544617,
           0.3443690538406372,
           0.1587398499250412,
           0.2907710075378418,
           0.5020880103111267,
           0.4698896110057831,
           0.3067372441291809,
           0.21408259868621826,
           0.36508649587631226,
           0.478045254945755,
           0.4000299274921417,
           0.2638470232486725,
           0.30790168046951294,
           0.22591747343540192,
           0.24698951840400696,
           0.26339203119277954,
           0.18632444739341736,
           0.2387094348669052,
           0.2771461009979248,
           0.22525554895401,
           0.2290951907634735,
           0.28667163848876953,
           0.3434661030769348,
           0.33390310406684875,
           0.38325291872024536,
           0.18063805997371674,
           0.23966127634048462,
           0.20665329694747925,
           0.232452854514122,
           0.3072792589664459,
           0.33944371342658997,
           0.3701585829257965,
           0.3240102529525757,
           0.25563353300094604,
           0.3029700219631195
          ],
          [
           0.21865177154541016,
           0.338640034198761,
           0.4595010578632355,
           0.3532036244869232,
           0.4211026430130005,
           0.5091145634651184,
           1,
           0.44056907296180725,
           0.7028706073760986,
           0.5801950693130493,
           0.26885563135147095,
           0.19510366022586823,
           0.16597282886505127,
           0.3270114064216614,
           0.25083908438682556,
           0.25196003913879395,
           0.41882386803627014,
           0.15114939212799072,
           0.2380313128232956,
           0.22095155715942383,
           0.254730761051178,
           0.21242603659629822,
           0.16337977349758148,
           0.3195470869541168,
           0.40840181708335876,
           0.2863635718822479,
           0.23911786079406738,
           0.35974204540252686,
           0.24879178404808044,
           0.19331686198711395,
           0.20866350829601288,
           0.18247124552726746,
           0.21576938033103943,
           0.21598327159881592,
           0.16122698783874512,
           0.1418067365884781,
           0.22433294355869293,
           0.2046542465686798,
           0.24582414329051971,
           0.29470574855804443,
           0.2211528718471527,
           0.2533527910709381,
           0.22267623245716095,
           0.22643543779850006,
           0.24389630556106567,
           0.22872479259967804,
           0.2966931462287903,
           0.2332286685705185,
           0.25712332129478455,
           0.2866835296154022
          ],
          [
           0.3064148426055908,
           0.33306512236595154,
           0.3979071378707886,
           0.49680501222610474,
           0.38526666164398193,
           0.5039450526237488,
           0.44056907296180725,
           1.0000001192092896,
           0.6096848249435425,
           0.5308777093887329,
           0.13926054537296295,
           0.45340386033058167,
           0.2245350331068039,
           0.33680129051208496,
           0.3566708266735077,
           0.21026383340358734,
           0.3456829786300659,
           0.20995981991291046,
           0.3552165627479553,
           0.37794578075408936,
           0.38977229595184326,
           0.33045855164527893,
           0.2501993477344513,
           0.3835321068763733,
           0.5523219108581543,
           0.4388527274131775,
           0.2898728847503662,
           0.5179319381713867,
           0.4179237186908722,
           0.3530702292919159,
           0.27634260058403015,
           0.22031843662261963,
           0.4452908933162689,
           0.40952423214912415,
           0.3606467843055725,
           0.3675834834575653,
           0.37934550642967224,
           0.3456352949142456,
           0.41234421730041504,
           0.4193142354488373,
           0.36372867226600647,
           0.3196466267108917,
           0.3497549891471863,
           0.32650482654571533,
           0.4617183804512024,
           0.5365431308746338,
           0.4211517870426178,
           0.29680776596069336,
           0.3307691216468811,
           0.3119533061981201
          ],
          [
           0.27373215556144714,
           0.44310247898101807,
           0.5711435079574585,
           0.5219783186912537,
           0.7478386163711548,
           0.496629923582077,
           0.7028706073760986,
           0.6096848249435425,
           1.0000001192092896,
           0.8004202842712402,
           0.14289243519306183,
           0.3016703724861145,
           0.19617338478565216,
           0.41824305057525635,
           0.34994766116142273,
           0.3264691233634949,
           0.6101279258728027,
           0.21238811314105988,
           0.33967921137809753,
           0.2546093463897705,
           0.2940187156200409,
           0.27946144342422485,
           0.21741074323654175,
           0.41490638256073,
           0.4911688268184662,
           0.3846682012081146,
           0.35115987062454224,
           0.4810432493686676,
           0.37643077969551086,
           0.27348145842552185,
           0.2712704837322235,
           0.21769405901432037,
           0.30186524987220764,
           0.2628253102302551,
           0.19753919541835785,
           0.18113677203655243,
           0.3072627782821655,
           0.2555483281612396,
           0.3216339647769928,
           0.3514708876609802,
           0.28644365072250366,
           0.37181997299194336,
           0.2916121780872345,
           0.3472346067428589,
           0.37509533762931824,
           0.31373387575149536,
           0.4094747006893158,
           0.2671632468700409,
           0.3432063162326813,
           0.35941582918167114
          ],
          [
           0.3199552297592163,
           0.5311356782913208,
           0.5783969759941101,
           0.5344688296318054,
           0.4973190426826477,
           0.4850611388683319,
           0.5801950693130493,
           0.5308777093887329,
           0.8004202842712402,
           1,
           0.15593978762626648,
           0.358359694480896,
           0.1772640496492386,
           0.3898291289806366,
           0.35748642683029175,
           0.2951546311378479,
           0.5804112553596497,
           0.22761417925357819,
           0.2817876935005188,
           0.25945740938186646,
           0.2964126765727997,
           0.27410751581192017,
           0.21684543788433075,
           0.36805734038352966,
           0.44139495491981506,
           0.4273037612438202,
           0.41381698846817017,
           0.4176311790943146,
           0.3893568813800812,
           0.3276124596595764,
           0.2960989475250244,
           0.19642841815948486,
           0.2728049159049988,
           0.2735769748687744,
           0.2077983021736145,
           0.19228039681911469,
           0.3693602681159973,
           0.28564929962158203,
           0.34086039662361145,
           0.34981629252433777,
           0.2511686086654663,
           0.398764967918396,
           0.35080093145370483,
           0.351785272359848,
           0.3453887403011322,
           0.34317606687545776,
           0.46143269538879395,
           0.37342628836631775,
           0.4870983362197876,
           0.44776901602745056
          ],
          [
           0.17356154322624207,
           0.1391863077878952,
           0.17186595499515533,
           0.1399959772825241,
           0.11427973955869675,
           0.2128707468509674,
           0.26885563135147095,
           0.13926054537296295,
           0.14289243519306183,
           0.15593978762626648,
           0.9999999403953552,
           0.12624847888946533,
           0.21782471239566803,
           0.1671341359615326,
           0.21260462701320648,
           0.2099200338125229,
           0.17974433302879333,
           0.15269386768341064,
           0.2531365156173706,
           0.23943568766117096,
           0.2444317638874054,
           0.19866563379764557,
           0.2068580836057663,
           0.17298471927642822,
           0.23393695056438446,
           0.17677514255046844,
           0.17348673939704895,
           0.15044137835502625,
           0.16819041967391968,
           0.17129486799240112,
           0.17440296709537506,
           0.1903005689382553,
           0.10359501093626022,
           0.14651447534561157,
           0.21267731487751007,
           0.17616738379001617,
           0.18783336877822876,
           0.19237922132015228,
           0.2071477621793747,
           0.1386490762233734,
           0.1241765022277832,
           0.1297921985387802,
           0.13975968956947327,
           0.13659660518169403,
           0.11192657053470612,
           0.140701025724411,
           0.16435270011425018,
           0.1516951471567154,
           0.12461245059967041,
           0.14215253293514252
          ],
          [
           0.31157711148262024,
           0.27439218759536743,
           0.20511913299560547,
           0.30512911081314087,
           0.21795430779457092,
           0.2706104815006256,
           0.19510366022586823,
           0.45340386033058167,
           0.3016703724861145,
           0.358359694480896,
           0.12624847888946533,
           1.0000001192092896,
           0.19541049003601074,
           0.25864720344543457,
           0.2664732336997986,
           0.23482745885849,
           0.2550148665904999,
           0.22241386771202087,
           0.30331289768218994,
           0.2724885940551758,
           0.283983439207077,
           0.42939677834510803,
           0.3549455404281616,
           0.5832579731941223,
           0.49621403217315674,
           0.6101124286651611,
           0.2772253453731537,
           0.23964275419712067,
           0.2601345479488373,
           0.24793867766857147,
           0.2440226674079895,
           0.1450771540403366,
           0.14286497235298157,
           0.28791967034339905,
           0.3044483959674835,
           0.24197284877300262,
           0.21411468088626862,
           0.20604953169822693,
           0.24698446691036224,
           0.21220852434635162,
           0.33157601952552795,
           0.2708459198474884,
           0.47187215089797974,
           0.24703292548656464,
           0.420278936624527,
           0.25148916244506836,
           0.2856549918651581,
           0.2747022211551666,
           0.22914868593215942,
           0.21860989928245544
          ],
          [
           0.24587459862232208,
           0.15765409171581268,
           0.1886991709470749,
           0.22847406566143036,
           0.1481446772813797,
           0.19570474326610565,
           0.16597282886505127,
           0.2245350331068039,
           0.19617338478565216,
           0.1772640496492386,
           0.21782471239566803,
           0.19541049003601074,
           1.0000001192092896,
           0.2405356764793396,
           0.22314593195915222,
           0.3013283610343933,
           0.23814168572425842,
           0.2826712727546692,
           0.5587440133094788,
           0.29287248849868774,
           0.38659822940826416,
           0.33259984850883484,
           0.3337547481060028,
           0.3350052833557129,
           0.515245795249939,
           0.3386360704898834,
           0.22574664652347565,
           0.22724364697933197,
           0.2772654592990875,
           0.23947842419147491,
           0.1938280165195465,
           0.26264217495918274,
           0.1355161964893341,
           0.21210038661956787,
           0.2231929749250412,
           0.19966454803943634,
           0.18940719962120056,
           0.18528485298156738,
           0.23031271994113922,
           0.1309221386909485,
           0.1563643217086792,
           0.19448718428611755,
           0.22051294147968292,
           0.2395671159029007,
           0.17806527018547058,
           0.1800628900527954,
           0.230990931391716,
           0.2273028939962387,
           0.19408665597438812,
           0.22917334735393524
          ],
          [
           0.17283709347248077,
           0.27505233883857727,
           0.31871581077575684,
           0.29565587639808655,
           0.2544691264629364,
           0.33772072196006775,
           0.3270114064216614,
           0.33680129051208496,
           0.41824305057525635,
           0.3898291289806366,
           0.1671341359615326,
           0.25864720344543457,
           0.2405356764793396,
           1,
           0.5581432580947876,
           0.30672359466552734,
           0.4393750727176666,
           0.2205483615398407,
           0.4318501651287079,
           0.32345613837242126,
           0.2593078911304474,
           0.40111130475997925,
           0.33661675453186035,
           0.34128549695014954,
           0.4412931501865387,
           0.405019611120224,
           0.21704915165901184,
           0.24590814113616943,
           0.2990415394306183,
           0.2971228063106537,
           0.20101101696491241,
           0.25060659646987915,
           0.18404947221279144,
           0.22879000008106232,
           0.3106052875518799,
           0.21714980900287628,
           0.3054373562335968,
           0.24301233887672424,
           0.295705646276474,
           0.5563778281211853,
           0.6536567211151123,
           0.3305407762527466,
           0.26779448986053467,
           0.353736013174057,
           0.33153852820396423,
           0.23304909467697144,
           0.2857348620891571,
           0.2283371239900589,
           0.23345516622066498,
           0.21673887968063354
          ],
          [
           0.2364034652709961,
           0.3219820261001587,
           0.3742426037788391,
           0.31595999002456665,
           0.2473941296339035,
           0.2918950617313385,
           0.25083908438682556,
           0.3566708266735077,
           0.34994766116142273,
           0.35748642683029175,
           0.21260462701320648,
           0.2664732336997986,
           0.22314593195915222,
           0.5581432580947876,
           0.9999998807907104,
           0.302682489156723,
           0.32469266653060913,
           0.24569344520568848,
           0.40103963017463684,
           0.33825576305389404,
           0.3140702545642853,
           0.30095499753952026,
           0.28434303402900696,
           0.2765834331512451,
           0.32222872972488403,
           0.321724534034729,
           0.25049054622650146,
           0.25156524777412415,
           0.30878984928131104,
           0.26448747515678406,
           0.3265377879142761,
           0.24386757612228394,
           0.2604835629463196,
           0.2759455740451813,
           0.3372061848640442,
           0.29240795969963074,
           0.5434346795082092,
           0.4678010046482086,
           0.5691925287246704,
           0.4387856125831604,
           0.3263621926307678,
           0.30285337567329407,
           0.2477876842021942,
           0.3132878541946411,
           0.2745826244354248,
           0.2843586504459381,
           0.35443150997161865,
           0.28023648262023926,
           0.27325040102005005,
           0.25499504804611206
          ],
          [
           0.32776519656181335,
           0.34118297696113586,
           0.32923367619514465,
           0.26867035031318665,
           0.35878196358680725,
           0.23865577578544617,
           0.25196003913879395,
           0.21026383340358734,
           0.3264691233634949,
           0.2951546311378479,
           0.2099200338125229,
           0.23482745885849,
           0.3013283610343933,
           0.30672359466552734,
           0.302682489156723,
           1,
           0.6542349457740784,
           0.5088579058647156,
           0.5044729709625244,
           0.3145177960395813,
           0.2746775448322296,
           0.31716418266296387,
           0.29651036858558655,
           0.44193896651268005,
           0.49256080389022827,
           0.4143994450569153,
           0.4461095333099365,
           0.27278241515159607,
           0.3406260311603546,
           0.35132190585136414,
           0.24000123143196106,
           0.5387803316116333,
           0.14977292716503143,
           0.19098009169101715,
           0.2171344757080078,
           0.18572959303855896,
           0.21286152303218842,
           0.20855729281902313,
           0.26081332564353943,
           0.20031678676605225,
           0.22358796000480652,
           0.20845843851566315,
           0.20353618264198303,
           0.20577779412269592,
           0.17904360592365265,
           0.2049507051706314,
           0.2643580436706543,
           0.23385906219482422,
           0.16436034440994263,
           0.2038002610206604
          ],
          [
           0.2376192957162857,
           0.38462305068969727,
           0.5017266869544983,
           0.4437834322452545,
           0.5194264650344849,
           0.3443690538406372,
           0.41882386803627014,
           0.3456829786300659,
           0.6101279258728027,
           0.5804112553596497,
           0.17974433302879333,
           0.2550148665904999,
           0.23814168572425842,
           0.4393750727176666,
           0.32469266653060913,
           0.6542349457740784,
           0.9999999403953552,
           0.3269818127155304,
           0.43202152848243713,
           0.27234983444213867,
           0.2793596684932709,
           0.3326161503791809,
           0.28364962339401245,
           0.4972073435783386,
           0.5150607824325562,
           0.378679484128952,
           0.4233294427394867,
           0.3794362545013428,
           0.5431835055351257,
           0.4292756915092468,
           0.256325364112854,
           0.3938795328140259,
           0.22052371501922607,
           0.23974277079105377,
           0.20227393507957458,
           0.1897621899843216,
           0.2548108696937561,
           0.1905445009469986,
           0.271526575088501,
           0.2549014091491699,
           0.27900293469429016,
           0.2909896969795227,
           0.21066145598888397,
           0.25671693682670593,
           0.2634419798851013,
           0.21048285067081451,
           0.30959588289260864,
           0.3377772271633148,
           0.2571024000644684,
           0.2608550786972046
          ],
          [
           0.35281383991241455,
           0.2963274121284485,
           0.3546851873397827,
           0.4079696834087372,
           0.17262057960033417,
           0.1587398499250412,
           0.15114939212799072,
           0.20995981991291046,
           0.21238811314105988,
           0.22761417925357819,
           0.15269386768341064,
           0.22241386771202087,
           0.2826712727546692,
           0.2205483615398407,
           0.24569344520568848,
           0.5088579058647156,
           0.3269818127155304,
           1.0000001192092896,
           0.6611014604568481,
           0.27484145760536194,
           0.26448768377304077,
           0.3344845473766327,
           0.3702249825000763,
           0.2754969894886017,
           0.30936455726623535,
           0.30416640639305115,
           0.27857500314712524,
           0.20283517241477966,
           0.4007319509983063,
           0.27067670226097107,
           0.2514628767967224,
           0.3042767643928528,
           0.14997805655002594,
           0.2441267967224121,
           0.2721467912197113,
           0.2262132614850998,
           0.2586451768875122,
           0.1963658332824707,
           0.27549248933792114,
           0.19030600786209106,
           0.21424125134944916,
           0.23624032735824585,
           0.21509099006652832,
           0.3687540590763092,
           0.2764177918434143,
           0.24262163043022156,
           0.3300173878669739,
           0.2937390208244324,
           0.3134858310222626,
           0.28892746567726135
          ],
          [
           0.33779746294021606,
           0.2525205910205841,
           0.3568144142627716,
           0.42643171548843384,
           0.23788043856620789,
           0.2907710075378418,
           0.2380313128232956,
           0.3552165627479553,
           0.33967921137809753,
           0.2817876935005188,
           0.2531365156173706,
           0.30331289768218994,
           0.5587440133094788,
           0.4318501651287079,
           0.40103963017463684,
           0.5044729709625244,
           0.43202152848243713,
           0.6611014604568481,
           0.9999998807907104,
           0.4780797064304352,
           0.45081859827041626,
           0.5738829970359802,
           0.6324061155319214,
           0.4315915107727051,
           0.5853497982025146,
           0.526633620262146,
           0.2786593735218048,
           0.30299320816993713,
           0.43762388825416565,
           0.351309597492218,
           0.3853206932544708,
           0.48940640687942505,
           0.27624601125717163,
           0.3318069279193878,
           0.3912121653556824,
           0.30918383598327637,
           0.38778388500213623,
           0.3114074170589447,
           0.3512585461139679,
           0.29013490676879883,
           0.3244851231575012,
           0.29380714893341064,
           0.2820664644241333,
           0.4822136163711548,
           0.40151533484458923,
           0.32524362206459045,
           0.3686024248600006,
           0.3130253851413727,
           0.3514072597026825,
           0.34210583567619324
          ],
          [
           0.2597452998161316,
           0.272492915391922,
           0.2925228774547577,
           0.25947993993759155,
           0.1791670024394989,
           0.5020880103111267,
           0.22095155715942383,
           0.37794578075408936,
           0.2546093463897705,
           0.25945740938186646,
           0.23943568766117096,
           0.2724885940551758,
           0.29287248849868774,
           0.32345613837242126,
           0.33825576305389404,
           0.3145177960395813,
           0.27234983444213867,
           0.27484145760536194,
           0.4780797064304352,
           1.0000001192092896,
           0.5999962091445923,
           0.37942740321159363,
           0.3581508994102478,
           0.34800800681114197,
           0.43944159150123596,
           0.4229716658592224,
           0.2748124599456787,
           0.26666003465652466,
           0.28269749879837036,
           0.29997527599334717,
           0.3335665166378021,
           0.25017398595809937,
           0.24028027057647705,
           0.24501769244670868,
           0.3336593210697174,
           0.2740940451622009,
           0.31264156103134155,
           0.40676894783973694,
           0.3565320074558258,
           0.31808486580848694,
           0.21469932794570923,
           0.20617063343524933,
           0.23139815032482147,
           0.25548055768013,
           0.22951379418373108,
           0.3732434809207916,
           0.30354589223861694,
           0.23833656311035156,
           0.21547524631023407,
           0.2306426465511322
          ],
          [
           0.23402395844459534,
           0.23712149262428284,
           0.2810799777507782,
           0.27112483978271484,
           0.20867687463760376,
           0.4698896110057831,
           0.254730761051178,
           0.38977229595184326,
           0.2940187156200409,
           0.2964126765727997,
           0.2444317638874054,
           0.283983439207077,
           0.38659822940826416,
           0.2593078911304474,
           0.3140702545642853,
           0.2746775448322296,
           0.2793596684932709,
           0.26448768377304077,
           0.45081859827041626,
           0.5999962091445923,
           0.9999998807907104,
           0.36280399560928345,
           0.35107651352882385,
           0.4562423527240753,
           0.44885751605033875,
           0.3726974427700043,
           0.23303069174289703,
           0.24824656546115875,
           0.2908340096473694,
           0.24940571188926697,
           0.2849426567554474,
           0.22050175070762634,
           0.2114604413509369,
           0.22547556459903717,
           0.29160693287849426,
           0.2608679234981537,
           0.2728957235813141,
           0.2805730402469635,
           0.32927995920181274,
           0.22717547416687012,
           0.21065467596054077,
           0.17942482233047485,
           0.2020956575870514,
           0.2345241755247116,
           0.20927496254444122,
           0.28609538078308105,
           0.3401973843574524,
           0.29678434133529663,
           0.27460241317749023,
           0.27819928526878357
          ],
          [
           0.27611446380615234,
           0.2209416627883911,
           0.23572678864002228,
           0.31426021456718445,
           0.222633495926857,
           0.3067372441291809,
           0.21242603659629822,
           0.33045855164527893,
           0.27946144342422485,
           0.27410751581192017,
           0.19866563379764557,
           0.42939677834510803,
           0.33259984850883484,
           0.40111130475997925,
           0.30095499753952026,
           0.31716418266296387,
           0.3326161503791809,
           0.3344845473766327,
           0.5738829970359802,
           0.37942740321159363,
           0.36280399560928345,
           1,
           0.8902938961982727,
           0.5630442500114441,
           0.6131728887557983,
           0.5714572072029114,
           0.25779277086257935,
           0.2082601934671402,
           0.2707005441188812,
           0.2881508469581604,
           0.25703710317611694,
           0.2465900033712387,
           0.21704678237438202,
           0.3174522817134857,
           0.32777708768844604,
           0.2731328010559082,
           0.3039575219154358,
           0.22337956726551056,
           0.2775576412677765,
           0.35275784134864807,
           0.2670634686946869,
           0.23100554943084717,
           0.24109484255313873,
           0.27877146005630493,
           0.3484417498111725,
           0.22252655029296875,
           0.2889617383480072,
           0.24141766130924225,
           0.21615462005138397,
           0.22854042053222656
          ],
          [
           0.26002582907676697,
           0.1821088343858719,
           0.21990425884723663,
           0.29927799105644226,
           0.1605454832315445,
           0.21408259868621826,
           0.16337977349758148,
           0.2501993477344513,
           0.21741074323654175,
           0.21684543788433075,
           0.2068580836057663,
           0.3549455404281616,
           0.3337547481060028,
           0.33661675453186035,
           0.28434303402900696,
           0.29651036858558655,
           0.28364962339401245,
           0.3702249825000763,
           0.6324061155319214,
           0.3581508994102478,
           0.35107651352882385,
           0.8902938961982727,
           1,
           0.4048909842967987,
           0.4768841862678528,
           0.4987281262874603,
           0.23146377503871918,
           0.20025020837783813,
           0.30673378705978394,
           0.30294129252433777,
           0.27845972776412964,
           0.3170096278190613,
           0.20190277695655823,
           0.27807214856147766,
           0.3392024040222168,
           0.261043906211853,
           0.3211660087108612,
           0.2252311408519745,
           0.26739701628685,
           0.30600130558013916,
           0.2504052519798279,
           0.20704162120819092,
           0.2115073800086975,
           0.3198135793209076,
           0.302179217338562,
           0.19974122941493988,
           0.2695941627025604,
           0.25866153836250305,
           0.24565503001213074,
           0.23953895270824432
          ],
          [
           0.3139154314994812,
           0.3546965420246124,
           0.32327356934547424,
           0.3207473158836365,
           0.3741486072540283,
           0.36508649587631226,
           0.3195470869541168,
           0.3835321068763733,
           0.41490638256073,
           0.36805734038352966,
           0.17298471927642822,
           0.5832579731941223,
           0.3350052833557129,
           0.34128549695014954,
           0.2765834331512451,
           0.44193896651268005,
           0.4972073435783386,
           0.2754969894886017,
           0.4315915107727051,
           0.34800800681114197,
           0.4562423527240753,
           0.5630442500114441,
           0.4048909842967987,
           1.0000001192092896,
           0.733212947845459,
           0.5627371668815613,
           0.35584819316864014,
           0.32249715924263,
           0.2905443608760834,
           0.25080692768096924,
           0.28309619426727295,
           0.2134719043970108,
           0.20000439882278442,
           0.2689952254295349,
           0.23791661858558655,
           0.19385096430778503,
           0.23380470275878906,
           0.2114078402519226,
           0.27810174226760864,
           0.24096377193927765,
           0.2438751608133316,
           0.2488415688276291,
           0.2780269384384155,
           0.23388764262199402,
           0.30020904541015625,
           0.22558192908763885,
           0.3350638151168823,
           0.2793999910354614,
           0.2312733680009842,
           0.2618262767791748
          ],
          [
           0.4903443157672882,
           0.398050993680954,
           0.40422189235687256,
           0.42113375663757324,
           0.3510116934776306,
           0.478045254945755,
           0.40840181708335876,
           0.5523219108581543,
           0.4911688268184662,
           0.44139495491981506,
           0.23393695056438446,
           0.49621403217315674,
           0.515245795249939,
           0.4412931501865387,
           0.32222872972488403,
           0.49256080389022827,
           0.5150607824325562,
           0.30936455726623535,
           0.5853497982025146,
           0.43944159150123596,
           0.44885751605033875,
           0.6131728887557983,
           0.4768841862678528,
           0.733212947845459,
           1,
           0.8089818358421326,
           0.35269710421562195,
           0.4049825966358185,
           0.34387606382369995,
           0.3267756998538971,
           0.29174619913101196,
           0.2966134548187256,
           0.2687671482563019,
           0.3606344163417816,
           0.32204386591911316,
           0.2714803218841553,
           0.2989834249019623,
           0.28645241260528564,
           0.3315339684486389,
           0.3134755790233612,
           0.3177090883255005,
           0.33966705203056335,
           0.43865713477134705,
           0.328616201877594,
           0.37522202730178833,
           0.3360152840614319,
           0.3719250559806824,
           0.30078864097595215,
           0.27018967270851135,
           0.308633953332901
          ],
          [
           0.4108741581439972,
           0.3260175585746765,
           0.3226849138736725,
           0.3293745517730713,
           0.24674923717975616,
           0.4000299274921417,
           0.2863635718822479,
           0.4388527274131775,
           0.3846682012081146,
           0.4273037612438202,
           0.17677514255046844,
           0.6101124286651611,
           0.3386360704898834,
           0.405019611120224,
           0.321724534034729,
           0.4143994450569153,
           0.378679484128952,
           0.30416640639305115,
           0.526633620262146,
           0.4229716658592224,
           0.3726974427700043,
           0.5714572072029114,
           0.4987281262874603,
           0.5627371668815613,
           0.8089818358421326,
           1.0000001192092896,
           0.3100440204143524,
           0.3090493977069855,
           0.3052089810371399,
           0.2955473065376282,
           0.29362326860427856,
           0.2136148363351822,
           0.2064904421567917,
           0.2627989947795868,
           0.27282604575157166,
           0.221182182431221,
           0.2988903224468231,
           0.2644598186016083,
           0.2802538573741913,
           0.268022358417511,
           0.30729788541793823,
           0.3276083469390869,
           0.5339232087135315,
           0.327537477016449,
           0.3193584978580475,
           0.32089492678642273,
           0.3482895791530609,
           0.2746272087097168,
           0.291970431804657,
           0.2774448096752167
          ],
          [
           0.3200020492076874,
           0.3489750921726227,
           0.345814973115921,
           0.33413973450660706,
           0.37109389901161194,
           0.2638470232486725,
           0.23911786079406738,
           0.2898728847503662,
           0.35115987062454224,
           0.41381698846817017,
           0.17348673939704895,
           0.2772253453731537,
           0.22574664652347565,
           0.21704915165901184,
           0.25049054622650146,
           0.4461095333099365,
           0.4233294427394867,
           0.27857500314712524,
           0.2786593735218048,
           0.2748124599456787,
           0.23303069174289703,
           0.25779277086257935,
           0.23146377503871918,
           0.35584819316864014,
           0.35269710421562195,
           0.3100440204143524,
           0.9999999403953552,
           0.44150713086128235,
           0.4560675024986267,
           0.46552014350891113,
           0.2558348774909973,
           0.21287471055984497,
           0.16628983616828918,
           0.22914832830429077,
           0.22077344357967377,
           0.18699978291988373,
           0.22618699073791504,
           0.24091196060180664,
           0.2809339165687561,
           0.2007143199443817,
           0.18066391348838806,
           0.23780159652233124,
           0.24404965341091156,
           0.26995980739593506,
           0.22103917598724365,
           0.2920089364051819,
           0.45528289675712585,
           0.27359479665756226,
           0.274448961019516,
           0.28865814208984375
          ],
          [
           0.27490267157554626,
           0.3579546809196472,
           0.50310879945755,
           0.4495028853416443,
           0.36117056012153625,
           0.30790168046951294,
           0.35974204540252686,
           0.5179319381713867,
           0.4810432493686676,
           0.4176311790943146,
           0.15044137835502625,
           0.23964275419712067,
           0.22724364697933197,
           0.24590814113616943,
           0.25156524777412415,
           0.27278241515159607,
           0.3794362545013428,
           0.20283517241477966,
           0.30299320816993713,
           0.26666003465652466,
           0.24824656546115875,
           0.2082601934671402,
           0.20025020837783813,
           0.32249715924263,
           0.4049825966358185,
           0.3090493977069855,
           0.44150713086128235,
           1.0000001192092896,
           0.5598462224006653,
           0.42789575457572937,
           0.3129473626613617,
           0.2905813753604889,
           0.26084738969802856,
           0.24533048272132874,
           0.19430840015411377,
           0.16507567465305328,
           0.22884351015090942,
           0.25728917121887207,
           0.2524299621582031,
           0.19602365791797638,
           0.19887226819992065,
           0.24884851276874542,
           0.3059731423854828,
           0.31148290634155273,
           0.2590940296649933,
           0.2912805676460266,
           0.35858020186424255,
           0.32082808017730713,
           0.32200950384140015,
           0.33828723430633545
          ],
          [
           0.2748986482620239,
           0.27744153141975403,
           0.4407859444618225,
           0.528752326965332,
           0.28965622186660767,
           0.22591747343540192,
           0.24879178404808044,
           0.4179237186908722,
           0.37643077969551086,
           0.3893568813800812,
           0.16819041967391968,
           0.2601345479488373,
           0.2772654592990875,
           0.2990415394306183,
           0.30878984928131104,
           0.3406260311603546,
           0.5431835055351257,
           0.4007319509983063,
           0.43762388825416565,
           0.28269749879837036,
           0.2908340096473694,
           0.2707005441188812,
           0.30673378705978394,
           0.2905443608760834,
           0.34387606382369995,
           0.3052089810371399,
           0.4560675024986267,
           0.5598462224006653,
           1.0000001192092896,
           0.5880661606788635,
           0.33098137378692627,
           0.29773426055908203,
           0.2420169711112976,
           0.3372998535633087,
           0.27812471985816956,
           0.28047406673431396,
           0.2747969329357147,
           0.22033125162124634,
           0.3082832396030426,
           0.1947273463010788,
           0.300396203994751,
           0.296536922454834,
           0.31130462884902954,
           0.41131165623664856,
           0.3057248592376709,
           0.3190526068210602,
           0.3772462010383606,
           0.3903844952583313,
           0.4149256646633148,
           0.35517066717147827
          ],
          [
           0.2127797156572342,
           0.19260884821414948,
           0.28274017572402954,
           0.30916666984558105,
           0.22445723414421082,
           0.24698951840400696,
           0.19331686198711395,
           0.3530702292919159,
           0.27348145842552185,
           0.3276124596595764,
           0.17129486799240112,
           0.24793867766857147,
           0.23947842419147491,
           0.2971228063106537,
           0.26448747515678406,
           0.35132190585136414,
           0.4292756915092468,
           0.27067670226097107,
           0.351309597492218,
           0.29997527599334717,
           0.24940571188926697,
           0.2881508469581604,
           0.30294129252433777,
           0.25080692768096924,
           0.3267756998538971,
           0.2955473065376282,
           0.46552014350891113,
           0.42789575457572937,
           0.5880661606788635,
           1.0000001192092896,
           0.2261243313550949,
           0.4474886953830719,
           0.18643994629383087,
           0.1975860893726349,
           0.2003844529390335,
           0.1881888210773468,
           0.26603105664253235,
           0.22186768054962158,
           0.23524484038352966,
           0.20222336053848267,
           0.23768548667430878,
           0.15845099091529846,
           0.19903530180454254,
           0.2819754183292389,
           0.22615927457809448,
           0.26426640152931213,
           0.2840624451637268,
           0.38628578186035156,
           0.2919381856918335,
           0.24943499267101288
          ],
          [
           0.2901918590068817,
           0.26586803793907166,
           0.3075430691242218,
           0.3591197431087494,
           0.19406534731388092,
           0.26339203119277954,
           0.20866350829601288,
           0.27634260058403015,
           0.2712704837322235,
           0.2960989475250244,
           0.17440296709537506,
           0.2440226674079895,
           0.1938280165195465,
           0.20101101696491241,
           0.3265377879142761,
           0.24000123143196106,
           0.256325364112854,
           0.2514628767967224,
           0.3853206932544708,
           0.3335665166378021,
           0.2849426567554474,
           0.25703710317611694,
           0.27845972776412964,
           0.28309619426727295,
           0.29174619913101196,
           0.29362326860427856,
           0.2558348774909973,
           0.3129473626613617,
           0.33098137378692627,
           0.2261243313550949,
           0.9999999403953552,
           0.2618110775947571,
           0.427314817905426,
           0.4085340201854706,
           0.27613741159439087,
           0.2311367690563202,
           0.3457806706428528,
           0.379316121339798,
           0.4205089211463928,
           0.2514497637748718,
           0.1328779011964798,
           0.3007078766822815,
           0.2691425085067749,
           0.34334370493888855,
           0.3235678970813751,
           0.3012007176876068,
           0.40036797523498535,
           0.3123975992202759,
           0.368461936712265,
           0.34771275520324707
          ],
          [
           0.2337990403175354,
           0.1782187521457672,
           0.24925726652145386,
           0.2701874375343323,
           0.18044476211071014,
           0.18632444739341736,
           0.18247124552726746,
           0.22031843662261963,
           0.21769405901432037,
           0.19642841815948486,
           0.1903005689382553,
           0.1450771540403366,
           0.26264217495918274,
           0.25060659646987915,
           0.24386757612228394,
           0.5387803316116333,
           0.3938795328140259,
           0.3042767643928528,
           0.48940640687942505,
           0.25017398595809937,
           0.22050175070762634,
           0.2465900033712387,
           0.3170096278190613,
           0.2134719043970108,
           0.2966134548187256,
           0.2136148363351822,
           0.21287471055984497,
           0.2905813753604889,
           0.29773426055908203,
           0.4474886953830719,
           0.2618110775947571,
           1,
           0.19034220278263092,
           0.219274640083313,
           0.22548028826713562,
           0.20085206627845764,
           0.22950641810894012,
           0.24514330923557281,
           0.2305757701396942,
           0.17962771654129028,
           0.15908068418502808,
           0.1297679841518402,
           0.13446974754333496,
           0.2872653901576996,
           0.24329204857349396,
           0.20237606763839722,
           0.2275335043668747,
           0.26909366250038147,
           0.24076607823371887,
           0.2343979775905609
          ],
          [
           0.19372695684432983,
           0.2115745097398758,
           0.28822875022888184,
           0.3119570314884186,
           0.17796140909194946,
           0.2387094348669052,
           0.21576938033103943,
           0.4452908933162689,
           0.30186524987220764,
           0.2728049159049988,
           0.10359501093626022,
           0.14286497235298157,
           0.1355161964893341,
           0.18404947221279144,
           0.2604835629463196,
           0.14977292716503143,
           0.22052371501922607,
           0.14997805655002594,
           0.27624601125717163,
           0.24028027057647705,
           0.2114604413509369,
           0.21704678237438202,
           0.20190277695655823,
           0.20000439882278442,
           0.2687671482563019,
           0.2064904421567917,
           0.16628983616828918,
           0.26084738969802856,
           0.2420169711112976,
           0.18643994629383087,
           0.427314817905426,
           0.19034220278263092,
           1,
           0.33305296301841736,
           0.23592330515384674,
           0.29968756437301636,
           0.40777328610420227,
           0.2813834249973297,
           0.29798951745033264,
           0.29833346605300903,
           0.14850398898124695,
           0.18858742713928223,
           0.13287006318569183,
           0.24965335428714752,
           0.3244081139564514,
           0.4386010468006134,
           0.32099097967147827,
           0.2040695697069168,
           0.2942812442779541,
           0.26374125480651855
          ],
          [
           0.45549553632736206,
           0.29463329911231995,
           0.29513296484947205,
           0.5295636653900146,
           0.17882691323757172,
           0.2771461009979248,
           0.21598327159881592,
           0.40952423214912415,
           0.2628253102302551,
           0.2735769748687744,
           0.14651447534561157,
           0.28791967034339905,
           0.21210038661956787,
           0.22879000008106232,
           0.2759455740451813,
           0.19098009169101715,
           0.23974277079105377,
           0.2441267967224121,
           0.3318069279193878,
           0.24501769244670868,
           0.22547556459903717,
           0.3174522817134857,
           0.27807214856147766,
           0.2689952254295349,
           0.3606344163417816,
           0.2627989947795868,
           0.22914832830429077,
           0.24533048272132874,
           0.3372998535633087,
           0.1975860893726349,
           0.4085340201854706,
           0.219274640083313,
           0.33305296301841736,
           1,
           0.6260048747062683,
           0.5482727885246277,
           0.3843327760696411,
           0.36687877774238586,
           0.5153250098228455,
           0.4220624566078186,
           0.22476497292518616,
           0.41541144251823425,
           0.3612203896045685,
           0.37186822295188904,
           0.46683746576309204,
           0.32864466309547424,
           0.41662541031837463,
           0.2934703528881073,
           0.3481317460536957,
           0.4002751410007477
          ],
          [
           0.3649372160434723,
           0.22617052495479584,
           0.21145792305469513,
           0.33999988436698914,
           0.14068002998828888,
           0.22525554895401,
           0.16122698783874512,
           0.3606467843055725,
           0.19753919541835785,
           0.2077983021736145,
           0.21267731487751007,
           0.3044483959674835,
           0.2231929749250412,
           0.3106052875518799,
           0.3372061848640442,
           0.2171344757080078,
           0.20227393507957458,
           0.2721467912197113,
           0.3912121653556824,
           0.3336593210697174,
           0.29160693287849426,
           0.32777708768844604,
           0.3392024040222168,
           0.23791661858558655,
           0.32204386591911316,
           0.27282604575157166,
           0.22077344357967377,
           0.19430840015411377,
           0.27812471985816956,
           0.2003844529390335,
           0.27613741159439087,
           0.22548028826713562,
           0.23592330515384674,
           0.6260048747062683,
           1.0000001192092896,
           0.646265983581543,
           0.3419870436191559,
           0.4729999899864197,
           0.48413801193237305,
           0.344557523727417,
           0.39763399958610535,
           0.26974478363990784,
           0.2824999690055847,
           0.33233553171157837,
           0.3952184319496155,
           0.3299446702003479,
           0.3026515543460846,
           0.2405727505683899,
           0.250562846660614,
           0.25690436363220215
          ],
          [
           0.27457576990127563,
           0.18497437238693237,
           0.18738554418087006,
           0.2921469509601593,
           0.13913029432296753,
           0.2290951907634735,
           0.1418067365884781,
           0.3675834834575653,
           0.18113677203655243,
           0.19228039681911469,
           0.17616738379001617,
           0.24197284877300262,
           0.19966454803943634,
           0.21714980900287628,
           0.29240795969963074,
           0.18572959303855896,
           0.1897621899843216,
           0.2262132614850998,
           0.30918383598327637,
           0.2740940451622009,
           0.2608679234981537,
           0.2731328010559082,
           0.261043906211853,
           0.19385096430778503,
           0.2714803218841553,
           0.221182182431221,
           0.18699978291988373,
           0.16507567465305328,
           0.28047406673431396,
           0.1881888210773468,
           0.2311367690563202,
           0.20085206627845764,
           0.29968756437301636,
           0.5482727885246277,
           0.646265983581543,
           1,
           0.3423026204109192,
           0.40309470891952515,
           0.4837940037250519,
           0.3419116735458374,
           0.2700527608394623,
           0.27950266003608704,
           0.2505453824996948,
           0.2416202276945114,
           0.2964268922805786,
           0.3631896376609802,
           0.30912843346595764,
           0.21851512789726257,
           0.20925137400627136,
           0.22776195406913757
          ],
          [
           0.2301027774810791,
           0.23123162984848022,
           0.3036655783653259,
           0.31363725662231445,
           0.20008575916290283,
           0.28667163848876953,
           0.22433294355869293,
           0.37934550642967224,
           0.3072627782821655,
           0.3693602681159973,
           0.18783336877822876,
           0.21411468088626862,
           0.18940719962120056,
           0.3054373562335968,
           0.5434346795082092,
           0.21286152303218842,
           0.2548108696937561,
           0.2586451768875122,
           0.38778388500213623,
           0.31264156103134155,
           0.2728957235813141,
           0.3039575219154358,
           0.3211660087108612,
           0.23380470275878906,
           0.2989834249019623,
           0.2988903224468231,
           0.22618699073791504,
           0.22884351015090942,
           0.2747969329357147,
           0.26603105664253235,
           0.3457806706428528,
           0.22950641810894012,
           0.40777328610420227,
           0.3843327760696411,
           0.3419870436191559,
           0.3423026204109192,
           0.9999998807907104,
           0.5197901725769043,
           0.625748872756958,
           0.5190380215644836,
           0.2121528685092926,
           0.2881544232368469,
           0.22860479354858398,
           0.3761451840400696,
           0.30005747079849243,
           0.3548673391342163,
           0.36579081416130066,
           0.31679749488830566,
           0.3230777084827423,
           0.28923702239990234
          ],
          [
           0.26166579127311707,
           0.2701471149921417,
           0.27531349658966064,
           0.3089582324028015,
           0.18234883248806,
           0.3434661030769348,
           0.2046542465686798,
           0.3456352949142456,
           0.2555483281612396,
           0.28564929962158203,
           0.19237922132015228,
           0.20604953169822693,
           0.18528485298156738,
           0.24301233887672424,
           0.4678010046482086,
           0.20855729281902313,
           0.1905445009469986,
           0.1963658332824707,
           0.3114074170589447,
           0.40676894783973694,
           0.2805730402469635,
           0.22337956726551056,
           0.2252311408519745,
           0.2114078402519226,
           0.28645241260528564,
           0.2644598186016083,
           0.24091196060180664,
           0.25728917121887207,
           0.22033125162124634,
           0.22186768054962158,
           0.379316121339798,
           0.24514330923557281,
           0.2813834249973297,
           0.36687877774238586,
           0.4729999899864197,
           0.40309470891952515,
           0.5197901725769043,
           1,
           0.7924149632453918,
           0.3688082993030548,
           0.17240960896015167,
           0.23983170092105865,
           0.25026166439056396,
           0.3215770423412323,
           0.28842759132385254,
           0.3813430964946747,
           0.3748180568218231,
           0.3097594380378723,
           0.29424384236335754,
           0.31952813267707825
          ],
          [
           0.3204249143600464,
           0.3000941276550293,
           0.32938867807388306,
           0.40742456912994385,
           0.2577899396419525,
           0.33390310406684875,
           0.24582414329051971,
           0.41234421730041504,
           0.3216339647769928,
           0.34086039662361145,
           0.2071477621793747,
           0.24698446691036224,
           0.23031271994113922,
           0.295705646276474,
           0.5691925287246704,
           0.26081332564353943,
           0.271526575088501,
           0.27549248933792114,
           0.3512585461139679,
           0.3565320074558258,
           0.32927995920181274,
           0.2775576412677765,
           0.26739701628685,
           0.27810174226760864,
           0.3315339684486389,
           0.2802538573741913,
           0.2809339165687561,
           0.2524299621582031,
           0.3082832396030426,
           0.23524484038352966,
           0.4205089211463928,
           0.2305757701396942,
           0.29798951745033264,
           0.5153250098228455,
           0.48413801193237305,
           0.4837940037250519,
           0.625748872756958,
           0.7924149632453918,
           1,
           0.5151349902153015,
           0.2637445032596588,
           0.37655478715896606,
           0.2974969148635864,
           0.31266921758651733,
           0.3006369173526764,
           0.3944256901741028,
           0.5765607357025146,
           0.33155059814453125,
           0.3308223783969879,
           0.3679497539997101
          ],
          [
           0.2590887248516083,
           0.30062612891197205,
           0.35809412598609924,
           0.383430540561676,
           0.2139299064874649,
           0.38325291872024536,
           0.29470574855804443,
           0.4193142354488373,
           0.3514708876609802,
           0.34981629252433777,
           0.1386490762233734,
           0.21220852434635162,
           0.1309221386909485,
           0.5563778281211853,
           0.4387856125831604,
           0.20031678676605225,
           0.2549014091491699,
           0.19030600786209106,
           0.29013490676879883,
           0.31808486580848694,
           0.22717547416687012,
           0.35275784134864807,
           0.30600130558013916,
           0.24096377193927765,
           0.3134755790233612,
           0.268022358417511,
           0.2007143199443817,
           0.19602365791797638,
           0.1947273463010788,
           0.20222336053848267,
           0.2514497637748718,
           0.17962771654129028,
           0.29833346605300903,
           0.4220624566078186,
           0.344557523727417,
           0.3419116735458374,
           0.5190380215644836,
           0.3688082993030548,
           0.5151349902153015,
           1,
           0.41222482919692993,
           0.2970195412635803,
           0.19717149436473846,
           0.24578985571861267,
           0.2855592966079712,
           0.2749457061290741,
           0.38652724027633667,
           0.20283906161785126,
           0.2331853061914444,
           0.2432132065296173
          ],
          [
           0.1724027544260025,
           0.15061669051647186,
           0.19863338768482208,
           0.26090744137763977,
           0.1929827630519867,
           0.18063805997371674,
           0.2211528718471527,
           0.36372867226600647,
           0.28644365072250366,
           0.2511686086654663,
           0.1241765022277832,
           0.33157601952552795,
           0.1563643217086792,
           0.6536567211151123,
           0.3263621926307678,
           0.22358796000480652,
           0.27900293469429016,
           0.21424125134944916,
           0.3244851231575012,
           0.21469932794570923,
           0.21065467596054077,
           0.2670634686946869,
           0.2504052519798279,
           0.2438751608133316,
           0.3177090883255005,
           0.30729788541793823,
           0.18066391348838806,
           0.19887226819992065,
           0.300396203994751,
           0.23768548667430878,
           0.1328779011964798,
           0.15908068418502808,
           0.14850398898124695,
           0.22476497292518616,
           0.39763399958610535,
           0.2700527608394623,
           0.2121528685092926,
           0.17240960896015167,
           0.2637445032596588,
           0.41222482919692993,
           1.0000001192092896,
           0.25780200958251953,
           0.2646630108356476,
           0.22893768548965454,
           0.26719751954078674,
           0.25025683641433716,
           0.2688225209712982,
           0.1663297712802887,
           0.1957658976316452,
           0.1768985092639923
          ],
          [
           0.278633177280426,
           0.35324737429618835,
           0.32153642177581787,
           0.4386664032936096,
           0.2499442845582962,
           0.23966127634048462,
           0.2533527910709381,
           0.3196466267108917,
           0.37181997299194336,
           0.398764967918396,
           0.1297921985387802,
           0.2708459198474884,
           0.19448718428611755,
           0.3305407762527466,
           0.30285337567329407,
           0.20845843851566315,
           0.2909896969795227,
           0.23624032735824585,
           0.29380714893341064,
           0.20617063343524933,
           0.17942482233047485,
           0.23100554943084717,
           0.20704162120819092,
           0.2488415688276291,
           0.33966705203056335,
           0.3276083469390869,
           0.23780159652233124,
           0.24884851276874542,
           0.296536922454834,
           0.15845099091529846,
           0.3007078766822815,
           0.1297679841518402,
           0.18858742713928223,
           0.41541144251823425,
           0.26974478363990784,
           0.27950266003608704,
           0.2881544232368469,
           0.23983170092105865,
           0.37655478715896606,
           0.2970195412635803,
           0.25780200958251953,
           1,
           0.7187601923942566,
           0.37252745032310486,
           0.35283520817756653,
           0.2822483479976654,
           0.3839629292488098,
           0.254224956035614,
           0.27594301104545593,
           0.2600051462650299
          ],
          [
           0.36002832651138306,
           0.25110000371932983,
           0.2269573211669922,
           0.3196597695350647,
           0.1733843982219696,
           0.20665329694747925,
           0.22267623245716095,
           0.3497549891471863,
           0.2916121780872345,
           0.35080093145370483,
           0.13975968956947327,
           0.47187215089797974,
           0.22051294147968292,
           0.26779448986053467,
           0.2477876842021942,
           0.20353618264198303,
           0.21066145598888397,
           0.21509099006652832,
           0.2820664644241333,
           0.23139815032482147,
           0.2020956575870514,
           0.24109484255313873,
           0.2115073800086975,
           0.2780269384384155,
           0.43865713477134705,
           0.5339232087135315,
           0.24404965341091156,
           0.3059731423854828,
           0.31130462884902954,
           0.19903530180454254,
           0.2691425085067749,
           0.13446974754333496,
           0.13287006318569183,
           0.3612203896045685,
           0.2824999690055847,
           0.2505453824996948,
           0.22860479354858398,
           0.25026166439056396,
           0.2974969148635864,
           0.19717149436473846,
           0.2646630108356476,
           0.7187601923942566,
           0.9999999403953552,
           0.34759846329689026,
           0.28444117307662964,
           0.25993865728378296,
           0.31988760828971863,
           0.280310720205307,
           0.2903788387775421,
           0.2669607698917389
          ],
          [
           0.33426517248153687,
           0.29272225499153137,
           0.3463250994682312,
           0.5188694000244141,
           0.22959305346012115,
           0.232452854514122,
           0.22643543779850006,
           0.32650482654571533,
           0.3472346067428589,
           0.351785272359848,
           0.13659660518169403,
           0.24703292548656464,
           0.2395671159029007,
           0.353736013174057,
           0.3132878541946411,
           0.20577779412269592,
           0.25671693682670593,
           0.3687540590763092,
           0.4822136163711548,
           0.25548055768013,
           0.2345241755247116,
           0.27877146005630493,
           0.3198135793209076,
           0.23388764262199402,
           0.328616201877594,
           0.327537477016449,
           0.26995980739593506,
           0.31148290634155273,
           0.41131165623664856,
           0.2819754183292389,
           0.34334370493888855,
           0.2872653901576996,
           0.24965335428714752,
           0.37186822295188904,
           0.33233553171157837,
           0.2416202276945114,
           0.3761451840400696,
           0.3215770423412323,
           0.31266921758651733,
           0.24578985571861267,
           0.22893768548965454,
           0.37252745032310486,
           0.34759846329689026,
           1.0000001192092896,
           0.7692784667015076,
           0.4026881158351898,
           0.4754088521003723,
           0.2962838411331177,
           0.6879953742027283,
           0.5364807844161987
          ],
          [
           0.352119505405426,
           0.32371553778648376,
           0.30487164855003357,
           0.5569047331809998,
           0.22571595013141632,
           0.3072792589664459,
           0.24389630556106567,
           0.4617183804512024,
           0.37509533762931824,
           0.3453887403011322,
           0.11192657053470612,
           0.420278936624527,
           0.17806527018547058,
           0.33153852820396423,
           0.2745826244354248,
           0.17904360592365265,
           0.2634419798851013,
           0.2764177918434143,
           0.40151533484458923,
           0.22951379418373108,
           0.20927496254444122,
           0.3484417498111725,
           0.302179217338562,
           0.30020904541015625,
           0.37522202730178833,
           0.3193584978580475,
           0.22103917598724365,
           0.2590940296649933,
           0.3057248592376709,
           0.22615927457809448,
           0.3235678970813751,
           0.24329204857349396,
           0.3244081139564514,
           0.46683746576309204,
           0.3952184319496155,
           0.2964268922805786,
           0.30005747079849243,
           0.28842759132385254,
           0.3006369173526764,
           0.2855592966079712,
           0.26719751954078674,
           0.35283520817756653,
           0.28444117307662964,
           0.7692784667015076,
           1,
           0.434101939201355,
           0.4146035313606262,
           0.2424546480178833,
           0.49983224272727966,
           0.41457682847976685
          ],
          [
           0.27430447936058044,
           0.35495883226394653,
           0.3279370367527008,
           0.4091145396232605,
           0.22437383234500885,
           0.33944371342658997,
           0.22872479259967804,
           0.5365431308746338,
           0.31373387575149536,
           0.34317606687545776,
           0.140701025724411,
           0.25148916244506836,
           0.1800628900527954,
           0.23304909467697144,
           0.2843586504459381,
           0.2049507051706314,
           0.21048285067081451,
           0.24262163043022156,
           0.32524362206459045,
           0.3732434809207916,
           0.28609538078308105,
           0.22252655029296875,
           0.19974122941493988,
           0.22558192908763885,
           0.3360152840614319,
           0.32089492678642273,
           0.2920089364051819,
           0.2912805676460266,
           0.3190526068210602,
           0.26426640152931213,
           0.3012007176876068,
           0.20237606763839722,
           0.4386010468006134,
           0.32864466309547424,
           0.3299446702003479,
           0.3631896376609802,
           0.3548673391342163,
           0.3813430964946747,
           0.3944256901741028,
           0.2749457061290741,
           0.25025683641433716,
           0.2822483479976654,
           0.25993865728378296,
           0.4026881158351898,
           0.434101939201355,
           1,
           0.6286625266075134,
           0.2697409689426422,
           0.4695335924625397,
           0.47304266691207886
          ],
          [
           0.4001489281654358,
           0.42067813873291016,
           0.44622787833213806,
           0.5574337840080261,
           0.3177855610847473,
           0.3701585829257965,
           0.2966931462287903,
           0.4211517870426178,
           0.4094747006893158,
           0.46143269538879395,
           0.16435270011425018,
           0.2856549918651581,
           0.230990931391716,
           0.2857348620891571,
           0.35443150997161865,
           0.2643580436706543,
           0.30959588289260864,
           0.3300173878669739,
           0.3686024248600006,
           0.30354589223861694,
           0.3401973843574524,
           0.2889617383480072,
           0.2695941627025604,
           0.3350638151168823,
           0.3719250559806824,
           0.3482895791530609,
           0.45528289675712585,
           0.35858020186424255,
           0.3772462010383606,
           0.2840624451637268,
           0.40036797523498535,
           0.2275335043668747,
           0.32099097967147827,
           0.41662541031837463,
           0.3026515543460846,
           0.30912843346595764,
           0.36579081416130066,
           0.3748180568218231,
           0.5765607357025146,
           0.38652724027633667,
           0.2688225209712982,
           0.3839629292488098,
           0.31988760828971863,
           0.4754088521003723,
           0.4146035313606262,
           0.6286625266075134,
           0.9999999403953552,
           0.3761291205883026,
           0.6061788201332092,
           0.6281212568283081
          ],
          [
           0.31514689326286316,
           0.3549972474575043,
           0.3615356683731079,
           0.400917649269104,
           0.19170482456684113,
           0.3240102529525757,
           0.2332286685705185,
           0.29680776596069336,
           0.2671632468700409,
           0.37342628836631775,
           0.1516951471567154,
           0.2747022211551666,
           0.2273028939962387,
           0.2283371239900589,
           0.28023648262023926,
           0.23385906219482422,
           0.3377772271633148,
           0.2937390208244324,
           0.3130253851413727,
           0.23833656311035156,
           0.29678434133529663,
           0.24141766130924225,
           0.25866153836250305,
           0.2793999910354614,
           0.30078864097595215,
           0.2746272087097168,
           0.27359479665756226,
           0.32082808017730713,
           0.3903844952583313,
           0.38628578186035156,
           0.3123975992202759,
           0.26909366250038147,
           0.2040695697069168,
           0.2934703528881073,
           0.2405727505683899,
           0.21851512789726257,
           0.31679749488830566,
           0.3097594380378723,
           0.33155059814453125,
           0.20283906161785126,
           0.1663297712802887,
           0.254224956035614,
           0.280310720205307,
           0.2962838411331177,
           0.2424546480178833,
           0.2697409689426422,
           0.3761291205883026,
           1,
           0.45844167470932007,
           0.5480095744132996
          ],
          [
           0.36821624636650085,
           0.3539084792137146,
           0.44280993938446045,
           0.568666398525238,
           0.1999996304512024,
           0.25563353300094604,
           0.25712332129478455,
           0.3307691216468811,
           0.3432063162326813,
           0.4870983362197876,
           0.12461245059967041,
           0.22914868593215942,
           0.19408665597438812,
           0.23345516622066498,
           0.27325040102005005,
           0.16436034440994263,
           0.2571024000644684,
           0.3134858310222626,
           0.3514072597026825,
           0.21547524631023407,
           0.27460241317749023,
           0.21615462005138397,
           0.24565503001213074,
           0.2312733680009842,
           0.27018967270851135,
           0.291970431804657,
           0.274448961019516,
           0.32200950384140015,
           0.4149256646633148,
           0.2919381856918335,
           0.368461936712265,
           0.24076607823371887,
           0.2942812442779541,
           0.3481317460536957,
           0.250562846660614,
           0.20925137400627136,
           0.3230777084827423,
           0.29424384236335754,
           0.3308223783969879,
           0.2331853061914444,
           0.1957658976316452,
           0.27594301104545593,
           0.2903788387775421,
           0.6879953742027283,
           0.49983224272727966,
           0.4695335924625397,
           0.6061788201332092,
           0.45844167470932007,
           1,
           0.8449916243553162
          ],
          [
           0.4235968291759491,
           0.4177313446998596,
           0.46696749329566956,
           0.5630959868431091,
           0.2194371372461319,
           0.3029700219631195,
           0.2866835296154022,
           0.3119533061981201,
           0.35941582918167114,
           0.44776901602745056,
           0.14215253293514252,
           0.21860989928245544,
           0.22917334735393524,
           0.21673887968063354,
           0.25499504804611206,
           0.2038002610206604,
           0.2608550786972046,
           0.28892746567726135,
           0.34210583567619324,
           0.2306426465511322,
           0.27819928526878357,
           0.22854042053222656,
           0.23953895270824432,
           0.2618262767791748,
           0.308633953332901,
           0.2774448096752167,
           0.28865814208984375,
           0.33828723430633545,
           0.35517066717147827,
           0.24943499267101288,
           0.34771275520324707,
           0.2343979775905609,
           0.26374125480651855,
           0.4002751410007477,
           0.25690436363220215,
           0.22776195406913757,
           0.28923702239990234,
           0.31952813267707825,
           0.3679497539997101,
           0.2432132065296173,
           0.1768985092639923,
           0.2600051462650299,
           0.2669607698917389,
           0.5364807844161987,
           0.41457682847976685,
           0.47304266691207886,
           0.6281212568283081,
           0.5480095744132996,
           0.8449916243553162,
           1
          ]
         ]
        }
       ],
       "layout": {
        "coloraxis": {
         "colorbar": {
          "title": {
           "text": "Cosine Similarity"
          }
         },
         "colorscale": [
          [
           0,
           "#0d0887"
          ],
          [
           0.1111111111111111,
           "#46039f"
          ],
          [
           0.2222222222222222,
           "#7201a8"
          ],
          [
           0.3333333333333333,
           "#9c179e"
          ],
          [
           0.4444444444444444,
           "#bd3786"
          ],
          [
           0.5555555555555556,
           "#d8576b"
          ],
          [
           0.6666666666666666,
           "#ed7953"
          ],
          [
           0.7777777777777778,
           "#fb9f3a"
          ],
          [
           0.8888888888888888,
           "#fdca26"
          ],
          [
           1,
           "#f0f921"
          ]
         ]
        },
        "height": 1000,
        "template": {
         "data": {
          "bar": [
           {
            "error_x": {
             "color": "#2a3f5f"
            },
            "error_y": {
             "color": "#2a3f5f"
            },
            "marker": {
             "line": {
              "color": "#E5ECF6",
              "width": 0.5
             },
             "pattern": {
              "fillmode": "overlay",
              "size": 10,
              "solidity": 0.2
             }
            },
            "type": "bar"
           }
          ],
          "barpolar": [
           {
            "marker": {
             "line": {
              "color": "#E5ECF6",
              "width": 0.5
             },
             "pattern": {
              "fillmode": "overlay",
              "size": 10,
              "solidity": 0.2
             }
            },
            "type": "barpolar"
           }
          ],
          "carpet": [
           {
            "aaxis": {
             "endlinecolor": "#2a3f5f",
             "gridcolor": "white",
             "linecolor": "white",
             "minorgridcolor": "white",
             "startlinecolor": "#2a3f5f"
            },
            "baxis": {
             "endlinecolor": "#2a3f5f",
             "gridcolor": "white",
             "linecolor": "white",
             "minorgridcolor": "white",
             "startlinecolor": "#2a3f5f"
            },
            "type": "carpet"
           }
          ],
          "choropleth": [
           {
            "colorbar": {
             "outlinewidth": 0,
             "ticks": ""
            },
            "type": "choropleth"
           }
          ],
          "contour": [
           {
            "colorbar": {
             "outlinewidth": 0,
             "ticks": ""
            },
            "colorscale": [
             [
              0,
              "#0d0887"
             ],
             [
              0.1111111111111111,
              "#46039f"
             ],
             [
              0.2222222222222222,
              "#7201a8"
             ],
             [
              0.3333333333333333,
              "#9c179e"
             ],
             [
              0.4444444444444444,
              "#bd3786"
             ],
             [
              0.5555555555555556,
              "#d8576b"
             ],
             [
              0.6666666666666666,
              "#ed7953"
             ],
             [
              0.7777777777777778,
              "#fb9f3a"
             ],
             [
              0.8888888888888888,
              "#fdca26"
             ],
             [
              1,
              "#f0f921"
             ]
            ],
            "type": "contour"
           }
          ],
          "contourcarpet": [
           {
            "colorbar": {
             "outlinewidth": 0,
             "ticks": ""
            },
            "type": "contourcarpet"
           }
          ],
          "heatmap": [
           {
            "colorbar": {
             "outlinewidth": 0,
             "ticks": ""
            },
            "colorscale": [
             [
              0,
              "#0d0887"
             ],
             [
              0.1111111111111111,
              "#46039f"
             ],
             [
              0.2222222222222222,
              "#7201a8"
             ],
             [
              0.3333333333333333,
              "#9c179e"
             ],
             [
              0.4444444444444444,
              "#bd3786"
             ],
             [
              0.5555555555555556,
              "#d8576b"
             ],
             [
              0.6666666666666666,
              "#ed7953"
             ],
             [
              0.7777777777777778,
              "#fb9f3a"
             ],
             [
              0.8888888888888888,
              "#fdca26"
             ],
             [
              1,
              "#f0f921"
             ]
            ],
            "type": "heatmap"
           }
          ],
          "heatmapgl": [
           {
            "colorbar": {
             "outlinewidth": 0,
             "ticks": ""
            },
            "colorscale": [
             [
              0,
              "#0d0887"
             ],
             [
              0.1111111111111111,
              "#46039f"
             ],
             [
              0.2222222222222222,
              "#7201a8"
             ],
             [
              0.3333333333333333,
              "#9c179e"
             ],
             [
              0.4444444444444444,
              "#bd3786"
             ],
             [
              0.5555555555555556,
              "#d8576b"
             ],
             [
              0.6666666666666666,
              "#ed7953"
             ],
             [
              0.7777777777777778,
              "#fb9f3a"
             ],
             [
              0.8888888888888888,
              "#fdca26"
             ],
             [
              1,
              "#f0f921"
             ]
            ],
            "type": "heatmapgl"
           }
          ],
          "histogram": [
           {
            "marker": {
             "pattern": {
              "fillmode": "overlay",
              "size": 10,
              "solidity": 0.2
             }
            },
            "type": "histogram"
           }
          ],
          "histogram2d": [
           {
            "colorbar": {
             "outlinewidth": 0,
             "ticks": ""
            },
            "colorscale": [
             [
              0,
              "#0d0887"
             ],
             [
              0.1111111111111111,
              "#46039f"
             ],
             [
              0.2222222222222222,
              "#7201a8"
             ],
             [
              0.3333333333333333,
              "#9c179e"
             ],
             [
              0.4444444444444444,
              "#bd3786"
             ],
             [
              0.5555555555555556,
              "#d8576b"
             ],
             [
              0.6666666666666666,
              "#ed7953"
             ],
             [
              0.7777777777777778,
              "#fb9f3a"
             ],
             [
              0.8888888888888888,
              "#fdca26"
             ],
             [
              1,
              "#f0f921"
             ]
            ],
            "type": "histogram2d"
           }
          ],
          "histogram2dcontour": [
           {
            "colorbar": {
             "outlinewidth": 0,
             "ticks": ""
            },
            "colorscale": [
             [
              0,
              "#0d0887"
             ],
             [
              0.1111111111111111,
              "#46039f"
             ],
             [
              0.2222222222222222,
              "#7201a8"
             ],
             [
              0.3333333333333333,
              "#9c179e"
             ],
             [
              0.4444444444444444,
              "#bd3786"
             ],
             [
              0.5555555555555556,
              "#d8576b"
             ],
             [
              0.6666666666666666,
              "#ed7953"
             ],
             [
              0.7777777777777778,
              "#fb9f3a"
             ],
             [
              0.8888888888888888,
              "#fdca26"
             ],
             [
              1,
              "#f0f921"
             ]
            ],
            "type": "histogram2dcontour"
           }
          ],
          "mesh3d": [
           {
            "colorbar": {
             "outlinewidth": 0,
             "ticks": ""
            },
            "type": "mesh3d"
           }
          ],
          "parcoords": [
           {
            "line": {
             "colorbar": {
              "outlinewidth": 0,
              "ticks": ""
             }
            },
            "type": "parcoords"
           }
          ],
          "pie": [
           {
            "automargin": true,
            "type": "pie"
           }
          ],
          "scatter": [
           {
            "fillpattern": {
             "fillmode": "overlay",
             "size": 10,
             "solidity": 0.2
            },
            "type": "scatter"
           }
          ],
          "scatter3d": [
           {
            "line": {
             "colorbar": {
              "outlinewidth": 0,
              "ticks": ""
             }
            },
            "marker": {
             "colorbar": {
              "outlinewidth": 0,
              "ticks": ""
             }
            },
            "type": "scatter3d"
           }
          ],
          "scattercarpet": [
           {
            "marker": {
             "colorbar": {
              "outlinewidth": 0,
              "ticks": ""
             }
            },
            "type": "scattercarpet"
           }
          ],
          "scattergeo": [
           {
            "marker": {
             "colorbar": {
              "outlinewidth": 0,
              "ticks": ""
             }
            },
            "type": "scattergeo"
           }
          ],
          "scattergl": [
           {
            "marker": {
             "colorbar": {
              "outlinewidth": 0,
              "ticks": ""
             }
            },
            "type": "scattergl"
           }
          ],
          "scattermapbox": [
           {
            "marker": {
             "colorbar": {
              "outlinewidth": 0,
              "ticks": ""
             }
            },
            "type": "scattermapbox"
           }
          ],
          "scatterpolar": [
           {
            "marker": {
             "colorbar": {
              "outlinewidth": 0,
              "ticks": ""
             }
            },
            "type": "scatterpolar"
           }
          ],
          "scatterpolargl": [
           {
            "marker": {
             "colorbar": {
              "outlinewidth": 0,
              "ticks": ""
             }
            },
            "type": "scatterpolargl"
           }
          ],
          "scatterternary": [
           {
            "marker": {
             "colorbar": {
              "outlinewidth": 0,
              "ticks": ""
             }
            },
            "type": "scatterternary"
           }
          ],
          "surface": [
           {
            "colorbar": {
             "outlinewidth": 0,
             "ticks": ""
            },
            "colorscale": [
             [
              0,
              "#0d0887"
             ],
             [
              0.1111111111111111,
              "#46039f"
             ],
             [
              0.2222222222222222,
              "#7201a8"
             ],
             [
              0.3333333333333333,
              "#9c179e"
             ],
             [
              0.4444444444444444,
              "#bd3786"
             ],
             [
              0.5555555555555556,
              "#d8576b"
             ],
             [
              0.6666666666666666,
              "#ed7953"
             ],
             [
              0.7777777777777778,
              "#fb9f3a"
             ],
             [
              0.8888888888888888,
              "#fdca26"
             ],
             [
              1,
              "#f0f921"
             ]
            ],
            "type": "surface"
           }
          ],
          "table": [
           {
            "cells": {
             "fill": {
              "color": "#EBF0F8"
             },
             "line": {
              "color": "white"
             }
            },
            "header": {
             "fill": {
              "color": "#C8D4E3"
             },
             "line": {
              "color": "white"
             }
            },
            "type": "table"
           }
          ]
         },
         "layout": {
          "annotationdefaults": {
           "arrowcolor": "#2a3f5f",
           "arrowhead": 0,
           "arrowwidth": 1
          },
          "autotypenumbers": "strict",
          "coloraxis": {
           "colorbar": {
            "outlinewidth": 0,
            "ticks": ""
           }
          },
          "colorscale": {
           "diverging": [
            [
             0,
             "#8e0152"
            ],
            [
             0.1,
             "#c51b7d"
            ],
            [
             0.2,
             "#de77ae"
            ],
            [
             0.3,
             "#f1b6da"
            ],
            [
             0.4,
             "#fde0ef"
            ],
            [
             0.5,
             "#f7f7f7"
            ],
            [
             0.6,
             "#e6f5d0"
            ],
            [
             0.7,
             "#b8e186"
            ],
            [
             0.8,
             "#7fbc41"
            ],
            [
             0.9,
             "#4d9221"
            ],
            [
             1,
             "#276419"
            ]
           ],
           "sequential": [
            [
             0,
             "#0d0887"
            ],
            [
             0.1111111111111111,
             "#46039f"
            ],
            [
             0.2222222222222222,
             "#7201a8"
            ],
            [
             0.3333333333333333,
             "#9c179e"
            ],
            [
             0.4444444444444444,
             "#bd3786"
            ],
            [
             0.5555555555555556,
             "#d8576b"
            ],
            [
             0.6666666666666666,
             "#ed7953"
            ],
            [
             0.7777777777777778,
             "#fb9f3a"
            ],
            [
             0.8888888888888888,
             "#fdca26"
            ],
            [
             1,
             "#f0f921"
            ]
           ],
           "sequentialminus": [
            [
             0,
             "#0d0887"
            ],
            [
             0.1111111111111111,
             "#46039f"
            ],
            [
             0.2222222222222222,
             "#7201a8"
            ],
            [
             0.3333333333333333,
             "#9c179e"
            ],
            [
             0.4444444444444444,
             "#bd3786"
            ],
            [
             0.5555555555555556,
             "#d8576b"
            ],
            [
             0.6666666666666666,
             "#ed7953"
            ],
            [
             0.7777777777777778,
             "#fb9f3a"
            ],
            [
             0.8888888888888888,
             "#fdca26"
            ],
            [
             1,
             "#f0f921"
            ]
           ]
          },
          "colorway": [
           "#636efa",
           "#EF553B",
           "#00cc96",
           "#ab63fa",
           "#FFA15A",
           "#19d3f3",
           "#FF6692",
           "#B6E880",
           "#FF97FF",
           "#FECB52"
          ],
          "font": {
           "color": "#2a3f5f"
          },
          "geo": {
           "bgcolor": "white",
           "lakecolor": "white",
           "landcolor": "#E5ECF6",
           "showlakes": true,
           "showland": true,
           "subunitcolor": "white"
          },
          "hoverlabel": {
           "align": "left"
          },
          "hovermode": "closest",
          "mapbox": {
           "style": "light"
          },
          "paper_bgcolor": "white",
          "plot_bgcolor": "#E5ECF6",
          "polar": {
           "angularaxis": {
            "gridcolor": "white",
            "linecolor": "white",
            "ticks": ""
           },
           "bgcolor": "#E5ECF6",
           "radialaxis": {
            "gridcolor": "white",
            "linecolor": "white",
            "ticks": ""
           }
          },
          "scene": {
           "xaxis": {
            "backgroundcolor": "#E5ECF6",
            "gridcolor": "white",
            "gridwidth": 2,
            "linecolor": "white",
            "showbackground": true,
            "ticks": "",
            "zerolinecolor": "white"
           },
           "yaxis": {
            "backgroundcolor": "#E5ECF6",
            "gridcolor": "white",
            "gridwidth": 2,
            "linecolor": "white",
            "showbackground": true,
            "ticks": "",
            "zerolinecolor": "white"
           },
           "zaxis": {
            "backgroundcolor": "#E5ECF6",
            "gridcolor": "white",
            "gridwidth": 2,
            "linecolor": "white",
            "showbackground": true,
            "ticks": "",
            "zerolinecolor": "white"
           }
          },
          "shapedefaults": {
           "line": {
            "color": "#2a3f5f"
           }
          },
          "ternary": {
           "aaxis": {
            "gridcolor": "white",
            "linecolor": "white",
            "ticks": ""
           },
           "baxis": {
            "gridcolor": "white",
            "linecolor": "white",
            "ticks": ""
           },
           "bgcolor": "#E5ECF6",
           "caxis": {
            "gridcolor": "white",
            "linecolor": "white",
            "ticks": ""
           }
          },
          "title": {
           "x": 0.05
          },
          "xaxis": {
           "automargin": true,
           "gridcolor": "white",
           "linecolor": "white",
           "ticks": "",
           "title": {
            "standoff": 15
           },
           "zerolinecolor": "white",
           "zerolinewidth": 2
          },
          "yaxis": {
           "automargin": true,
           "gridcolor": "white",
           "linecolor": "white",
           "ticks": "",
           "title": {
            "standoff": 15
           },
           "zerolinecolor": "white",
           "zerolinewidth": 2
          }
         }
        },
        "title": {
         "text": "Audio Embedding Cosine Self Similarity (Pretrain)"
        },
        "width": 1000,
        "xaxis": {
         "anchor": "y",
         "constrain": "domain",
         "domain": [
          0,
          1
         ],
         "scaleanchor": "y",
         "title": {
          "text": "Pretrain"
         }
        },
        "yaxis": {
         "anchor": "x",
         "autorange": "reversed",
         "constrain": "domain",
         "domain": [
          0,
          1
         ],
         "title": {
          "text": "Pretrain"
         }
        }
       }
      },
      "text/html": [
       "<div>                            <div id=\"a743d542-e549-4f89-b515-226825329b14\" class=\"plotly-graph-div\" style=\"height:1000px; width:1000px;\"></div>            <script type=\"text/javascript\">                require([\"plotly\"], function(Plotly) {                    window.PLOTLYENV=window.PLOTLYENV || {};                                    if (document.getElementById(\"a743d542-e549-4f89-b515-226825329b14\")) {                    Plotly.newPlot(                        \"a743d542-e549-4f89-b515-226825329b14\",                        [{\"coloraxis\":\"coloraxis\",\"name\":\"0\",\"x\":[\"toilet flush\",\"pouring water\",\"water drops\",\"drinking sipping\",\"keyboard typing\",\"clock alarm\",\"clock tick\",\"door wood creaks\",\"mouse click\",\"can opening\",\"church bells\",\"chainsaw\",\"train\",\"crickets\",\"chirping birds\",\"rain\",\"crackling fire\",\"sea waves\",\"wind\",\"siren\",\"car horn\",\"helicopter\",\"airplane\",\"engine\",\"washing machine\",\"vacuum cleaner\",\"clapping\",\"door wood knock\",\"footsteps\",\"fireworks\",\"dog\",\"thunderstorm\",\"cat\",\"pig\",\"cow\",\"sheep\",\"crow\",\"rooster\",\"hen\",\"frog\",\"insects\",\"brushing teeth\",\"hand saw\",\"breathing\",\"snoring\",\"crying baby\",\"laughing\",\"glass breaking\",\"sneezing\",\"coughing\"],\"y\":[\"toilet flush\",\"pouring water\",\"water drops\",\"drinking sipping\",\"keyboard typing\",\"clock alarm\",\"clock tick\",\"door wood creaks\",\"mouse click\",\"can opening\",\"church bells\",\"chainsaw\",\"train\",\"crickets\",\"chirping birds\",\"rain\",\"crackling fire\",\"sea waves\",\"wind\",\"siren\",\"car horn\",\"helicopter\",\"airplane\",\"engine\",\"washing machine\",\"vacuum cleaner\",\"clapping\",\"door wood knock\",\"footsteps\",\"fireworks\",\"dog\",\"thunderstorm\",\"cat\",\"pig\",\"cow\",\"sheep\",\"crow\",\"rooster\",\"hen\",\"frog\",\"insects\",\"brushing teeth\",\"hand saw\",\"breathing\",\"snoring\",\"crying baby\",\"laughing\",\"glass breaking\",\"sneezing\",\"coughing\"],\"z\":[[1.0000001192092896,0.5764039754867554,0.48227208852767944,0.5374447107315063,0.1831623613834381,0.2416173815727234,0.21865177154541016,0.3064148426055908,0.27373215556144714,0.3199552297592163,0.17356154322624207,0.31157711148262024,0.24587459862232208,0.17283709347248077,0.2364034652709961,0.32776519656181335,0.2376192957162857,0.35281383991241455,0.33779746294021606,0.2597452998161316,0.23402395844459534,0.27611446380615234,0.26002582907676697,0.3139154314994812,0.4903443157672882,0.4108741581439972,0.3200020492076874,0.27490267157554626,0.2748986482620239,0.2127797156572342,0.2901918590068817,0.2337990403175354,0.19372695684432983,0.45549553632736206,0.3649372160434723,0.27457576990127563,0.2301027774810791,0.26166579127311707,0.3204249143600464,0.2590887248516083,0.1724027544260025,0.278633177280426,0.36002832651138306,0.33426517248153687,0.352119505405426,0.27430447936058044,0.4001489281654358,0.31514689326286316,0.36821624636650085,0.4235968291759491],[0.5764039754867554,1.0,0.7860516905784607,0.6977232098579407,0.2890896797180176,0.39058756828308105,0.338640034198761,0.33306512236595154,0.44310247898101807,0.5311356782913208,0.1391863077878952,0.27439218759536743,0.15765409171581268,0.27505233883857727,0.3219820261001587,0.34118297696113586,0.38462305068969727,0.2963274121284485,0.2525205910205841,0.272492915391922,0.23712149262428284,0.2209416627883911,0.1821088343858719,0.3546965420246124,0.398050993680954,0.3260175585746765,0.3489750921726227,0.3579546809196472,0.27744153141975403,0.19260884821414948,0.26586803793907166,0.1782187521457672,0.2115745097398758,0.29463329911231995,0.22617052495479584,0.18497437238693237,0.23123162984848022,0.2701471149921417,0.3000941276550293,0.30062612891197205,0.15061669051647186,0.35324737429618835,0.25110000371932983,0.29272225499153137,0.32371553778648376,0.35495883226394653,0.42067813873291016,0.3549972474575043,0.3539084792137146,0.4177313446998596],[0.48227208852767944,0.7860516905784607,1.0,0.8024290204048157,0.3396419882774353,0.40863391757011414,0.4595010578632355,0.3979071378707886,0.5711435079574585,0.5783969759941101,0.17186595499515533,0.20511913299560547,0.1886991709470749,0.31871581077575684,0.3742426037788391,0.32923367619514465,0.5017266869544983,0.3546851873397827,0.3568144142627716,0.2925228774547577,0.2810799777507782,0.23572678864002228,0.21990425884723663,0.32327356934547424,0.40422189235687256,0.3226849138736725,0.345814973115921,0.50310879945755,0.4407859444618225,0.28274017572402954,0.3075430691242218,0.24925726652145386,0.28822875022888184,0.29513296484947205,0.21145792305469513,0.18738554418087006,0.3036655783653259,0.27531349658966064,0.32938867807388306,0.35809412598609924,0.19863338768482208,0.32153642177581787,0.2269573211669922,0.3463250994682312,0.30487164855003357,0.3279370367527008,0.44622787833213806,0.3615356683731079,0.44280993938446045,0.46696749329566956],[0.5374447107315063,0.6977232098579407,0.8024290204048157,1.0000001192092896,0.3180484175682068,0.34844669699668884,0.3532036244869232,0.49680501222610474,0.5219783186912537,0.5344688296318054,0.1399959772825241,0.30512911081314087,0.22847406566143036,0.29565587639808655,0.31595999002456665,0.26867035031318665,0.4437834322452545,0.4079696834087372,0.42643171548843384,0.25947993993759155,0.27112483978271484,0.31426021456718445,0.29927799105644226,0.3207473158836365,0.42113375663757324,0.3293745517730713,0.33413973450660706,0.4495028853416443,0.528752326965332,0.30916666984558105,0.3591197431087494,0.2701874375343323,0.3119570314884186,0.5295636653900146,0.33999988436698914,0.2921469509601593,0.31363725662231445,0.3089582324028015,0.40742456912994385,0.383430540561676,0.26090744137763977,0.4386664032936096,0.3196597695350647,0.5188694000244141,0.5569047331809998,0.4091145396232605,0.5574337840080261,0.400917649269104,0.568666398525238,0.5630959868431091],[0.1831623613834381,0.2890896797180176,0.3396419882774353,0.3180484175682068,1.0000001192092896,0.30452585220336914,0.4211026430130005,0.38526666164398193,0.7478386163711548,0.4973190426826477,0.11427973955869675,0.21795430779457092,0.1481446772813797,0.2544691264629364,0.2473941296339035,0.35878196358680725,0.5194264650344849,0.17262057960033417,0.23788043856620789,0.1791670024394989,0.20867687463760376,0.222633495926857,0.1605454832315445,0.3741486072540283,0.3510116934776306,0.24674923717975616,0.37109389901161194,0.36117056012153625,0.28965622186660767,0.22445723414421082,0.19406534731388092,0.18044476211071014,0.17796140909194946,0.17882691323757172,0.14068002998828888,0.13913029432296753,0.20008575916290283,0.18234883248806,0.2577899396419525,0.2139299064874649,0.1929827630519867,0.2499442845582962,0.1733843982219696,0.22959305346012115,0.22571595013141632,0.22437383234500885,0.3177855610847473,0.19170482456684113,0.1999996304512024,0.2194371372461319],[0.2416173815727234,0.39058756828308105,0.40863391757011414,0.34844669699668884,0.30452585220336914,1.0,0.5091145634651184,0.5039450526237488,0.496629923582077,0.4850611388683319,0.2128707468509674,0.2706104815006256,0.19570474326610565,0.33772072196006775,0.2918950617313385,0.23865577578544617,0.3443690538406372,0.1587398499250412,0.2907710075378418,0.5020880103111267,0.4698896110057831,0.3067372441291809,0.21408259868621826,0.36508649587631226,0.478045254945755,0.4000299274921417,0.2638470232486725,0.30790168046951294,0.22591747343540192,0.24698951840400696,0.26339203119277954,0.18632444739341736,0.2387094348669052,0.2771461009979248,0.22525554895401,0.2290951907634735,0.28667163848876953,0.3434661030769348,0.33390310406684875,0.38325291872024536,0.18063805997371674,0.23966127634048462,0.20665329694747925,0.232452854514122,0.3072792589664459,0.33944371342658997,0.3701585829257965,0.3240102529525757,0.25563353300094604,0.3029700219631195],[0.21865177154541016,0.338640034198761,0.4595010578632355,0.3532036244869232,0.4211026430130005,0.5091145634651184,1.0,0.44056907296180725,0.7028706073760986,0.5801950693130493,0.26885563135147095,0.19510366022586823,0.16597282886505127,0.3270114064216614,0.25083908438682556,0.25196003913879395,0.41882386803627014,0.15114939212799072,0.2380313128232956,0.22095155715942383,0.254730761051178,0.21242603659629822,0.16337977349758148,0.3195470869541168,0.40840181708335876,0.2863635718822479,0.23911786079406738,0.35974204540252686,0.24879178404808044,0.19331686198711395,0.20866350829601288,0.18247124552726746,0.21576938033103943,0.21598327159881592,0.16122698783874512,0.1418067365884781,0.22433294355869293,0.2046542465686798,0.24582414329051971,0.29470574855804443,0.2211528718471527,0.2533527910709381,0.22267623245716095,0.22643543779850006,0.24389630556106567,0.22872479259967804,0.2966931462287903,0.2332286685705185,0.25712332129478455,0.2866835296154022],[0.3064148426055908,0.33306512236595154,0.3979071378707886,0.49680501222610474,0.38526666164398193,0.5039450526237488,0.44056907296180725,1.0000001192092896,0.6096848249435425,0.5308777093887329,0.13926054537296295,0.45340386033058167,0.2245350331068039,0.33680129051208496,0.3566708266735077,0.21026383340358734,0.3456829786300659,0.20995981991291046,0.3552165627479553,0.37794578075408936,0.38977229595184326,0.33045855164527893,0.2501993477344513,0.3835321068763733,0.5523219108581543,0.4388527274131775,0.2898728847503662,0.5179319381713867,0.4179237186908722,0.3530702292919159,0.27634260058403015,0.22031843662261963,0.4452908933162689,0.40952423214912415,0.3606467843055725,0.3675834834575653,0.37934550642967224,0.3456352949142456,0.41234421730041504,0.4193142354488373,0.36372867226600647,0.3196466267108917,0.3497549891471863,0.32650482654571533,0.4617183804512024,0.5365431308746338,0.4211517870426178,0.29680776596069336,0.3307691216468811,0.3119533061981201],[0.27373215556144714,0.44310247898101807,0.5711435079574585,0.5219783186912537,0.7478386163711548,0.496629923582077,0.7028706073760986,0.6096848249435425,1.0000001192092896,0.8004202842712402,0.14289243519306183,0.3016703724861145,0.19617338478565216,0.41824305057525635,0.34994766116142273,0.3264691233634949,0.6101279258728027,0.21238811314105988,0.33967921137809753,0.2546093463897705,0.2940187156200409,0.27946144342422485,0.21741074323654175,0.41490638256073,0.4911688268184662,0.3846682012081146,0.35115987062454224,0.4810432493686676,0.37643077969551086,0.27348145842552185,0.2712704837322235,0.21769405901432037,0.30186524987220764,0.2628253102302551,0.19753919541835785,0.18113677203655243,0.3072627782821655,0.2555483281612396,0.3216339647769928,0.3514708876609802,0.28644365072250366,0.37181997299194336,0.2916121780872345,0.3472346067428589,0.37509533762931824,0.31373387575149536,0.4094747006893158,0.2671632468700409,0.3432063162326813,0.35941582918167114],[0.3199552297592163,0.5311356782913208,0.5783969759941101,0.5344688296318054,0.4973190426826477,0.4850611388683319,0.5801950693130493,0.5308777093887329,0.8004202842712402,1.0,0.15593978762626648,0.358359694480896,0.1772640496492386,0.3898291289806366,0.35748642683029175,0.2951546311378479,0.5804112553596497,0.22761417925357819,0.2817876935005188,0.25945740938186646,0.2964126765727997,0.27410751581192017,0.21684543788433075,0.36805734038352966,0.44139495491981506,0.4273037612438202,0.41381698846817017,0.4176311790943146,0.3893568813800812,0.3276124596595764,0.2960989475250244,0.19642841815948486,0.2728049159049988,0.2735769748687744,0.2077983021736145,0.19228039681911469,0.3693602681159973,0.28564929962158203,0.34086039662361145,0.34981629252433777,0.2511686086654663,0.398764967918396,0.35080093145370483,0.351785272359848,0.3453887403011322,0.34317606687545776,0.46143269538879395,0.37342628836631775,0.4870983362197876,0.44776901602745056],[0.17356154322624207,0.1391863077878952,0.17186595499515533,0.1399959772825241,0.11427973955869675,0.2128707468509674,0.26885563135147095,0.13926054537296295,0.14289243519306183,0.15593978762626648,0.9999999403953552,0.12624847888946533,0.21782471239566803,0.1671341359615326,0.21260462701320648,0.2099200338125229,0.17974433302879333,0.15269386768341064,0.2531365156173706,0.23943568766117096,0.2444317638874054,0.19866563379764557,0.2068580836057663,0.17298471927642822,0.23393695056438446,0.17677514255046844,0.17348673939704895,0.15044137835502625,0.16819041967391968,0.17129486799240112,0.17440296709537506,0.1903005689382553,0.10359501093626022,0.14651447534561157,0.21267731487751007,0.17616738379001617,0.18783336877822876,0.19237922132015228,0.2071477621793747,0.1386490762233734,0.1241765022277832,0.1297921985387802,0.13975968956947327,0.13659660518169403,0.11192657053470612,0.140701025724411,0.16435270011425018,0.1516951471567154,0.12461245059967041,0.14215253293514252],[0.31157711148262024,0.27439218759536743,0.20511913299560547,0.30512911081314087,0.21795430779457092,0.2706104815006256,0.19510366022586823,0.45340386033058167,0.3016703724861145,0.358359694480896,0.12624847888946533,1.0000001192092896,0.19541049003601074,0.25864720344543457,0.2664732336997986,0.23482745885849,0.2550148665904999,0.22241386771202087,0.30331289768218994,0.2724885940551758,0.283983439207077,0.42939677834510803,0.3549455404281616,0.5832579731941223,0.49621403217315674,0.6101124286651611,0.2772253453731537,0.23964275419712067,0.2601345479488373,0.24793867766857147,0.2440226674079895,0.1450771540403366,0.14286497235298157,0.28791967034339905,0.3044483959674835,0.24197284877300262,0.21411468088626862,0.20604953169822693,0.24698446691036224,0.21220852434635162,0.33157601952552795,0.2708459198474884,0.47187215089797974,0.24703292548656464,0.420278936624527,0.25148916244506836,0.2856549918651581,0.2747022211551666,0.22914868593215942,0.21860989928245544],[0.24587459862232208,0.15765409171581268,0.1886991709470749,0.22847406566143036,0.1481446772813797,0.19570474326610565,0.16597282886505127,0.2245350331068039,0.19617338478565216,0.1772640496492386,0.21782471239566803,0.19541049003601074,1.0000001192092896,0.2405356764793396,0.22314593195915222,0.3013283610343933,0.23814168572425842,0.2826712727546692,0.5587440133094788,0.29287248849868774,0.38659822940826416,0.33259984850883484,0.3337547481060028,0.3350052833557129,0.515245795249939,0.3386360704898834,0.22574664652347565,0.22724364697933197,0.2772654592990875,0.23947842419147491,0.1938280165195465,0.26264217495918274,0.1355161964893341,0.21210038661956787,0.2231929749250412,0.19966454803943634,0.18940719962120056,0.18528485298156738,0.23031271994113922,0.1309221386909485,0.1563643217086792,0.19448718428611755,0.22051294147968292,0.2395671159029007,0.17806527018547058,0.1800628900527954,0.230990931391716,0.2273028939962387,0.19408665597438812,0.22917334735393524],[0.17283709347248077,0.27505233883857727,0.31871581077575684,0.29565587639808655,0.2544691264629364,0.33772072196006775,0.3270114064216614,0.33680129051208496,0.41824305057525635,0.3898291289806366,0.1671341359615326,0.25864720344543457,0.2405356764793396,1.0,0.5581432580947876,0.30672359466552734,0.4393750727176666,0.2205483615398407,0.4318501651287079,0.32345613837242126,0.2593078911304474,0.40111130475997925,0.33661675453186035,0.34128549695014954,0.4412931501865387,0.405019611120224,0.21704915165901184,0.24590814113616943,0.2990415394306183,0.2971228063106537,0.20101101696491241,0.25060659646987915,0.18404947221279144,0.22879000008106232,0.3106052875518799,0.21714980900287628,0.3054373562335968,0.24301233887672424,0.295705646276474,0.5563778281211853,0.6536567211151123,0.3305407762527466,0.26779448986053467,0.353736013174057,0.33153852820396423,0.23304909467697144,0.2857348620891571,0.2283371239900589,0.23345516622066498,0.21673887968063354],[0.2364034652709961,0.3219820261001587,0.3742426037788391,0.31595999002456665,0.2473941296339035,0.2918950617313385,0.25083908438682556,0.3566708266735077,0.34994766116142273,0.35748642683029175,0.21260462701320648,0.2664732336997986,0.22314593195915222,0.5581432580947876,0.9999998807907104,0.302682489156723,0.32469266653060913,0.24569344520568848,0.40103963017463684,0.33825576305389404,0.3140702545642853,0.30095499753952026,0.28434303402900696,0.2765834331512451,0.32222872972488403,0.321724534034729,0.25049054622650146,0.25156524777412415,0.30878984928131104,0.26448747515678406,0.3265377879142761,0.24386757612228394,0.2604835629463196,0.2759455740451813,0.3372061848640442,0.29240795969963074,0.5434346795082092,0.4678010046482086,0.5691925287246704,0.4387856125831604,0.3263621926307678,0.30285337567329407,0.2477876842021942,0.3132878541946411,0.2745826244354248,0.2843586504459381,0.35443150997161865,0.28023648262023926,0.27325040102005005,0.25499504804611206],[0.32776519656181335,0.34118297696113586,0.32923367619514465,0.26867035031318665,0.35878196358680725,0.23865577578544617,0.25196003913879395,0.21026383340358734,0.3264691233634949,0.2951546311378479,0.2099200338125229,0.23482745885849,0.3013283610343933,0.30672359466552734,0.302682489156723,1.0,0.6542349457740784,0.5088579058647156,0.5044729709625244,0.3145177960395813,0.2746775448322296,0.31716418266296387,0.29651036858558655,0.44193896651268005,0.49256080389022827,0.4143994450569153,0.4461095333099365,0.27278241515159607,0.3406260311603546,0.35132190585136414,0.24000123143196106,0.5387803316116333,0.14977292716503143,0.19098009169101715,0.2171344757080078,0.18572959303855896,0.21286152303218842,0.20855729281902313,0.26081332564353943,0.20031678676605225,0.22358796000480652,0.20845843851566315,0.20353618264198303,0.20577779412269592,0.17904360592365265,0.2049507051706314,0.2643580436706543,0.23385906219482422,0.16436034440994263,0.2038002610206604],[0.2376192957162857,0.38462305068969727,0.5017266869544983,0.4437834322452545,0.5194264650344849,0.3443690538406372,0.41882386803627014,0.3456829786300659,0.6101279258728027,0.5804112553596497,0.17974433302879333,0.2550148665904999,0.23814168572425842,0.4393750727176666,0.32469266653060913,0.6542349457740784,0.9999999403953552,0.3269818127155304,0.43202152848243713,0.27234983444213867,0.2793596684932709,0.3326161503791809,0.28364962339401245,0.4972073435783386,0.5150607824325562,0.378679484128952,0.4233294427394867,0.3794362545013428,0.5431835055351257,0.4292756915092468,0.256325364112854,0.3938795328140259,0.22052371501922607,0.23974277079105377,0.20227393507957458,0.1897621899843216,0.2548108696937561,0.1905445009469986,0.271526575088501,0.2549014091491699,0.27900293469429016,0.2909896969795227,0.21066145598888397,0.25671693682670593,0.2634419798851013,0.21048285067081451,0.30959588289260864,0.3377772271633148,0.2571024000644684,0.2608550786972046],[0.35281383991241455,0.2963274121284485,0.3546851873397827,0.4079696834087372,0.17262057960033417,0.1587398499250412,0.15114939212799072,0.20995981991291046,0.21238811314105988,0.22761417925357819,0.15269386768341064,0.22241386771202087,0.2826712727546692,0.2205483615398407,0.24569344520568848,0.5088579058647156,0.3269818127155304,1.0000001192092896,0.6611014604568481,0.27484145760536194,0.26448768377304077,0.3344845473766327,0.3702249825000763,0.2754969894886017,0.30936455726623535,0.30416640639305115,0.27857500314712524,0.20283517241477966,0.4007319509983063,0.27067670226097107,0.2514628767967224,0.3042767643928528,0.14997805655002594,0.2441267967224121,0.2721467912197113,0.2262132614850998,0.2586451768875122,0.1963658332824707,0.27549248933792114,0.19030600786209106,0.21424125134944916,0.23624032735824585,0.21509099006652832,0.3687540590763092,0.2764177918434143,0.24262163043022156,0.3300173878669739,0.2937390208244324,0.3134858310222626,0.28892746567726135],[0.33779746294021606,0.2525205910205841,0.3568144142627716,0.42643171548843384,0.23788043856620789,0.2907710075378418,0.2380313128232956,0.3552165627479553,0.33967921137809753,0.2817876935005188,0.2531365156173706,0.30331289768218994,0.5587440133094788,0.4318501651287079,0.40103963017463684,0.5044729709625244,0.43202152848243713,0.6611014604568481,0.9999998807907104,0.4780797064304352,0.45081859827041626,0.5738829970359802,0.6324061155319214,0.4315915107727051,0.5853497982025146,0.526633620262146,0.2786593735218048,0.30299320816993713,0.43762388825416565,0.351309597492218,0.3853206932544708,0.48940640687942505,0.27624601125717163,0.3318069279193878,0.3912121653556824,0.30918383598327637,0.38778388500213623,0.3114074170589447,0.3512585461139679,0.29013490676879883,0.3244851231575012,0.29380714893341064,0.2820664644241333,0.4822136163711548,0.40151533484458923,0.32524362206459045,0.3686024248600006,0.3130253851413727,0.3514072597026825,0.34210583567619324],[0.2597452998161316,0.272492915391922,0.2925228774547577,0.25947993993759155,0.1791670024394989,0.5020880103111267,0.22095155715942383,0.37794578075408936,0.2546093463897705,0.25945740938186646,0.23943568766117096,0.2724885940551758,0.29287248849868774,0.32345613837242126,0.33825576305389404,0.3145177960395813,0.27234983444213867,0.27484145760536194,0.4780797064304352,1.0000001192092896,0.5999962091445923,0.37942740321159363,0.3581508994102478,0.34800800681114197,0.43944159150123596,0.4229716658592224,0.2748124599456787,0.26666003465652466,0.28269749879837036,0.29997527599334717,0.3335665166378021,0.25017398595809937,0.24028027057647705,0.24501769244670868,0.3336593210697174,0.2740940451622009,0.31264156103134155,0.40676894783973694,0.3565320074558258,0.31808486580848694,0.21469932794570923,0.20617063343524933,0.23139815032482147,0.25548055768013,0.22951379418373108,0.3732434809207916,0.30354589223861694,0.23833656311035156,0.21547524631023407,0.2306426465511322],[0.23402395844459534,0.23712149262428284,0.2810799777507782,0.27112483978271484,0.20867687463760376,0.4698896110057831,0.254730761051178,0.38977229595184326,0.2940187156200409,0.2964126765727997,0.2444317638874054,0.283983439207077,0.38659822940826416,0.2593078911304474,0.3140702545642853,0.2746775448322296,0.2793596684932709,0.26448768377304077,0.45081859827041626,0.5999962091445923,0.9999998807907104,0.36280399560928345,0.35107651352882385,0.4562423527240753,0.44885751605033875,0.3726974427700043,0.23303069174289703,0.24824656546115875,0.2908340096473694,0.24940571188926697,0.2849426567554474,0.22050175070762634,0.2114604413509369,0.22547556459903717,0.29160693287849426,0.2608679234981537,0.2728957235813141,0.2805730402469635,0.32927995920181274,0.22717547416687012,0.21065467596054077,0.17942482233047485,0.2020956575870514,0.2345241755247116,0.20927496254444122,0.28609538078308105,0.3401973843574524,0.29678434133529663,0.27460241317749023,0.27819928526878357],[0.27611446380615234,0.2209416627883911,0.23572678864002228,0.31426021456718445,0.222633495926857,0.3067372441291809,0.21242603659629822,0.33045855164527893,0.27946144342422485,0.27410751581192017,0.19866563379764557,0.42939677834510803,0.33259984850883484,0.40111130475997925,0.30095499753952026,0.31716418266296387,0.3326161503791809,0.3344845473766327,0.5738829970359802,0.37942740321159363,0.36280399560928345,1.0,0.8902938961982727,0.5630442500114441,0.6131728887557983,0.5714572072029114,0.25779277086257935,0.2082601934671402,0.2707005441188812,0.2881508469581604,0.25703710317611694,0.2465900033712387,0.21704678237438202,0.3174522817134857,0.32777708768844604,0.2731328010559082,0.3039575219154358,0.22337956726551056,0.2775576412677765,0.35275784134864807,0.2670634686946869,0.23100554943084717,0.24109484255313873,0.27877146005630493,0.3484417498111725,0.22252655029296875,0.2889617383480072,0.24141766130924225,0.21615462005138397,0.22854042053222656],[0.26002582907676697,0.1821088343858719,0.21990425884723663,0.29927799105644226,0.1605454832315445,0.21408259868621826,0.16337977349758148,0.2501993477344513,0.21741074323654175,0.21684543788433075,0.2068580836057663,0.3549455404281616,0.3337547481060028,0.33661675453186035,0.28434303402900696,0.29651036858558655,0.28364962339401245,0.3702249825000763,0.6324061155319214,0.3581508994102478,0.35107651352882385,0.8902938961982727,1.0,0.4048909842967987,0.4768841862678528,0.4987281262874603,0.23146377503871918,0.20025020837783813,0.30673378705978394,0.30294129252433777,0.27845972776412964,0.3170096278190613,0.20190277695655823,0.27807214856147766,0.3392024040222168,0.261043906211853,0.3211660087108612,0.2252311408519745,0.26739701628685,0.30600130558013916,0.2504052519798279,0.20704162120819092,0.2115073800086975,0.3198135793209076,0.302179217338562,0.19974122941493988,0.2695941627025604,0.25866153836250305,0.24565503001213074,0.23953895270824432],[0.3139154314994812,0.3546965420246124,0.32327356934547424,0.3207473158836365,0.3741486072540283,0.36508649587631226,0.3195470869541168,0.3835321068763733,0.41490638256073,0.36805734038352966,0.17298471927642822,0.5832579731941223,0.3350052833557129,0.34128549695014954,0.2765834331512451,0.44193896651268005,0.4972073435783386,0.2754969894886017,0.4315915107727051,0.34800800681114197,0.4562423527240753,0.5630442500114441,0.4048909842967987,1.0000001192092896,0.733212947845459,0.5627371668815613,0.35584819316864014,0.32249715924263,0.2905443608760834,0.25080692768096924,0.28309619426727295,0.2134719043970108,0.20000439882278442,0.2689952254295349,0.23791661858558655,0.19385096430778503,0.23380470275878906,0.2114078402519226,0.27810174226760864,0.24096377193927765,0.2438751608133316,0.2488415688276291,0.2780269384384155,0.23388764262199402,0.30020904541015625,0.22558192908763885,0.3350638151168823,0.2793999910354614,0.2312733680009842,0.2618262767791748],[0.4903443157672882,0.398050993680954,0.40422189235687256,0.42113375663757324,0.3510116934776306,0.478045254945755,0.40840181708335876,0.5523219108581543,0.4911688268184662,0.44139495491981506,0.23393695056438446,0.49621403217315674,0.515245795249939,0.4412931501865387,0.32222872972488403,0.49256080389022827,0.5150607824325562,0.30936455726623535,0.5853497982025146,0.43944159150123596,0.44885751605033875,0.6131728887557983,0.4768841862678528,0.733212947845459,1.0,0.8089818358421326,0.35269710421562195,0.4049825966358185,0.34387606382369995,0.3267756998538971,0.29174619913101196,0.2966134548187256,0.2687671482563019,0.3606344163417816,0.32204386591911316,0.2714803218841553,0.2989834249019623,0.28645241260528564,0.3315339684486389,0.3134755790233612,0.3177090883255005,0.33966705203056335,0.43865713477134705,0.328616201877594,0.37522202730178833,0.3360152840614319,0.3719250559806824,0.30078864097595215,0.27018967270851135,0.308633953332901],[0.4108741581439972,0.3260175585746765,0.3226849138736725,0.3293745517730713,0.24674923717975616,0.4000299274921417,0.2863635718822479,0.4388527274131775,0.3846682012081146,0.4273037612438202,0.17677514255046844,0.6101124286651611,0.3386360704898834,0.405019611120224,0.321724534034729,0.4143994450569153,0.378679484128952,0.30416640639305115,0.526633620262146,0.4229716658592224,0.3726974427700043,0.5714572072029114,0.4987281262874603,0.5627371668815613,0.8089818358421326,1.0000001192092896,0.3100440204143524,0.3090493977069855,0.3052089810371399,0.2955473065376282,0.29362326860427856,0.2136148363351822,0.2064904421567917,0.2627989947795868,0.27282604575157166,0.221182182431221,0.2988903224468231,0.2644598186016083,0.2802538573741913,0.268022358417511,0.30729788541793823,0.3276083469390869,0.5339232087135315,0.327537477016449,0.3193584978580475,0.32089492678642273,0.3482895791530609,0.2746272087097168,0.291970431804657,0.2774448096752167],[0.3200020492076874,0.3489750921726227,0.345814973115921,0.33413973450660706,0.37109389901161194,0.2638470232486725,0.23911786079406738,0.2898728847503662,0.35115987062454224,0.41381698846817017,0.17348673939704895,0.2772253453731537,0.22574664652347565,0.21704915165901184,0.25049054622650146,0.4461095333099365,0.4233294427394867,0.27857500314712524,0.2786593735218048,0.2748124599456787,0.23303069174289703,0.25779277086257935,0.23146377503871918,0.35584819316864014,0.35269710421562195,0.3100440204143524,0.9999999403953552,0.44150713086128235,0.4560675024986267,0.46552014350891113,0.2558348774909973,0.21287471055984497,0.16628983616828918,0.22914832830429077,0.22077344357967377,0.18699978291988373,0.22618699073791504,0.24091196060180664,0.2809339165687561,0.2007143199443817,0.18066391348838806,0.23780159652233124,0.24404965341091156,0.26995980739593506,0.22103917598724365,0.2920089364051819,0.45528289675712585,0.27359479665756226,0.274448961019516,0.28865814208984375],[0.27490267157554626,0.3579546809196472,0.50310879945755,0.4495028853416443,0.36117056012153625,0.30790168046951294,0.35974204540252686,0.5179319381713867,0.4810432493686676,0.4176311790943146,0.15044137835502625,0.23964275419712067,0.22724364697933197,0.24590814113616943,0.25156524777412415,0.27278241515159607,0.3794362545013428,0.20283517241477966,0.30299320816993713,0.26666003465652466,0.24824656546115875,0.2082601934671402,0.20025020837783813,0.32249715924263,0.4049825966358185,0.3090493977069855,0.44150713086128235,1.0000001192092896,0.5598462224006653,0.42789575457572937,0.3129473626613617,0.2905813753604889,0.26084738969802856,0.24533048272132874,0.19430840015411377,0.16507567465305328,0.22884351015090942,0.25728917121887207,0.2524299621582031,0.19602365791797638,0.19887226819992065,0.24884851276874542,0.3059731423854828,0.31148290634155273,0.2590940296649933,0.2912805676460266,0.35858020186424255,0.32082808017730713,0.32200950384140015,0.33828723430633545],[0.2748986482620239,0.27744153141975403,0.4407859444618225,0.528752326965332,0.28965622186660767,0.22591747343540192,0.24879178404808044,0.4179237186908722,0.37643077969551086,0.3893568813800812,0.16819041967391968,0.2601345479488373,0.2772654592990875,0.2990415394306183,0.30878984928131104,0.3406260311603546,0.5431835055351257,0.4007319509983063,0.43762388825416565,0.28269749879837036,0.2908340096473694,0.2707005441188812,0.30673378705978394,0.2905443608760834,0.34387606382369995,0.3052089810371399,0.4560675024986267,0.5598462224006653,1.0000001192092896,0.5880661606788635,0.33098137378692627,0.29773426055908203,0.2420169711112976,0.3372998535633087,0.27812471985816956,0.28047406673431396,0.2747969329357147,0.22033125162124634,0.3082832396030426,0.1947273463010788,0.300396203994751,0.296536922454834,0.31130462884902954,0.41131165623664856,0.3057248592376709,0.3190526068210602,0.3772462010383606,0.3903844952583313,0.4149256646633148,0.35517066717147827],[0.2127797156572342,0.19260884821414948,0.28274017572402954,0.30916666984558105,0.22445723414421082,0.24698951840400696,0.19331686198711395,0.3530702292919159,0.27348145842552185,0.3276124596595764,0.17129486799240112,0.24793867766857147,0.23947842419147491,0.2971228063106537,0.26448747515678406,0.35132190585136414,0.4292756915092468,0.27067670226097107,0.351309597492218,0.29997527599334717,0.24940571188926697,0.2881508469581604,0.30294129252433777,0.25080692768096924,0.3267756998538971,0.2955473065376282,0.46552014350891113,0.42789575457572937,0.5880661606788635,1.0000001192092896,0.2261243313550949,0.4474886953830719,0.18643994629383087,0.1975860893726349,0.2003844529390335,0.1881888210773468,0.26603105664253235,0.22186768054962158,0.23524484038352966,0.20222336053848267,0.23768548667430878,0.15845099091529846,0.19903530180454254,0.2819754183292389,0.22615927457809448,0.26426640152931213,0.2840624451637268,0.38628578186035156,0.2919381856918335,0.24943499267101288],[0.2901918590068817,0.26586803793907166,0.3075430691242218,0.3591197431087494,0.19406534731388092,0.26339203119277954,0.20866350829601288,0.27634260058403015,0.2712704837322235,0.2960989475250244,0.17440296709537506,0.2440226674079895,0.1938280165195465,0.20101101696491241,0.3265377879142761,0.24000123143196106,0.256325364112854,0.2514628767967224,0.3853206932544708,0.3335665166378021,0.2849426567554474,0.25703710317611694,0.27845972776412964,0.28309619426727295,0.29174619913101196,0.29362326860427856,0.2558348774909973,0.3129473626613617,0.33098137378692627,0.2261243313550949,0.9999999403953552,0.2618110775947571,0.427314817905426,0.4085340201854706,0.27613741159439087,0.2311367690563202,0.3457806706428528,0.379316121339798,0.4205089211463928,0.2514497637748718,0.1328779011964798,0.3007078766822815,0.2691425085067749,0.34334370493888855,0.3235678970813751,0.3012007176876068,0.40036797523498535,0.3123975992202759,0.368461936712265,0.34771275520324707],[0.2337990403175354,0.1782187521457672,0.24925726652145386,0.2701874375343323,0.18044476211071014,0.18632444739341736,0.18247124552726746,0.22031843662261963,0.21769405901432037,0.19642841815948486,0.1903005689382553,0.1450771540403366,0.26264217495918274,0.25060659646987915,0.24386757612228394,0.5387803316116333,0.3938795328140259,0.3042767643928528,0.48940640687942505,0.25017398595809937,0.22050175070762634,0.2465900033712387,0.3170096278190613,0.2134719043970108,0.2966134548187256,0.2136148363351822,0.21287471055984497,0.2905813753604889,0.29773426055908203,0.4474886953830719,0.2618110775947571,1.0,0.19034220278263092,0.219274640083313,0.22548028826713562,0.20085206627845764,0.22950641810894012,0.24514330923557281,0.2305757701396942,0.17962771654129028,0.15908068418502808,0.1297679841518402,0.13446974754333496,0.2872653901576996,0.24329204857349396,0.20237606763839722,0.2275335043668747,0.26909366250038147,0.24076607823371887,0.2343979775905609],[0.19372695684432983,0.2115745097398758,0.28822875022888184,0.3119570314884186,0.17796140909194946,0.2387094348669052,0.21576938033103943,0.4452908933162689,0.30186524987220764,0.2728049159049988,0.10359501093626022,0.14286497235298157,0.1355161964893341,0.18404947221279144,0.2604835629463196,0.14977292716503143,0.22052371501922607,0.14997805655002594,0.27624601125717163,0.24028027057647705,0.2114604413509369,0.21704678237438202,0.20190277695655823,0.20000439882278442,0.2687671482563019,0.2064904421567917,0.16628983616828918,0.26084738969802856,0.2420169711112976,0.18643994629383087,0.427314817905426,0.19034220278263092,1.0,0.33305296301841736,0.23592330515384674,0.29968756437301636,0.40777328610420227,0.2813834249973297,0.29798951745033264,0.29833346605300903,0.14850398898124695,0.18858742713928223,0.13287006318569183,0.24965335428714752,0.3244081139564514,0.4386010468006134,0.32099097967147827,0.2040695697069168,0.2942812442779541,0.26374125480651855],[0.45549553632736206,0.29463329911231995,0.29513296484947205,0.5295636653900146,0.17882691323757172,0.2771461009979248,0.21598327159881592,0.40952423214912415,0.2628253102302551,0.2735769748687744,0.14651447534561157,0.28791967034339905,0.21210038661956787,0.22879000008106232,0.2759455740451813,0.19098009169101715,0.23974277079105377,0.2441267967224121,0.3318069279193878,0.24501769244670868,0.22547556459903717,0.3174522817134857,0.27807214856147766,0.2689952254295349,0.3606344163417816,0.2627989947795868,0.22914832830429077,0.24533048272132874,0.3372998535633087,0.1975860893726349,0.4085340201854706,0.219274640083313,0.33305296301841736,1.0,0.6260048747062683,0.5482727885246277,0.3843327760696411,0.36687877774238586,0.5153250098228455,0.4220624566078186,0.22476497292518616,0.41541144251823425,0.3612203896045685,0.37186822295188904,0.46683746576309204,0.32864466309547424,0.41662541031837463,0.2934703528881073,0.3481317460536957,0.4002751410007477],[0.3649372160434723,0.22617052495479584,0.21145792305469513,0.33999988436698914,0.14068002998828888,0.22525554895401,0.16122698783874512,0.3606467843055725,0.19753919541835785,0.2077983021736145,0.21267731487751007,0.3044483959674835,0.2231929749250412,0.3106052875518799,0.3372061848640442,0.2171344757080078,0.20227393507957458,0.2721467912197113,0.3912121653556824,0.3336593210697174,0.29160693287849426,0.32777708768844604,0.3392024040222168,0.23791661858558655,0.32204386591911316,0.27282604575157166,0.22077344357967377,0.19430840015411377,0.27812471985816956,0.2003844529390335,0.27613741159439087,0.22548028826713562,0.23592330515384674,0.6260048747062683,1.0000001192092896,0.646265983581543,0.3419870436191559,0.4729999899864197,0.48413801193237305,0.344557523727417,0.39763399958610535,0.26974478363990784,0.2824999690055847,0.33233553171157837,0.3952184319496155,0.3299446702003479,0.3026515543460846,0.2405727505683899,0.250562846660614,0.25690436363220215],[0.27457576990127563,0.18497437238693237,0.18738554418087006,0.2921469509601593,0.13913029432296753,0.2290951907634735,0.1418067365884781,0.3675834834575653,0.18113677203655243,0.19228039681911469,0.17616738379001617,0.24197284877300262,0.19966454803943634,0.21714980900287628,0.29240795969963074,0.18572959303855896,0.1897621899843216,0.2262132614850998,0.30918383598327637,0.2740940451622009,0.2608679234981537,0.2731328010559082,0.261043906211853,0.19385096430778503,0.2714803218841553,0.221182182431221,0.18699978291988373,0.16507567465305328,0.28047406673431396,0.1881888210773468,0.2311367690563202,0.20085206627845764,0.29968756437301636,0.5482727885246277,0.646265983581543,1.0,0.3423026204109192,0.40309470891952515,0.4837940037250519,0.3419116735458374,0.2700527608394623,0.27950266003608704,0.2505453824996948,0.2416202276945114,0.2964268922805786,0.3631896376609802,0.30912843346595764,0.21851512789726257,0.20925137400627136,0.22776195406913757],[0.2301027774810791,0.23123162984848022,0.3036655783653259,0.31363725662231445,0.20008575916290283,0.28667163848876953,0.22433294355869293,0.37934550642967224,0.3072627782821655,0.3693602681159973,0.18783336877822876,0.21411468088626862,0.18940719962120056,0.3054373562335968,0.5434346795082092,0.21286152303218842,0.2548108696937561,0.2586451768875122,0.38778388500213623,0.31264156103134155,0.2728957235813141,0.3039575219154358,0.3211660087108612,0.23380470275878906,0.2989834249019623,0.2988903224468231,0.22618699073791504,0.22884351015090942,0.2747969329357147,0.26603105664253235,0.3457806706428528,0.22950641810894012,0.40777328610420227,0.3843327760696411,0.3419870436191559,0.3423026204109192,0.9999998807907104,0.5197901725769043,0.625748872756958,0.5190380215644836,0.2121528685092926,0.2881544232368469,0.22860479354858398,0.3761451840400696,0.30005747079849243,0.3548673391342163,0.36579081416130066,0.31679749488830566,0.3230777084827423,0.28923702239990234],[0.26166579127311707,0.2701471149921417,0.27531349658966064,0.3089582324028015,0.18234883248806,0.3434661030769348,0.2046542465686798,0.3456352949142456,0.2555483281612396,0.28564929962158203,0.19237922132015228,0.20604953169822693,0.18528485298156738,0.24301233887672424,0.4678010046482086,0.20855729281902313,0.1905445009469986,0.1963658332824707,0.3114074170589447,0.40676894783973694,0.2805730402469635,0.22337956726551056,0.2252311408519745,0.2114078402519226,0.28645241260528564,0.2644598186016083,0.24091196060180664,0.25728917121887207,0.22033125162124634,0.22186768054962158,0.379316121339798,0.24514330923557281,0.2813834249973297,0.36687877774238586,0.4729999899864197,0.40309470891952515,0.5197901725769043,1.0,0.7924149632453918,0.3688082993030548,0.17240960896015167,0.23983170092105865,0.25026166439056396,0.3215770423412323,0.28842759132385254,0.3813430964946747,0.3748180568218231,0.3097594380378723,0.29424384236335754,0.31952813267707825],[0.3204249143600464,0.3000941276550293,0.32938867807388306,0.40742456912994385,0.2577899396419525,0.33390310406684875,0.24582414329051971,0.41234421730041504,0.3216339647769928,0.34086039662361145,0.2071477621793747,0.24698446691036224,0.23031271994113922,0.295705646276474,0.5691925287246704,0.26081332564353943,0.271526575088501,0.27549248933792114,0.3512585461139679,0.3565320074558258,0.32927995920181274,0.2775576412677765,0.26739701628685,0.27810174226760864,0.3315339684486389,0.2802538573741913,0.2809339165687561,0.2524299621582031,0.3082832396030426,0.23524484038352966,0.4205089211463928,0.2305757701396942,0.29798951745033264,0.5153250098228455,0.48413801193237305,0.4837940037250519,0.625748872756958,0.7924149632453918,1.0,0.5151349902153015,0.2637445032596588,0.37655478715896606,0.2974969148635864,0.31266921758651733,0.3006369173526764,0.3944256901741028,0.5765607357025146,0.33155059814453125,0.3308223783969879,0.3679497539997101],[0.2590887248516083,0.30062612891197205,0.35809412598609924,0.383430540561676,0.2139299064874649,0.38325291872024536,0.29470574855804443,0.4193142354488373,0.3514708876609802,0.34981629252433777,0.1386490762233734,0.21220852434635162,0.1309221386909485,0.5563778281211853,0.4387856125831604,0.20031678676605225,0.2549014091491699,0.19030600786209106,0.29013490676879883,0.31808486580848694,0.22717547416687012,0.35275784134864807,0.30600130558013916,0.24096377193927765,0.3134755790233612,0.268022358417511,0.2007143199443817,0.19602365791797638,0.1947273463010788,0.20222336053848267,0.2514497637748718,0.17962771654129028,0.29833346605300903,0.4220624566078186,0.344557523727417,0.3419116735458374,0.5190380215644836,0.3688082993030548,0.5151349902153015,1.0,0.41222482919692993,0.2970195412635803,0.19717149436473846,0.24578985571861267,0.2855592966079712,0.2749457061290741,0.38652724027633667,0.20283906161785126,0.2331853061914444,0.2432132065296173],[0.1724027544260025,0.15061669051647186,0.19863338768482208,0.26090744137763977,0.1929827630519867,0.18063805997371674,0.2211528718471527,0.36372867226600647,0.28644365072250366,0.2511686086654663,0.1241765022277832,0.33157601952552795,0.1563643217086792,0.6536567211151123,0.3263621926307678,0.22358796000480652,0.27900293469429016,0.21424125134944916,0.3244851231575012,0.21469932794570923,0.21065467596054077,0.2670634686946869,0.2504052519798279,0.2438751608133316,0.3177090883255005,0.30729788541793823,0.18066391348838806,0.19887226819992065,0.300396203994751,0.23768548667430878,0.1328779011964798,0.15908068418502808,0.14850398898124695,0.22476497292518616,0.39763399958610535,0.2700527608394623,0.2121528685092926,0.17240960896015167,0.2637445032596588,0.41222482919692993,1.0000001192092896,0.25780200958251953,0.2646630108356476,0.22893768548965454,0.26719751954078674,0.25025683641433716,0.2688225209712982,0.1663297712802887,0.1957658976316452,0.1768985092639923],[0.278633177280426,0.35324737429618835,0.32153642177581787,0.4386664032936096,0.2499442845582962,0.23966127634048462,0.2533527910709381,0.3196466267108917,0.37181997299194336,0.398764967918396,0.1297921985387802,0.2708459198474884,0.19448718428611755,0.3305407762527466,0.30285337567329407,0.20845843851566315,0.2909896969795227,0.23624032735824585,0.29380714893341064,0.20617063343524933,0.17942482233047485,0.23100554943084717,0.20704162120819092,0.2488415688276291,0.33966705203056335,0.3276083469390869,0.23780159652233124,0.24884851276874542,0.296536922454834,0.15845099091529846,0.3007078766822815,0.1297679841518402,0.18858742713928223,0.41541144251823425,0.26974478363990784,0.27950266003608704,0.2881544232368469,0.23983170092105865,0.37655478715896606,0.2970195412635803,0.25780200958251953,1.0,0.7187601923942566,0.37252745032310486,0.35283520817756653,0.2822483479976654,0.3839629292488098,0.254224956035614,0.27594301104545593,0.2600051462650299],[0.36002832651138306,0.25110000371932983,0.2269573211669922,0.3196597695350647,0.1733843982219696,0.20665329694747925,0.22267623245716095,0.3497549891471863,0.2916121780872345,0.35080093145370483,0.13975968956947327,0.47187215089797974,0.22051294147968292,0.26779448986053467,0.2477876842021942,0.20353618264198303,0.21066145598888397,0.21509099006652832,0.2820664644241333,0.23139815032482147,0.2020956575870514,0.24109484255313873,0.2115073800086975,0.2780269384384155,0.43865713477134705,0.5339232087135315,0.24404965341091156,0.3059731423854828,0.31130462884902954,0.19903530180454254,0.2691425085067749,0.13446974754333496,0.13287006318569183,0.3612203896045685,0.2824999690055847,0.2505453824996948,0.22860479354858398,0.25026166439056396,0.2974969148635864,0.19717149436473846,0.2646630108356476,0.7187601923942566,0.9999999403953552,0.34759846329689026,0.28444117307662964,0.25993865728378296,0.31988760828971863,0.280310720205307,0.2903788387775421,0.2669607698917389],[0.33426517248153687,0.29272225499153137,0.3463250994682312,0.5188694000244141,0.22959305346012115,0.232452854514122,0.22643543779850006,0.32650482654571533,0.3472346067428589,0.351785272359848,0.13659660518169403,0.24703292548656464,0.2395671159029007,0.353736013174057,0.3132878541946411,0.20577779412269592,0.25671693682670593,0.3687540590763092,0.4822136163711548,0.25548055768013,0.2345241755247116,0.27877146005630493,0.3198135793209076,0.23388764262199402,0.328616201877594,0.327537477016449,0.26995980739593506,0.31148290634155273,0.41131165623664856,0.2819754183292389,0.34334370493888855,0.2872653901576996,0.24965335428714752,0.37186822295188904,0.33233553171157837,0.2416202276945114,0.3761451840400696,0.3215770423412323,0.31266921758651733,0.24578985571861267,0.22893768548965454,0.37252745032310486,0.34759846329689026,1.0000001192092896,0.7692784667015076,0.4026881158351898,0.4754088521003723,0.2962838411331177,0.6879953742027283,0.5364807844161987],[0.352119505405426,0.32371553778648376,0.30487164855003357,0.5569047331809998,0.22571595013141632,0.3072792589664459,0.24389630556106567,0.4617183804512024,0.37509533762931824,0.3453887403011322,0.11192657053470612,0.420278936624527,0.17806527018547058,0.33153852820396423,0.2745826244354248,0.17904360592365265,0.2634419798851013,0.2764177918434143,0.40151533484458923,0.22951379418373108,0.20927496254444122,0.3484417498111725,0.302179217338562,0.30020904541015625,0.37522202730178833,0.3193584978580475,0.22103917598724365,0.2590940296649933,0.3057248592376709,0.22615927457809448,0.3235678970813751,0.24329204857349396,0.3244081139564514,0.46683746576309204,0.3952184319496155,0.2964268922805786,0.30005747079849243,0.28842759132385254,0.3006369173526764,0.2855592966079712,0.26719751954078674,0.35283520817756653,0.28444117307662964,0.7692784667015076,1.0,0.434101939201355,0.4146035313606262,0.2424546480178833,0.49983224272727966,0.41457682847976685],[0.27430447936058044,0.35495883226394653,0.3279370367527008,0.4091145396232605,0.22437383234500885,0.33944371342658997,0.22872479259967804,0.5365431308746338,0.31373387575149536,0.34317606687545776,0.140701025724411,0.25148916244506836,0.1800628900527954,0.23304909467697144,0.2843586504459381,0.2049507051706314,0.21048285067081451,0.24262163043022156,0.32524362206459045,0.3732434809207916,0.28609538078308105,0.22252655029296875,0.19974122941493988,0.22558192908763885,0.3360152840614319,0.32089492678642273,0.2920089364051819,0.2912805676460266,0.3190526068210602,0.26426640152931213,0.3012007176876068,0.20237606763839722,0.4386010468006134,0.32864466309547424,0.3299446702003479,0.3631896376609802,0.3548673391342163,0.3813430964946747,0.3944256901741028,0.2749457061290741,0.25025683641433716,0.2822483479976654,0.25993865728378296,0.4026881158351898,0.434101939201355,1.0,0.6286625266075134,0.2697409689426422,0.4695335924625397,0.47304266691207886],[0.4001489281654358,0.42067813873291016,0.44622787833213806,0.5574337840080261,0.3177855610847473,0.3701585829257965,0.2966931462287903,0.4211517870426178,0.4094747006893158,0.46143269538879395,0.16435270011425018,0.2856549918651581,0.230990931391716,0.2857348620891571,0.35443150997161865,0.2643580436706543,0.30959588289260864,0.3300173878669739,0.3686024248600006,0.30354589223861694,0.3401973843574524,0.2889617383480072,0.2695941627025604,0.3350638151168823,0.3719250559806824,0.3482895791530609,0.45528289675712585,0.35858020186424255,0.3772462010383606,0.2840624451637268,0.40036797523498535,0.2275335043668747,0.32099097967147827,0.41662541031837463,0.3026515543460846,0.30912843346595764,0.36579081416130066,0.3748180568218231,0.5765607357025146,0.38652724027633667,0.2688225209712982,0.3839629292488098,0.31988760828971863,0.4754088521003723,0.4146035313606262,0.6286625266075134,0.9999999403953552,0.3761291205883026,0.6061788201332092,0.6281212568283081],[0.31514689326286316,0.3549972474575043,0.3615356683731079,0.400917649269104,0.19170482456684113,0.3240102529525757,0.2332286685705185,0.29680776596069336,0.2671632468700409,0.37342628836631775,0.1516951471567154,0.2747022211551666,0.2273028939962387,0.2283371239900589,0.28023648262023926,0.23385906219482422,0.3377772271633148,0.2937390208244324,0.3130253851413727,0.23833656311035156,0.29678434133529663,0.24141766130924225,0.25866153836250305,0.2793999910354614,0.30078864097595215,0.2746272087097168,0.27359479665756226,0.32082808017730713,0.3903844952583313,0.38628578186035156,0.3123975992202759,0.26909366250038147,0.2040695697069168,0.2934703528881073,0.2405727505683899,0.21851512789726257,0.31679749488830566,0.3097594380378723,0.33155059814453125,0.20283906161785126,0.1663297712802887,0.254224956035614,0.280310720205307,0.2962838411331177,0.2424546480178833,0.2697409689426422,0.3761291205883026,1.0,0.45844167470932007,0.5480095744132996],[0.36821624636650085,0.3539084792137146,0.44280993938446045,0.568666398525238,0.1999996304512024,0.25563353300094604,0.25712332129478455,0.3307691216468811,0.3432063162326813,0.4870983362197876,0.12461245059967041,0.22914868593215942,0.19408665597438812,0.23345516622066498,0.27325040102005005,0.16436034440994263,0.2571024000644684,0.3134858310222626,0.3514072597026825,0.21547524631023407,0.27460241317749023,0.21615462005138397,0.24565503001213074,0.2312733680009842,0.27018967270851135,0.291970431804657,0.274448961019516,0.32200950384140015,0.4149256646633148,0.2919381856918335,0.368461936712265,0.24076607823371887,0.2942812442779541,0.3481317460536957,0.250562846660614,0.20925137400627136,0.3230777084827423,0.29424384236335754,0.3308223783969879,0.2331853061914444,0.1957658976316452,0.27594301104545593,0.2903788387775421,0.6879953742027283,0.49983224272727966,0.4695335924625397,0.6061788201332092,0.45844167470932007,1.0,0.8449916243553162],[0.4235968291759491,0.4177313446998596,0.46696749329566956,0.5630959868431091,0.2194371372461319,0.3029700219631195,0.2866835296154022,0.3119533061981201,0.35941582918167114,0.44776901602745056,0.14215253293514252,0.21860989928245544,0.22917334735393524,0.21673887968063354,0.25499504804611206,0.2038002610206604,0.2608550786972046,0.28892746567726135,0.34210583567619324,0.2306426465511322,0.27819928526878357,0.22854042053222656,0.23953895270824432,0.2618262767791748,0.308633953332901,0.2774448096752167,0.28865814208984375,0.33828723430633545,0.35517066717147827,0.24943499267101288,0.34771275520324707,0.2343979775905609,0.26374125480651855,0.4002751410007477,0.25690436363220215,0.22776195406913757,0.28923702239990234,0.31952813267707825,0.3679497539997101,0.2432132065296173,0.1768985092639923,0.2600051462650299,0.2669607698917389,0.5364807844161987,0.41457682847976685,0.47304266691207886,0.6281212568283081,0.5480095744132996,0.8449916243553162,1.0]],\"type\":\"heatmap\",\"xaxis\":\"x\",\"yaxis\":\"y\",\"hovertemplate\":\"Pretrain: %{x}\\u003cbr\\u003ePretrain: %{y}\\u003cbr\\u003eCosine Similarity: %{z}\\u003cextra\\u003e\\u003c\\u002fextra\\u003e\"}],                        {\"template\":{\"data\":{\"histogram2dcontour\":[{\"type\":\"histogram2dcontour\",\"colorbar\":{\"outlinewidth\":0,\"ticks\":\"\"},\"colorscale\":[[0.0,\"#0d0887\"],[0.1111111111111111,\"#46039f\"],[0.2222222222222222,\"#7201a8\"],[0.3333333333333333,\"#9c179e\"],[0.4444444444444444,\"#bd3786\"],[0.5555555555555556,\"#d8576b\"],[0.6666666666666666,\"#ed7953\"],[0.7777777777777778,\"#fb9f3a\"],[0.8888888888888888,\"#fdca26\"],[1.0,\"#f0f921\"]]}],\"choropleth\":[{\"type\":\"choropleth\",\"colorbar\":{\"outlinewidth\":0,\"ticks\":\"\"}}],\"histogram2d\":[{\"type\":\"histogram2d\",\"colorbar\":{\"outlinewidth\":0,\"ticks\":\"\"},\"colorscale\":[[0.0,\"#0d0887\"],[0.1111111111111111,\"#46039f\"],[0.2222222222222222,\"#7201a8\"],[0.3333333333333333,\"#9c179e\"],[0.4444444444444444,\"#bd3786\"],[0.5555555555555556,\"#d8576b\"],[0.6666666666666666,\"#ed7953\"],[0.7777777777777778,\"#fb9f3a\"],[0.8888888888888888,\"#fdca26\"],[1.0,\"#f0f921\"]]}],\"heatmap\":[{\"type\":\"heatmap\",\"colorbar\":{\"outlinewidth\":0,\"ticks\":\"\"},\"colorscale\":[[0.0,\"#0d0887\"],[0.1111111111111111,\"#46039f\"],[0.2222222222222222,\"#7201a8\"],[0.3333333333333333,\"#9c179e\"],[0.4444444444444444,\"#bd3786\"],[0.5555555555555556,\"#d8576b\"],[0.6666666666666666,\"#ed7953\"],[0.7777777777777778,\"#fb9f3a\"],[0.8888888888888888,\"#fdca26\"],[1.0,\"#f0f921\"]]}],\"heatmapgl\":[{\"type\":\"heatmapgl\",\"colorbar\":{\"outlinewidth\":0,\"ticks\":\"\"},\"colorscale\":[[0.0,\"#0d0887\"],[0.1111111111111111,\"#46039f\"],[0.2222222222222222,\"#7201a8\"],[0.3333333333333333,\"#9c179e\"],[0.4444444444444444,\"#bd3786\"],[0.5555555555555556,\"#d8576b\"],[0.6666666666666666,\"#ed7953\"],[0.7777777777777778,\"#fb9f3a\"],[0.8888888888888888,\"#fdca26\"],[1.0,\"#f0f921\"]]}],\"contourcarpet\":[{\"type\":\"contourcarpet\",\"colorbar\":{\"outlinewidth\":0,\"ticks\":\"\"}}],\"contour\":[{\"type\":\"contour\",\"colorbar\":{\"outlinewidth\":0,\"ticks\":\"\"},\"colorscale\":[[0.0,\"#0d0887\"],[0.1111111111111111,\"#46039f\"],[0.2222222222222222,\"#7201a8\"],[0.3333333333333333,\"#9c179e\"],[0.4444444444444444,\"#bd3786\"],[0.5555555555555556,\"#d8576b\"],[0.6666666666666666,\"#ed7953\"],[0.7777777777777778,\"#fb9f3a\"],[0.8888888888888888,\"#fdca26\"],[1.0,\"#f0f921\"]]}],\"surface\":[{\"type\":\"surface\",\"colorbar\":{\"outlinewidth\":0,\"ticks\":\"\"},\"colorscale\":[[0.0,\"#0d0887\"],[0.1111111111111111,\"#46039f\"],[0.2222222222222222,\"#7201a8\"],[0.3333333333333333,\"#9c179e\"],[0.4444444444444444,\"#bd3786\"],[0.5555555555555556,\"#d8576b\"],[0.6666666666666666,\"#ed7953\"],[0.7777777777777778,\"#fb9f3a\"],[0.8888888888888888,\"#fdca26\"],[1.0,\"#f0f921\"]]}],\"mesh3d\":[{\"type\":\"mesh3d\",\"colorbar\":{\"outlinewidth\":0,\"ticks\":\"\"}}],\"scatter\":[{\"fillpattern\":{\"fillmode\":\"overlay\",\"size\":10,\"solidity\":0.2},\"type\":\"scatter\"}],\"parcoords\":[{\"type\":\"parcoords\",\"line\":{\"colorbar\":{\"outlinewidth\":0,\"ticks\":\"\"}}}],\"scatterpolargl\":[{\"type\":\"scatterpolargl\",\"marker\":{\"colorbar\":{\"outlinewidth\":0,\"ticks\":\"\"}}}],\"bar\":[{\"error_x\":{\"color\":\"#2a3f5f\"},\"error_y\":{\"color\":\"#2a3f5f\"},\"marker\":{\"line\":{\"color\":\"#E5ECF6\",\"width\":0.5},\"pattern\":{\"fillmode\":\"overlay\",\"size\":10,\"solidity\":0.2}},\"type\":\"bar\"}],\"scattergeo\":[{\"type\":\"scattergeo\",\"marker\":{\"colorbar\":{\"outlinewidth\":0,\"ticks\":\"\"}}}],\"scatterpolar\":[{\"type\":\"scatterpolar\",\"marker\":{\"colorbar\":{\"outlinewidth\":0,\"ticks\":\"\"}}}],\"histogram\":[{\"marker\":{\"pattern\":{\"fillmode\":\"overlay\",\"size\":10,\"solidity\":0.2}},\"type\":\"histogram\"}],\"scattergl\":[{\"type\":\"scattergl\",\"marker\":{\"colorbar\":{\"outlinewidth\":0,\"ticks\":\"\"}}}],\"scatter3d\":[{\"type\":\"scatter3d\",\"line\":{\"colorbar\":{\"outlinewidth\":0,\"ticks\":\"\"}},\"marker\":{\"colorbar\":{\"outlinewidth\":0,\"ticks\":\"\"}}}],\"scattermapbox\":[{\"type\":\"scattermapbox\",\"marker\":{\"colorbar\":{\"outlinewidth\":0,\"ticks\":\"\"}}}],\"scatterternary\":[{\"type\":\"scatterternary\",\"marker\":{\"colorbar\":{\"outlinewidth\":0,\"ticks\":\"\"}}}],\"scattercarpet\":[{\"type\":\"scattercarpet\",\"marker\":{\"colorbar\":{\"outlinewidth\":0,\"ticks\":\"\"}}}],\"carpet\":[{\"aaxis\":{\"endlinecolor\":\"#2a3f5f\",\"gridcolor\":\"white\",\"linecolor\":\"white\",\"minorgridcolor\":\"white\",\"startlinecolor\":\"#2a3f5f\"},\"baxis\":{\"endlinecolor\":\"#2a3f5f\",\"gridcolor\":\"white\",\"linecolor\":\"white\",\"minorgridcolor\":\"white\",\"startlinecolor\":\"#2a3f5f\"},\"type\":\"carpet\"}],\"table\":[{\"cells\":{\"fill\":{\"color\":\"#EBF0F8\"},\"line\":{\"color\":\"white\"}},\"header\":{\"fill\":{\"color\":\"#C8D4E3\"},\"line\":{\"color\":\"white\"}},\"type\":\"table\"}],\"barpolar\":[{\"marker\":{\"line\":{\"color\":\"#E5ECF6\",\"width\":0.5},\"pattern\":{\"fillmode\":\"overlay\",\"size\":10,\"solidity\":0.2}},\"type\":\"barpolar\"}],\"pie\":[{\"automargin\":true,\"type\":\"pie\"}]},\"layout\":{\"autotypenumbers\":\"strict\",\"colorway\":[\"#636efa\",\"#EF553B\",\"#00cc96\",\"#ab63fa\",\"#FFA15A\",\"#19d3f3\",\"#FF6692\",\"#B6E880\",\"#FF97FF\",\"#FECB52\"],\"font\":{\"color\":\"#2a3f5f\"},\"hovermode\":\"closest\",\"hoverlabel\":{\"align\":\"left\"},\"paper_bgcolor\":\"white\",\"plot_bgcolor\":\"#E5ECF6\",\"polar\":{\"bgcolor\":\"#E5ECF6\",\"angularaxis\":{\"gridcolor\":\"white\",\"linecolor\":\"white\",\"ticks\":\"\"},\"radialaxis\":{\"gridcolor\":\"white\",\"linecolor\":\"white\",\"ticks\":\"\"}},\"ternary\":{\"bgcolor\":\"#E5ECF6\",\"aaxis\":{\"gridcolor\":\"white\",\"linecolor\":\"white\",\"ticks\":\"\"},\"baxis\":{\"gridcolor\":\"white\",\"linecolor\":\"white\",\"ticks\":\"\"},\"caxis\":{\"gridcolor\":\"white\",\"linecolor\":\"white\",\"ticks\":\"\"}},\"coloraxis\":{\"colorbar\":{\"outlinewidth\":0,\"ticks\":\"\"}},\"colorscale\":{\"sequential\":[[0.0,\"#0d0887\"],[0.1111111111111111,\"#46039f\"],[0.2222222222222222,\"#7201a8\"],[0.3333333333333333,\"#9c179e\"],[0.4444444444444444,\"#bd3786\"],[0.5555555555555556,\"#d8576b\"],[0.6666666666666666,\"#ed7953\"],[0.7777777777777778,\"#fb9f3a\"],[0.8888888888888888,\"#fdca26\"],[1.0,\"#f0f921\"]],\"sequentialminus\":[[0.0,\"#0d0887\"],[0.1111111111111111,\"#46039f\"],[0.2222222222222222,\"#7201a8\"],[0.3333333333333333,\"#9c179e\"],[0.4444444444444444,\"#bd3786\"],[0.5555555555555556,\"#d8576b\"],[0.6666666666666666,\"#ed7953\"],[0.7777777777777778,\"#fb9f3a\"],[0.8888888888888888,\"#fdca26\"],[1.0,\"#f0f921\"]],\"diverging\":[[0,\"#8e0152\"],[0.1,\"#c51b7d\"],[0.2,\"#de77ae\"],[0.3,\"#f1b6da\"],[0.4,\"#fde0ef\"],[0.5,\"#f7f7f7\"],[0.6,\"#e6f5d0\"],[0.7,\"#b8e186\"],[0.8,\"#7fbc41\"],[0.9,\"#4d9221\"],[1,\"#276419\"]]},\"xaxis\":{\"gridcolor\":\"white\",\"linecolor\":\"white\",\"ticks\":\"\",\"title\":{\"standoff\":15},\"zerolinecolor\":\"white\",\"automargin\":true,\"zerolinewidth\":2},\"yaxis\":{\"gridcolor\":\"white\",\"linecolor\":\"white\",\"ticks\":\"\",\"title\":{\"standoff\":15},\"zerolinecolor\":\"white\",\"automargin\":true,\"zerolinewidth\":2},\"scene\":{\"xaxis\":{\"backgroundcolor\":\"#E5ECF6\",\"gridcolor\":\"white\",\"linecolor\":\"white\",\"showbackground\":true,\"ticks\":\"\",\"zerolinecolor\":\"white\",\"gridwidth\":2},\"yaxis\":{\"backgroundcolor\":\"#E5ECF6\",\"gridcolor\":\"white\",\"linecolor\":\"white\",\"showbackground\":true,\"ticks\":\"\",\"zerolinecolor\":\"white\",\"gridwidth\":2},\"zaxis\":{\"backgroundcolor\":\"#E5ECF6\",\"gridcolor\":\"white\",\"linecolor\":\"white\",\"showbackground\":true,\"ticks\":\"\",\"zerolinecolor\":\"white\",\"gridwidth\":2}},\"shapedefaults\":{\"line\":{\"color\":\"#2a3f5f\"}},\"annotationdefaults\":{\"arrowcolor\":\"#2a3f5f\",\"arrowhead\":0,\"arrowwidth\":1},\"geo\":{\"bgcolor\":\"white\",\"landcolor\":\"#E5ECF6\",\"subunitcolor\":\"white\",\"showland\":true,\"showlakes\":true,\"lakecolor\":\"white\"},\"title\":{\"x\":0.05},\"mapbox\":{\"style\":\"light\"}}},\"xaxis\":{\"anchor\":\"y\",\"domain\":[0.0,1.0],\"scaleanchor\":\"y\",\"constrain\":\"domain\",\"title\":{\"text\":\"Pretrain\"}},\"yaxis\":{\"anchor\":\"x\",\"domain\":[0.0,1.0],\"autorange\":\"reversed\",\"constrain\":\"domain\",\"title\":{\"text\":\"Pretrain\"}},\"coloraxis\":{\"colorbar\":{\"title\":{\"text\":\"Cosine Similarity\"}},\"colorscale\":[[0.0,\"#0d0887\"],[0.1111111111111111,\"#46039f\"],[0.2222222222222222,\"#7201a8\"],[0.3333333333333333,\"#9c179e\"],[0.4444444444444444,\"#bd3786\"],[0.5555555555555556,\"#d8576b\"],[0.6666666666666666,\"#ed7953\"],[0.7777777777777778,\"#fb9f3a\"],[0.8888888888888888,\"#fdca26\"],[1.0,\"#f0f921\"]]},\"title\":{\"text\":\"Audio Embedding Cosine Self Similarity (Pretrain)\"},\"width\":1000,\"height\":1000},                        {\"responsive\": true}                    ).then(function(){\n",
       "                            \n",
       "var gd = document.getElementById('a743d542-e549-4f89-b515-226825329b14');\n",
       "var x = new MutationObserver(function (mutations, observer) {{\n",
       "        var display = window.getComputedStyle(gd).display;\n",
       "        if (!display || display === 'none') {{\n",
       "            console.log([gd, 'removed!']);\n",
       "            Plotly.purge(gd);\n",
       "            observer.disconnect();\n",
       "        }}\n",
       "}});\n",
       "\n",
       "// Listen for the removal of the full notebook cells\n",
       "var notebookContainer = gd.closest('#notebook-container');\n",
       "if (notebookContainer) {{\n",
       "    x.observe(notebookContainer, {childList: true});\n",
       "}}\n",
       "\n",
       "// Listen for the clearing of the current output cell\n",
       "var outputEl = gd.closest('.output');\n",
       "if (outputEl) {{\n",
       "    x.observe(outputEl, {childList: true});\n",
       "}}\n",
       "\n",
       "                        })                };                });            </script>        </div>"
      ]
     },
     "metadata": {},
     "output_type": "display_data"
    }
   ],
   "source": [
    "heatmap(pretrain_embedded_audios,\n",
    "        pretrain_embedded_audios,\n",
    "        xlabel='Pretrain',\n",
    "        ylabel='Pretrain',\n",
    "        title='Audio Embedding Cosine Self Similarity (Pretrain)',\n",
    "        order=get_dendrogram_order('audio', pretrain=True))"
   ]
  }
 ],
 "metadata": {
  "kernelspec": {
   "display_name": "Python [conda env:ms-clap] *",
   "language": "python",
   "name": "conda-env-ms-clap-py"
  }
 },
 "nbformat": 4,
 "nbformat_minor": 2
}
