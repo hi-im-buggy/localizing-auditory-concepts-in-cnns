{
 "cells": [
  {
   "cell_type": "code",
   "execution_count": null,
   "id": "0734a522-f802-43c3-966d-f75113a39c5f",
   "metadata": {},
   "outputs": [
    {
     "name": "stdout",
     "output_type": "stream",
     "text": [
      "Using downloaded and verified file: /scratch/pratyaksh.g/esc50/ESC-50-master.zip/ESC-50-master.zip\n"
     ]
    },
    {
     "name": "stderr",
     "output_type": "stream",
     "text": [
      "1175it [00:00, 11744.77it/s]"
     ]
    }
   ],
   "source": [
    "\"\"\"\n",
    "This is an example using CLAP to perform zeroshot\n",
    "    classification on ESC50 (https://github.com/karolpiczak/ESC-50).\n",
    "\"\"\"\n",
    "\n",
    "from CLAPWrapper import CLAPWrapper\n",
    "from esc50_dataset import ESC50\n",
    "import torch.nn.functional as F\n",
    "import numpy as np\n",
    "from tqdm import tqdm\n",
    "from sklearn.metrics import accuracy_score\n",
    "\n",
    "# Load dataset\n",
    "dataset = ESC50(root=\"/scratch/pratyaksh.g/esc50/ESC-50-master.zip\", download=True)\n",
    "prompt = 'this is a sound of '\n",
    "y = [prompt + x for x in dataset.classes]\n",
    "\n",
    "\n",
    "# Load and initialize CLAP\n",
    "weights_path = \"/scratch/pratyaksh.g/clap/CLAP_weights_2022_microsoft.pth\"\n",
    "clap_model = CLAPWrapper(weights_path, use_cuda=False)\n",
    "\n",
    "\n",
    "# Computing text embeddings\n",
    "text_embeddings = clap_model.get_text_embeddings(y)\n",
    "\n",
    "# Computing audio embeddings\n",
    "y_preds, y_labels = [], []\n",
    "for i in tqdm(range(len(dataset))):\n",
    "    x, _, one_hot_target = dataset.__getitem__(i)\n",
    "    audio_embeddings = clap_model.get_audio_embeddings([x], resample=True)\n",
    "    similarity = clap_model.compute_similarity(audio_embeddings, text_embeddings)\n",
    "    y_pred = F.softmax(similarity.detach().cpu(), dim=1).numpy()\n",
    "    y_preds.append(y_pred)\n",
    "    y_labels.append(one_hot_target.detach().cpu().numpy())\n",
    "\n",
    "y_labels, y_preds = np.concatenate(y_labels, axis=0), np.concatenate(y_preds, axis=0)\n",
    "acc = accuracy_score(np.argmax(y_labels, axis=1), np.argmax(y_preds, axis=1))\n",
    "print('ESC50 Accuracy {}'.format(acc))\n",
    "\n",
    "\"\"\"\n",
    "The output:\n",
    "\n",
    "ESC50 Accuracy: 82.6%\n",
    "\n",
    "\"\"\""
   ]
  }
 ],
 "metadata": {
  "kernelspec": {
   "display_name": "Python [conda env:ms-clap] *",
   "language": "python",
   "name": "conda-env-ms-clap-py"
  },
  "language_info": {
   "codemirror_mode": {
    "name": "ipython",
    "version": 3
   },
   "file_extension": ".py",
   "mimetype": "text/x-python",
   "name": "python",
   "nbconvert_exporter": "python",
   "pygments_lexer": "ipython3",
   "version": "3.8.17"
  }
 },
 "nbformat": 4,
 "nbformat_minor": 5
}
