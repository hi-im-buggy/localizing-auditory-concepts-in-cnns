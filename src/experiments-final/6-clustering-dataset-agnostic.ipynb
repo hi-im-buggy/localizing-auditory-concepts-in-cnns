{
 "cells": [
  {
   "cell_type": "code",
   "execution_count": 1,
   "metadata": {},
   "outputs": [],
   "source": [
    "%load_ext autoreload\n",
    "%autoreload 2"
   ]
  },
  {
   "cell_type": "code",
   "execution_count": 2,
   "metadata": {},
   "outputs": [],
   "source": [
    "import torch\n",
    "import torch.nn as nn\n",
    "import torch.nn.functional as F\n",
    "from sklearn.metrics import adjusted_mutual_info_score, normalized_mutual_info_score\n",
    "import matplotlib.pyplot as plt\n",
    "import seaborn as sns\n",
    "from icecream import ic\n",
    "from tqdm.auto import tqdm\n",
    "\n",
    "from utils.dataset import *\n",
    "from utils.clustering import cluster_activations"
   ]
  },
  {
   "cell_type": "code",
   "execution_count": 3,
   "metadata": {},
   "outputs": [],
   "source": [
    "def seed_everything(seed: int):\n",
    "    import random, os\n",
    "    import numpy as np\n",
    "    import torch\n",
    "    \n",
    "    random.seed(seed)\n",
    "    os.environ['PYTHONHASHSEED'] = str(seed)\n",
    "    np.random.seed(seed)\n",
    "    torch.manual_seed(seed)\n",
    "    torch.cuda.manual_seed(seed)\n",
    "    torch.backends.cudnn.deterministic = True\n",
    "    torch.backends.cudnn.benchmark = True"
   ]
  },
  {
   "cell_type": "code",
   "execution_count": 4,
   "metadata": {},
   "outputs": [],
   "source": [
    "seed_everything(42)"
   ]
  },
  {
   "cell_type": "code",
   "execution_count": 5,
   "metadata": {},
   "outputs": [],
   "source": [
    "DEVICE = 'cuda' if torch.cuda.is_available() else 'cpu'"
   ]
  },
  {
   "cell_type": "code",
   "execution_count": 6,
   "metadata": {},
   "outputs": [],
   "source": [
    "module_activation_dict = {\n",
    "    # Conv blocks\n",
    "    'audio_encoder.base.conv_block1': nn.Identity(),\n",
    "    'audio_encoder.base.conv_block2': nn.Identity(),\n",
    "    'audio_encoder.base.conv_block3': nn.Identity(),\n",
    "    'audio_encoder.base.conv_block4': nn.Identity(),\n",
    "    'audio_encoder.base.conv_block5': nn.Identity(),\n",
    "    'audio_encoder.base.conv_block6': nn.Identity(),\n",
    "    'audio_encoder.base.fc1': F.relu,\n",
    "    'audio_encoder.projection.linear1': F.gelu,\n",
    "    'audio_encoder.projection.linear2': nn.Identity(),\n",
    "}\n",
    "\n",
    "module_list = list(module_activation_dict.keys())"
   ]
  },
  {
   "cell_type": "code",
   "execution_count": 7,
   "metadata": {},
   "outputs": [],
   "source": [
    "dataset = UrbanAcousticScenesDataset(class_limit=1000)"
   ]
  },
  {
   "cell_type": "code",
   "execution_count": 8,
   "metadata": {},
   "outputs": [
    {
     "data": {
      "application/json": {
       "ascii": false,
       "bar_format": null,
       "colour": null,
       "elapsed": 0.0062406063079833984,
       "initial": 0,
       "n": 0,
       "ncols": null,
       "nrows": null,
       "postfix": null,
       "prefix": "",
       "rate": null,
       "total": 9,
       "unit": "it",
       "unit_divisor": 1000,
       "unit_scale": false
      },
      "application/vnd.jupyter.widget-view+json": {
       "model_id": "94d8c294b3c8451fa82a276dde55ee12",
       "version_major": 2,
       "version_minor": 0
      },
      "text/plain": [
       "  0%|          | 0/9 [00:00<?, ?it/s]"
      ]
     },
     "metadata": {},
     "output_type": "display_data"
    },
    {
     "name": "stdout",
     "output_type": "stream",
     "text": [
      "Using PyNNDescent to compute 1st-neighbours at this step ...\n"
     ]
    },
    {
     "name": "stderr",
     "output_type": "stream",
     "text": [
      "/home2/pratyaksh.g/miniconda3/envs/ms-clap/lib/python3.8/site-packages/numba/np/ufunc/parallel.py:365: NumbaWarning: \u001b[1mThe TBB threading layer requires TBB version 2019.5 or later i.e., TBB_INTERFACE_VERSION >= 11005. Found TBB_INTERFACE_VERSION = 9107. The TBB threading layer is disabled.\u001b[0m\n",
      "  warnings.warn(problem)\n"
     ]
    },
    {
     "name": "stdout",
     "output_type": "stream",
     "text": [
      "Step PyNNDescent done ...\n",
      "Partition 0: 113755 clusters\n",
      "Using PyNNDescent to compute 1st-neighbours at this step ...\n",
      "Step PyNNDescent done ...\n",
      "Partition 1: 10830 clusters\n",
      "Partition 2: 1374 clusters\n",
      "Partition 3: 239 clusters\n",
      "Partition 4: 36 clusters\n",
      "Partition 5: 5 clusters\n",
      "Using PyNNDescent to compute 1st-neighbours at this step ...\n",
      "Step PyNNDescent done ...\n",
      "Partition 0: 63354 clusters\n",
      "Partition 1: 6741 clusters\n",
      "Partition 2: 945 clusters\n",
      "Partition 3: 161 clusters\n",
      "Partition 4: 16 clusters\n",
      "Using PyNNDescent to compute 1st-neighbours at this step ...\n",
      "Step PyNNDescent done ...\n",
      "Partition 0: 31546 clusters\n",
      "Partition 1: 2768 clusters\n",
      "Partition 2: 422 clusters\n",
      "Partition 3: 54 clusters\n",
      "Partition 4: 4 clusters\n",
      "Using PyNNDescent to compute 1st-neighbours at this step ...\n",
      "Step PyNNDescent done ...\n",
      "Partition 0: 18466 clusters\n",
      "Partition 1: 1998 clusters\n",
      "Partition 2: 417 clusters\n",
      "Partition 3: 42 clusters\n",
      "Partition 4: 4 clusters\n",
      "Partition 0: 12629 clusters\n",
      "Partition 1: 2577 clusters\n",
      "Partition 2: 672 clusters\n",
      "Partition 3: 28 clusters\n",
      "Partition 4: 5 clusters\n",
      "Using PyNNDescent to compute 1st-neighbours at this step ...\n",
      "Step PyNNDescent done ...\n",
      "Partition 0: 20636 clusters\n",
      "Partition 1: 3794 clusters\n",
      "Partition 2: 823 clusters\n",
      "Partition 3: 86 clusters\n",
      "Partition 4: 12 clusters\n",
      "Partition 5: 3 clusters\n",
      "Partition 0: 142 clusters\n",
      "Partition 1: 22 clusters\n",
      "Partition 2: 9 clusters\n",
      "Partition 3: 7 clusters\n",
      "Partition 4: 5 clusters\n",
      "Partition 5: 3 clusters\n",
      "Partition 0: 117 clusters\n",
      "Partition 1: 14 clusters\n",
      "Partition 2: 6 clusters\n",
      "Partition 3: 3 clusters\n",
      "Partition 0: 82 clusters\n",
      "Partition 1: 14 clusters\n",
      "Partition 2: 4 clusters\n"
     ]
    }
   ],
   "source": [
    "cluster_activations(dataset, module_list)"
   ]
  },
  {
   "cell_type": "markdown",
   "metadata": {},
   "source": [
    "# Minimal K-Clique on a complete K-partite graph"
   ]
  },
  {
   "cell_type": "code",
   "execution_count": 94,
   "metadata": {},
   "outputs": [],
   "source": [
    "import itertools\n",
    "\n",
    "def calculate_distance(node1, node2):\n",
    "    # Define your distance metric here\n",
    "    # For example, you can calculate Euclidean distance or any other metric\n",
    "    # This function should return the distance between node1 and node2\n",
    "    # For simplicity, let's assume nodes are represented as tuples of coordinates\n",
    "    return abs(node1 - node2) / max(node1, node2)\n",
    "\n",
    "def find_min_weight_k_clique(partition_nodes, k):\n",
    "    min_weight = float('inf')\n",
    "    min_clique = None\n",
    "\n",
    "    for clique in tqdm(itertools.product(*partition_nodes), mininterval=1):\n",
    "        if len(set(clique)) < k:\n",
    "            continue\n",
    "\n",
    "        for combination in itertools.combinations(clique, k):\n",
    "            weight = sum(calculate_distance(node1, node2) for node1, node2 in itertools.combinations(combination, 2))\n",
    "            if weight < min_weight:\n",
    "                min_weight = weight\n",
    "                min_clique = combination\n",
    "\n",
    "    return min_clique, min_weight"
   ]
  },
  {
   "cell_type": "markdown",
   "metadata": {},
   "source": [
    "## ESC-50"
   ]
  },
  {
   "cell_type": "code",
   "execution_count": 104,
   "metadata": {},
   "outputs": [
    {
     "data": {
      "text/plain": [
       "[[142185, 21352, 4945, 1117, 225, 25, 3],\n",
       " [81942, 15435, 2803, 642, 134, 16, 3],\n",
       " [43404, 7542, 1243, 277, 40, 5],\n",
       " [24519, 4786, 1233, 203, 20, 5],\n",
       " [10530, 2590, 921, 62, 11],\n",
       " [24397, 5900, 1720, 178, 38, 5],\n",
       " [211, 31, 4],\n",
       " [142, 32, 13, 6, 3, 2],\n",
       " [176, 30, 7, 3, 2]]"
      ]
     },
     "execution_count": 104,
     "metadata": {},
     "output_type": "execute_result"
    }
   ],
   "source": [
    "esc_n_clusters = []\n",
    "for layer_name in module_list:\n",
    "    esc_n_clust = torch.load(root + f'/esc50/clusters/{layer_name}_n.pt')\n",
    "    esc_n_clusters.append([x.item() for x in esc_n_clust])\n",
    "esc_n_clusters"
   ]
  },
  {
   "cell_type": "code",
   "execution_count": 110,
   "metadata": {},
   "outputs": [
    {
     "data": {
      "application/json": {
       "ascii": false,
       "bar_format": null,
       "colour": null,
       "elapsed": 0.0066373348236083984,
       "initial": 0,
       "n": 0,
       "ncols": null,
       "nrows": null,
       "postfix": null,
       "prefix": "",
       "rate": null,
       "total": null,
       "unit": "it",
       "unit_divisor": 1000,
       "unit_scale": false
      },
      "application/vnd.jupyter.widget-view+json": {
       "model_id": "c9c3f18417624ac490e8d51bb3fac13d",
       "version_major": 2,
       "version_minor": 0
      },
      "text/plain": [
       "0it [00:00, ?it/s]"
      ]
     },
     "metadata": {},
     "output_type": "display_data"
    },
    {
     "name": "stdout",
     "output_type": "stream",
     "text": [
      "Minimum weight k-clique: (225, 134, 277, 203, 62, 178, 211, 142, 176)\n",
      "Weight: 11.97775388441079\n"
     ]
    }
   ],
   "source": [
    "partition_nodes = esc_n_clusters\n",
    "k = len(esc_n_clusters)\n",
    "\n",
    "min_clique, min_weight = find_min_weight_k_clique(partition_nodes, k)\n",
    "print(\"Minimum weight k-clique:\", min_clique)\n",
    "print(\"Weight:\", min_weight)"
   ]
  },
  {
   "cell_type": "code",
   "execution_count": 105,
   "metadata": {},
   "outputs": [
    {
     "data": {
      "application/json": {
       "ascii": false,
       "bar_format": null,
       "colour": null,
       "elapsed": 0.006707191467285156,
       "initial": 0,
       "n": 0,
       "ncols": null,
       "nrows": null,
       "postfix": null,
       "prefix": "",
       "rate": null,
       "total": null,
       "unit": "it",
       "unit_divisor": 1000,
       "unit_scale": false
      },
      "application/vnd.jupyter.widget-view+json": {
       "model_id": "f63d9a17547c47e19e518a7ac990071a",
       "version_major": 2,
       "version_minor": 0
      },
      "text/plain": [
       "0it [00:00, ?it/s]"
      ]
     },
     "metadata": {},
     "output_type": "display_data"
    },
    {
     "name": "stdout",
     "output_type": "stream",
     "text": [
      "Minimum weight k-clique: (1117, 642, 1243, 1233, 921, 1720)\n",
      "Weight: 4.58438399768087\n"
     ]
    }
   ],
   "source": [
    "partition_nodes = esc_n_clusters[:-3]\n",
    "k = len(esc_n_clusters[:-3])\n",
    "\n",
    "min_clique, min_weight = find_min_weight_k_clique(partition_nodes, k)\n",
    "print(\"Minimum weight k-clique:\", min_clique)\n",
    "print(\"Weight:\", min_weight)"
   ]
  },
  {
   "cell_type": "code",
   "execution_count": 109,
   "metadata": {},
   "outputs": [
    {
     "data": {
      "application/json": {
       "ascii": false,
       "bar_format": null,
       "colour": null,
       "elapsed": 0.01627516746520996,
       "initial": 0,
       "n": 0,
       "ncols": null,
       "nrows": null,
       "postfix": null,
       "prefix": "",
       "rate": null,
       "total": null,
       "unit": "it",
       "unit_divisor": 1000,
       "unit_scale": false
      },
      "application/vnd.jupyter.widget-view+json": {
       "model_id": "ab897e9e7e02429984a8804e53ce8404",
       "version_major": 2,
       "version_minor": 0
      },
      "text/plain": [
       "0it [00:00, ?it/s]"
      ]
     },
     "metadata": {},
     "output_type": "display_data"
    },
    {
     "name": "stdout",
     "output_type": "stream",
     "text": [
      "Minimum weight k-clique: (31, 32, 30)\n",
      "Weight: 0.12600806451612903\n"
     ]
    }
   ],
   "source": [
    "partition_nodes = esc_n_clusters[-3:]\n",
    "k = len(esc_n_clusters[-3:])\n",
    "\n",
    "min_clique, min_weight = find_min_weight_k_clique(partition_nodes, k)\n",
    "print(\"Minimum weight k-clique:\", min_clique)\n",
    "print(\"Weight:\", min_weight)"
   ]
  },
  {
   "cell_type": "markdown",
   "metadata": {},
   "source": [
    "## Urban Acoustic Scenes"
   ]
  },
  {
   "cell_type": "code",
   "execution_count": 107,
   "metadata": {},
   "outputs": [
    {
     "data": {
      "text/plain": [
       "[[113755, 10830, 1374, 239, 36, 5],\n",
       " [63354, 6741, 945, 161, 16],\n",
       " [31546, 2768, 422, 54, 4],\n",
       " [18466, 1998, 417, 42, 4],\n",
       " [12629, 2577, 672, 28, 5],\n",
       " [20636, 3794, 823, 86, 12, 3],\n",
       " [142, 22, 9, 7, 5, 3],\n",
       " [117, 14, 6, 3],\n",
       " [82, 14, 4]]"
      ]
     },
     "execution_count": 107,
     "metadata": {},
     "output_type": "execute_result"
    }
   ],
   "source": [
    "tau_n_clusters = []\n",
    "for layer_name in module_list:\n",
    "    tau_n_clust = torch.load(root + f'/urban-acoustic-scenes/clusters/{layer_name}_n.pt')\n",
    "    tau_n_clusters.append([x.item() for x in tau_n_clust])\n",
    "tau_n_clusters"
   ]
  },
  {
   "cell_type": "code",
   "execution_count": 111,
   "metadata": {},
   "outputs": [
    {
     "data": {
      "application/json": {
       "ascii": false,
       "bar_format": null,
       "colour": null,
       "elapsed": 0.010002374649047852,
       "initial": 0,
       "n": 0,
       "ncols": null,
       "nrows": null,
       "postfix": null,
       "prefix": "",
       "rate": null,
       "total": null,
       "unit": "it",
       "unit_divisor": 1000,
       "unit_scale": false
      },
      "application/vnd.jupyter.widget-view+json": {
       "model_id": "2d9b7d499c844dc583b12da13b7849ed",
       "version_major": 2,
       "version_minor": 0
      },
      "text/plain": [
       "0it [00:00, ?it/s]"
      ]
     },
     "metadata": {},
     "output_type": "display_data"
    },
    {
     "name": "stdout",
     "output_type": "stream",
     "text": [
      "Minimum weight k-clique: (36, 161, 54, 42, 28, 86, 142, 117, 82)\n",
      "Weight: 17.38709238164305\n"
     ]
    }
   ],
   "source": [
    "partition_nodes = tau_n_clusters\n",
    "k = len(tau_n_clusters)\n",
    "\n",
    "min_clique, min_weight = find_min_weight_k_clique(partition_nodes, k)\n",
    "print(\"Minimum weight k-clique:\", min_clique)\n",
    "print(\"Weight:\", min_weight)"
   ]
  },
  {
   "cell_type": "code",
   "execution_count": 112,
   "metadata": {},
   "outputs": [
    {
     "data": {
      "application/json": {
       "ascii": false,
       "bar_format": null,
       "colour": null,
       "elapsed": 0.009418725967407227,
       "initial": 0,
       "n": 0,
       "ncols": null,
       "nrows": null,
       "postfix": null,
       "prefix": "",
       "rate": null,
       "total": null,
       "unit": "it",
       "unit_divisor": 1000,
       "unit_scale": false
      },
      "application/vnd.jupyter.widget-view+json": {
       "model_id": "1b1b0148a3fc44de97af24deab6becc5",
       "version_major": 2,
       "version_minor": 0
      },
      "text/plain": [
       "0it [00:00, ?it/s]"
      ]
     },
     "metadata": {},
     "output_type": "display_data"
    },
    {
     "name": "stdout",
     "output_type": "stream",
     "text": [
      "Minimum weight k-clique: (1374, 945, 422, 417, 672, 823)\n",
      "Weight: 6.071066306404186\n"
     ]
    }
   ],
   "source": [
    "partition_nodes = tau_n_clusters[:-3]\n",
    "k = len(tau_n_clusters[:-3])\n",
    "\n",
    "min_clique, min_weight = find_min_weight_k_clique(partition_nodes, k)\n",
    "print(\"Minimum weight k-clique:\", min_clique)\n",
    "print(\"Weight:\", min_weight)"
   ]
  },
  {
   "cell_type": "code",
   "execution_count": 113,
   "metadata": {},
   "outputs": [
    {
     "data": {
      "application/json": {
       "ascii": false,
       "bar_format": null,
       "colour": null,
       "elapsed": 0.00661778450012207,
       "initial": 0,
       "n": 0,
       "ncols": null,
       "nrows": null,
       "postfix": null,
       "prefix": "",
       "rate": null,
       "total": null,
       "unit": "it",
       "unit_divisor": 1000,
       "unit_scale": false
      },
      "application/vnd.jupyter.widget-view+json": {
       "model_id": "9cb9d2f6e3b943c79573eb6b290a190c",
       "version_major": 2,
       "version_minor": 0
      },
      "text/plain": [
       "0it [00:00, ?it/s]"
      ]
     },
     "metadata": {},
     "output_type": "display_data"
    },
    {
     "name": "stdout",
     "output_type": "stream",
     "text": [
      "Minimum weight k-clique: (5, 6, 4)\n",
      "Weight: 0.7\n"
     ]
    }
   ],
   "source": [
    "partition_nodes = tau_n_clusters[-3:]\n",
    "k = len(tau_n_clusters[-3:])\n",
    "\n",
    "min_clique, min_weight = find_min_weight_k_clique(partition_nodes, k)\n",
    "print(\"Minimum weight k-clique:\", min_clique)\n",
    "print(\"Weight:\", min_weight)"
   ]
  },
  {
   "cell_type": "markdown",
   "metadata": {},
   "source": [
    "## Adjusted Mutual Information"
   ]
  },
  {
   "cell_type": "code",
   "execution_count": 7,
   "metadata": {},
   "outputs": [],
   "source": [
    "# Minimal k-cliques for CNNs and linear layers separately\n",
    "esc_pt_indices = [3, 3, 2, 2, 2, 2] + [1, 1, 1]\n",
    "tau_pt_indices = [2, 2, 2, 2, 2, 2] + [4, 2, 2]"
   ]
  },
  {
   "cell_type": "code",
   "execution_count": 8,
   "metadata": {},
   "outputs": [],
   "source": [
    "root = '/scratch/pratyaksh.g/'\n",
    "# ami = []\n",
    "nmi = []\n",
    "for layer_idx, layer_name in enumerate(module_list):\n",
    "    esc = torch.load(root + f'esc50/clusters/{layer_name}.pt')\n",
    "    esc_pt_idx = esc_pt_indices[layer_idx]\n",
    "    esc_clust = esc[:, esc_pt_idx]\n",
    "\n",
    "    tau = torch.load(root + f'urban-acoustic-scenes/clusters/{layer_name}.pt')\n",
    "    tau_pt_idx = tau_pt_indices[layer_idx]\n",
    "    tau_clust = tau[:, tau_pt_idx]\n",
    "\n",
    "    # ami.append(adjusted_mutual_info_score(esc_clust, tau_clust))\n",
    "    nmi.append(normalized_mutual_info_score(esc_clust, tau_clust))"
   ]
  },
  {
   "cell_type": "code",
   "execution_count": 10,
   "metadata": {},
   "outputs": [
    {
     "data": {
      "text/plain": [
       "[0.3266622194398932,\n",
       " 0.3564831912750793,\n",
       " 0.3028694612675639,\n",
       " 0.41310174109002257,\n",
       " 0.5537610192380596,\n",
       " 0.5210281008633828,\n",
       " 0.012647653309217372,\n",
       " 0.06768005518832601,\n",
       " 0.0491867340734742]"
      ]
     },
     "execution_count": 10,
     "metadata": {},
     "output_type": "execute_result"
    }
   ],
   "source": [
    "nmi"
   ]
  },
  {
   "cell_type": "code",
   "execution_count": 11,
   "metadata": {},
   "outputs": [
    {
     "data": {
      "text/plain": [
       "<AxesSubplot:>"
      ]
     },
     "execution_count": 11,
     "metadata": {},
     "output_type": "execute_result"
    },
    {
     "data": {
      "image/png": "[encoded data removed]",
      "text/plain": [
       "<Figure size 640x480 with 1 Axes>"
      ]
     },
     "metadata": {},
     "output_type": "display_data"
    }
   ],
   "source": [
    "sns.lineplot(x=range(1, 10), y=nmi)"
   ]
  }
 ],
 "metadata": {
  "kernelspec": {
   "display_name": "Python [conda env:ms-clap] *",
   "language": "python",
   "name": "conda-env-ms-clap-py"
  }
 },
 "nbformat": 4,
 "nbformat_minor": 2
}
