{
 "cells": [
  {
   "cell_type": "code",
   "execution_count": 2,
   "metadata": {},
   "outputs": [],
   "source": [
    "%load_ext autoreload\n",
    "%autoreload 2"
   ]
  },
  {
   "cell_type": "code",
   "execution_count": 3,
   "metadata": {},
   "outputs": [],
   "source": [
    "import torch\n",
    "import torch.nn as nn\n",
    "import torch.nn.functional as F\n",
    "\n",
    "from utils.dataset import *\n",
    "from utils.clustering import cluster_activations, get_cluster_df, get_cluster_embeddings\n",
    "from utils.entropy import compute_entropies\n",
    "\n",
    "from einops import rearrange\n",
    "from torch_scatter import scatter\n",
    "import plotly.express as px\n",
    "import plotly.graph_objects as go\n",
    "from plotly.subplots import make_subplots\n",
    "import matplotlib.pyplot as plt\n",
    "import matplotlib.ticker as ticker\n",
    "import seaborn as sns\n",
    "\n",
    "from icecream import ic\n",
    "from tqdm.autonotebook import tqdm\n",
    "\n",
    "from PyPDF2 import PdfMerger"
   ]
  },
  {
   "cell_type": "code",
   "execution_count": 4,
   "metadata": {},
   "outputs": [],
   "source": [
    "def seed_everything(seed: int):\n",
    "    import random, os\n",
    "    import numpy as np\n",
    "    import torch\n",
    "    \n",
    "    random.seed(seed)\n",
    "    os.environ['PYTHONHASHSEED'] = str(seed)\n",
    "    np.random.seed(seed)\n",
    "    torch.manual_seed(seed)\n",
    "    torch.cuda.manual_seed(seed)\n",
    "    torch.backends.cudnn.deterministic = True\n",
    "    torch.backends.cudnn.benchmark = True"
   ]
  },
  {
   "cell_type": "code",
   "execution_count": 5,
   "metadata": {},
   "outputs": [],
   "source": [
    "seed_everything(42)"
   ]
  },
  {
   "cell_type": "code",
   "execution_count": 6,
   "metadata": {},
   "outputs": [],
   "source": [
    "DEVICE = torch.device(\"cuda:2\" if torch.cuda.is_available() else \"cpu\")\n",
    "\n",
    "module_activation_dict = {\n",
    "    # Conv blocks\n",
    "    'audio_encoder.base.conv_block1': nn.Identity(),    # 0\n",
    "    'audio_encoder.base.conv_block2': nn.Identity(),    # 1\n",
    "    'audio_encoder.base.conv_block3': nn.Identity(),    # 2\n",
    "    'audio_encoder.base.conv_block4': nn.Identity(),    # 3\n",
    "    'audio_encoder.base.conv_block5': nn.Identity(),    # 4\n",
    "    'audio_encoder.base.conv_block6': nn.Identity(),    # 5\n",
    "    'audio_encoder.base.fc1': F.relu,                   # 6\n",
    "    'audio_encoder.projection.linear1': F.gelu,         # 7\n",
    "    'audio_encoder.projection.linear2': nn.Identity(),  # 8\n",
    "}\n",
    "\n",
    "module_list = list(module_activation_dict.keys())"
   ]
  },
  {
   "cell_type": "code",
   "execution_count": 7,
   "metadata": {},
   "outputs": [
    {
     "name": "stdout",
     "output_type": "stream",
     "text": [
      "Using downloaded and verified file: /scratch/pratyaksh.g/esc50/ESC-50-master.zip\n"
     ]
    },
    {
     "name": "stderr",
     "output_type": "stream",
     "text": [
      "2000it [00:00, 11672.80it/s]"
     ]
    },
    {
     "name": "stdout",
     "output_type": "stream",
     "text": [
      "Loading audio files\n"
     ]
    },
    {
     "name": "stderr",
     "output_type": "stream",
     "text": [
      "\n"
     ]
    }
   ],
   "source": [
    "# dataset = MedleySolosDBDataset(class_limit=200)\n",
    "dataset = ESC50Dataset()"
   ]
  },
  {
   "cell_type": "code",
   "execution_count": 8,
   "metadata": {},
   "outputs": [],
   "source": [
    "class_indices = torch.tensor([dataset.class_to_idx[label] for label in dataset.class_label]).long()\n",
    "num_classes = len(dataset.classes)"
   ]
  },
  {
   "cell_type": "code",
   "execution_count": 8,
   "metadata": {},
   "outputs": [],
   "source": [
    "# cluster_activations(dataset, module_list)"
   ]
  },
  {
   "cell_type": "code",
   "execution_count": 40,
   "metadata": {},
   "outputs": [],
   "source": [
    "layer_name = module_list[5]"
   ]
  },
  {
   "cell_type": "code",
   "execution_count": 31,
   "metadata": {},
   "outputs": [],
   "source": [
    "activations = torch.load(f'/scratch/pratyaksh.g/{dataset.path_name}/activations/{layer_name}.pt')\n",
    "clusters = torch.load(f'/scratch/pratyaksh.g/{dataset.path_name}/clusters/{layer_name}.pt')\n",
    "n_clusters = torch.load(f'/scratch/pratyaksh.g/{dataset.path_name}/clusters/{layer_name}_n.pt')"
   ]
  },
  {
   "cell_type": "code",
   "execution_count": 11,
   "metadata": {},
   "outputs": [],
   "source": [
    "cluster_embeddings = get_cluster_embeddings(activations, clusters, n_clusters)\n",
    "\n",
    "mega_neuron_activations = []\n",
    "for cluster_embed in cluster_embeddings:\n",
    "    mega_neuron_activations.append(rearrange(cluster_embed, 'c n -> n c'))\n",
    "\n",
    "cluster_entropies = []\n",
    "for mega_neuron_act in mega_neuron_activations:\n",
    "    cluster_entropies.append(compute_entropies(mega_neuron_act, class_indices, num_classes))"
   ]
  },
  {
   "cell_type": "code",
   "execution_count": 13,
   "metadata": {},
   "outputs": [],
   "source": [
    "# This threshold is the mean entropy of single neurons in the entire model\n",
    "# (the layers of the model with a relu after it, at least)\n",
    "threshold = 5.260542392730713"
   ]
  },
  {
   "cell_type": "code",
   "execution_count": 37,
   "metadata": {},
   "outputs": [
    {
     "data": {
      "application/json": {
       "ascii": false,
       "bar_format": null,
       "colour": null,
       "elapsed": 0.0070343017578125,
       "initial": 0,
       "n": 0,
       "ncols": null,
       "nrows": null,
       "postfix": null,
       "prefix": "Partition 4 / 5",
       "rate": null,
       "total": 11,
       "unit": "it",
       "unit_divisor": 1000,
       "unit_scale": false
      },
      "application/vnd.jupyter.widget-view+json": {
       "model_id": "e57178c0f690472e97c0ef89d1f43397",
       "version_major": 2,
       "version_minor": 0
      },
      "text/plain": [
       "Partition 4 / 5:   0%|          | 0/11 [00:00<?, ?it/s]"
      ]
     },
     "metadata": {},
     "output_type": "display_data"
    },
    {
     "name": "stderr",
     "output_type": "stream",
     "text": [
      "ic| data_dict: {'cluster_idx': [0],\n",
      "                'entropy': [5.109516143798828],\n",
      "                'layer_name': ['audio_encoder.base.conv_block5'],\n",
      "                'neuron_count': [24526],\n",
      "                'partition_idx': [4],\n",
      "                'top_class': ['glass breaking'],\n",
      "                'top_class_idx': [39]}\n"
     ]
    },
    {
     "data": {
      "application/json": {
       "ascii": false,
       "bar_format": null,
       "colour": null,
       "elapsed": 0.009692192077636719,
       "initial": 0,
       "n": 0,
       "ncols": null,
       "nrows": null,
       "postfix": null,
       "prefix": "Partition 3 / 5",
       "rate": null,
       "total": 62,
       "unit": "it",
       "unit_divisor": 1000,
       "unit_scale": false
      },
      "application/vnd.jupyter.widget-view+json": {
       "model_id": "19472bc3a50c4b2498d3479ae296cf18",
       "version_major": 2,
       "version_minor": 0
      },
      "text/plain": [
       "Partition 3 / 5:   0%|          | 0/62 [00:00<?, ?it/s]"
      ]
     },
     "metadata": {},
     "output_type": "display_data"
    },
    {
     "name": "stderr",
     "output_type": "stream",
     "text": [
      "ic| data_dict: {'cluster_idx': [0, 5],\n",
      "                'entropy': [5.109516143798828, 4.776365756988525],\n",
      "                'layer_name': ['audio_encoder.base.conv_block5',\n",
      "                               'audio_encoder.base.conv_block5'],\n",
      "                'neuron_count': [24526, 1658],\n",
      "                'partition_idx': [4, 3],\n",
      "                'top_class': ['glass breaking', 'glass breaking'],\n",
      "                'top_class_idx': [39, 39]}\n"
     ]
    },
    {
     "data": {
      "application/json": {
       "ascii": false,
       "bar_format": null,
       "colour": null,
       "elapsed": 0.009540557861328125,
       "initial": 0,
       "n": 0,
       "ncols": null,
       "nrows": null,
       "postfix": null,
       "prefix": "Partition 2 / 5",
       "rate": null,
       "total": 921,
       "unit": "it",
       "unit_divisor": 1000,
       "unit_scale": false
      },
      "application/vnd.jupyter.widget-view+json": {
       "model_id": "cd9fbd62ed7848ffb893ec2b8b5ca14f",
       "version_major": 2,
       "version_minor": 0
      },
      "text/plain": [
       "Partition 2 / 5:   0%|          | 0/921 [00:00<?, ?it/s]"
      ]
     },
     "metadata": {},
     "output_type": "display_data"
    },
    {
     "name": "stderr",
     "output_type": "stream",
     "text": [
      "ic| data_dict: {'cluster_idx': [0, 5, 585],\n",
      "                'entropy': [5.109516143798828, 4.776365756988525, 4.453199863433838],\n",
      "                'layer_name': ['audio_encoder.base.conv_block5',\n",
      "                               'audio_encoder.base.conv_block5',\n",
      "                               'audio_encoder.base.conv_block5'],\n",
      "                'neuron_count': [24526, 1658, 21],\n",
      "                'partition_idx': [4, 3, 2],\n",
      "                'top_class': ['glass breaking', 'glass breaking', 'fireworks'],\n",
      "                'top_class_idx': [39, 39, 48]}\n"
     ]
    },
    {
     "data": {
      "application/json": {
       "ascii": false,
       "bar_format": null,
       "colour": null,
       "elapsed": 0.0068323612213134766,
       "initial": 0,
       "n": 0,
       "ncols": null,
       "nrows": null,
       "postfix": null,
       "prefix": "Partition 1 / 5",
       "rate": null,
       "total": 2590,
       "unit": "it",
       "unit_divisor": 1000,
       "unit_scale": false
      },
      "application/vnd.jupyter.widget-view+json": {
       "model_id": "af71853298734e6b866339eb786c9ecf",
       "version_major": 2,
       "version_minor": 0
      },
      "text/plain": [
       "Partition 1 / 5:   0%|          | 0/2590 [00:00<?, ?it/s]"
      ]
     },
     "metadata": {},
     "output_type": "display_data"
    },
    {
     "name": "stderr",
     "output_type": "stream",
     "text": [
      "ic| data_dict: {'cluster_idx': [0, 5, 585, 25],\n",
      "                'entropy': [5.109516143798828,\n",
      "                            4.776365756988525,\n",
      "                            4.453199863433838,\n",
      "                            4.095354080200195],\n",
      "                'layer_name': ['audio_encoder.base.conv_block5',\n",
      "                               'audio_encoder.base.conv_block5',\n",
      "                               'audio_encoder.base.conv_block5',\n",
      "                               'audio_encoder.base.conv_block5'],\n",
      "                'neuron_count': [24526, 1658, 21, 4],\n",
      "                'partition_idx': [4, 3, 2, 1],\n",
      "                'top_class': ['glass breaking',\n",
      "                              'glass breaking',\n",
      "                              'fireworks',\n",
      "                              'glass breaking'],\n",
      "                'top_class_idx': [39, 39, 48, 39]}\n"
     ]
    },
    {
     "data": {
      "application/json": {
       "ascii": false,
       "bar_format": null,
       "colour": null,
       "elapsed": 0.007115602493286133,
       "initial": 0,
       "n": 0,
       "ncols": null,
       "nrows": null,
       "postfix": null,
       "prefix": "Partition 0 / 5",
       "rate": null,
       "total": 10530,
       "unit": "it",
       "unit_divisor": 1000,
       "unit_scale": false
      },
      "application/vnd.jupyter.widget-view+json": {
       "model_id": "4a30a145cb3b40129ea1c637867d980c",
       "version_major": 2,
       "version_minor": 0
      },
      "text/plain": [
       "Partition 0 / 5:   0%|          | 0/10530 [00:00<?, ?it/s]"
      ]
     },
     "metadata": {},
     "output_type": "display_data"
    },
    {
     "name": "stderr",
     "output_type": "stream",
     "text": [
      "ic| data_dict: {'cluster_idx': [0, 5, 585, 25, 4349],\n",
      "                'entropy': [5.109516143798828,\n",
      "                            4.776365756988525,\n",
      "                            4.453199863433838,\n",
      "                            4.095354080200195,\n",
      "                            3.9858648777008057],\n",
      "                'layer_name': ['audio_encoder.base.conv_block5',\n",
      "                               'audio_encoder.base.conv_block5',\n",
      "                               'audio_encoder.base.conv_block5',\n",
      "                               'audio_encoder.base.conv_block5',\n",
      "                               'audio_encoder.base.conv_block5'],\n",
      "                'neuron_count': [24526, 1658, 21, 4, 2],\n",
      "                'partition_idx': [4, 3, 2, 1, 0],\n",
      "                'top_class': ['glass breaking',\n",
      "                              'glass breaking',\n",
      "                              'fireworks',\n",
      "                              'glass breaking',\n",
      "                              'church bells'],\n",
      "                'top_class_idx': [39, 39, 48, 39, 46]}\n"
     ]
    }
   ],
   "source": [
    "data_dict = dict(\n",
    "    layer_name=[],\n",
    "    partition_idx=[],\n",
    "    cluster_idx=[],\n",
    "    entropy=[],\n",
    "    neuron_count=[],\n",
    "    top_class_idx=[],\n",
    "    top_class=[],\n",
    ")\n",
    "\n",
    "for partition_idx in reversed(range(0, len(n_clusters))):\n",
    "    # argsort the entropies\n",
    "    sorted_indices = torch.argsort(cluster_entropies[partition_idx], descending=False)\n",
    "\n",
    "    # iterate through clusters, keeping track of the cluster's sorting rank/idx\n",
    "    for sorting_idx, cluster_idx in tqdm(enumerate(sorted_indices), desc=f'Partition {partition_idx} / {len(n_clusters)}', total=len(sorted_indices)):\n",
    "        # Just move on if it's a zero cluster\n",
    "        current_cluster = cluster_embeddings[partition_idx][cluster_idx]\n",
    "\n",
    "        zero = torch.zeros_like(current_cluster)\n",
    "        if torch.all(torch.isclose(current_cluster, zero)):\n",
    "            continue\n",
    "\n",
    "        # If it's not a zero cluster, then plot it's cluster embedding\n",
    "        num_neurons = (clusters[:, partition_idx] == cluster_idx).sum().item()\n",
    "        df = pd.DataFrame({\n",
    "            'dataset_index': range(len(dataset)),\n",
    "            'activations': current_cluster,\n",
    "            'classes': dataset.class_label\n",
    "        })\n",
    "\n",
    "        title = f'Layer: {layer_name}, Partition: {partition_idx}, Cluster: {cluster_idx}'\n",
    "        title += ', '\n",
    "        title += f'Entropy: {cluster_entropies[partition_idx][cluster_idx]:.2f}'\n",
    "        title += ', '\n",
    "        title += f'Neuron Count: {(clusters[:, partition_idx] == cluster_idx).sum().item()}'\n",
    "\n",
    "        fig = px.bar(df, x='classes', y='activations', title=title,\n",
    "                     labels = {\n",
    "                         'classes': f'classes ({dataset.name})',\n",
    "                         'activations': 'average cluster activations',\n",
    "                     },\n",
    "                     hover_data='dataset_index')\n",
    "\n",
    "        file_dir = f'/scratch/pratyaksh.g/{dataset.path_name}/cluster-plots/{layer_name}/partition-{partition_idx}/'\n",
    "        os.makedirs(file_dir, exist_ok=True)\n",
    "\n",
    "        classwise = scatter(current_cluster, class_indices)\n",
    "        top_class_idx = torch.argmax(classwise)\n",
    "        top_class = dataset.classes[top_class_idx]\n",
    "\n",
    "        data_dict['layer_name'].append(layer_name)\n",
    "        data_dict['partition_idx'].append(partition_idx)\n",
    "        data_dict['cluster_idx'].append(cluster_idx.item())\n",
    "        data_dict['entropy'].append(cluster_entropies[partition_idx][cluster_idx].item())\n",
    "        data_dict['neuron_count'].append((clusters[:, partition_idx] == cluster_idx).sum().item())\n",
    "        data_dict['top_class_idx'].append(top_class_idx.item())\n",
    "        data_dict['top_class'].append(top_class)\n",
    "\n",
    "        ic(data_dict)\n",
    "\n",
    "        break\n",
    "\n",
    "\n",
    "        num_digits = len(str(n_clusters[partition_idx].item()))\n",
    "        padded_sorting_idx = str(sorting_idx).zfill(num_digits)\n",
    "        fig.write_image(f'{file_dir}/{padded_sorting_idx}-cluster-{cluster_idx}.pdf',\n",
    "                        width=1920, height=1080, engine='kaleido')"
   ]
  },
  {
   "cell_type": "code",
   "execution_count": 27,
   "metadata": {},
   "outputs": [
    {
     "data": {
      "application/json": {
       "ascii": false,
       "bar_format": null,
       "colour": null,
       "elapsed": 0.008503913879394531,
       "initial": 0,
       "n": 0,
       "ncols": null,
       "nrows": null,
       "postfix": null,
       "prefix": "Partition 4 / 5",
       "rate": null,
       "total": 11,
       "unit": "it",
       "unit_divisor": 1000,
       "unit_scale": false
      },
      "application/vnd.jupyter.widget-view+json": {
       "model_id": "4b55fd58459b4a1cb7cc465d28101b64",
       "version_major": 2,
       "version_minor": 0
      },
      "text/plain": [
       "Partition 4 / 5:   0%|          | 0/11 [00:00<?, ?it/s]"
      ]
     },
     "metadata": {},
     "output_type": "display_data"
    },
    {
     "data": {
      "application/json": {
       "ascii": false,
       "bar_format": null,
       "colour": null,
       "elapsed": 0.0059435367584228516,
       "initial": 0,
       "n": 0,
       "ncols": null,
       "nrows": null,
       "postfix": null,
       "prefix": "Partition 3 / 5",
       "rate": null,
       "total": 62,
       "unit": "it",
       "unit_divisor": 1000,
       "unit_scale": false
      },
      "application/vnd.jupyter.widget-view+json": {
       "model_id": "9596647371f04fa88d728e819312b13f",
       "version_major": 2,
       "version_minor": 0
      },
      "text/plain": [
       "Partition 3 / 5:   0%|          | 0/62 [00:00<?, ?it/s]"
      ]
     },
     "metadata": {},
     "output_type": "display_data"
    },
    {
     "data": {
      "application/json": {
       "ascii": false,
       "bar_format": null,
       "colour": null,
       "elapsed": 0.008595943450927734,
       "initial": 0,
       "n": 0,
       "ncols": null,
       "nrows": null,
       "postfix": null,
       "prefix": "Partition 2 / 5",
       "rate": null,
       "total": 921,
       "unit": "it",
       "unit_divisor": 1000,
       "unit_scale": false
      },
      "application/vnd.jupyter.widget-view+json": {
       "model_id": "85e3d645f1004a6092df67f6536173d2",
       "version_major": 2,
       "version_minor": 0
      },
      "text/plain": [
       "Partition 2 / 5:   0%|          | 0/921 [00:00<?, ?it/s]"
      ]
     },
     "metadata": {},
     "output_type": "display_data"
    },
    {
     "ename": "KeyboardInterrupt",
     "evalue": "",
     "output_type": "error",
     "traceback": [
      "\u001b[0;31m---------------------------------------------------------------------------\u001b[0m",
      "\u001b[0;31mKeyboardInterrupt\u001b[0m                         Traceback (most recent call last)",
      "Cell \u001b[0;32mIn[27], line 29\u001b[0m\n\u001b[1;32m     26\u001b[0m title \u001b[38;5;241m+\u001b[39m\u001b[38;5;241m=\u001b[39m \u001b[38;5;124m'\u001b[39m\u001b[38;5;124m, \u001b[39m\u001b[38;5;124m'\u001b[39m\n\u001b[1;32m     27\u001b[0m title \u001b[38;5;241m+\u001b[39m\u001b[38;5;241m=\u001b[39m \u001b[38;5;124mf\u001b[39m\u001b[38;5;124m'\u001b[39m\u001b[38;5;124mNeuron Count: \u001b[39m\u001b[38;5;132;01m{\u001b[39;00m(clusters[:,\u001b[38;5;250m \u001b[39mpartition_idx]\u001b[38;5;250m \u001b[39m\u001b[38;5;241m==\u001b[39m\u001b[38;5;250m \u001b[39mcluster_idx)\u001b[38;5;241m.\u001b[39msum()\u001b[38;5;241m.\u001b[39mitem()\u001b[38;5;132;01m}\u001b[39;00m\u001b[38;5;124m'\u001b[39m\n\u001b[0;32m---> 29\u001b[0m fig \u001b[38;5;241m=\u001b[39m \u001b[43mpx\u001b[49m\u001b[38;5;241;43m.\u001b[39;49m\u001b[43mimshow\u001b[49m\u001b[43m(\u001b[49m\u001b[43mfeature_map\u001b[49m\u001b[38;5;241;43m.\u001b[39;49m\u001b[43mcpu\u001b[49m\u001b[43m(\u001b[49m\u001b[43m)\u001b[49m\u001b[38;5;241;43m.\u001b[39;49m\u001b[43mnumpy\u001b[49m\u001b[43m(\u001b[49m\u001b[43m)\u001b[49m\u001b[38;5;241;43m.\u001b[39;49m\u001b[43mT\u001b[49m\u001b[43m,\u001b[49m\u001b[43m \u001b[49m\u001b[43morigin\u001b[49m\u001b[38;5;241;43m=\u001b[39;49m\u001b[38;5;124;43m'\u001b[39;49m\u001b[38;5;124;43mlower\u001b[39;49m\u001b[38;5;124;43m'\u001b[39;49m\u001b[43m,\u001b[49m\u001b[43m \u001b[49m\u001b[43mcolor_continuous_scale\u001b[49m\u001b[38;5;241;43m=\u001b[39;49m\u001b[38;5;124;43m'\u001b[39;49m\u001b[38;5;124;43mviridis\u001b[39;49m\u001b[38;5;124;43m'\u001b[39;49m\u001b[43m,\u001b[49m\u001b[43m \u001b[49m\u001b[43mtitle\u001b[49m\u001b[38;5;241;43m=\u001b[39;49m\u001b[43mtitle\u001b[49m\u001b[43m)\u001b[49m\n\u001b[1;32m     31\u001b[0m file_dir \u001b[38;5;241m=\u001b[39m \u001b[38;5;124mf\u001b[39m\u001b[38;5;124m'\u001b[39m\u001b[38;5;124m/scratch/pratyaksh.g/\u001b[39m\u001b[38;5;132;01m{\u001b[39;00mdataset\u001b[38;5;241m.\u001b[39mpath_name\u001b[38;5;132;01m}\u001b[39;00m\u001b[38;5;124m/cluster-plots/\u001b[39m\u001b[38;5;132;01m{\u001b[39;00mlayer_name\u001b[38;5;132;01m}\u001b[39;00m\u001b[38;5;124m/partition-\u001b[39m\u001b[38;5;132;01m{\u001b[39;00mpartition_idx\u001b[38;5;132;01m}\u001b[39;00m\u001b[38;5;124m/\u001b[39m\u001b[38;5;124m'\u001b[39m\n\u001b[1;32m     32\u001b[0m os\u001b[38;5;241m.\u001b[39mmakedirs(file_dir, exist_ok\u001b[38;5;241m=\u001b[39m\u001b[38;5;28;01mTrue\u001b[39;00m)\n",
      "File \u001b[0;32m~/miniconda3/envs/ms-clap/lib/python3.8/site-packages/plotly/express/_imshow.py:599\u001b[0m, in \u001b[0;36mimshow\u001b[0;34m(img, zmin, zmax, origin, labels, x, y, animation_frame, facet_col, facet_col_wrap, facet_col_spacing, facet_row_spacing, color_continuous_scale, color_continuous_midpoint, range_color, title, template, width, height, aspect, contrast_rescaling, binary_string, binary_backend, binary_compression_level, binary_format, text_auto)\u001b[0m\n\u001b[1;32m    597\u001b[0m     fig\u001b[38;5;241m.\u001b[39mupdate_yaxes(title_text\u001b[38;5;241m=\u001b[39mlabels[\u001b[38;5;124m\"\u001b[39m\u001b[38;5;124my\u001b[39m\u001b[38;5;124m\"\u001b[39m], col\u001b[38;5;241m=\u001b[39m\u001b[38;5;241m1\u001b[39m)\n\u001b[1;32m    598\u001b[0m configure_animation_controls(args, go\u001b[38;5;241m.\u001b[39mImage, fig)\n\u001b[0;32m--> 599\u001b[0m \u001b[43mfig\u001b[49m\u001b[38;5;241;43m.\u001b[39;49m\u001b[43mupdate_layout\u001b[49m\u001b[43m(\u001b[49m\u001b[43mtemplate\u001b[49m\u001b[38;5;241;43m=\u001b[39;49m\u001b[43margs\u001b[49m\u001b[43m[\u001b[49m\u001b[38;5;124;43m\"\u001b[39;49m\u001b[38;5;124;43mtemplate\u001b[39;49m\u001b[38;5;124;43m\"\u001b[39;49m\u001b[43m]\u001b[49m\u001b[43m,\u001b[49m\u001b[43m \u001b[49m\u001b[43moverwrite\u001b[49m\u001b[38;5;241;43m=\u001b[39;49m\u001b[38;5;28;43;01mTrue\u001b[39;49;00m\u001b[43m)\u001b[49m\n\u001b[1;32m    600\u001b[0m \u001b[38;5;28;01mreturn\u001b[39;00m fig\n",
      "File \u001b[0;32m~/miniconda3/envs/ms-clap/lib/python3.8/site-packages/plotly/graph_objs/_figure.py:775\u001b[0m, in \u001b[0;36mFigure.update_layout\u001b[0;34m(self, dict1, overwrite, **kwargs)\u001b[0m\n\u001b[1;32m    749\u001b[0m \u001b[38;5;28;01mdef\u001b[39;00m \u001b[38;5;21mupdate_layout\u001b[39m(\u001b[38;5;28mself\u001b[39m, dict1\u001b[38;5;241m=\u001b[39m\u001b[38;5;28;01mNone\u001b[39;00m, overwrite\u001b[38;5;241m=\u001b[39m\u001b[38;5;28;01mFalse\u001b[39;00m, \u001b[38;5;241m*\u001b[39m\u001b[38;5;241m*\u001b[39mkwargs) \u001b[38;5;241m-\u001b[39m\u001b[38;5;241m>\u001b[39m \u001b[38;5;124m\"\u001b[39m\u001b[38;5;124mFigure\u001b[39m\u001b[38;5;124m\"\u001b[39m:\n\u001b[1;32m    750\u001b[0m \u001b[38;5;250m    \u001b[39m\u001b[38;5;124;03m\"\"\"\u001b[39;00m\n\u001b[1;32m    751\u001b[0m \n\u001b[1;32m    752\u001b[0m \u001b[38;5;124;03m    Update the properties of the figure's layout with a dict and/or with\u001b[39;00m\n\u001b[0;32m   (...)\u001b[0m\n\u001b[1;32m    773\u001b[0m \n\u001b[1;32m    774\u001b[0m \u001b[38;5;124;03m    \"\"\"\u001b[39;00m\n\u001b[0;32m--> 775\u001b[0m     \u001b[38;5;28;01mreturn\u001b[39;00m \u001b[38;5;28;43msuper\u001b[39;49m\u001b[43m(\u001b[49m\u001b[43mFigure\u001b[49m\u001b[43m,\u001b[49m\u001b[43m \u001b[49m\u001b[38;5;28;43mself\u001b[39;49m\u001b[43m)\u001b[49m\u001b[38;5;241;43m.\u001b[39;49m\u001b[43mupdate_layout\u001b[49m\u001b[43m(\u001b[49m\u001b[43mdict1\u001b[49m\u001b[43m,\u001b[49m\u001b[43m \u001b[49m\u001b[43moverwrite\u001b[49m\u001b[43m,\u001b[49m\u001b[43m \u001b[49m\u001b[38;5;241;43m*\u001b[39;49m\u001b[38;5;241;43m*\u001b[39;49m\u001b[43mkwargs\u001b[49m\u001b[43m)\u001b[49m\n",
      "File \u001b[0;32m~/miniconda3/envs/ms-clap/lib/python3.8/site-packages/plotly/basedatatypes.py:1393\u001b[0m, in \u001b[0;36mBaseFigure.update_layout\u001b[0;34m(self, dict1, overwrite, **kwargs)\u001b[0m\n\u001b[1;32m   1369\u001b[0m \u001b[38;5;28;01mdef\u001b[39;00m \u001b[38;5;21mupdate_layout\u001b[39m(\u001b[38;5;28mself\u001b[39m, dict1\u001b[38;5;241m=\u001b[39m\u001b[38;5;28;01mNone\u001b[39;00m, overwrite\u001b[38;5;241m=\u001b[39m\u001b[38;5;28;01mFalse\u001b[39;00m, \u001b[38;5;241m*\u001b[39m\u001b[38;5;241m*\u001b[39mkwargs):\n\u001b[1;32m   1370\u001b[0m \u001b[38;5;250m    \u001b[39m\u001b[38;5;124;03m\"\"\"\u001b[39;00m\n\u001b[1;32m   1371\u001b[0m \u001b[38;5;124;03m    Update the properties of the figure's layout with a dict and/or with\u001b[39;00m\n\u001b[1;32m   1372\u001b[0m \u001b[38;5;124;03m    keyword arguments.\u001b[39;00m\n\u001b[0;32m   (...)\u001b[0m\n\u001b[1;32m   1391\u001b[0m \u001b[38;5;124;03m        The Figure object that the update_layout method was called on\u001b[39;00m\n\u001b[1;32m   1392\u001b[0m \u001b[38;5;124;03m    \"\"\"\u001b[39;00m\n\u001b[0;32m-> 1393\u001b[0m     \u001b[38;5;28;43mself\u001b[39;49m\u001b[38;5;241;43m.\u001b[39;49m\u001b[43mlayout\u001b[49m\u001b[38;5;241;43m.\u001b[39;49m\u001b[43mupdate\u001b[49m\u001b[43m(\u001b[49m\u001b[43mdict1\u001b[49m\u001b[43m,\u001b[49m\u001b[43m \u001b[49m\u001b[43moverwrite\u001b[49m\u001b[38;5;241;43m=\u001b[39;49m\u001b[43moverwrite\u001b[49m\u001b[43m,\u001b[49m\u001b[43m \u001b[49m\u001b[38;5;241;43m*\u001b[39;49m\u001b[38;5;241;43m*\u001b[39;49m\u001b[43mkwargs\u001b[49m\u001b[43m)\u001b[49m\n\u001b[1;32m   1394\u001b[0m     \u001b[38;5;28;01mreturn\u001b[39;00m \u001b[38;5;28mself\u001b[39m\n",
      "File \u001b[0;32m~/miniconda3/envs/ms-clap/lib/python3.8/site-packages/plotly/basedatatypes.py:5136\u001b[0m, in \u001b[0;36mBasePlotlyType.update\u001b[0;34m(self, dict1, overwrite, **kwargs)\u001b[0m\n\u001b[1;32m   5134\u001b[0m     \u001b[38;5;28;01mwith\u001b[39;00m \u001b[38;5;28mself\u001b[39m\u001b[38;5;241m.\u001b[39mfigure\u001b[38;5;241m.\u001b[39mbatch_update():\n\u001b[1;32m   5135\u001b[0m         BaseFigure\u001b[38;5;241m.\u001b[39m_perform_update(\u001b[38;5;28mself\u001b[39m, dict1, overwrite\u001b[38;5;241m=\u001b[39moverwrite)\n\u001b[0;32m-> 5136\u001b[0m         \u001b[43mBaseFigure\u001b[49m\u001b[38;5;241;43m.\u001b[39;49m\u001b[43m_perform_update\u001b[49m\u001b[43m(\u001b[49m\u001b[38;5;28;43mself\u001b[39;49m\u001b[43m,\u001b[49m\u001b[43m \u001b[49m\u001b[43mkwargs\u001b[49m\u001b[43m,\u001b[49m\u001b[43m \u001b[49m\u001b[43moverwrite\u001b[49m\u001b[38;5;241;43m=\u001b[39;49m\u001b[43moverwrite\u001b[49m\u001b[43m)\u001b[49m\n\u001b[1;32m   5137\u001b[0m \u001b[38;5;28;01melse\u001b[39;00m:\n\u001b[1;32m   5138\u001b[0m     BaseFigure\u001b[38;5;241m.\u001b[39m_perform_update(\u001b[38;5;28mself\u001b[39m, dict1, overwrite\u001b[38;5;241m=\u001b[39moverwrite)\n",
      "File \u001b[0;32m~/miniconda3/envs/ms-clap/lib/python3.8/site-packages/plotly/basedatatypes.py:3909\u001b[0m, in \u001b[0;36mBaseFigure._perform_update\u001b[0;34m(plotly_obj, update_obj, overwrite)\u001b[0m\n\u001b[1;32m   3905\u001b[0m val \u001b[38;5;241m=\u001b[39m update_obj[key]\n\u001b[1;32m   3907\u001b[0m \u001b[38;5;28;01mif\u001b[39;00m overwrite:\n\u001b[1;32m   3908\u001b[0m     \u001b[38;5;66;03m# Don't recurse and assign property as-is\u001b[39;00m\n\u001b[0;32m-> 3909\u001b[0m     \u001b[43mplotly_obj\u001b[49m\u001b[43m[\u001b[49m\u001b[43mkey\u001b[49m\u001b[43m]\u001b[49m \u001b[38;5;241m=\u001b[39m val\n\u001b[1;32m   3910\u001b[0m     \u001b[38;5;28;01mcontinue\u001b[39;00m\n\u001b[1;32m   3912\u001b[0m validator \u001b[38;5;241m=\u001b[39m plotly_obj\u001b[38;5;241m.\u001b[39m_get_prop_validator(key)\n",
      "File \u001b[0;32m~/miniconda3/envs/ms-clap/lib/python3.8/site-packages/plotly/basedatatypes.py:5875\u001b[0m, in \u001b[0;36mBaseLayoutType.__setitem__\u001b[0;34m(self, prop, value)\u001b[0m\n\u001b[1;32m   5872\u001b[0m match \u001b[38;5;241m=\u001b[39m \u001b[38;5;28mself\u001b[39m\u001b[38;5;241m.\u001b[39m_subplot_re_match(prop)\n\u001b[1;32m   5873\u001b[0m \u001b[38;5;28;01mif\u001b[39;00m match \u001b[38;5;129;01mis\u001b[39;00m \u001b[38;5;28;01mNone\u001b[39;00m:\n\u001b[1;32m   5874\u001b[0m     \u001b[38;5;66;03m# Set as ordinary property\u001b[39;00m\n\u001b[0;32m-> 5875\u001b[0m     \u001b[38;5;28;43msuper\u001b[39;49m\u001b[43m(\u001b[49m\u001b[43mBaseLayoutHierarchyType\u001b[49m\u001b[43m,\u001b[49m\u001b[43m \u001b[49m\u001b[38;5;28;43mself\u001b[39;49m\u001b[43m)\u001b[49m\u001b[38;5;241;43m.\u001b[39;49m\u001b[38;5;21;43m__setitem__\u001b[39;49m\u001b[43m(\u001b[49m\u001b[43mprop\u001b[49m\u001b[43m,\u001b[49m\u001b[43m \u001b[49m\u001b[43mvalue\u001b[49m\u001b[43m)\u001b[49m\n\u001b[1;32m   5876\u001b[0m \u001b[38;5;28;01melse\u001b[39;00m:\n\u001b[1;32m   5877\u001b[0m     \u001b[38;5;66;03m# Set as subplotid property\u001b[39;00m\n\u001b[1;32m   5878\u001b[0m     \u001b[38;5;28mself\u001b[39m\u001b[38;5;241m.\u001b[39m_set_subplotid_prop(prop, value)\n",
      "File \u001b[0;32m~/miniconda3/envs/ms-clap/lib/python3.8/site-packages/plotly/basedatatypes.py:4865\u001b[0m, in \u001b[0;36mBasePlotlyType.__setitem__\u001b[0;34m(self, prop, value)\u001b[0m\n\u001b[1;32m   4863\u001b[0m \u001b[38;5;66;03m# ### Handle compound property ###\u001b[39;00m\n\u001b[1;32m   4864\u001b[0m \u001b[38;5;28;01mif\u001b[39;00m \u001b[38;5;28misinstance\u001b[39m(validator, CompoundValidator):\n\u001b[0;32m-> 4865\u001b[0m     \u001b[38;5;28;43mself\u001b[39;49m\u001b[38;5;241;43m.\u001b[39;49m\u001b[43m_set_compound_prop\u001b[49m\u001b[43m(\u001b[49m\u001b[43mprop\u001b[49m\u001b[43m,\u001b[49m\u001b[43m \u001b[49m\u001b[43mvalue\u001b[49m\u001b[43m)\u001b[49m\n\u001b[1;32m   4867\u001b[0m \u001b[38;5;66;03m# ### Handle compound array property ###\u001b[39;00m\n\u001b[1;32m   4868\u001b[0m \u001b[38;5;28;01melif\u001b[39;00m \u001b[38;5;28misinstance\u001b[39m(validator, (CompoundArrayValidator, BaseDataValidator)):\n",
      "File \u001b[0;32m~/miniconda3/envs/ms-clap/lib/python3.8/site-packages/plotly/basedatatypes.py:5276\u001b[0m, in \u001b[0;36mBasePlotlyType._set_compound_prop\u001b[0;34m(self, prop, val)\u001b[0m\n\u001b[1;32m   5273\u001b[0m \u001b[38;5;66;03m# Import value\u001b[39;00m\n\u001b[1;32m   5274\u001b[0m \u001b[38;5;66;03m# ------------\u001b[39;00m\n\u001b[1;32m   5275\u001b[0m validator \u001b[38;5;241m=\u001b[39m \u001b[38;5;28mself\u001b[39m\u001b[38;5;241m.\u001b[39m_get_validator(prop)\n\u001b[0;32m-> 5276\u001b[0m val \u001b[38;5;241m=\u001b[39m \u001b[43mvalidator\u001b[49m\u001b[38;5;241;43m.\u001b[39;49m\u001b[43mvalidate_coerce\u001b[49m\u001b[43m(\u001b[49m\u001b[43mval\u001b[49m\u001b[43m,\u001b[49m\u001b[43m \u001b[49m\u001b[43mskip_invalid\u001b[49m\u001b[38;5;241;43m=\u001b[39;49m\u001b[38;5;28;43mself\u001b[39;49m\u001b[38;5;241;43m.\u001b[39;49m\u001b[43m_skip_invalid\u001b[49m\u001b[43m)\u001b[49m\n\u001b[1;32m   5278\u001b[0m \u001b[38;5;66;03m# Save deep copies of current and new states\u001b[39;00m\n\u001b[1;32m   5279\u001b[0m \u001b[38;5;66;03m# ------------------------------------------\u001b[39;00m\n\u001b[1;32m   5280\u001b[0m curr_val \u001b[38;5;241m=\u001b[39m \u001b[38;5;28mself\u001b[39m\u001b[38;5;241m.\u001b[39m_compound_props\u001b[38;5;241m.\u001b[39mget(prop, \u001b[38;5;28;01mNone\u001b[39;00m)\n",
      "File \u001b[0;32m~/miniconda3/envs/ms-clap/lib/python3.8/site-packages/_plotly_utils/basevalidators.py:2768\u001b[0m, in \u001b[0;36mBaseTemplateValidator.validate_coerce\u001b[0;34m(self, v, skip_invalid)\u001b[0m\n\u001b[1;32m   2762\u001b[0m \u001b[38;5;28;01mif\u001b[39;00m v \u001b[38;5;241m==\u001b[39m {} \u001b[38;5;129;01mor\u001b[39;00m \u001b[38;5;28misinstance\u001b[39m(v, \u001b[38;5;28mself\u001b[39m\u001b[38;5;241m.\u001b[39mdata_class) \u001b[38;5;129;01mand\u001b[39;00m v\u001b[38;5;241m.\u001b[39mto_plotly_json() \u001b[38;5;241m==\u001b[39m {}:\n\u001b[1;32m   2763\u001b[0m     \u001b[38;5;66;03m# Replace empty template with {'data': {'scatter': [{}]}} so that we can\u001b[39;00m\n\u001b[1;32m   2764\u001b[0m     \u001b[38;5;66;03m# tell the difference between an un-initialized template and a template\u001b[39;00m\n\u001b[1;32m   2765\u001b[0m     \u001b[38;5;66;03m# explicitly set to empty.\u001b[39;00m\n\u001b[1;32m   2766\u001b[0m     \u001b[38;5;28;01mreturn\u001b[39;00m \u001b[38;5;28mself\u001b[39m\u001b[38;5;241m.\u001b[39mdata_class(data_scatter\u001b[38;5;241m=\u001b[39m[{}])\n\u001b[0;32m-> 2768\u001b[0m \u001b[38;5;28;01mreturn\u001b[39;00m \u001b[38;5;28;43msuper\u001b[39;49m\u001b[43m(\u001b[49m\u001b[43mBaseTemplateValidator\u001b[49m\u001b[43m,\u001b[49m\u001b[43m \u001b[49m\u001b[38;5;28;43mself\u001b[39;49m\u001b[43m)\u001b[49m\u001b[38;5;241;43m.\u001b[39;49m\u001b[43mvalidate_coerce\u001b[49m\u001b[43m(\u001b[49m\n\u001b[1;32m   2769\u001b[0m \u001b[43m    \u001b[49m\u001b[43mv\u001b[49m\u001b[43m,\u001b[49m\u001b[43m \u001b[49m\u001b[43mskip_invalid\u001b[49m\u001b[38;5;241;43m=\u001b[39;49m\u001b[43mskip_invalid\u001b[49m\n\u001b[1;32m   2770\u001b[0m \u001b[43m\u001b[49m\u001b[43m)\u001b[49m\n",
      "File \u001b[0;32m~/miniconda3/envs/ms-clap/lib/python3.8/site-packages/_plotly_utils/basevalidators.py:2479\u001b[0m, in \u001b[0;36mCompoundValidator.validate_coerce\u001b[0;34m(self, v, skip_invalid, _validate)\u001b[0m\n\u001b[1;32m   2475\u001b[0m     v \u001b[38;5;241m=\u001b[39m \u001b[38;5;28mself\u001b[39m\u001b[38;5;241m.\u001b[39mdata_class(v, skip_invalid\u001b[38;5;241m=\u001b[39mskip_invalid, _validate\u001b[38;5;241m=\u001b[39m_validate)\n\u001b[1;32m   2477\u001b[0m \u001b[38;5;28;01melif\u001b[39;00m \u001b[38;5;28misinstance\u001b[39m(v, \u001b[38;5;28mself\u001b[39m\u001b[38;5;241m.\u001b[39mdata_class):\n\u001b[1;32m   2478\u001b[0m     \u001b[38;5;66;03m# Copy object\u001b[39;00m\n\u001b[0;32m-> 2479\u001b[0m     v \u001b[38;5;241m=\u001b[39m \u001b[38;5;28;43mself\u001b[39;49m\u001b[38;5;241;43m.\u001b[39;49m\u001b[43mdata_class\u001b[49m\u001b[43m(\u001b[49m\u001b[43mv\u001b[49m\u001b[43m)\u001b[49m\n\u001b[1;32m   2480\u001b[0m \u001b[38;5;28;01melse\u001b[39;00m:\n\u001b[1;32m   2481\u001b[0m     \u001b[38;5;28;01mif\u001b[39;00m skip_invalid:\n",
      "File \u001b[0;32m~/miniconda3/envs/ms-clap/lib/python3.8/site-packages/plotly/graph_objs/layout/_template.py:323\u001b[0m, in \u001b[0;36mTemplate.__init__\u001b[0;34m(self, arg, data, layout, **kwargs)\u001b[0m\n\u001b[1;32m    321\u001b[0m _v \u001b[38;5;241m=\u001b[39m data \u001b[38;5;28;01mif\u001b[39;00m data \u001b[38;5;129;01mis\u001b[39;00m \u001b[38;5;129;01mnot\u001b[39;00m \u001b[38;5;28;01mNone\u001b[39;00m \u001b[38;5;28;01melse\u001b[39;00m _v\n\u001b[1;32m    322\u001b[0m \u001b[38;5;28;01mif\u001b[39;00m _v \u001b[38;5;129;01mis\u001b[39;00m \u001b[38;5;129;01mnot\u001b[39;00m \u001b[38;5;28;01mNone\u001b[39;00m:\n\u001b[0;32m--> 323\u001b[0m     \u001b[38;5;28;43mself\u001b[39;49m\u001b[43m[\u001b[49m\u001b[38;5;124;43m\"\u001b[39;49m\u001b[38;5;124;43mdata\u001b[39;49m\u001b[38;5;124;43m\"\u001b[39;49m\u001b[43m]\u001b[49m \u001b[38;5;241m=\u001b[39m _v\n\u001b[1;32m    324\u001b[0m _v \u001b[38;5;241m=\u001b[39m arg\u001b[38;5;241m.\u001b[39mpop(\u001b[38;5;124m\"\u001b[39m\u001b[38;5;124mlayout\u001b[39m\u001b[38;5;124m\"\u001b[39m, \u001b[38;5;28;01mNone\u001b[39;00m)\n\u001b[1;32m    325\u001b[0m _v \u001b[38;5;241m=\u001b[39m layout \u001b[38;5;28;01mif\u001b[39;00m layout \u001b[38;5;129;01mis\u001b[39;00m \u001b[38;5;129;01mnot\u001b[39;00m \u001b[38;5;28;01mNone\u001b[39;00m \u001b[38;5;28;01melse\u001b[39;00m _v\n",
      "File \u001b[0;32m~/miniconda3/envs/ms-clap/lib/python3.8/site-packages/plotly/basedatatypes.py:4865\u001b[0m, in \u001b[0;36mBasePlotlyType.__setitem__\u001b[0;34m(self, prop, value)\u001b[0m\n\u001b[1;32m   4863\u001b[0m \u001b[38;5;66;03m# ### Handle compound property ###\u001b[39;00m\n\u001b[1;32m   4864\u001b[0m \u001b[38;5;28;01mif\u001b[39;00m \u001b[38;5;28misinstance\u001b[39m(validator, CompoundValidator):\n\u001b[0;32m-> 4865\u001b[0m     \u001b[38;5;28;43mself\u001b[39;49m\u001b[38;5;241;43m.\u001b[39;49m\u001b[43m_set_compound_prop\u001b[49m\u001b[43m(\u001b[49m\u001b[43mprop\u001b[49m\u001b[43m,\u001b[49m\u001b[43m \u001b[49m\u001b[43mvalue\u001b[49m\u001b[43m)\u001b[49m\n\u001b[1;32m   4867\u001b[0m \u001b[38;5;66;03m# ### Handle compound array property ###\u001b[39;00m\n\u001b[1;32m   4868\u001b[0m \u001b[38;5;28;01melif\u001b[39;00m \u001b[38;5;28misinstance\u001b[39m(validator, (CompoundArrayValidator, BaseDataValidator)):\n",
      "File \u001b[0;32m~/miniconda3/envs/ms-clap/lib/python3.8/site-packages/plotly/basedatatypes.py:5276\u001b[0m, in \u001b[0;36mBasePlotlyType._set_compound_prop\u001b[0;34m(self, prop, val)\u001b[0m\n\u001b[1;32m   5273\u001b[0m \u001b[38;5;66;03m# Import value\u001b[39;00m\n\u001b[1;32m   5274\u001b[0m \u001b[38;5;66;03m# ------------\u001b[39;00m\n\u001b[1;32m   5275\u001b[0m validator \u001b[38;5;241m=\u001b[39m \u001b[38;5;28mself\u001b[39m\u001b[38;5;241m.\u001b[39m_get_validator(prop)\n\u001b[0;32m-> 5276\u001b[0m val \u001b[38;5;241m=\u001b[39m \u001b[43mvalidator\u001b[49m\u001b[38;5;241;43m.\u001b[39;49m\u001b[43mvalidate_coerce\u001b[49m\u001b[43m(\u001b[49m\u001b[43mval\u001b[49m\u001b[43m,\u001b[49m\u001b[43m \u001b[49m\u001b[43mskip_invalid\u001b[49m\u001b[38;5;241;43m=\u001b[39;49m\u001b[38;5;28;43mself\u001b[39;49m\u001b[38;5;241;43m.\u001b[39;49m\u001b[43m_skip_invalid\u001b[49m\u001b[43m)\u001b[49m\n\u001b[1;32m   5278\u001b[0m \u001b[38;5;66;03m# Save deep copies of current and new states\u001b[39;00m\n\u001b[1;32m   5279\u001b[0m \u001b[38;5;66;03m# ------------------------------------------\u001b[39;00m\n\u001b[1;32m   5280\u001b[0m curr_val \u001b[38;5;241m=\u001b[39m \u001b[38;5;28mself\u001b[39m\u001b[38;5;241m.\u001b[39m_compound_props\u001b[38;5;241m.\u001b[39mget(prop, \u001b[38;5;28;01mNone\u001b[39;00m)\n",
      "File \u001b[0;32m~/miniconda3/envs/ms-clap/lib/python3.8/site-packages/_plotly_utils/basevalidators.py:2475\u001b[0m, in \u001b[0;36mCompoundValidator.validate_coerce\u001b[0;34m(self, v, skip_invalid, _validate)\u001b[0m\n\u001b[1;32m   2472\u001b[0m     v \u001b[38;5;241m=\u001b[39m \u001b[38;5;28mself\u001b[39m\u001b[38;5;241m.\u001b[39mdata_class()\n\u001b[1;32m   2474\u001b[0m \u001b[38;5;28;01melif\u001b[39;00m \u001b[38;5;28misinstance\u001b[39m(v, \u001b[38;5;28mdict\u001b[39m):\n\u001b[0;32m-> 2475\u001b[0m     v \u001b[38;5;241m=\u001b[39m \u001b[38;5;28;43mself\u001b[39;49m\u001b[38;5;241;43m.\u001b[39;49m\u001b[43mdata_class\u001b[49m\u001b[43m(\u001b[49m\u001b[43mv\u001b[49m\u001b[43m,\u001b[49m\u001b[43m \u001b[49m\u001b[43mskip_invalid\u001b[49m\u001b[38;5;241;43m=\u001b[39;49m\u001b[43mskip_invalid\u001b[49m\u001b[43m,\u001b[49m\u001b[43m \u001b[49m\u001b[43m_validate\u001b[49m\u001b[38;5;241;43m=\u001b[39;49m\u001b[43m_validate\u001b[49m\u001b[43m)\u001b[49m\n\u001b[1;32m   2477\u001b[0m \u001b[38;5;28;01melif\u001b[39;00m \u001b[38;5;28misinstance\u001b[39m(v, \u001b[38;5;28mself\u001b[39m\u001b[38;5;241m.\u001b[39mdata_class):\n\u001b[1;32m   2478\u001b[0m     \u001b[38;5;66;03m# Copy object\u001b[39;00m\n\u001b[1;32m   2479\u001b[0m     v \u001b[38;5;241m=\u001b[39m \u001b[38;5;28mself\u001b[39m\u001b[38;5;241m.\u001b[39mdata_class(v)\n",
      "File \u001b[0;32m~/miniconda3/envs/ms-clap/lib/python3.8/site-packages/plotly/graph_objs/layout/template/_data.py:1680\u001b[0m, in \u001b[0;36mData.__init__\u001b[0;34m(self, arg, barpolar, bar, box, candlestick, carpet, choroplethmapbox, choropleth, cone, contourcarpet, contour, densitymapbox, funnelarea, funnel, heatmapgl, heatmap, histogram2dcontour, histogram2d, histogram, icicle, image, indicator, isosurface, mesh3d, ohlc, parcats, parcoords, pie, pointcloud, sankey, scatter3d, scattercarpet, scattergeo, scattergl, scattermapbox, scatterpolargl, scatterpolar, scatter, scattersmith, scatterternary, splom, streamtube, sunburst, surface, table, treemap, violin, volume, waterfall, **kwargs)\u001b[0m\n\u001b[1;32m   1678\u001b[0m _v \u001b[38;5;241m=\u001b[39m scatter3d \u001b[38;5;28;01mif\u001b[39;00m scatter3d \u001b[38;5;129;01mis\u001b[39;00m \u001b[38;5;129;01mnot\u001b[39;00m \u001b[38;5;28;01mNone\u001b[39;00m \u001b[38;5;28;01melse\u001b[39;00m _v\n\u001b[1;32m   1679\u001b[0m \u001b[38;5;28;01mif\u001b[39;00m _v \u001b[38;5;129;01mis\u001b[39;00m \u001b[38;5;129;01mnot\u001b[39;00m \u001b[38;5;28;01mNone\u001b[39;00m:\n\u001b[0;32m-> 1680\u001b[0m     \u001b[38;5;28;43mself\u001b[39;49m\u001b[43m[\u001b[49m\u001b[38;5;124;43m\"\u001b[39;49m\u001b[38;5;124;43mscatter3d\u001b[39;49m\u001b[38;5;124;43m\"\u001b[39;49m\u001b[43m]\u001b[49m \u001b[38;5;241m=\u001b[39m _v\n\u001b[1;32m   1681\u001b[0m _v \u001b[38;5;241m=\u001b[39m arg\u001b[38;5;241m.\u001b[39mpop(\u001b[38;5;124m\"\u001b[39m\u001b[38;5;124mscattercarpet\u001b[39m\u001b[38;5;124m\"\u001b[39m, \u001b[38;5;28;01mNone\u001b[39;00m)\n\u001b[1;32m   1682\u001b[0m _v \u001b[38;5;241m=\u001b[39m scattercarpet \u001b[38;5;28;01mif\u001b[39;00m scattercarpet \u001b[38;5;129;01mis\u001b[39;00m \u001b[38;5;129;01mnot\u001b[39;00m \u001b[38;5;28;01mNone\u001b[39;00m \u001b[38;5;28;01melse\u001b[39;00m _v\n",
      "File \u001b[0;32m~/miniconda3/envs/ms-clap/lib/python3.8/site-packages/plotly/basedatatypes.py:4869\u001b[0m, in \u001b[0;36mBasePlotlyType.__setitem__\u001b[0;34m(self, prop, value)\u001b[0m\n\u001b[1;32m   4867\u001b[0m \u001b[38;5;66;03m# ### Handle compound array property ###\u001b[39;00m\n\u001b[1;32m   4868\u001b[0m \u001b[38;5;28;01melif\u001b[39;00m \u001b[38;5;28misinstance\u001b[39m(validator, (CompoundArrayValidator, BaseDataValidator)):\n\u001b[0;32m-> 4869\u001b[0m     \u001b[38;5;28;43mself\u001b[39;49m\u001b[38;5;241;43m.\u001b[39;49m\u001b[43m_set_array_prop\u001b[49m\u001b[43m(\u001b[49m\u001b[43mprop\u001b[49m\u001b[43m,\u001b[49m\u001b[43m \u001b[49m\u001b[43mvalue\u001b[49m\u001b[43m)\u001b[49m\n\u001b[1;32m   4871\u001b[0m \u001b[38;5;66;03m# ### Handle simple property ###\u001b[39;00m\n\u001b[1;32m   4872\u001b[0m \u001b[38;5;28;01melse\u001b[39;00m:\n\u001b[1;32m   4873\u001b[0m     \u001b[38;5;28mself\u001b[39m\u001b[38;5;241m.\u001b[39m_set_prop(prop, value)\n",
      "File \u001b[0;32m~/miniconda3/envs/ms-clap/lib/python3.8/site-packages/plotly/basedatatypes.py:5350\u001b[0m, in \u001b[0;36mBasePlotlyType._set_array_prop\u001b[0;34m(self, prop, val)\u001b[0m\n\u001b[1;32m   5347\u001b[0m \u001b[38;5;66;03m# Import value\u001b[39;00m\n\u001b[1;32m   5348\u001b[0m \u001b[38;5;66;03m# ------------\u001b[39;00m\n\u001b[1;32m   5349\u001b[0m validator \u001b[38;5;241m=\u001b[39m \u001b[38;5;28mself\u001b[39m\u001b[38;5;241m.\u001b[39m_get_validator(prop)\n\u001b[0;32m-> 5350\u001b[0m val \u001b[38;5;241m=\u001b[39m \u001b[43mvalidator\u001b[49m\u001b[38;5;241;43m.\u001b[39;49m\u001b[43mvalidate_coerce\u001b[49m\u001b[43m(\u001b[49m\u001b[43mval\u001b[49m\u001b[43m,\u001b[49m\u001b[43m \u001b[49m\u001b[43mskip_invalid\u001b[49m\u001b[38;5;241;43m=\u001b[39;49m\u001b[38;5;28;43mself\u001b[39;49m\u001b[38;5;241;43m.\u001b[39;49m\u001b[43m_skip_invalid\u001b[49m\u001b[43m)\u001b[49m\n\u001b[1;32m   5352\u001b[0m \u001b[38;5;66;03m# Save deep copies of current and new states\u001b[39;00m\n\u001b[1;32m   5353\u001b[0m \u001b[38;5;66;03m# ------------------------------------------\u001b[39;00m\n\u001b[1;32m   5354\u001b[0m curr_val \u001b[38;5;241m=\u001b[39m \u001b[38;5;28mself\u001b[39m\u001b[38;5;241m.\u001b[39m_compound_array_props\u001b[38;5;241m.\u001b[39mget(prop, \u001b[38;5;28;01mNone\u001b[39;00m)\n",
      "File \u001b[0;32m~/miniconda3/envs/ms-clap/lib/python3.8/site-packages/_plotly_utils/basevalidators.py:2567\u001b[0m, in \u001b[0;36mCompoundArrayValidator.validate_coerce\u001b[0;34m(self, v, skip_invalid)\u001b[0m\n\u001b[1;32m   2565\u001b[0m     res\u001b[38;5;241m.\u001b[39mappend(\u001b[38;5;28mself\u001b[39m\u001b[38;5;241m.\u001b[39mdata_class(v_el))\n\u001b[1;32m   2566\u001b[0m \u001b[38;5;28;01melif\u001b[39;00m \u001b[38;5;28misinstance\u001b[39m(v_el, \u001b[38;5;28mdict\u001b[39m):\n\u001b[0;32m-> 2567\u001b[0m     res\u001b[38;5;241m.\u001b[39mappend(\u001b[38;5;28;43mself\u001b[39;49m\u001b[38;5;241;43m.\u001b[39;49m\u001b[43mdata_class\u001b[49m\u001b[43m(\u001b[49m\u001b[43mv_el\u001b[49m\u001b[43m,\u001b[49m\u001b[43m \u001b[49m\u001b[43mskip_invalid\u001b[49m\u001b[38;5;241;43m=\u001b[39;49m\u001b[43mskip_invalid\u001b[49m\u001b[43m)\u001b[49m)\n\u001b[1;32m   2568\u001b[0m \u001b[38;5;28;01melse\u001b[39;00m:\n\u001b[1;32m   2569\u001b[0m     \u001b[38;5;28;01mif\u001b[39;00m skip_invalid:\n",
      "File \u001b[0;32m~/miniconda3/envs/ms-clap/lib/python3.8/site-packages/plotly/graph_objs/_scatter3d.py:2674\u001b[0m, in \u001b[0;36mScatter3d.__init__\u001b[0;34m(self, arg, connectgaps, customdata, customdatasrc, error_x, error_y, error_z, hoverinfo, hoverinfosrc, hoverlabel, hovertemplate, hovertemplatesrc, hovertext, hovertextsrc, ids, idssrc, legend, legendgroup, legendgrouptitle, legendrank, legendwidth, line, marker, meta, metasrc, mode, name, opacity, projection, scene, showlegend, stream, surfaceaxis, surfacecolor, text, textfont, textposition, textpositionsrc, textsrc, texttemplate, texttemplatesrc, uid, uirevision, visible, x, xcalendar, xhoverformat, xsrc, y, ycalendar, yhoverformat, ysrc, z, zcalendar, zhoverformat, zsrc, **kwargs)\u001b[0m\n\u001b[1;32m   2672\u001b[0m _v \u001b[38;5;241m=\u001b[39m line \u001b[38;5;28;01mif\u001b[39;00m line \u001b[38;5;129;01mis\u001b[39;00m \u001b[38;5;129;01mnot\u001b[39;00m \u001b[38;5;28;01mNone\u001b[39;00m \u001b[38;5;28;01melse\u001b[39;00m _v\n\u001b[1;32m   2673\u001b[0m \u001b[38;5;28;01mif\u001b[39;00m _v \u001b[38;5;129;01mis\u001b[39;00m \u001b[38;5;129;01mnot\u001b[39;00m \u001b[38;5;28;01mNone\u001b[39;00m:\n\u001b[0;32m-> 2674\u001b[0m     \u001b[38;5;28;43mself\u001b[39;49m\u001b[43m[\u001b[49m\u001b[38;5;124;43m\"\u001b[39;49m\u001b[38;5;124;43mline\u001b[39;49m\u001b[38;5;124;43m\"\u001b[39;49m\u001b[43m]\u001b[49m \u001b[38;5;241m=\u001b[39m _v\n\u001b[1;32m   2675\u001b[0m _v \u001b[38;5;241m=\u001b[39m arg\u001b[38;5;241m.\u001b[39mpop(\u001b[38;5;124m\"\u001b[39m\u001b[38;5;124mmarker\u001b[39m\u001b[38;5;124m\"\u001b[39m, \u001b[38;5;28;01mNone\u001b[39;00m)\n\u001b[1;32m   2676\u001b[0m _v \u001b[38;5;241m=\u001b[39m marker \u001b[38;5;28;01mif\u001b[39;00m marker \u001b[38;5;129;01mis\u001b[39;00m \u001b[38;5;129;01mnot\u001b[39;00m \u001b[38;5;28;01mNone\u001b[39;00m \u001b[38;5;28;01melse\u001b[39;00m _v\n",
      "File \u001b[0;32m~/miniconda3/envs/ms-clap/lib/python3.8/site-packages/plotly/basedatatypes.py:4865\u001b[0m, in \u001b[0;36mBasePlotlyType.__setitem__\u001b[0;34m(self, prop, value)\u001b[0m\n\u001b[1;32m   4863\u001b[0m \u001b[38;5;66;03m# ### Handle compound property ###\u001b[39;00m\n\u001b[1;32m   4864\u001b[0m \u001b[38;5;28;01mif\u001b[39;00m \u001b[38;5;28misinstance\u001b[39m(validator, CompoundValidator):\n\u001b[0;32m-> 4865\u001b[0m     \u001b[38;5;28;43mself\u001b[39;49m\u001b[38;5;241;43m.\u001b[39;49m\u001b[43m_set_compound_prop\u001b[49m\u001b[43m(\u001b[49m\u001b[43mprop\u001b[49m\u001b[43m,\u001b[49m\u001b[43m \u001b[49m\u001b[43mvalue\u001b[49m\u001b[43m)\u001b[49m\n\u001b[1;32m   4867\u001b[0m \u001b[38;5;66;03m# ### Handle compound array property ###\u001b[39;00m\n\u001b[1;32m   4868\u001b[0m \u001b[38;5;28;01melif\u001b[39;00m \u001b[38;5;28misinstance\u001b[39m(validator, (CompoundArrayValidator, BaseDataValidator)):\n",
      "File \u001b[0;32m~/miniconda3/envs/ms-clap/lib/python3.8/site-packages/plotly/basedatatypes.py:5276\u001b[0m, in \u001b[0;36mBasePlotlyType._set_compound_prop\u001b[0;34m(self, prop, val)\u001b[0m\n\u001b[1;32m   5273\u001b[0m \u001b[38;5;66;03m# Import value\u001b[39;00m\n\u001b[1;32m   5274\u001b[0m \u001b[38;5;66;03m# ------------\u001b[39;00m\n\u001b[1;32m   5275\u001b[0m validator \u001b[38;5;241m=\u001b[39m \u001b[38;5;28mself\u001b[39m\u001b[38;5;241m.\u001b[39m_get_validator(prop)\n\u001b[0;32m-> 5276\u001b[0m val \u001b[38;5;241m=\u001b[39m \u001b[43mvalidator\u001b[49m\u001b[38;5;241;43m.\u001b[39;49m\u001b[43mvalidate_coerce\u001b[49m\u001b[43m(\u001b[49m\u001b[43mval\u001b[49m\u001b[43m,\u001b[49m\u001b[43m \u001b[49m\u001b[43mskip_invalid\u001b[49m\u001b[38;5;241;43m=\u001b[39;49m\u001b[38;5;28;43mself\u001b[39;49m\u001b[38;5;241;43m.\u001b[39;49m\u001b[43m_skip_invalid\u001b[49m\u001b[43m)\u001b[49m\n\u001b[1;32m   5278\u001b[0m \u001b[38;5;66;03m# Save deep copies of current and new states\u001b[39;00m\n\u001b[1;32m   5279\u001b[0m \u001b[38;5;66;03m# ------------------------------------------\u001b[39;00m\n\u001b[1;32m   5280\u001b[0m curr_val \u001b[38;5;241m=\u001b[39m \u001b[38;5;28mself\u001b[39m\u001b[38;5;241m.\u001b[39m_compound_props\u001b[38;5;241m.\u001b[39mget(prop, \u001b[38;5;28;01mNone\u001b[39;00m)\n",
      "File \u001b[0;32m~/miniconda3/envs/ms-clap/lib/python3.8/site-packages/_plotly_utils/basevalidators.py:2475\u001b[0m, in \u001b[0;36mCompoundValidator.validate_coerce\u001b[0;34m(self, v, skip_invalid, _validate)\u001b[0m\n\u001b[1;32m   2472\u001b[0m     v \u001b[38;5;241m=\u001b[39m \u001b[38;5;28mself\u001b[39m\u001b[38;5;241m.\u001b[39mdata_class()\n\u001b[1;32m   2474\u001b[0m \u001b[38;5;28;01melif\u001b[39;00m \u001b[38;5;28misinstance\u001b[39m(v, \u001b[38;5;28mdict\u001b[39m):\n\u001b[0;32m-> 2475\u001b[0m     v \u001b[38;5;241m=\u001b[39m \u001b[38;5;28;43mself\u001b[39;49m\u001b[38;5;241;43m.\u001b[39;49m\u001b[43mdata_class\u001b[49m\u001b[43m(\u001b[49m\u001b[43mv\u001b[49m\u001b[43m,\u001b[49m\u001b[43m \u001b[49m\u001b[43mskip_invalid\u001b[49m\u001b[38;5;241;43m=\u001b[39;49m\u001b[43mskip_invalid\u001b[49m\u001b[43m,\u001b[49m\u001b[43m \u001b[49m\u001b[43m_validate\u001b[49m\u001b[38;5;241;43m=\u001b[39;49m\u001b[43m_validate\u001b[49m\u001b[43m)\u001b[49m\n\u001b[1;32m   2477\u001b[0m \u001b[38;5;28;01melif\u001b[39;00m \u001b[38;5;28misinstance\u001b[39m(v, \u001b[38;5;28mself\u001b[39m\u001b[38;5;241m.\u001b[39mdata_class):\n\u001b[1;32m   2478\u001b[0m     \u001b[38;5;66;03m# Copy object\u001b[39;00m\n\u001b[1;32m   2479\u001b[0m     v \u001b[38;5;241m=\u001b[39m \u001b[38;5;28mself\u001b[39m\u001b[38;5;241m.\u001b[39mdata_class(v)\n",
      "File \u001b[0;32m~/miniconda3/envs/ms-clap/lib/python3.8/site-packages/plotly/graph_objs/scatter3d/_line.py:964\u001b[0m, in \u001b[0;36mLine.__init__\u001b[0;34m(self, arg, autocolorscale, cauto, cmax, cmid, cmin, color, coloraxis, colorbar, colorscale, colorsrc, dash, reversescale, showscale, width, **kwargs)\u001b[0m\n\u001b[1;32m    962\u001b[0m _v \u001b[38;5;241m=\u001b[39m colorbar \u001b[38;5;28;01mif\u001b[39;00m colorbar \u001b[38;5;129;01mis\u001b[39;00m \u001b[38;5;129;01mnot\u001b[39;00m \u001b[38;5;28;01mNone\u001b[39;00m \u001b[38;5;28;01melse\u001b[39;00m _v\n\u001b[1;32m    963\u001b[0m \u001b[38;5;28;01mif\u001b[39;00m _v \u001b[38;5;129;01mis\u001b[39;00m \u001b[38;5;129;01mnot\u001b[39;00m \u001b[38;5;28;01mNone\u001b[39;00m:\n\u001b[0;32m--> 964\u001b[0m     \u001b[38;5;28;43mself\u001b[39;49m\u001b[43m[\u001b[49m\u001b[38;5;124;43m\"\u001b[39;49m\u001b[38;5;124;43mcolorbar\u001b[39;49m\u001b[38;5;124;43m\"\u001b[39;49m\u001b[43m]\u001b[49m \u001b[38;5;241m=\u001b[39m _v\n\u001b[1;32m    965\u001b[0m _v \u001b[38;5;241m=\u001b[39m arg\u001b[38;5;241m.\u001b[39mpop(\u001b[38;5;124m\"\u001b[39m\u001b[38;5;124mcolorscale\u001b[39m\u001b[38;5;124m\"\u001b[39m, \u001b[38;5;28;01mNone\u001b[39;00m)\n\u001b[1;32m    966\u001b[0m _v \u001b[38;5;241m=\u001b[39m colorscale \u001b[38;5;28;01mif\u001b[39;00m colorscale \u001b[38;5;129;01mis\u001b[39;00m \u001b[38;5;129;01mnot\u001b[39;00m \u001b[38;5;28;01mNone\u001b[39;00m \u001b[38;5;28;01melse\u001b[39;00m _v\n",
      "File \u001b[0;32m~/miniconda3/envs/ms-clap/lib/python3.8/site-packages/plotly/basedatatypes.py:4865\u001b[0m, in \u001b[0;36mBasePlotlyType.__setitem__\u001b[0;34m(self, prop, value)\u001b[0m\n\u001b[1;32m   4863\u001b[0m \u001b[38;5;66;03m# ### Handle compound property ###\u001b[39;00m\n\u001b[1;32m   4864\u001b[0m \u001b[38;5;28;01mif\u001b[39;00m \u001b[38;5;28misinstance\u001b[39m(validator, CompoundValidator):\n\u001b[0;32m-> 4865\u001b[0m     \u001b[38;5;28;43mself\u001b[39;49m\u001b[38;5;241;43m.\u001b[39;49m\u001b[43m_set_compound_prop\u001b[49m\u001b[43m(\u001b[49m\u001b[43mprop\u001b[49m\u001b[43m,\u001b[49m\u001b[43m \u001b[49m\u001b[43mvalue\u001b[49m\u001b[43m)\u001b[49m\n\u001b[1;32m   4867\u001b[0m \u001b[38;5;66;03m# ### Handle compound array property ###\u001b[39;00m\n\u001b[1;32m   4868\u001b[0m \u001b[38;5;28;01melif\u001b[39;00m \u001b[38;5;28misinstance\u001b[39m(validator, (CompoundArrayValidator, BaseDataValidator)):\n",
      "File \u001b[0;32m~/miniconda3/envs/ms-clap/lib/python3.8/site-packages/plotly/basedatatypes.py:5276\u001b[0m, in \u001b[0;36mBasePlotlyType._set_compound_prop\u001b[0;34m(self, prop, val)\u001b[0m\n\u001b[1;32m   5273\u001b[0m \u001b[38;5;66;03m# Import value\u001b[39;00m\n\u001b[1;32m   5274\u001b[0m \u001b[38;5;66;03m# ------------\u001b[39;00m\n\u001b[1;32m   5275\u001b[0m validator \u001b[38;5;241m=\u001b[39m \u001b[38;5;28mself\u001b[39m\u001b[38;5;241m.\u001b[39m_get_validator(prop)\n\u001b[0;32m-> 5276\u001b[0m val \u001b[38;5;241m=\u001b[39m \u001b[43mvalidator\u001b[49m\u001b[38;5;241;43m.\u001b[39;49m\u001b[43mvalidate_coerce\u001b[49m\u001b[43m(\u001b[49m\u001b[43mval\u001b[49m\u001b[43m,\u001b[49m\u001b[43m \u001b[49m\u001b[43mskip_invalid\u001b[49m\u001b[38;5;241;43m=\u001b[39;49m\u001b[38;5;28;43mself\u001b[39;49m\u001b[38;5;241;43m.\u001b[39;49m\u001b[43m_skip_invalid\u001b[49m\u001b[43m)\u001b[49m\n\u001b[1;32m   5278\u001b[0m \u001b[38;5;66;03m# Save deep copies of current and new states\u001b[39;00m\n\u001b[1;32m   5279\u001b[0m \u001b[38;5;66;03m# ------------------------------------------\u001b[39;00m\n\u001b[1;32m   5280\u001b[0m curr_val \u001b[38;5;241m=\u001b[39m \u001b[38;5;28mself\u001b[39m\u001b[38;5;241m.\u001b[39m_compound_props\u001b[38;5;241m.\u001b[39mget(prop, \u001b[38;5;28;01mNone\u001b[39;00m)\n",
      "File \u001b[0;32m~/miniconda3/envs/ms-clap/lib/python3.8/site-packages/_plotly_utils/basevalidators.py:2475\u001b[0m, in \u001b[0;36mCompoundValidator.validate_coerce\u001b[0;34m(self, v, skip_invalid, _validate)\u001b[0m\n\u001b[1;32m   2472\u001b[0m     v \u001b[38;5;241m=\u001b[39m \u001b[38;5;28mself\u001b[39m\u001b[38;5;241m.\u001b[39mdata_class()\n\u001b[1;32m   2474\u001b[0m \u001b[38;5;28;01melif\u001b[39;00m \u001b[38;5;28misinstance\u001b[39m(v, \u001b[38;5;28mdict\u001b[39m):\n\u001b[0;32m-> 2475\u001b[0m     v \u001b[38;5;241m=\u001b[39m \u001b[38;5;28;43mself\u001b[39;49m\u001b[38;5;241;43m.\u001b[39;49m\u001b[43mdata_class\u001b[49m\u001b[43m(\u001b[49m\u001b[43mv\u001b[49m\u001b[43m,\u001b[49m\u001b[43m \u001b[49m\u001b[43mskip_invalid\u001b[49m\u001b[38;5;241;43m=\u001b[39;49m\u001b[43mskip_invalid\u001b[49m\u001b[43m,\u001b[49m\u001b[43m \u001b[49m\u001b[43m_validate\u001b[49m\u001b[38;5;241;43m=\u001b[39;49m\u001b[43m_validate\u001b[49m\u001b[43m)\u001b[49m\n\u001b[1;32m   2477\u001b[0m \u001b[38;5;28;01melif\u001b[39;00m \u001b[38;5;28misinstance\u001b[39m(v, \u001b[38;5;28mself\u001b[39m\u001b[38;5;241m.\u001b[39mdata_class):\n\u001b[1;32m   2478\u001b[0m     \u001b[38;5;66;03m# Copy object\u001b[39;00m\n\u001b[1;32m   2479\u001b[0m     v \u001b[38;5;241m=\u001b[39m \u001b[38;5;28mself\u001b[39m\u001b[38;5;241m.\u001b[39mdata_class(v)\n",
      "File \u001b[0;32m~/miniconda3/envs/ms-clap/lib/python3.8/site-packages/plotly/graph_objs/scatter3d/line/_colorbar.py:2247\u001b[0m, in \u001b[0;36mColorBar.__init__\u001b[0;34m(self, arg, bgcolor, bordercolor, borderwidth, dtick, exponentformat, labelalias, len, lenmode, minexponent, nticks, orientation, outlinecolor, outlinewidth, separatethousands, showexponent, showticklabels, showtickprefix, showticksuffix, thickness, thicknessmode, tick0, tickangle, tickcolor, tickfont, tickformat, tickformatstops, tickformatstopdefaults, ticklabeloverflow, ticklabelposition, ticklabelstep, ticklen, tickmode, tickprefix, ticks, ticksuffix, ticktext, ticktextsrc, tickvals, tickvalssrc, tickwidth, title, titlefont, titleside, x, xanchor, xpad, xref, y, yanchor, ypad, yref, **kwargs)\u001b[0m\n\u001b[1;32m   2245\u001b[0m _v \u001b[38;5;241m=\u001b[39m ticks \u001b[38;5;28;01mif\u001b[39;00m ticks \u001b[38;5;129;01mis\u001b[39;00m \u001b[38;5;129;01mnot\u001b[39;00m \u001b[38;5;28;01mNone\u001b[39;00m \u001b[38;5;28;01melse\u001b[39;00m _v\n\u001b[1;32m   2246\u001b[0m \u001b[38;5;28;01mif\u001b[39;00m _v \u001b[38;5;129;01mis\u001b[39;00m \u001b[38;5;129;01mnot\u001b[39;00m \u001b[38;5;28;01mNone\u001b[39;00m:\n\u001b[0;32m-> 2247\u001b[0m     \u001b[38;5;28;43mself\u001b[39;49m\u001b[43m[\u001b[49m\u001b[38;5;124;43m\"\u001b[39;49m\u001b[38;5;124;43mticks\u001b[39;49m\u001b[38;5;124;43m\"\u001b[39;49m\u001b[43m]\u001b[49m \u001b[38;5;241m=\u001b[39m _v\n\u001b[1;32m   2248\u001b[0m _v \u001b[38;5;241m=\u001b[39m arg\u001b[38;5;241m.\u001b[39mpop(\u001b[38;5;124m\"\u001b[39m\u001b[38;5;124mticksuffix\u001b[39m\u001b[38;5;124m\"\u001b[39m, \u001b[38;5;28;01mNone\u001b[39;00m)\n\u001b[1;32m   2249\u001b[0m _v \u001b[38;5;241m=\u001b[39m ticksuffix \u001b[38;5;28;01mif\u001b[39;00m ticksuffix \u001b[38;5;129;01mis\u001b[39;00m \u001b[38;5;129;01mnot\u001b[39;00m \u001b[38;5;28;01mNone\u001b[39;00m \u001b[38;5;28;01melse\u001b[39;00m _v\n",
      "File \u001b[0;32m~/miniconda3/envs/ms-clap/lib/python3.8/site-packages/plotly/basedatatypes.py:4873\u001b[0m, in \u001b[0;36mBasePlotlyType.__setitem__\u001b[0;34m(self, prop, value)\u001b[0m\n\u001b[1;32m   4869\u001b[0m         \u001b[38;5;28mself\u001b[39m\u001b[38;5;241m.\u001b[39m_set_array_prop(prop, value)\n\u001b[1;32m   4871\u001b[0m     \u001b[38;5;66;03m# ### Handle simple property ###\u001b[39;00m\n\u001b[1;32m   4872\u001b[0m     \u001b[38;5;28;01melse\u001b[39;00m:\n\u001b[0;32m-> 4873\u001b[0m         \u001b[38;5;28;43mself\u001b[39;49m\u001b[38;5;241;43m.\u001b[39;49m\u001b[43m_set_prop\u001b[49m\u001b[43m(\u001b[49m\u001b[43mprop\u001b[49m\u001b[43m,\u001b[49m\u001b[43m \u001b[49m\u001b[43mvalue\u001b[49m\u001b[43m)\u001b[49m\n\u001b[1;32m   4874\u001b[0m \u001b[38;5;28;01melse\u001b[39;00m:\n\u001b[1;32m   4875\u001b[0m     \u001b[38;5;66;03m# Make sure properties dict is initialized\u001b[39;00m\n\u001b[1;32m   4876\u001b[0m     \u001b[38;5;28mself\u001b[39m\u001b[38;5;241m.\u001b[39m_init_props()\n",
      "File \u001b[0;32m~/miniconda3/envs/ms-clap/lib/python3.8/site-packages/plotly/basedatatypes.py:5209\u001b[0m, in \u001b[0;36mBasePlotlyType._set_prop\u001b[0;34m(self, prop, val)\u001b[0m\n\u001b[1;32m   5205\u001b[0m     \u001b[38;5;28;01mreturn\u001b[39;00m\n\u001b[1;32m   5207\u001b[0m \u001b[38;5;66;03m# Import value\u001b[39;00m\n\u001b[1;32m   5208\u001b[0m \u001b[38;5;66;03m# ------------\u001b[39;00m\n\u001b[0;32m-> 5209\u001b[0m validator \u001b[38;5;241m=\u001b[39m \u001b[38;5;28;43mself\u001b[39;49m\u001b[38;5;241;43m.\u001b[39;49m\u001b[43m_get_validator\u001b[49m\u001b[43m(\u001b[49m\u001b[43mprop\u001b[49m\u001b[43m)\u001b[49m\n\u001b[1;32m   5211\u001b[0m \u001b[38;5;28;01mtry\u001b[39;00m:\n\u001b[1;32m   5212\u001b[0m     val \u001b[38;5;241m=\u001b[39m validator\u001b[38;5;241m.\u001b[39mvalidate_coerce(val)\n",
      "File \u001b[0;32m~/miniconda3/envs/ms-clap/lib/python3.8/site-packages/plotly/basedatatypes.py:4341\u001b[0m, in \u001b[0;36mBasePlotlyType._get_validator\u001b[0;34m(self, prop)\u001b[0m\n\u001b[1;32m   4340\u001b[0m \u001b[38;5;28;01mdef\u001b[39;00m \u001b[38;5;21m_get_validator\u001b[39m(\u001b[38;5;28mself\u001b[39m, prop):\n\u001b[0;32m-> 4341\u001b[0m     \u001b[38;5;28;01mfrom\u001b[39;00m \u001b[38;5;21;01m.\u001b[39;00m\u001b[38;5;21;01mvalidator_cache\u001b[39;00m \u001b[38;5;28;01mimport\u001b[39;00m ValidatorCache\n\u001b[1;32m   4343\u001b[0m     \u001b[38;5;28;01mreturn\u001b[39;00m ValidatorCache\u001b[38;5;241m.\u001b[39mget_validator(\u001b[38;5;28mself\u001b[39m\u001b[38;5;241m.\u001b[39m_path_str, prop)\n",
      "\u001b[0;31mKeyboardInterrupt\u001b[0m: "
     ]
    }
   ],
   "source": [
    "for partition_idx in reversed(range(0, len(n_clusters))):\n",
    "    # argsort the entropies\n",
    "    sorted_indices = torch.argsort(cluster_entropies[partition_idx], descending=False)\n",
    "\n",
    "    # iterate through clusters, keeping track of the cluster's sorting rank/idx\n",
    "    for sorting_idx, cluster_idx in tqdm(enumerate(sorted_indices), desc=f'Partition {partition_idx} / {len(n_clusters)}', total=len(sorted_indices)):\n",
    "        # Just move on if it's a zero cluster\n",
    "        current_cluster = cluster_embeddings[partition_idx][cluster_idx]\n",
    "        zero = torch.zeros_like(current_cluster)\n",
    "        if torch.all(torch.isclose(current_cluster, zero)):\n",
    "            continue\n",
    "\n",
    "        # If it's not a zero cluster, then plot it's cluster embedding\n",
    "        neurons_in_cluster = (clusters[:, partition_idx] == cluster_idx).nonzero().squeeze()\n",
    "        n, c, w, h = activations.shape\n",
    "        feature_map = torch.zeros((w, h))\n",
    "\n",
    "        _, ts, fs = np.unravel_index(neurons_in_cluster.cpu().numpy(), (c, w, h))\n",
    "        for t, f in zip(ts, fs):\n",
    "            feature_map[t, f] += 1\n",
    "\n",
    "        title = f'Layer: {layer_name}, Partition: {partition_idx}, Cluster: {cluster_idx}'\n",
    "        title += ', '\n",
    "        title += f'Semantic entropy: {cluster_entropies[partition_idx][cluster_idx]:.2f}'\n",
    "        title += ', '\n",
    "        title += f'Neuron Count: {(clusters[:, partition_idx] == cluster_idx).sum().item()}'\n",
    "\n",
    "        fig = px.imshow(feature_map.cpu().numpy().T, origin='lower', color_continuous_scale='viridis', title=title)\n",
    "\n",
    "        file_dir = f'/scratch/pratyaksh.g/{dataset.path_name}/cluster-plots/{layer_name}/partition-{partition_idx}/'\n",
    "        os.makedirs(file_dir, exist_ok=True)\n",
    "\n",
    "        num_digits = len(str(n_clusters[partition_idx].item()))\n",
    "        padded_sorting_idx = str(sorting_idx).zfill(num_digits)\n",
    "        fig.write_image(f'{file_dir}/{padded_sorting_idx}-posmap-{cluster_idx}.pdf',\n",
    "                        width=1920, height=1080, engine='kaleido')"
   ]
  },
  {
   "cell_type": "code",
   "execution_count": null,
   "metadata": {},
   "outputs": [
    {
     "data": {
      "application/json": {
       "ascii": false,
       "bar_format": null,
       "colour": null,
       "elapsed": 0.00927281379699707,
       "initial": 0,
       "n": 0,
       "ncols": null,
       "nrows": null,
       "postfix": null,
       "prefix": "Partition 3 / 5",
       "rate": null,
       "total": 62,
       "unit": "it",
       "unit_divisor": 1000,
       "unit_scale": false
      },
      "application/vnd.jupyter.widget-view+json": {
       "model_id": "29fb279d8a914e149eac334882d87ffb",
       "version_major": 2,
       "version_minor": 0
      },
      "text/plain": [
       "Partition 3 / 5:   0%|          | 0/62 [00:00<?, ?it/s]"
      ]
     },
     "metadata": {},
     "output_type": "display_data"
    }
   ],
   "source": [
    "for partition_idx in reversed(range(0, len(n_clusters))):\n",
    "    # argsort the entropies\n",
    "    sorted_indices = torch.argsort(cluster_entropies[partition_idx], descending=False)\n",
    "\n",
    "    # iterate through clusters, keeping track of the cluster's sorting rank/idx\n",
    "    for sorting_idx, cluster_idx in tqdm(enumerate(sorted_indices), desc=f'Partition {partition_idx} / {len(n_clusters)}', total=len(sorted_indices)):\n",
    "        # Just move on if it's a zero cluster\n",
    "        current_cluster = cluster_embeddings[partition_idx][cluster_idx]\n",
    "        zero = torch.zeros_like(current_cluster)\n",
    "        if torch.all(torch.isclose(current_cluster, zero)):\n",
    "            continue\n",
    "\n",
    "        # If it's not a zero cluster, then plot it's cluster embedding\n",
    "        num_neurons = (clusters[:, partition_idx] == cluster_idx).sum().item()\n",
    "        df = pd.DataFrame({\n",
    "            'dataset_index': range(len(dataset)),\n",
    "            'activations': current_cluster,\n",
    "            'classes': dataset.class_label\n",
    "        })\n",
    "\n",
    "        title = f'Layer: {layer_name}, Partition: {partition_idx}, Cluster: {cluster_idx}'\n",
    "        title += ', '\n",
    "        title += f'Entropy: {cluster_entropies[partition_idx][cluster_idx]:.2f}'\n",
    "        title += ', '\n",
    "        title += f'Neuron Count: {(clusters[:, partition_idx] == cluster_idx).sum().item()}'\n",
    "\n",
    "        fig = px.bar(df, x='classes', y='activations', title=title,\n",
    "                     labels = {\n",
    "                         'classes': f'classes ({dataset.name})',\n",
    "                         'activations': 'average cluster activations',\n",
    "                     },\n",
    "                     hover_data='dataset_index')\n",
    "\n",
    "        file_dir = f'/scratch/pratyaksh.g/{dataset.path_name}/cluster-plots/{layer_name}/partition-{partition_idx}/'\n",
    "        os.makedirs(file_dir, exist_ok=True)\n",
    "\n",
    "        num_digits = len(str(n_clusters[partition_idx].item()))\n",
    "        padded_sorting_idx = str(sorting_idx).zfill(num_digits)\n",
    "        fig.write_image(f'{file_dir}/{padded_sorting_idx}-cluster-{cluster_idx}.pdf',\n",
    "                        width=1920, height=1080, engine='kaleido')"
   ]
  },
  {
   "cell_type": "code",
   "execution_count": 50,
   "metadata": {
    "notebookRunGroups": {
     "groupValue": "1"
    }
   },
   "outputs": [
    {
     "data": {
      "text/plain": [
       "'audio_encoder.base.fc1'"
      ]
     },
     "execution_count": 50,
     "metadata": {},
     "output_type": "execute_result"
    }
   ],
   "source": [
    "layer_name = module_list[6]\n",
    "layer_name"
   ]
  },
  {
   "cell_type": "code",
   "execution_count": 51,
   "metadata": {
    "notebookRunGroups": {
     "groupValue": "1"
    }
   },
   "outputs": [],
   "source": [
    "activations = torch.load(f'/scratch/pratyaksh.g/{dataset.path_name}/activations/{layer_name}.pt')\n",
    "clusters = torch.load(f'/scratch/pratyaksh.g/{dataset.path_name}/clusters/{layer_name}.pt')\n",
    "n_clusters = torch.load(f'/scratch/pratyaksh.g/{dataset.path_name}/clusters/{layer_name}_n.pt')"
   ]
  },
  {
   "cell_type": "code",
   "execution_count": 52,
   "metadata": {
    "notebookRunGroups": {
     "groupValue": "1"
    }
   },
   "outputs": [
    {
     "data": {
      "application/json": {
       "ascii": false,
       "bar_format": null,
       "colour": null,
       "elapsed": 0.007061958312988281,
       "initial": 0,
       "n": 0,
       "ncols": null,
       "nrows": null,
       "postfix": null,
       "prefix": "",
       "rate": null,
       "total": 3,
       "unit": "it",
       "unit_divisor": 1000,
       "unit_scale": false
      },
      "application/vnd.jupyter.widget-view+json": {
       "model_id": "6c7a855da7834bd9ab4e03f0142336d4",
       "version_major": 2,
       "version_minor": 0
      },
      "text/plain": [
       "  0%|          | 0/3 [00:00<?, ?it/s]"
      ]
     },
     "metadata": {},
     "output_type": "display_data"
    }
   ],
   "source": [
    "for partition_idx in tqdm(reversed(range(0, len(n_clusters))), total=len(n_clusters)):\n",
    "    merger = PdfMerger()\n",
    "    file_dir = f'/scratch/pratyaksh.g/{dataset.path_name}/cluster-plots/{layer_name}/partition-{partition_idx}/'\n",
    "\n",
    "    for file in sorted(os.listdir(file_dir)):\n",
    "        if file.endswith('.pdf'):\n",
    "            merger.append(open(file_dir + file, 'rb'))\n",
    "\n",
    "    merger.write(open(f'/scratch/pratyaksh.g/{dataset.path_name}/cluster-plots/{layer_name}/partition-{partition_idx}-merged.pdf', 'wb'))"
   ]
  },
  {
   "cell_type": "code",
   "execution_count": 76,
   "metadata": {},
   "outputs": [],
   "source": [
    "df = pd.read_csv(f'/scratch/pratyaksh.g/esc50/cluster-stats/{layer_name}.csv')"
   ]
  },
  {
   "cell_type": "code",
   "execution_count": 79,
   "metadata": {},
   "outputs": [
    {
     "data": {
      "text/html": [
       "<div>\n",
       "<style scoped>\n",
       "    .dataframe tbody tr th:only-of-type {\n",
       "        vertical-align: middle;\n",
       "    }\n",
       "\n",
       "    .dataframe tbody tr th {\n",
       "        vertical-align: top;\n",
       "    }\n",
       "\n",
       "    .dataframe thead th {\n",
       "        text-align: right;\n",
       "    }\n",
       "</style>\n",
       "<table border=\"1\" class=\"dataframe\">\n",
       "  <thead>\n",
       "    <tr style=\"text-align: right;\">\n",
       "      <th></th>\n",
       "      <th>layer_name</th>\n",
       "      <th>partition_idx</th>\n",
       "      <th>cluster_idx</th>\n",
       "      <th>entropy</th>\n",
       "      <th>neuron_count</th>\n",
       "      <th>top_class_idx</th>\n",
       "      <th>top_class</th>\n",
       "    </tr>\n",
       "  </thead>\n",
       "  <tbody>\n",
       "    <tr>\n",
       "      <th>11</th>\n",
       "      <td>audio_encoder.base.conv_block5</td>\n",
       "      <td>3</td>\n",
       "      <td>5</td>\n",
       "      <td>4.776366</td>\n",
       "      <td>1658</td>\n",
       "      <td>39</td>\n",
       "      <td>glass breaking</td>\n",
       "    </tr>\n",
       "    <tr>\n",
       "      <th>12</th>\n",
       "      <td>audio_encoder.base.conv_block5</td>\n",
       "      <td>3</td>\n",
       "      <td>6</td>\n",
       "      <td>4.855853</td>\n",
       "      <td>9526</td>\n",
       "      <td>39</td>\n",
       "      <td>glass breaking</td>\n",
       "    </tr>\n",
       "    <tr>\n",
       "      <th>73</th>\n",
       "      <td>audio_encoder.base.conv_block5</td>\n",
       "      <td>2</td>\n",
       "      <td>585</td>\n",
       "      <td>4.453200</td>\n",
       "      <td>21</td>\n",
       "      <td>48</td>\n",
       "      <td>fireworks</td>\n",
       "    </tr>\n",
       "    <tr>\n",
       "      <th>74</th>\n",
       "      <td>audio_encoder.base.conv_block5</td>\n",
       "      <td>2</td>\n",
       "      <td>586</td>\n",
       "      <td>4.458529</td>\n",
       "      <td>21</td>\n",
       "      <td>48</td>\n",
       "      <td>fireworks</td>\n",
       "    </tr>\n",
       "    <tr>\n",
       "      <th>75</th>\n",
       "      <td>audio_encoder.base.conv_block5</td>\n",
       "      <td>2</td>\n",
       "      <td>347</td>\n",
       "      <td>4.615161</td>\n",
       "      <td>15</td>\n",
       "      <td>49</td>\n",
       "      <td>hand saw</td>\n",
       "    </tr>\n",
       "    <tr>\n",
       "      <th>...</th>\n",
       "      <td>...</td>\n",
       "      <td>...</td>\n",
       "      <td>...</td>\n",
       "      <td>...</td>\n",
       "      <td>...</td>\n",
       "      <td>...</td>\n",
       "      <td>...</td>\n",
       "    </tr>\n",
       "    <tr>\n",
       "      <th>168</th>\n",
       "      <td>audio_encoder.base.conv_block5</td>\n",
       "      <td>2</td>\n",
       "      <td>573</td>\n",
       "      <td>4.991540</td>\n",
       "      <td>12</td>\n",
       "      <td>18</td>\n",
       "      <td>toilet flush</td>\n",
       "    </tr>\n",
       "    <tr>\n",
       "      <th>169</th>\n",
       "      <td>audio_encoder.base.conv_block5</td>\n",
       "      <td>2</td>\n",
       "      <td>897</td>\n",
       "      <td>4.993539</td>\n",
       "      <td>21</td>\n",
       "      <td>27</td>\n",
       "      <td>brushing teeth</td>\n",
       "    </tr>\n",
       "    <tr>\n",
       "      <th>170</th>\n",
       "      <td>audio_encoder.base.conv_block5</td>\n",
       "      <td>2</td>\n",
       "      <td>791</td>\n",
       "      <td>4.994584</td>\n",
       "      <td>21</td>\n",
       "      <td>27</td>\n",
       "      <td>brushing teeth</td>\n",
       "    </tr>\n",
       "    <tr>\n",
       "      <th>171</th>\n",
       "      <td>audio_encoder.base.conv_block5</td>\n",
       "      <td>2</td>\n",
       "      <td>436</td>\n",
       "      <td>4.995130</td>\n",
       "      <td>21</td>\n",
       "      <td>44</td>\n",
       "      <td>engine</td>\n",
       "    </tr>\n",
       "    <tr>\n",
       "      <th>172</th>\n",
       "      <td>audio_encoder.base.conv_block5</td>\n",
       "      <td>2</td>\n",
       "      <td>623</td>\n",
       "      <td>4.996355</td>\n",
       "      <td>21</td>\n",
       "      <td>41</td>\n",
       "      <td>chainsaw</td>\n",
       "    </tr>\n",
       "  </tbody>\n",
       "</table>\n",
       "<p>102 rows × 7 columns</p>\n",
       "</div>"
      ],
      "text/plain": [
       "                         layer_name  partition_idx  cluster_idx   entropy  \\\n",
       "11   audio_encoder.base.conv_block5              3            5  4.776366   \n",
       "12   audio_encoder.base.conv_block5              3            6  4.855853   \n",
       "73   audio_encoder.base.conv_block5              2          585  4.453200   \n",
       "74   audio_encoder.base.conv_block5              2          586  4.458529   \n",
       "75   audio_encoder.base.conv_block5              2          347  4.615161   \n",
       "..                              ...            ...          ...       ...   \n",
       "168  audio_encoder.base.conv_block5              2          573  4.991540   \n",
       "169  audio_encoder.base.conv_block5              2          897  4.993539   \n",
       "170  audio_encoder.base.conv_block5              2          791  4.994584   \n",
       "171  audio_encoder.base.conv_block5              2          436  4.995130   \n",
       "172  audio_encoder.base.conv_block5              2          623  4.996355   \n",
       "\n",
       "     neuron_count  top_class_idx       top_class  \n",
       "11           1658             39  glass breaking  \n",
       "12           9526             39  glass breaking  \n",
       "73             21             48       fireworks  \n",
       "74             21             48       fireworks  \n",
       "75             15             49        hand saw  \n",
       "..            ...            ...             ...  \n",
       "168            12             18    toilet flush  \n",
       "169            21             27  brushing teeth  \n",
       "170            21             27  brushing teeth  \n",
       "171            21             44          engine  \n",
       "172            21             41        chainsaw  \n",
       "\n",
       "[102 rows x 7 columns]"
      ]
     },
     "execution_count": 79,
     "metadata": {},
     "output_type": "execute_result"
    }
   ],
   "source": [
    "df[df['entropy'] < 5.00]"
   ]
  },
  {
   "cell_type": "code",
   "execution_count": null,
   "metadata": {},
   "outputs": [],
   "source": [
    "###"
   ]
  },
  {
   "cell_type": "code",
   "execution_count": null,
   "metadata": {},
   "outputs": [],
   "source": [
    "clusters_to_plot = [\n",
    "    # from top to bottom in the figure\n",
    "    # layer, partition, cluster\n",
    "    (1, 5, 13),\n",
    "    (3, 4, 6),\n",
    "    (6, 1, 19),\n",
    "]"
   ]
  },
  {
   "cell_type": "code",
   "execution_count": null,
   "metadata": {},
   "outputs": [],
   "source": [
    "cluster_class_act = []\n",
    "for cluster_to_plot in clusters_to_plot:\n",
    "    layer_idx, partition_idx, cluster_idx = cluster_to_plot\n",
    "\n",
    "    layer_name = module_list[layer_idx]\n",
    "    activations = torch.load(f'/scratch/pratyaksh.g/{dataset.path_name}/activations/{layer_name}.pt')\n",
    "    clusters = torch.load(f'/scratch/pratyaksh.g/{dataset.path_name}/clusters/{layer_name}.pt')\n",
    "    n_clusters = torch.load(f'/scratch/pratyaksh.g/{dataset.path_name}/clusters/{layer_name}_n.pt')\n",
    "\n",
    "    cluster_embeddings = get_cluster_embeddings(activations, clusters, n_clusters)\n",
    "    cluster_embedding = cluster_embeddings[partition_idx][cluster_idx]\n",
    "\n",
    "    classwise = scatter(cluster_embedding, class_indices)\n",
    "    cluster_class_act.append(classwise)"
   ]
  },
  {
   "cell_type": "code",
   "execution_count": null,
   "metadata": {},
   "outputs": [],
   "source": [
    "dataframes = [\n",
    "    pd.DataFrame({\n",
    "        'class': dataset.classes,\n",
    "        'activation': cluster_class_act[i].cpu().numpy()\n",
    "    })\n",
    "    for i in range(len(clusters_to_plot))\n",
    "]"
   ]
  },
  {
   "cell_type": "code",
   "execution_count": null,
   "metadata": {},
   "outputs": [],
   "source": [
    "layer_short_names = [f'conv{i}' for i in range(1, 7)] + ['fc1']"
   ]
  },
  {
   "cell_type": "code",
   "execution_count": null,
   "metadata": {},
   "outputs": [],
   "source": [
    "sns.color_palette('muted', 5)\n",
    "palette = [color for color in sns.color_palette('muted', 5) for _ in range(10)]"
   ]
  },
  {
   "cell_type": "code",
   "execution_count": null,
   "metadata": {},
   "outputs": [
    {
     "data": {
      "image/png": "[encoded data removed]",
      "text/plain": [
       "<Figure size 1400x600 with 3 Axes>"
      ]
     },
     "metadata": {},
     "output_type": "display_data"
    }
   ],
   "source": [
    "sns.set_theme('paper', style='whitegrid', font_scale=1.35, rc={'figure.figsize': (14, 6)})\n",
    "fig, axs = plt.subplots(3, 1, sharex=True)\n",
    "\n",
    "highlighted_class = 'frog'\n",
    "for i, df in enumerate(dataframes):\n",
    "    l, p, c = clusters_to_plot[i]\n",
    "    plt.subplot(3, 1, i+1)\n",
    "    sns.barplot(x='class', y='activation', data=df, palette=palette)\n",
    "    plt.xlabel('')\n",
    "    plt.ylabel('')\n",
    "    plt.ylabel(layer_short_names[l])\n",
    "    # plt.text(-3, 2, f'{layer_short_names[l]}, p{p}, c{c}', rotation=90, ha='center', va='center')\n",
    "    plt.gca().yaxis.set_major_locator(ticker.MaxNLocator(5, integer=True))\n",
    "\n",
    "\n",
    "# iterate through the axes and bold the label for the highlighted class\n",
    "for ax in plt.gcf().axes:\n",
    "    for label in ax.get_xticklabels():\n",
    "        if label.get_text() == highlighted_class:\n",
    "            label.set_fontweight('bold')\n",
    "\n",
    "    for idx, bar in enumerate(ax.patches):\n",
    "        if dataset.classes[idx] == highlighted_class:\n",
    "            bar.set_edgecolor('black')\n",
    "            bar.set_linewidth(1)\n",
    "\n",
    "# iterate through the bars and add lighter borders to the highlighted class\n",
    "fig.align_ylabels()\n",
    "plt.xticks(rotation=90)\n",
    "plt.tight_layout()\n",
    "\n",
    "# plt.savefig('/scratch/pratyaksh.g/paper-plots/cluster-clarity-w-layers-4.pdf')"
   ]
  }
 ],
 "metadata": {
  "kernelspec": {
   "display_name": "Python [conda env:ms-clap] *",
   "language": "python",
   "name": "conda-env-ms-clap-py"
  }
 },
 "nbformat": 4,
 "nbformat_minor": 2
}
